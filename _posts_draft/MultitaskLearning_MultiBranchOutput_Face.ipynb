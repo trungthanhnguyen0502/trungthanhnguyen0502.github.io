{
  "nbformat": 4,
  "nbformat_minor": 0,
  "metadata": {
    "colab": {
      "name": "MultitaskLearning_MultiBranchOutput_Face.ipynb",
      "provenance": [],
      "collapsed_sections": [],
      "toc_visible": true
    },
    "kernelspec": {
      "name": "python3",
      "display_name": "Python 3"
    }
  },
  "cells": [
    {
      "cell_type": "markdown",
      "metadata": {
        "id": "bcToIzccI_sD",
        "colab_type": "text"
      },
      "source": [
        "# 1. Giới thiệu chung.\n",
        "\n",
        "ở bài trước chúng ta đã tìm hiểu về học đa tác vụ ([multitask learning](https://phamdinhkhanh.github.io/2020/04/22/MultitaskLearning.html)). Thuật toán có khả năng dự báo nhiều tác vụ trên cùng một đầu vào, có sự chia sẻ đặc trưng giữa các tác vụ trong quá trình dự báo mà không cần xây dựng nhiều mô hình độc lập. Tiết kiệm được tài nguyên và thời gian huấn luyện. \n",
        "\n",
        "Multitask learning thường được ứng dụng trong nhiều lĩnh vực trong đó có xe tự hành, image search, sinh trắc học trên khuôn mặt, y sinh và rất nhiều các ứng dụng khác. Bạn đọc có thể tham khảo thêm về ứng dụng của multitask learning trong sinh trắc học khuôn mặt và chuẩn đoán ảnh X-quang trong hội nghị toàn cầu về xử lý ảnh [ICCV 2019](https://www.youtube.com/watch?v=9Sx2qWKGzlc&list=PLBAFw2oKatLJ7Mb8Xat6fq_oGyD7JdaNU&index=4) (từ phút thứ 60 của video) ứng dụng trong sinh trắc học trên khuôn mặt và y sinh.\n",
        "\n",
        "Chúng ta cũng được tìm hiểu ở bài trước rằng multitask learning sẽ tương tốt trong trường hợp quá trình phân biệt các tác vụ chia sẻ nhiều đặc trưng giống nhau. Vậy đối với trừng hợp không chia sẻ đặc trưng thì multitask learning sẽ cần điều chỉnh như thế nào? Đó chính là kiến trúc rẽ nhánh mà chúng ta sẽ cùng tìm hiểu ở bài này.\n",
        "\n"
      ]
    },
    {
      "cell_type": "markdown",
      "metadata": {
        "id": "7GdpoZgPOsF8",
        "colab_type": "text"
      },
      "source": [
        "# 2. Kiến trúc rẽ nhánh (multi-branch)\n"
      ]
    },
    {
      "cell_type": "markdown",
      "metadata": {
        "id": "5gPQg4VjWr9Q",
        "colab_type": "text"
      },
      "source": [
        "\n",
        "Kiến trúc rẽ nhánh sẽ cho phép thuật toán học được nhiều tác vụ đồng thời nhưng không chia sẻ đặc trưng. Mô hình của chúng ta sử dụng chung một đầu vào là ảnh và phân nhánh thành nhiều mô hình con. Mỗi mô hình sẽ phụ trách dự báo cho một tác vụ một cách độc lập.\n"
      ]
    },
    {
      "cell_type": "markdown",
      "metadata": {
        "id": "yqjyEuEaOy4K",
        "colab_type": "text"
      },
      "source": [
        "\n",
        "Ví dụ: Trong nhận diện khuôn mặt, chúng ta sẽ cần sử dụng rất nhiều các dự báo trên cùng một ảnh khuôn mặt như: giới tính, độ tuổi, chủng tộc, màu mắt, màu tóc,....\n",
        "\n",
        "Những tác vụ trên không chia sẻ các đặc trưng để phân biệt. Ví dụ: Khi phân biệt giới tính chúng ta dựa trên các đặc trưng về độ dài tóc, râu, lông mày, mắt, cằm và quai hàm nhiều hơn nhưng phân biệt độ tuổi chúng ta chủ yếu dựa vào nết nhăn trên khuôn mặt, màu da, màu tóc. Đây là những đặc trưng không hoàn toàn giống nhau. Do đó sử dụng kiến trúc multitask learning chia sẻ tham số cho bài toán này sẽ không hợp lý.\n",
        "\n",
        "Một lựa chọn tốt hơn trong trường hợp này cho chúng ta đó là xây dựng một kiến trúc rẽ nhánh ngay từ input layer. Giữa các nhánh là độc lập, chỉ sử dụng chung một đầu vào mà không chia sẻ tham số.\n",
        "\n",
        "![](https://imgur.com/JmolzPJ.png)\n",
        "\n",
        "**Hình 1:** Kiến trúc rẽ nhánh của mô hình multitask learning trong tác vụ dự báo `age, gender, race`. Mỗi nhánh thực hiện một tác vụ như sau:\n",
        "\n",
        "* Nhánh thứ 1: Dự báo độ tuổi dựa trên thuật toán regression.\n",
        "* Nhánh thứ 2: Là một bài toán phân loại nhị phân (binary classification) dự báo giới tính.\n",
        "* Nhánh thứ 3: Là một bài toán phân loại đa lớp (multiclass classification) dự báo 5 chủng tộc khác nhau của khuôn mặt.\n",
        "\n",
        "\n",
        "Hàm loss function tổng quát cần tối ưu vẫn là tổng có trọng số của toàn bộ loss function trên từng nhánh model."
      ]
    },
    {
      "cell_type": "markdown",
      "metadata": {
        "id": "B3qgrJxJNx_N",
        "colab_type": "text"
      },
      "source": [
        "# 3. Ưu và nhược điểm của kiến trúc rẽ nhánh\n",
        "\n",
        "## 3.1. Ưu điểm của kiến trúc rẽ nhánh\n",
        "\n",
        "* Kiến trúc rẽ nhánh sẽ cho phép xây dựng được nhiều mô hình trên cùng một bộ dữ liệu.\n",
        "\n",
        "* Các mô hình là những tác vụ độc lập và không có các đặc trưng phân loại giống nhau. \n",
        "\n",
        "* Khi một tác vụ hoạt động không tốt thì cũng không ảnh hưởng tới những tác vụ khác vì mối quan hệ giữa các mô hình là độc lập.\n",
        "\n",
        "* Tiết kiệm tài nguyên và chi phí thời gian tính toán vì chúng ta huấn luyện các tác vụ đồng thời trên cùng một mô hình mà không cần huấn luyện lại từng mô hình đơn lẻ.\n",
        "\n",
        "* Kiến trúc rẽ nhánh đồng thời cũng kết hợp được giữa các bài toán classifcation và prediction với nhau trong cùng một kiến trúc mô hình.\n",
        "\n",
        "* Kiến trúc rẽ nhánh cho phép ta áp dụng được nhiều hàm loss function khác nhau trên các tác vụ huấn luyện khác nhau.\n",
        "\n",
        "\n",
        "## 3.2. Nhược điểm của kiến trúc rẽ nhánh\n",
        "\n",
        "* Kiến trúc rẽ nhánh thường yêu cầu các mô hình phải có input image cùng một shape. Một số tác vụ dự báo chỉ cần một shape nhỏ hơn cũng đã cho kết quả tốt nên sẽ gây lãng phí tài nguyên tính toán nếu tất cả các mô hình sử dụng chung một high resolution image.\n",
        "\n",
        "* Loss function của kiến trúc rẽ nhánh rất đa dạng, trong đó một số tác vụ có thể có loss function đóng góp đa số vào loss function tổng quát cuối cùng. Do đó cần thiết lập trọng số cho loss function để cân bằng ảnh hưởng của chi phí mất mát giữa các tác vụ.\n",
        "\n",
        "Để hiểu rõ hơn ưu và nhược điểm của kiến trúc rẽ nhánh, chúng ta sẽ cùng đi vào phần thực hành.\n",
        "\n"
      ]
    },
    {
      "cell_type": "markdown",
      "metadata": {
        "id": "CWaNPieLNFhR",
        "colab_type": "text"
      },
      "source": [
        "# 4. Thực hành xây dựng mô hình multitask learning"
      ]
    },
    {
      "cell_type": "markdown",
      "metadata": {
        "id": "QO4xz6rbP4oR",
        "colab_type": "text"
      },
      "source": [
        "## 4.1. Dataset\n",
        "\n",
        "Bộ dữ liệu về face được sử dụng là [UTKFace](https://susanqq.github.io/UTKFace/). Bộ dữ liệu bao gồm ảnh của đa dạng các sắc tộc, giới tính, độ tuổi.\n",
        "\n",
        "Tên các files ảnh được đặt theo cấu trúc: `[age]_[gender]_[race]_[date&time].jpg` Trong đó:\n",
        "\n",
        "* [age]: độ tuổi, giá trị là một số nguyên từ 0 đến 116.\n",
        "* [gender]: giới tính.\n",
        "* [race]: chủng tộc, giá trị là số nguyên từ 0-4 lần lượt tương ứng với 5 sắc tộc da trắng, da đen, châu á, ấn độ và sắc tộc khác (như người tây ban nha, châu mỹ latin, trung đông).\n",
        "* [date&time]: ngày tháng chụp ảnh có định dạng yyyymmddHHMMSSFFF.\n",
        "\n",
        "\n",
        "Để thực hành thì các bạn chỉ cần download file [crop_part1.tar.gz](https://drive.google.com/drive/folders/0BxYys69jI14kU0I1YUQyY1ZDRUE) là những ảnh khuôn mặt đã được crop bằng cách thêm lỗi tắt vào google drive. Nhớ sắp xếp chúng vào cùng thư mục với file notebook.\n",
        "\n",
        "\n",
        "![](https://imgur.com/UL7oxDD.png)\n",
        "\n",
        "\n",
        "Bạn đọc mở file sau đây để thực hành [Multitask learning - Multi branch Google Colab](https://colab.research.google.com/drive/1hmZxj3s9KScWUCbAi3MhlWtQL9XxzJdxhttps://colab.research.google.com/drive/1hmZxj3s9KScWUCbAi3MhlWtQL9XxzJdx) hoặc thực hiện tuần tự theo các step ở file này.\n",
        "\n",
        "\n",
        "Mount google drive đến folder chứa colab notebook file.\n",
        "\n",
        "\n",
        "\n"
      ]
    },
    {
      "cell_type": "code",
      "metadata": {
        "id": "c-u1vvwuMEyT",
        "colab_type": "code",
        "outputId": "ebd10c69-2abb-48d0-a4d3-3235eb9a9511",
        "colab": {
          "base_uri": "https://localhost:8080/",
          "height": 210
        }
      },
      "source": [
        "from google.colab import drive\n",
        "import os\n",
        "\n",
        "drive.mount('/content/gdrive')\n",
        "path = '/content/gdrive/My Drive/Colab Notebooks/MultitaskLearning'\n",
        "os.chdir(path)\n",
        "!ls"
      ],
      "execution_count": 1,
      "outputs": [
        {
          "output_type": "stream",
          "text": [
            "Go to this URL in a browser: https://accounts.google.com/o/oauth2/auth?client_id=947318989803-6bn6qk8qdgf4n4g3pfee6491hc0brc4i.apps.googleusercontent.com&redirect_uri=urn%3aietf%3awg%3aoauth%3a2.0%3aoob&response_type=code&scope=email%20https%3a%2f%2fwww.googleapis.com%2fauth%2fdocs.test%20https%3a%2f%2fwww.googleapis.com%2fauth%2fdrive%20https%3a%2f%2fwww.googleapis.com%2fauth%2fdrive.photos.readonly%20https%3a%2f%2fwww.googleapis.com%2fauth%2fpeopleapi.readonly\n",
            "\n",
            "Enter your authorization code:\n",
            "··········\n",
            "Mounted at /content/gdrive\n",
            " Bai34MultitaskLearning        MultitaskLearning.ipynb\n",
            " checkpoint\t\t       MultitaskLearning_MultiBranchOutput.ipynb\n",
            " crop_part1\t\t      'UTKface_Aligned&cropped'\n",
            " multi-output-classification   UTKface_crop_part1\n",
            " multitaskLearning\n"
          ],
          "name": "stdout"
        }
      ]
    },
    {
      "cell_type": "markdown",
      "metadata": {
        "id": "y16PfyQdN9Ix",
        "colab_type": "text"
      },
      "source": [
        "Sau đó chúng ta giải nén `UTKface_crop_part1/crop_part1.tar.gz` bằng lện tar."
      ]
    },
    {
      "cell_type": "code",
      "metadata": {
        "id": "3TcnIRTGzq7q",
        "colab_type": "code",
        "colab": {}
      },
      "source": [
        "!tar -xvf UTKface_Aligned\\&cropped/crop_part1.tar.gz"
      ],
      "execution_count": 0,
      "outputs": []
    },
    {
      "cell_type": "markdown",
      "metadata": {
        "id": "MJwOR7N3RNuk",
        "colab_type": "text"
      },
      "source": [
        "Tiếp theo chúng ta sẽ trích lọc các nhãn từ link ảnh bao gồm: `age, gender, race`."
      ]
    },
    {
      "cell_type": "code",
      "metadata": {
        "id": "NIV_uAc6ONez",
        "colab_type": "code",
        "outputId": "e365d7a6-4d89-4c43-f914-34bf7f90ea28",
        "colab": {
          "base_uri": "https://localhost:8080/",
          "height": 34
        }
      },
      "source": [
        "import glob2\n",
        "imagePaths = glob2.glob('crop_part1/*')\n",
        "print('Number of images', len(imagePaths))\n",
        "\n",
        "# Extract age, gender, race từ link ảnh\n",
        "\n",
        "multiLabels = []\n",
        "ages = []\n",
        "genders = []\n",
        "races = []\n",
        "linkImages = []\n",
        "\n",
        "for i, imageLink in enumerate(imagePaths):\n",
        "  try:\n",
        "    age, gender, race, _ = imageLink.split('/')[1].split('_')\n",
        "    linkImages.append(imageLink)\n",
        "  except:\n",
        "    next\n",
        "  age = int(age)\n",
        "  gender = int(gender)\n",
        "  race = int(race)\n",
        "  multiLabels.append((age, gender, race))\n",
        "  ages = [label[0] for label in multiLabels]\n",
        "  genders = [label[1] for label in multiLabels]\n",
        "  races = [label[2] for label in multiLabels]\n",
        "\n",
        "dict_labels = {'ages': ages,\n",
        "               'genders': genders,\n",
        "               'races': races,\n",
        "               'linkImages': linkImages}"
      ],
      "execution_count": 2,
      "outputs": [
        {
          "output_type": "stream",
          "text": [
            "Number of images 0\n"
          ],
          "name": "stdout"
        }
      ]
    },
    {
      "cell_type": "code",
      "metadata": {
        "id": "DUZ-XbSXMxcx",
        "colab_type": "code",
        "outputId": "3a51ffe3-69a0-429e-db50-12b59d25efbb",
        "colab": {
          "base_uri": "https://localhost:8080/",
          "height": 286
        }
      },
      "source": [
        "import matplotlib.pyplot as plt\n",
        "\n",
        "X = plt.imread('crop_part1/27_1_3_20170104232751618.jpg.chip.jpg')\n",
        "plt.imshow(X)"
      ],
      "execution_count": 0,
      "outputs": [
        {
          "output_type": "execute_result",
          "data": {
            "text/plain": [
              "<matplotlib.image.AxesImage at 0x7f50b1de2b00>"
            ]
          },
          "metadata": {
            "tags": []
          },
          "execution_count": 20
        },
        {
          "output_type": "display_data",
          "data": {
            "image/png": "[encoded data removed]",
            "text/plain": [
              "<Figure size 432x288 with 1 Axes>"
            ]
          },
          "metadata": {
            "tags": [],
            "needs_background": "light"
          }
        }
      ]
    },
    {
      "cell_type": "markdown",
      "metadata": {
        "id": "R6Jk8fNXTZFM",
        "colab_type": "text"
      },
      "source": [
        "Tiếp theo chúng ta sẽ kiểm tra phân phối giữa các nhóm trong cùng một biến nhằm phát hiện những bất thường về dữ liệu như hiện tượng mất cân đối nghiêm trọng giữa các nhóm."
      ]
    },
    {
      "cell_type": "code",
      "metadata": {
        "id": "Iua7gCAPROIh",
        "colab_type": "code",
        "outputId": "b279dbf4-3abd-46d2-b29c-34fa78743a8c",
        "colab": {
          "base_uri": "https://localhost:8080/",
          "height": 1000
        }
      },
      "source": [
        "import matplotlib.pyplot as plt\n",
        "import numpy as np\n",
        "\n",
        "def _plot_bar(varname):\n",
        "  labels, values = np.unique(dict_labels[varname], return_counts = True)\n",
        "  plt.figure(figsize=(10, 6))\n",
        "  ax = plt.subplot()\n",
        "  ax.bar(x=labels, height=values)\n",
        "  ax.set_title('No samples of ' + varname)\n",
        "  ax.set_xlabel(varname)\n",
        "  ax.set_ylabel('No samples')\n",
        "  plt.show()\n",
        "\n",
        "_plot_bar('ages')\n",
        "_plot_bar('genders')\n",
        "_plot_bar('races')"
      ],
      "execution_count": 0,
      "outputs": [
        {
          "output_type": "display_data",
          "data": {
            "image/png": "[encoded data removed]",
            "text/plain": [
              "<Figure size 720x432 with 1 Axes>"
            ]
          },
          "metadata": {
            "tags": [],
            "needs_background": "light"
          }
        },
        {
          "output_type": "display_data",
          "data": {
            "image/png": "[encoded data removed]",
            "text/plain": [
              "<Figure size 720x432 with 1 Axes>"
            ]
          },
          "metadata": {
            "tags": [],
            "needs_background": "light"
          }
        },
        {
          "output_type": "display_data",
          "data": {
            "image/png": "[encoded data removed]",
            "text/plain": [
              "<Figure size 720x432 with 1 Axes>"
            ]
          },
          "metadata": {
            "tags": [],
            "needs_background": "light"
          }
        }
      ]
    },
    {
      "cell_type": "markdown",
      "metadata": {
        "id": "QC-IW8NeeSPr",
        "colab_type": "text"
      },
      "source": [
        "Nhìn vào số liệu ta có thể thấy:\n",
        "\n",
        "* Bộ dữ liệu có nhiều ảnh của trẻ sơ sinh và người từ 20-30 tuổi. Tỷ lệ người già chiếm một phần thiểu số.\n",
        "* Tỷ lệ người da trắng chiếm đa số trong bộ dữ liệu (khoảng 5000 ảnh và trên 50%), ít nhất là người da đen (chỉ khoảng 3-5%) và các chủng tộc còn lại chiếm tỷ lệ giao động từ 10-15%.\n",
        "* Có hiện tượng mất cân bằng giới tính, Giới tính nữ (nhãn 1) nhiềm hơn nam (nhãn 0)."
      ]
    },
    {
      "cell_type": "markdown",
      "metadata": {
        "id": "12RF4buQUB0a",
        "colab_type": "text"
      },
      "source": [
        "Trong trường hợp này chúng ta có thể thực hiện một số biện pháp data augumentation để tăng cường thêm ảnh cho những nhóm thiểu số. Tuy nhiên với mục đích chính là hiểu rõ thuật toán mình sẽ bỏ qua bước này."
      ]
    },
    {
      "cell_type": "markdown",
      "metadata": {
        "id": "WKf3ozjRS_uL",
        "colab_type": "text"
      },
      "source": [
        "## 4.2. Mô hình\n",
        "\n",
        "Mỗi một lượt huấn luyện, toàn bộ các mô hình con sẽ có chung một ảnh đầu vào. Sau đó từ đầu vào sẽ rẽ nhánh tới từng mô hình con phục vụ cho các mục tiêu dự báo khác nhau về `age, gender, race`. Mỗi một mô hình con sẽ sử dụng một mạng Convolutional Neural Network với cùng kích thước inputshape là ảnh `96 x 96 x 3`. \n",
        "\n",
        "**Thêm ảnh về kiến trúc các nhánh mô hình**\n",
        "\n",
        "Các hàm `_age_basenetwork()`, `_gender_basenetwork()`, `_race_basenetwork()` sẽ có tác dụng khởi tạo những mô hình con CNN tương ứng với các tác vụ phân loại `age, gender` và `race`."
      ]
    },
    {
      "cell_type": "code",
      "metadata": {
        "id": "brBRe8Zug1N3",
        "colab_type": "code",
        "outputId": "d226f7dc-c2eb-41b0-a21f-157b4b6fd9de",
        "colab": {
          "base_uri": "https://localhost:8080/",
          "height": 1000
        }
      },
      "source": [
        "%tensorflow_version 2.x\n",
        "\n",
        "from tensorflow.keras.models import Model, Sequential\n",
        "from tensorflow.keras.layers import BatchNormalization, Conv2D, MaxPooling2D, Activation, Flatten, Dropout, Dense, DepthwiseConv2D, GlobalAveragePooling2D, Input\n",
        "from tensorflow.keras.optimizers import Adam\n",
        "import tensorflow.keras.backend as K\n",
        "\n",
        "INPUT_SHAPE = (96, 96, 3)\n",
        "N_AGES = 1\n",
        "N_GENDERS = 1\n",
        "N_RACES = 5\n",
        "\n",
        "class AgeGenderRaceNet(object):\n",
        "  def _age_basenetwork(inputs, classes = N_AGES, finAct = 'linear'):\n",
        "    # DepthWiseCONV => CONV => RELU => POOL\n",
        "    x = DepthwiseConv2D(kernel_size=(3, 3), \n",
        "                        padding=\"same\", activation='relu')(inputs)\n",
        "    x = BatchNormalization(axis=-1)(x)\n",
        "    x = Conv2D(filters=32, kernel_size=(3, 3), padding=\"same\", activation='relu')(x)\n",
        "    x = BatchNormalization(axis=-1)(x)\n",
        "    x = MaxPooling2D(pool_size=(3, 3))(x)\n",
        "    x = Dropout(0.25)(x)\n",
        "\n",
        "    # (CONV => RELU) * 4 => POOL\n",
        "    x = Conv2D(filters=64, kernel_size=(3, 3), padding=\"same\",\n",
        "          activation='relu')(x)\n",
        "    x = BatchNormalization(axis=-1)(x)\n",
        "    x = Conv2D(filters=128, kernel_size=(3, 3), padding=\"same\",\n",
        "          activation='relu')(x)\n",
        "    x = BatchNormalization(axis=-1)(x)\n",
        "    x = Conv2D(filters=256, kernel_size=(3, 3), padding=\"same\",\n",
        "          activation='relu')(x)\n",
        "    x = BatchNormalization(axis=-1)(x)\n",
        "    x = Conv2D(filters=1024, kernel_size=(3, 3), padding=\"same\",\n",
        "          activation='relu')(x)\n",
        "    x = BatchNormalization(axis=-1)(x)\n",
        "    x = MaxPooling2D(pool_size=(2, 2))(x)\n",
        "\n",
        "    # first (and only) set of FC => RELU layers\n",
        "    x = Flatten()(x)\n",
        "    x = Activation(\"relu\")(x)\n",
        "\n",
        "    # softmax classifier\n",
        "    x = Dense(classes)(x)\n",
        "    x = Activation(finAct, name=\"age_output\")(x)\n",
        "\n",
        "    return x\n",
        "    \n",
        "  def _gender_basenetwork(inputs, classes = N_GENDERS, finAct = 'sigmoid'):\n",
        "    # CONV => RELU => POOL\n",
        "    x = Conv2D(filters=16, kernel_size=(3, 3), padding='same', activation='relu')(inputs)\n",
        "    x = BatchNormalization(axis=-1)(x)\n",
        "    x = MaxPooling2D(pool_size=(3, 3))(x)\n",
        "    x = Dropout(0.25)(x)\n",
        "\n",
        "    # CONV => RELU => POOL\n",
        "    x = Conv2D(filters=32, kernel_size=(3, 3), padding='same', activation='relu')(x)\n",
        "    x = BatchNormalization(axis=-1)(x)\n",
        "    x = MaxPooling2D(pool_size=(2, 2))(x)\n",
        "    x = Dropout(0.25)(x)\n",
        "\n",
        "    # CONV => RELU => POOL\n",
        "    x = Conv2D(filters=32, kernel_size=(3, 3), padding='same', activation='relu')(x)\n",
        "    x = BatchNormalization(axis=-1)(x)\n",
        "    x = MaxPooling2D(pool_size=(2, 2))(x)\n",
        "\n",
        "    # MLP classifier\n",
        "    # Số units của output phải bằng số lượng nhóm giới tính\n",
        "    x = Flatten()(x)\n",
        "    x = Dense(128, activation='relu')(x)\n",
        "    x = BatchNormalization(axis=-1)(x)\n",
        "    x = Dense(classes)(x)\n",
        "    x = Activation(finAct, name=\"gender_output\")(x)\n",
        "\n",
        "    return x\n",
        "\n",
        "  def _race_basenetwork(inputs, classes = N_RACES, finAct = 'softmax'):\n",
        "    # CONV => RELU => POOL\n",
        "    x = Conv2D(filters=16, kernel_size=(3, 3), padding='same', activation='relu')(inputs)\n",
        "    x = BatchNormalization(axis=-1)(x)\n",
        "    x = MaxPooling2D(pool_size=(3, 3))(x)\n",
        "    x = Dropout(0.25)(x)\n",
        "\n",
        "    # CONV => RELU => POOL\n",
        "    x = Conv2D(filters=32, kernel_size=(3, 3), padding='same', activation='relu')(x)\n",
        "    x = BatchNormalization(axis=-1)(x)\n",
        "    x = MaxPooling2D(pool_size=(2, 2))(x)\n",
        "    x = Dropout(0.25)(x)\n",
        "\n",
        "    # CONV => RELU => POOL\n",
        "    x = Conv2D(filters=32, kernel_size=(3, 3), padding='same', activation='relu')(x)\n",
        "    x = BatchNormalization(axis=-1)(x)\n",
        "    x = MaxPooling2D(pool_size=(2, 2))(x)\n",
        "\n",
        "    # MLP classifier\n",
        "    # Số units của output phải bằng số lượng nhóm sắc tộc\n",
        "    x = Flatten()(x)\n",
        "    x = Dense(128, activation='relu')(x)\n",
        "    x = BatchNormalization(axis=-1)(x)\n",
        "    x = Dense(classes)(x)\n",
        "    x = Activation(finAct, name=\"race_output\")(x)\n",
        "\n",
        "    return x\n",
        "\n",
        "  @staticmethod\n",
        "  def build(inputShape=INPUT_SHAPE, numGender = N_GENDERS, numRace = N_RACES):\n",
        "    inputs = Input(shape=INPUT_SHAPE)\n",
        "    ageBranch=AgeGenderRaceNet._age_basenetwork(inputs=inputs,\n",
        "      classes=1, finAct='linear')\n",
        "    genderBranch=AgeGenderRaceNet._gender_basenetwork(inputs=inputs,\n",
        "      classes = numGender, finAct='sigmoid')\n",
        "    raceBranch=AgeGenderRaceNet._race_basenetwork(inputs=inputs,\n",
        "      classes = numRace, finAct='softmax')\n",
        "\n",
        "    # Tạo một mô hình sử dụng đầu vào là một batch images, sau đó mô hình sẽ \n",
        "    # rẽ nhánh, một nhánh xác định đặc trưng của colors và một nhánh xác định đặc trưng của fashion\n",
        "    model = Model(\n",
        "      inputs=inputs,\n",
        "      outputs=[ageBranch, genderBranch, raceBranch],\n",
        "      name=\"age_gender_race_net\")\n",
        "\n",
        "    return model\n",
        "\n",
        "model = AgeGenderRaceNet.build(inputShape=INPUT_SHAPE, numGender = N_GENDERS, numRace = N_RACES)\n",
        "model.summary()"
      ],
      "execution_count": 0,
      "outputs": [
        {
          "output_type": "stream",
          "text": [
            "Model: \"age_gender_race_net\"\n",
            "__________________________________________________________________________________________________\n",
            "Layer (type)                    Output Shape         Param #     Connected to                     \n",
            "==================================================================================================\n",
            "input_2 (InputLayer)            [(None, 96, 96, 3)]  0                                            \n",
            "__________________________________________________________________________________________________\n",
            "depthwise_conv2d_1 (DepthwiseCo (None, 96, 96, 3)    30          input_2[0][0]                    \n",
            "__________________________________________________________________________________________________\n",
            "batch_normalization_14 (BatchNo (None, 96, 96, 3)    12          depthwise_conv2d_1[0][0]         \n",
            "__________________________________________________________________________________________________\n",
            "conv2d_11 (Conv2D)              (None, 96, 96, 32)   896         batch_normalization_14[0][0]     \n",
            "__________________________________________________________________________________________________\n",
            "batch_normalization_15 (BatchNo (None, 96, 96, 32)   128         conv2d_11[0][0]                  \n",
            "__________________________________________________________________________________________________\n",
            "conv2d_16 (Conv2D)              (None, 96, 96, 16)   448         input_2[0][0]                    \n",
            "__________________________________________________________________________________________________\n",
            "conv2d_19 (Conv2D)              (None, 96, 96, 16)   448         input_2[0][0]                    \n",
            "__________________________________________________________________________________________________\n",
            "max_pooling2d_8 (MaxPooling2D)  (None, 32, 32, 32)   0           batch_normalization_15[0][0]     \n",
            "__________________________________________________________________________________________________\n",
            "batch_normalization_20 (BatchNo (None, 96, 96, 16)   64          conv2d_16[0][0]                  \n",
            "__________________________________________________________________________________________________\n",
            "batch_normalization_24 (BatchNo (None, 96, 96, 16)   64          conv2d_19[0][0]                  \n",
            "__________________________________________________________________________________________________\n",
            "dropout_5 (Dropout)             (None, 32, 32, 32)   0           max_pooling2d_8[0][0]            \n",
            "__________________________________________________________________________________________________\n",
            "max_pooling2d_10 (MaxPooling2D) (None, 32, 32, 16)   0           batch_normalization_20[0][0]     \n",
            "__________________________________________________________________________________________________\n",
            "max_pooling2d_13 (MaxPooling2D) (None, 32, 32, 16)   0           batch_normalization_24[0][0]     \n",
            "__________________________________________________________________________________________________\n",
            "conv2d_12 (Conv2D)              (None, 32, 32, 64)   18496       dropout_5[0][0]                  \n",
            "__________________________________________________________________________________________________\n",
            "dropout_6 (Dropout)             (None, 32, 32, 16)   0           max_pooling2d_10[0][0]           \n",
            "__________________________________________________________________________________________________\n",
            "dropout_8 (Dropout)             (None, 32, 32, 16)   0           max_pooling2d_13[0][0]           \n",
            "__________________________________________________________________________________________________\n",
            "batch_normalization_16 (BatchNo (None, 32, 32, 64)   256         conv2d_12[0][0]                  \n",
            "__________________________________________________________________________________________________\n",
            "conv2d_17 (Conv2D)              (None, 32, 32, 32)   4640        dropout_6[0][0]                  \n",
            "__________________________________________________________________________________________________\n",
            "conv2d_20 (Conv2D)              (None, 32, 32, 32)   4640        dropout_8[0][0]                  \n",
            "__________________________________________________________________________________________________\n",
            "conv2d_13 (Conv2D)              (None, 32, 32, 128)  73856       batch_normalization_16[0][0]     \n",
            "__________________________________________________________________________________________________\n",
            "batch_normalization_21 (BatchNo (None, 32, 32, 32)   128         conv2d_17[0][0]                  \n",
            "__________________________________________________________________________________________________\n",
            "batch_normalization_25 (BatchNo (None, 32, 32, 32)   128         conv2d_20[0][0]                  \n",
            "__________________________________________________________________________________________________\n",
            "batch_normalization_17 (BatchNo (None, 32, 32, 128)  512         conv2d_13[0][0]                  \n",
            "__________________________________________________________________________________________________\n",
            "max_pooling2d_11 (MaxPooling2D) (None, 16, 16, 32)   0           batch_normalization_21[0][0]     \n",
            "__________________________________________________________________________________________________\n",
            "max_pooling2d_14 (MaxPooling2D) (None, 16, 16, 32)   0           batch_normalization_25[0][0]     \n",
            "__________________________________________________________________________________________________\n",
            "conv2d_14 (Conv2D)              (None, 32, 32, 256)  295168      batch_normalization_17[0][0]     \n",
            "__________________________________________________________________________________________________\n",
            "dropout_7 (Dropout)             (None, 16, 16, 32)   0           max_pooling2d_11[0][0]           \n",
            "__________________________________________________________________________________________________\n",
            "dropout_9 (Dropout)             (None, 16, 16, 32)   0           max_pooling2d_14[0][0]           \n",
            "__________________________________________________________________________________________________\n",
            "batch_normalization_18 (BatchNo (None, 32, 32, 256)  1024        conv2d_14[0][0]                  \n",
            "__________________________________________________________________________________________________\n",
            "conv2d_18 (Conv2D)              (None, 16, 16, 32)   9248        dropout_7[0][0]                  \n",
            "__________________________________________________________________________________________________\n",
            "conv2d_21 (Conv2D)              (None, 16, 16, 32)   9248        dropout_9[0][0]                  \n",
            "__________________________________________________________________________________________________\n",
            "conv2d_15 (Conv2D)              (None, 32, 32, 1024) 2360320     batch_normalization_18[0][0]     \n",
            "__________________________________________________________________________________________________\n",
            "batch_normalization_22 (BatchNo (None, 16, 16, 32)   128         conv2d_18[0][0]                  \n",
            "__________________________________________________________________________________________________\n",
            "batch_normalization_26 (BatchNo (None, 16, 16, 32)   128         conv2d_21[0][0]                  \n",
            "__________________________________________________________________________________________________\n",
            "batch_normalization_19 (BatchNo (None, 32, 32, 1024) 4096        conv2d_15[0][0]                  \n",
            "__________________________________________________________________________________________________\n",
            "max_pooling2d_12 (MaxPooling2D) (None, 8, 8, 32)     0           batch_normalization_22[0][0]     \n",
            "__________________________________________________________________________________________________\n",
            "max_pooling2d_15 (MaxPooling2D) (None, 8, 8, 32)     0           batch_normalization_26[0][0]     \n",
            "__________________________________________________________________________________________________\n",
            "max_pooling2d_9 (MaxPooling2D)  (None, 16, 16, 1024) 0           batch_normalization_19[0][0]     \n",
            "__________________________________________________________________________________________________\n",
            "flatten_4 (Flatten)             (None, 2048)         0           max_pooling2d_12[0][0]           \n",
            "__________________________________________________________________________________________________\n",
            "flatten_5 (Flatten)             (None, 2048)         0           max_pooling2d_15[0][0]           \n",
            "__________________________________________________________________________________________________\n",
            "flatten_3 (Flatten)             (None, 262144)       0           max_pooling2d_9[0][0]            \n",
            "__________________________________________________________________________________________________\n",
            "dense_6 (Dense)                 (None, 128)          262272      flatten_4[0][0]                  \n",
            "__________________________________________________________________________________________________\n",
            "dense_8 (Dense)                 (None, 128)          262272      flatten_5[0][0]                  \n",
            "__________________________________________________________________________________________________\n",
            "activation_1 (Activation)       (None, 262144)       0           flatten_3[0][0]                  \n",
            "__________________________________________________________________________________________________\n",
            "batch_normalization_23 (BatchNo (None, 128)          512         dense_6[0][0]                    \n",
            "__________________________________________________________________________________________________\n",
            "batch_normalization_27 (BatchNo (None, 128)          512         dense_8[0][0]                    \n",
            "__________________________________________________________________________________________________\n",
            "dense_5 (Dense)                 (None, 1)            262145      activation_1[0][0]               \n",
            "__________________________________________________________________________________________________\n",
            "dense_7 (Dense)                 (None, 1)            129         batch_normalization_23[0][0]     \n",
            "__________________________________________________________________________________________________\n",
            "dense_9 (Dense)                 (None, 5)            645         batch_normalization_27[0][0]     \n",
            "__________________________________________________________________________________________________\n",
            "age_output (Activation)         (None, 1)            0           dense_5[0][0]                    \n",
            "__________________________________________________________________________________________________\n",
            "gender_output (Activation)      (None, 1)            0           dense_7[0][0]                    \n",
            "__________________________________________________________________________________________________\n",
            "race_output (Activation)        (None, 5)            0           dense_9[0][0]                    \n",
            "==================================================================================================\n",
            "Total params: 3,572,593\n",
            "Trainable params: 3,568,747\n",
            "Non-trainable params: 3,846\n",
            "__________________________________________________________________________________________________\n"
          ],
          "name": "stdout"
        }
      ]
    },
    {
      "cell_type": "markdown",
      "metadata": {
        "id": "ppJS8_qkwSNN",
        "colab_type": "text"
      },
      "source": [
        "Mô hình dự đoán tuổi sẽ có nhiều classes hơn, do đó kiến trúc mạng được thiết kế sẽ sâu hơn so với mô hinh dự đoán chủng tộc và giới tính.\n",
        "\n",
        "Kiến trúc của các mô hình con đều rất đơn giản. Đó là các layer `[CONV*m-MAXPOOLING*n]*p` liên tiếp nhau."
      ]
    },
    {
      "cell_type": "markdown",
      "metadata": {
        "id": "3Trr90yNTDv4",
        "colab_type": "text"
      },
      "source": [
        "## 4.3. Huấn luyện mô hình\n",
        "\n",
        "Để huấn luyện mô hình mình sẽ sử dụng ImageGenerator, bạn đọc xem lại [Bài 32 - Kĩ thuật tensorflow Dataset](https://phamdinhkhanh.github.io/2020/04/09/TensorflowDataset.html#321-s%E1%BB%AD-d%E1%BB%A5ng-imagegenerator) để hiểu thêm về ImageGenerator."
      ]
    },
    {
      "cell_type": "code",
      "metadata": {
        "id": "ETwnc_yV1Z7q",
        "colab_type": "code",
        "colab": {}
      },
      "source": [
        "from tensorflow.keras.preprocessing.image import ImageDataGenerator\n",
        "\n",
        "image_aug = ImageDataGenerator(rotation_range=25, \n",
        "                         width_shift_range=0.1, height_shift_range=0.1, \n",
        "                         shear_range=0.2, zoom_range=0.2,\n",
        "\t                       horizontal_flip=True, fill_mode=\"nearest\")"
      ],
      "execution_count": 0,
      "outputs": []
    },
    {
      "cell_type": "markdown",
      "metadata": {
        "id": "DJX6PpPY1xms",
        "colab_type": "text"
      },
      "source": [
        "Optimizer mình sử dụng là Adam với learning rate được khởi tạo là 0.005."
      ]
    },
    {
      "cell_type": "code",
      "metadata": {
        "id": "FLHXWWkc16ba",
        "colab_type": "code",
        "colab": {}
      },
      "source": [
        "LR_RATE = 0.005\n",
        "EPOCHS = 50\n",
        "opt = Adam(lr=LR_RATE, decay=LR_RATE / EPOCHS)"
      ],
      "execution_count": 0,
      "outputs": []
    },
    {
      "cell_type": "markdown",
      "metadata": {
        "id": "DgmTPN1T2ek_",
        "colab_type": "text"
      },
      "source": [
        "Đối với hai bài toán phân loại gender và race chúng ta sử dụng hàm loss function dạng cross entropy. Giả sử bài toán phân loại có $C$ classes output. $y_{i}$ là giá trị thực tế của output và $\\hat{y}_{i}$ là giá trị dự báo từ mô hình. Khi đó:\n",
        " \n",
        "\n",
        "$$\\mathcal{L}(\\mathbf{W}; \\mathbf{X}) = -\\sum_{i=1}^{N}\\sum_{j=1}^{C} y_{ij}.\\log(\\hat{y}_{ij})$$\n",
        "\n",
        "Tuy nhiên đối với Age có thể coi là một biến liên tục, thay vì xây dựng một mô hình classification thì chúng ta sẽ coi đây là một bài toán dự báo với biến liên tục. Hàm loss function được sử dụng sẽ là MSE:\n",
        "\n",
        "$$\\mathcal{L}(\\mathbf{W}; \\mathbf{X}) = \\frac{1}{N}\\sum_{i=1}^{N}(\\hat{y}_{i} - y_{i})^2$$\n",
        "\n",
        "Loss function tổng quát sẽ bằng tổng loss function ở cả 3 nhánh.\n",
        "\n",
        "Hàm MSE sẽ có trị số lớn gấp nhiều lần so với cross entropy nên để giảm ảnh hưởng của MSE ta sẽ thiết lập trọng số loss function của age nhỏ hơn so với gender và race."
      ]
    },
    {
      "cell_type": "code",
      "metadata": {
        "id": "OcqKoVa02tAh",
        "colab_type": "code",
        "colab": {}
      },
      "source": [
        "losses = {\n",
        "\t\"age_output\": \"mean_squared_error\",\n",
        "\t\"gender_output\": \"binary_crossentropy\",\n",
        "\t\"race_output\": \"sparse_categorical_crossentropy\"\n",
        "}\n",
        "\n",
        "lossWeights = {\"age_output\": 0.03, \"gender_output\": 1.0, \"race_output\": 1.0}\n",
        "model.compile(loss=losses, loss_weights= lossWeights, optimizer=opt, metrics=['accuracy'])"
      ],
      "execution_count": 0,
      "outputs": []
    },
    {
      "cell_type": "markdown",
      "metadata": {
        "id": "gIc9EbGwDPK8",
        "colab_type": "text"
      },
      "source": [
        "### 4.3.1. Phân chia tập train/validation\n",
        "\n",
        "Như thường lệ chúng ta sẽ phân chia tập train và validation theo tỷ lệ 80/20. Tập train cho huấn luyện và tập validation cho kiểm định.\n"
      ]
    },
    {
      "cell_type": "code",
      "metadata": {
        "id": "VStUs_r-BZjU",
        "colab_type": "code",
        "colab": {}
      },
      "source": [
        "import cv2\n",
        "import numpy as np\n",
        "\n",
        "# Phân chia tập train/validation theo tỷ lệ 80/20\n",
        "n_samples = len(dict_labels['linkImages'])\n",
        "indices = np.arange(n_samples)\n",
        "np.random.shuffle(indices)\n",
        "n_train = int(0.8*n_samples)\n",
        "index_train, index_val = indices[:n_train], indices[n_train:]\n",
        "image_train, image_val = [], []\n",
        "gender_train, gender_val = [], []\n",
        "race_train, race_val = [], []\n",
        "label_train, label_val = [], []\n",
        "\n",
        "def _image_path(index_train):\n",
        "  image_train = []\n",
        "  label_train = []\n",
        "  age_train = []\n",
        "  gender_train = []\n",
        "  race_train = []\n",
        "  for i in index_train:\n",
        "    imagePath = dict_labels['linkImages'][i]\n",
        "    # Đọc dữ liệu ảnh\n",
        "    image = cv2.imread(imagePath)\n",
        "    image = cv2.resize(image, INPUT_SHAPE[:2])\n",
        "    image = cv2.cvtColor(image, cv2.COLOR_BGR2RGB)\n",
        "    image = np.array(image)\n",
        "    image_train.append(image)\n",
        "    # Gán nhãn cho age, gender, race\n",
        "    age_train.append(dict_labels['ages'][i])\n",
        "    gender_train.append(dict_labels['genders'][i])\n",
        "    race_train.append(dict_labels['races'][i])\n",
        "    label_train.append([dict_labels['ages'][i], dict_labels['genders'][i], dict_labels['races'][i]])\n",
        "  \n",
        "  # Stack list numpy array của ảnh thành một array\n",
        "  image_train = np.stack(image_train)\n",
        "  # label_train = np.stack(label_train)\n",
        "  age_train = np.stack(age_train)\n",
        "  gender_train = np.stack(gender_train)\n",
        "  race_train = np.stack(race_train)\n",
        "  image_train = image_train/255.0\n",
        "  return image_train, label_train, age_train, gender_train, race_train\n",
        "\n",
        "image_train, label_train, age_train, gender_train, race_train = _image_path(index_train)\n",
        "image_val, label_val, age_val, gender_val, race_val = _image_path(index_val)"
      ],
      "execution_count": 0,
      "outputs": []
    },
    {
      "cell_type": "markdown",
      "metadata": {
        "id": "XwyCiCRkDJGb",
        "colab_type": "text"
      },
      "source": [
        "### 4.3.2. Huấn luyện mô hình\n",
        "\n",
        "Chúng ta sẽ huấn luyện mô hình qua 50 epochs. Sử dụng checkpoint để lưu model có loss function nhỏ nhất trên validation và đồng thời backup mô hình sau mỗi 20 epochs."
      ]
    },
    {
      "cell_type": "code",
      "metadata": {
        "id": "KMwVdu0jDMc-",
        "colab_type": "code",
        "outputId": "a8abdc92-fdb3-49d7-e29c-acb4dfaa208c",
        "colab": {
          "base_uri": "https://localhost:8080/",
          "height": 1000
        }
      },
      "source": [
        "from tensorflow.keras.callbacks import ModelCheckpoint\n",
        "import os\n",
        "\n",
        "if not os.path.exists('checkpoint'):\n",
        "\tos.mkdir('checkpoint')\n",
        "\n",
        "\n",
        "cp_callback = ModelCheckpoint(\n",
        "    filepath='checkpoint', \n",
        "    verbose=1, \n",
        "    save_weights_only=False,\n",
        "    save_freq=20)\n",
        "\n",
        "history = model.fit(\n",
        "\timage_train, {\"age_output\": age_train, \"gender_output\": gender_train, \"race_output\": race_train},\n",
        "\tvalidation_data=(image_val, {\"age_output\": age_val, \"gender_output\": gender_val, \"race_output\": race_val}),\n",
        "\tbatch_size=32,\n",
        "\tsteps_per_epoch=len(image_train) // 32,\n",
        "\tepochs=EPOCHS, verbose=1,\n",
        "\tcallbacks=[cp_callback])"
      ],
      "execution_count": 0,
      "outputs": [
        {
          "output_type": "stream",
          "text": [
            "Epoch 1/50\n",
            " 19/244 [=>............................] - ETA: 38:24 - loss: 29.2699 - age_output_loss: 924.0161 - gender_output_loss: 0.5985 - race_output_loss: 0.9509 - age_output_accuracy: 0.0724 - gender_output_accuracy: 0.6711 - race_output_accuracy: 0.6645\n",
            "Epoch 00001: saving model to checkpoint\n",
            "WARNING:tensorflow:From /usr/local/lib/python3.6/dist-packages/tensorflow/python/ops/resource_variable_ops.py:1817: calling BaseResourceVariable.__init__ (from tensorflow.python.ops.resource_variable_ops) with constraint is deprecated and will be removed in a future version.\n",
            "Instructions for updating:\n",
            "If using Keras pass *_constraint arguments to layers.\n",
            "INFO:tensorflow:Assets written to: checkpoint/assets\n",
            " 39/244 [===>..........................] - ETA: 36:41 - loss: 20.2688 - age_output_loss: 624.6887 - gender_output_loss: 0.5958 - race_output_loss: 0.9323 - age_output_accuracy: 0.0825 - gender_output_accuracy: 0.6851 - race_output_accuracy: 0.6651\n",
            "Epoch 00001: saving model to checkpoint\n",
            "INFO:tensorflow:Assets written to: checkpoint/assets\n",
            " 59/244 [======>.......................] - ETA: 33:46 - loss: 16.6293 - age_output_loss: 503.2106 - gender_output_loss: 0.5911 - race_output_loss: 0.9419 - age_output_accuracy: 0.0842 - gender_output_accuracy: 0.6827 - race_output_accuracy: 0.6647\n",
            "Epoch 00001: saving model to checkpoint\n",
            "INFO:tensorflow:Assets written to: checkpoint/assets\n",
            " 79/244 [========>.....................] - ETA: 30:19 - loss: 15.2535 - age_output_loss: 457.4263 - gender_output_loss: 0.5938 - race_output_loss: 0.9369 - age_output_accuracy: 0.0902 - gender_output_accuracy: 0.6780 - race_output_accuracy: 0.6646\n",
            "Epoch 00001: saving model to checkpoint\n",
            "INFO:tensorflow:Assets written to: checkpoint/assets\n",
            " 99/244 [===========>..................] - ETA: 26:44 - loss: 14.0014 - age_output_loss: 415.8371 - gender_output_loss: 0.5832 - race_output_loss: 0.9431 - age_output_accuracy: 0.0878 - gender_output_accuracy: 0.6891 - race_output_accuracy: 0.6616\n",
            "Epoch 00001: saving model to checkpoint\n",
            "INFO:tensorflow:Assets written to: checkpoint/assets\n",
            "119/244 [=============>................] - ETA: 23:09 - loss: 13.3412 - age_output_loss: 394.0124 - gender_output_loss: 0.5800 - race_output_loss: 0.9408 - age_output_accuracy: 0.0874 - gender_output_accuracy: 0.6917 - race_output_accuracy: 0.6675\n",
            "Epoch 00001: saving model to checkpoint\n",
            "INFO:tensorflow:Assets written to: checkpoint/assets\n",
            "139/244 [================>.............] - ETA: 19:28 - loss: 12.8235 - age_output_loss: 376.7086 - gender_output_loss: 0.5769 - race_output_loss: 0.9453 - age_output_accuracy: 0.0850 - gender_output_accuracy: 0.6949 - race_output_accuracy: 0.6659\n",
            "Epoch 00001: saving model to checkpoint\n",
            "INFO:tensorflow:Assets written to: checkpoint/assets\n",
            "159/244 [==================>...........] - ETA: 15:47 - loss: 12.3316 - age_output_loss: 360.3804 - gender_output_loss: 0.5801 - race_output_loss: 0.9401 - age_output_accuracy: 0.0825 - gender_output_accuracy: 0.6950 - race_output_accuracy: 0.6716\n",
            "Epoch 00001: saving model to checkpoint\n",
            "INFO:tensorflow:Assets written to: checkpoint/assets\n",
            "179/244 [=====================>........] - ETA: 12:05 - loss: 11.8322 - age_output_loss: 343.4265 - gender_output_loss: 0.5816 - race_output_loss: 0.9478 - age_output_accuracy: 0.0828 - gender_output_accuracy: 0.6940 - race_output_accuracy: 0.6688\n",
            "Epoch 00001: saving model to checkpoint\n",
            "INFO:tensorflow:Assets written to: checkpoint/assets\n",
            "199/244 [=======================>......] - ETA: 8:22 - loss: 11.5272 - age_output_loss: 333.2910 - gender_output_loss: 0.5798 - race_output_loss: 0.9487 - age_output_accuracy: 0.0804 - gender_output_accuracy: 0.6952 - race_output_accuracy: 0.6698\n",
            "Epoch 00001: saving model to checkpoint\n",
            "INFO:tensorflow:Assets written to: checkpoint/assets\n",
            "219/244 [=========================>....] - ETA: 4:39 - loss: 11.2538 - age_output_loss: 324.0854 - gender_output_loss: 0.5799 - race_output_loss: 0.9513 - age_output_accuracy: 0.0796 - gender_output_accuracy: 0.6943 - race_output_accuracy: 0.6671\n",
            "Epoch 00001: saving model to checkpoint\n",
            "INFO:tensorflow:Assets written to: checkpoint/assets\n",
            "239/244 [============================>.] - ETA: 55s - loss: 10.9755 - age_output_loss: 314.9449 - gender_output_loss: 0.5798 - race_output_loss: 0.9474 - age_output_accuracy: 0.0800 - gender_output_accuracy: 0.6944 - race_output_accuracy: 0.6680 \n",
            "Epoch 00001: saving model to checkpoint\n",
            "INFO:tensorflow:Assets written to: checkpoint/assets\n",
            "244/244 [==============================] - 2927s 12s/step - loss: 10.9471 - age_output_loss: 313.9161 - gender_output_loss: 0.5794 - race_output_loss: 0.9502 - age_output_accuracy: 0.0808 - gender_output_accuracy: 0.6949 - race_output_accuracy: 0.6671 - val_loss: 18.7273 - val_age_output_loss: 572.7776 - val_gender_output_loss: 0.5789 - val_race_output_loss: 0.9651 - val_age_output_accuracy: 0.0169 - val_gender_output_accuracy: 0.6994 - val_race_output_accuracy: 0.6713\n",
            "Epoch 2/50\n",
            " 15/244 [>.............................] - ETA: 39:18 - loss: 10.7096 - age_output_loss: 308.6943 - gender_output_loss: 0.5513 - race_output_loss: 0.8974 - age_output_accuracy: 0.0736 - gender_output_accuracy: 0.7186 - race_output_accuracy: 0.6840\n",
            "Epoch 00002: saving model to checkpoint\n",
            "INFO:tensorflow:Assets written to: checkpoint/assets\n",
            " 35/244 [===>..........................] - ETA: 37:47 - loss: 8.8685 - age_output_loss: 247.7646 - gender_output_loss: 0.5583 - race_output_loss: 0.8773 - age_output_accuracy: 0.0817 - gender_output_accuracy: 0.7123 - race_output_accuracy: 0.6897\n",
            "Epoch 00002: saving model to checkpoint\n",
            "INFO:tensorflow:Assets written to: checkpoint/assets\n",
            " 55/244 [=====>........................] - ETA: 34:42 - loss: 8.6804 - age_output_loss: 241.2939 - gender_output_loss: 0.5599 - race_output_loss: 0.8817 - age_output_accuracy: 0.0815 - gender_output_accuracy: 0.7090 - race_output_accuracy: 0.6929\n",
            "Epoch 00002: saving model to checkpoint\n",
            "INFO:tensorflow:Assets written to: checkpoint/assets\n",
            " 75/244 [========>.....................] - ETA: 31:21 - loss: 8.6301 - age_output_loss: 239.3411 - gender_output_loss: 0.5568 - race_output_loss: 0.8930 - age_output_accuracy: 0.0819 - gender_output_accuracy: 0.7120 - race_output_accuracy: 0.6860\n",
            "Epoch 00002: saving model to checkpoint\n",
            "INFO:tensorflow:Assets written to: checkpoint/assets\n",
            " 95/244 [==========>...................] - ETA: 27:41 - loss: 8.4367 - age_output_loss: 232.9243 - gender_output_loss: 0.5563 - race_output_loss: 0.8927 - age_output_accuracy: 0.0791 - gender_output_accuracy: 0.7138 - race_output_accuracy: 0.6827\n",
            "Epoch 00002: saving model to checkpoint\n",
            "INFO:tensorflow:Assets written to: checkpoint/assets\n",
            "115/244 [=============>................] - ETA: 24:01 - loss: 8.5269 - age_output_loss: 236.1605 - gender_output_loss: 0.5597 - race_output_loss: 0.8824 - age_output_accuracy: 0.0800 - gender_output_accuracy: 0.7078 - race_output_accuracy: 0.6903\n",
            "Epoch 00002: saving model to checkpoint\n",
            "INFO:tensorflow:Assets written to: checkpoint/assets\n",
            "135/244 [===============>..............] - ETA: 20:20 - loss: 8.3889 - age_output_loss: 231.5004 - gender_output_loss: 0.5627 - race_output_loss: 0.8812 - age_output_accuracy: 0.0783 - gender_output_accuracy: 0.7062 - race_output_accuracy: 0.6918\n",
            "Epoch 00002: saving model to checkpoint\n",
            "INFO:tensorflow:Assets written to: checkpoint/assets\n",
            "155/244 [==================>...........] - ETA: 16:37 - loss: 8.2607 - age_output_loss: 226.8665 - gender_output_loss: 0.5601 - race_output_loss: 0.8946 - age_output_accuracy: 0.0801 - gender_output_accuracy: 0.7094 - race_output_accuracy: 0.6854\n",
            "Epoch 00002: saving model to checkpoint\n",
            "INFO:tensorflow:Assets written to: checkpoint/assets\n",
            "175/244 [====================>.........] - ETA: 12:54 - loss: 8.1353 - age_output_loss: 222.4826 - gender_output_loss: 0.5622 - race_output_loss: 0.8987 - age_output_accuracy: 0.0808 - gender_output_accuracy: 0.7076 - race_output_accuracy: 0.6842\n",
            "Epoch 00002: saving model to checkpoint\n",
            "INFO:tensorflow:Assets written to: checkpoint/assets\n",
            "195/244 [======================>.......] - ETA: 9:09 - loss: 7.9410 - age_output_loss: 215.8758 - gender_output_loss: 0.5642 - race_output_loss: 0.9006 - age_output_accuracy: 0.0804 - gender_output_accuracy: 0.7075 - race_output_accuracy: 0.6840\n",
            "Epoch 00002: saving model to checkpoint\n",
            "INFO:tensorflow:Assets written to: checkpoint/assets\n",
            "215/244 [=========================>....] - ETA: 5:25 - loss: 7.9107 - age_output_loss: 214.8421 - gender_output_loss: 0.5649 - race_output_loss: 0.9005 - age_output_accuracy: 0.0781 - gender_output_accuracy: 0.7056 - race_output_accuracy: 0.6841\n",
            "Epoch 00002: saving model to checkpoint\n",
            "INFO:tensorflow:Assets written to: checkpoint/assets\n",
            "235/244 [===========================>..] - ETA: 1:41 - loss: 7.8758 - age_output_loss: 213.5597 - gender_output_loss: 0.5670 - race_output_loss: 0.9021 - age_output_accuracy: 0.0784 - gender_output_accuracy: 0.7045 - race_output_accuracy: 0.6830\n",
            "Epoch 00002: saving model to checkpoint\n",
            "INFO:tensorflow:Assets written to: checkpoint/assets\n",
            "244/244 [==============================] - 2932s 12s/step - loss: 7.8454 - age_output_loss: 212.5322 - gender_output_loss: 0.5680 - race_output_loss: 0.9014 - age_output_accuracy: 0.0773 - gender_output_accuracy: 0.7041 - race_output_accuracy: 0.6843 - val_loss: 20.4274 - val_age_output_loss: 629.6763 - val_gender_output_loss: 0.5821 - val_race_output_loss: 0.9550 - val_age_output_accuracy: 0.1109 - val_gender_output_accuracy: 0.7004 - val_race_output_accuracy: 0.6595\n",
            "Epoch 3/50\n",
            " 11/244 [>.............................] - ETA: 36:11 - loss: 8.1862 - age_output_loss: 219.7931 - gender_output_loss: 0.5764 - race_output_loss: 1.0160 - age_output_accuracy: 0.0868 - gender_output_accuracy: 0.7036 - race_output_accuracy: 0.6467\n",
            "Epoch 00003: saving model to checkpoint\n",
            "INFO:tensorflow:Assets written to: checkpoint/assets\n",
            " 31/244 [==>...........................] - ETA: 38:02 - loss: 8.5985 - age_output_loss: 236.6638 - gender_output_loss: 0.5731 - race_output_loss: 0.9255 - age_output_accuracy: 0.0903 - gender_output_accuracy: 0.7033 - race_output_accuracy: 0.6828\n",
            "Epoch 00003: saving model to checkpoint\n",
            "INFO:tensorflow:Assets written to: checkpoint/assets\n",
            " 51/244 [=====>........................] - ETA: 35:16 - loss: 7.8998 - age_output_loss: 215.2543 - gender_output_loss: 0.5534 - race_output_loss: 0.8888 - age_output_accuracy: 0.0892 - gender_output_accuracy: 0.7181 - race_output_accuracy: 0.6902\n",
            "Epoch 00003: saving model to checkpoint\n",
            "INFO:tensorflow:Assets written to: checkpoint/assets\n",
            " 71/244 [=======>......................] - ETA: 31:53 - loss: 7.8006 - age_output_loss: 212.6448 - gender_output_loss: 0.5569 - race_output_loss: 0.8643 - age_output_accuracy: 0.0874 - gender_output_accuracy: 0.7183 - race_output_accuracy: 0.6988\n",
            "Epoch 00003: saving model to checkpoint\n",
            "INFO:tensorflow:Assets written to: checkpoint/assets\n",
            " 91/244 [==========>...................] - ETA: 28:23 - loss: 7.7237 - age_output_loss: 209.6027 - gender_output_loss: 0.5575 - race_output_loss: 0.8782 - age_output_accuracy: 0.0867 - gender_output_accuracy: 0.7173 - race_output_accuracy: 0.6938\n",
            "Epoch 00003: saving model to checkpoint\n",
            "INFO:tensorflow:Assets written to: checkpoint/assets\n",
            "111/244 [============>.................] - ETA: 24:45 - loss: 7.4768 - age_output_loss: 201.6903 - gender_output_loss: 0.5594 - race_output_loss: 0.8666 - age_output_accuracy: 0.0821 - gender_output_accuracy: 0.7170 - race_output_accuracy: 0.6964\n",
            "Epoch 00003: saving model to checkpoint\n",
            "INFO:tensorflow:Assets written to: checkpoint/assets\n",
            "131/244 [===============>..............] - ETA: 21:06 - loss: 7.3628 - age_output_loss: 197.4697 - gender_output_loss: 0.5652 - race_output_loss: 0.8734 - age_output_accuracy: 0.0839 - gender_output_accuracy: 0.7111 - race_output_accuracy: 0.6929\n",
            "Epoch 00003: saving model to checkpoint\n",
            "INFO:tensorflow:Assets written to: checkpoint/assets\n",
            "151/244 [=================>............] - ETA: 17:22 - loss: 7.3428 - age_output_loss: 196.8649 - gender_output_loss: 0.5649 - race_output_loss: 0.8720 - age_output_accuracy: 0.0823 - gender_output_accuracy: 0.7084 - race_output_accuracy: 0.6926\n",
            "Epoch 00003: saving model to checkpoint\n",
            "INFO:tensorflow:Assets written to: checkpoint/assets\n",
            "171/244 [====================>.........] - ETA: 13:39 - loss: 7.4604 - age_output_loss: 200.8791 - gender_output_loss: 0.5615 - race_output_loss: 0.8726 - age_output_accuracy: 0.0812 - gender_output_accuracy: 0.7105 - race_output_accuracy: 0.6929\n",
            "Epoch 00003: saving model to checkpoint\n",
            "INFO:tensorflow:Assets written to: checkpoint/assets\n",
            "191/244 [======================>.......] - ETA: 9:55 - loss: 7.4045 - age_output_loss: 199.3676 - gender_output_loss: 0.5589 - race_output_loss: 0.8645 - age_output_accuracy: 0.0801 - gender_output_accuracy: 0.7137 - race_output_accuracy: 0.6945 \n",
            "Epoch 00003: saving model to checkpoint\n",
            "INFO:tensorflow:Assets written to: checkpoint/assets\n",
            "211/244 [========================>.....] - ETA: 6:10 - loss: 7.5255 - age_output_loss: 203.4311 - gender_output_loss: 0.5561 - race_output_loss: 0.8665 - age_output_accuracy: 0.0781 - gender_output_accuracy: 0.7155 - race_output_accuracy: 0.6950\n",
            "Epoch 00003: saving model to checkpoint\n",
            "INFO:tensorflow:Assets written to: checkpoint/assets\n",
            "231/244 [===========================>..] - ETA: 2:26 - loss: 7.5564 - age_output_loss: 204.2778 - gender_output_loss: 0.5559 - race_output_loss: 0.8722 - age_output_accuracy: 0.0785 - gender_output_accuracy: 0.7160 - race_output_accuracy: 0.6935\n",
            "Epoch 00003: saving model to checkpoint\n",
            "INFO:tensorflow:Assets written to: checkpoint/assets\n",
            "244/244 [==============================] - 2933s 12s/step - loss: 7.5258 - age_output_loss: 203.2711 - gender_output_loss: 0.5548 - race_output_loss: 0.8728 - age_output_accuracy: 0.0783 - gender_output_accuracy: 0.7158 - race_output_accuracy: 0.6933 - val_loss: 7.2711 - val_age_output_loss: 192.4794 - val_gender_output_loss: 0.5810 - val_race_output_loss: 0.9158 - val_age_output_accuracy: 0.0409 - val_gender_output_accuracy: 0.7035 - val_race_output_accuracy: 0.6820\n",
            "Epoch 4/50\n",
            "  7/244 [..............................] - ETA: 33:09 - loss: 8.0997 - age_output_loss: 226.5923 - gender_output_loss: 0.5286 - race_output_loss: 0.7734 - age_output_accuracy: 0.0583 - gender_output_accuracy: 0.7524 - race_output_accuracy: 0.7524\n",
            "Epoch 00004: saving model to checkpoint\n",
            "INFO:tensorflow:Assets written to: checkpoint/assets\n",
            " 27/244 [==>...........................] - ETA: 38:00 - loss: 7.2978 - age_output_loss: 197.9445 - gender_output_loss: 0.5325 - race_output_loss: 0.8270 - age_output_accuracy: 0.0816 - gender_output_accuracy: 0.7376 - race_output_accuracy: 0.7222\n",
            "Epoch 00004: saving model to checkpoint\n",
            "INFO:tensorflow:Assets written to: checkpoint/assets\n",
            " 47/244 [====>.........................] - ETA: 35:38 - loss: 7.1844 - age_output_loss: 193.5383 - gender_output_loss: 0.5402 - race_output_loss: 0.8380 - age_output_accuracy: 0.0794 - gender_output_accuracy: 0.7436 - race_output_accuracy: 0.7160\n",
            "Epoch 00004: saving model to checkpoint\n"
          ],
          "name": "stdout"
        }
      ]
    },
    {
      "cell_type": "markdown",
      "metadata": {
        "id": "5IJ8vLKTShzb",
        "colab_type": "text"
      },
      "source": [
        "### 4.3.4. Huấn luyện lại mô hình\n",
        "\n",
        "Quá trình huấn luyện sẽ khá tốn thời gian. Mình huấn luyện 4 epochs trên google colab hết khoảng 2 tiếng. Để huấn luyện lại mô hình từ checkpoint các bạn chỉ cần load lại model. Các trạng thái của optimizer như learning rate, gradient descent đã được lưu lại. Chúng ta sẽ chỉ cần retrain lại mô hình."
      ]
    },
    {
      "cell_type": "code",
      "metadata": {
        "id": "UF7YpNAiTHp1",
        "colab_type": "code",
        "colab": {}
      },
      "source": [
        "from tensorflow.keras.models import load_model\n",
        "from tensorflow.keras.optimizers import Adam\n",
        "\n",
        "LR_RATE = 0.001\n",
        "EPOCHS = 50\n",
        "opt = Adam(lr=LR_RATE, decay=LR_RATE / EPOCHS)\n",
        "model = load_model('checkpoint')\n",
        "model.compile(loss=losses, loss_weights= lossWeights, optimizer=opt, metrics=['accuracy'])\n",
        "\n",
        "cp_callback = ModelCheckpoint(\n",
        "    filepath='checkpoint', \n",
        "    verbose=1, \n",
        "    save_weights_only=False,\n",
        "    save_freq=20)\n",
        "\n",
        "history = model.fit(\n",
        "\timage_train, {\"age_output\": age_train, \"gender_output\": gender_train, \"race_output\": race_train},\n",
        "\tvalidation_data=(image_val, {\"age_output\": age_val, \"gender_output\": gender_val, \"race_output\": race_val}),\n",
        "\tbatch_size=32,\n",
        "\tsteps_per_epoch=len(image_train) // 32,\n",
        "\tepochs=EPOCHS, verbose=1,\n",
        "\tcallbacks=[cp_callback])"
      ],
      "execution_count": 0,
      "outputs": []
    },
    {
      "cell_type": "markdown",
      "metadata": {
        "id": "wd1V2nuWXwmS",
        "colab_type": "text"
      },
      "source": [
        "### 4.3.5. Dự báo độ tuổi, giới tính và chủng tộc\n",
        "\n",
        "Từ mô hình sau huẩn luyện, chúng ta có thể load lại chúng từ checkpoint và dự báo cho đồng thời các tác vụ. Output của chúng ta sẽ là một tupple gồm 3 outputs tương ứng với từng tác vụ dự báo `age, gender, race`. Đối với age, kết quả sẽ được làm tròn phần nguyên để ước lượng độ tuổi. Đối với gender và race, nhãn của output sẽ là phần tử có xác suất lớn nhất. Phần này xin dành cho bạn đọc như một bài tập."
      ]
    },
    {
      "cell_type": "markdown",
      "metadata": {
        "id": "NAA9vKmwLxnS",
        "colab_type": "text"
      },
      "source": [
        "# 5. Hướng mở rộng\n",
        "\n",
        "Như vậy mô hình MultiTaskLearning sử dụng nhiều branch đã có khả năng dự báo được nhiều đặc tính trên khuôn mặt đồng thời và đạt kết quả khá tốt. Thực tế cho thấy trong 3 tác vụ dự báo thì age có khả năng nhầm lẫn cao nhất vì age chứa nhiều ảnh nhiễu. Có người có thể trông già trước tuổi hoặc trẻ hơn tuổi. Đồng thời số lượng classes của age cũng là lớn nhất. \n",
        "\n",
        "Do đó để cải thiện độ chính xác cho age, bạn đọc có thể thử nghiệm thêm nhiều hàm loss function khác bằng cách coi dự báo age làm một bài toán phân loại. Khi đó output sẽ là một véc tơ phân phối xác suất $\\hat{p}_{i} = (\\hat{p}_{i1}, ... ,\\hat{p}_{iK})$ với $p_{ij}$ tương ứng với xác suất rơi vào tuổi $j$ của người $i$. Bên dưới là một vài hàm loss function mà mình nghĩ ra:\n",
        "\n",
        "* **Hàm MSE**: Nếu coi giá trị dự báo của bài toán classification là trung bình có trọng số $\\bar{y}_{i} = \\sum_{j=1}^{K}(j.\\hat{p}_{ij})$ theo phân phối xác suất thì hàm loss function dạng MSE sẽ là:\n",
        "\n",
        "$$\\mathcal{L}(\\mathbf{X}; \\mathbf{W}) = \\frac{1}{N}\\sum_{i=1}^{N}(\\bar{y}_{i}-y_{i})^2$$\n",
        "\n",
        "* **Hàm Variance**: Nếu coi tuổi thực $y_i$ được phân rã về từng nhóm tuổi $j$ với xác suất là $\\hat{p}_{ij}$. Khi đó phương sai giữa giá trị sau phân rã và tuổi thực sẽ là:\n",
        "$$\\mathcal{L}(\\mathbf{X}; \\mathbf{W}) = \\sum_{i=1}^{N}\\sum_{j=1}^{K}\\hat{p}_{ij}(j-\\hat{p}_{ij}*y_{i})^2$$\n",
        "\n",
        "\n",
        "* **Hàm MSE cross entropy**: Tương tự như hàm variance nhưng ta lấy logarith của độ tuổi. Lấy cảm hứng từ sự kết hợp giữa hàm MSE và cross entropy.\n",
        "\n",
        "$$\\mathcal{L}(\\mathbf{X}; \\mathbf{W}) = \\sum_{i=1}^{N}\\sum_{j=1}^{K}\\hat{p}_{ij}(\\log{(j)}-\\hat{p}_{ij}*\\log(y_{i}))^2$$\n",
        "\n",
        "\n",
        "Việc huấn luyện với các hàm số trên xin dành cho bạn đọc như một bài toán mở. Nếu kết quả tốt, bạn có thể viết báo nhé. Đừng quên cảm ơn mình vì đã gợi ý cho bạn.\n",
        "\n"
      ]
    },
    {
      "cell_type": "markdown",
      "metadata": {
        "id": "peOwuyZqTLh-",
        "colab_type": "text"
      },
      "source": [
        "# 6. Tổng kết\n",
        "\n",
        "Như vậy sau bài viết này mình đã giới thiệu tới các bạn một dạng tiếp cận mới cho bài toán multitask learning trong trường hợp các tác vụ huấn luyện không chia sẻ đặc trưng phân loại. Kiến trúc multi-branch sẽ hiệu quả hơn so với kiến trúc multi-label output ở bài trước.\n",
        "\n",
        "Đồng thời bạn đọc cũng được tiếp cận với một số định hướng mở rộng bài toán bằng việc thay đổi các dạng hàm loss function khác nhau để cải thiện độ chính xác của mô hình dự báo."
      ]
    },
    {
      "cell_type": "markdown",
      "metadata": {
        "id": "_Sferz6MbHdO",
        "colab_type": "text"
      },
      "source": [
        "# 7. Tài liệu\n",
        "\n",
        "1. [Keras: Multiple outputs and multiple losses - Pyimagesearch](https://www.pyimagesearch.com/2018/06/04/keras-multiple-outputs-and-multiple-losses/)\n",
        "\n",
        "2. [Deep Convolutional Neural Network for Age Estimation based on\n",
        "VGG-Face Model](https://arxiv.org/ftp/arxiv/papers/1709/1709.01664.pdf)\n",
        "\n",
        "3. [Age estimation - paper with code](https://paperswithcode.com/task/age-estimation/codeless?page=3)\n",
        "\n",
        "4. [Age estimation via face images: a survey - Springer](https://link.springer.com/article/10.1186/s13640-018-0278-6)\n",
        "\n",
        "5. [FairFace: Face Attribute Dataset for Balanced Race, Gender, Age](https://arxiv.org/pdf/1908.04913.pdf)"
      ]
    }
  ]
}