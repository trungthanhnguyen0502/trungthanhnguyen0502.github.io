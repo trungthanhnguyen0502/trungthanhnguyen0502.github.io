{
  "nbformat": 4,
  "nbformat_minor": 0,
  "metadata": {
    "colab": {
      "name": "ImbalancedData.ipynb",
      "provenance": [],
      "collapsed_sections": [],
      "toc_visible": true
    },
    "kernelspec": {
      "name": "python3",
      "display_name": "Python 3"
    }
  },
  "cells": [
    {
      "cell_type": "markdown",
      "metadata": {
        "id": "UOd026hAByRO",
        "colab_type": "text"
      },
      "source": [
        "# Mất cân bằng dữ liệu (imbalanced dataset)\n",
        "\n",
        "Mất cân bằng dữ liệu là một trong những hiện tượng phổ biến của bài toán phân loại nhị phân (binary classification). Trong trường hợp tỷ lệ dữ liệu giữa 2 class là 50%:50% thì được coi là cân bằng. Khi có sự khác biệt trong phân phối giữa 2 classes, chẳng hạn 60%:40% thì dữ liệu có hiện tượng mất cân bằng. \n",
        "\n",
        "Hầu hết các bộ dữ liệu đều khó đạt được trạng thái cân bằng mà luôn có sự khác biệt về tỷ lệ giữa 2 classes. Đối với những trường hợp dữ liệu mất cân bằng nhẹ như tỷ lệ 60:40 thì sẽ không ảnh hưởng đáng kể tới khả năng dự báo của mô hình.\n",
        "\n",
        "Tuy nhiên nếu hiện tượng mất cân bằng nghiêm trọng xảy ra, chẳng hạn như tỷ lệ 90:10 sẽ thường dẫn tới dự báo kém chính xác. Khi đó thước đo độ chính xác (accuracy) của mô hình cũng không có nhiều ý nghĩa trong việc đánh giá kết quả vì tỷ lệ này có thể đạt được rất cao mà không cần tới mô hình hồi qui. Trong mẫu ví dụ trên, một dự báo ngẫu nhiên đưa ra tất cả đều là nhóm đa số thì độ chính xác đã đạt được tới 90%. Do đó nếu lựa chọn độ chính xác làm thước đo thì chỉ số này thường rất cao và dễ khiến chúng ta ngộ nhận.\n",
        "\n",
        "Trong trường hợp mẫu mất cân bằng ta cần phải điều chỉnh lại chỉ số đánh giá mô hình để đưa ra kết quả hợp lý hơn. Tôi sẽ trình bày các chỉ số thay thế cho độ chính xác qua bài viết này.\n",
        "\n",
        "Mất cân bằng dữ liệu thường xảy ra đối với rất nhiều các bài toán như phân loại khác nhau trong thực tiễn như spam email, phát hiện gian lận, dự báo vỡ nợ, chuẩn đoán bệnh lý,....\n",
        "\n",
        "Mất cân bằng dữ liệu thường dẫn tới dự báo kém chính xác trên nhóm thiểu số. Bởi đa phần kết quả dự báo ra thường thuộc về nhóm đa số. Trong khi tầm quan trọng của việc dự báo được chính xác một mẫu thuộc nhóm thiểu số lớn hơn nhiều so với dự báo mẫu thuộc nhóm đa số. Do đó sẽ cần những sự điều chỉnh thích hợp để mô hình đạt được một độ chính xác cao trên nhóm thiểu số.\n",
        "\n",
        "Vậy trong tình huống xảy ra mất cân bằng nghiêm trọng ta nên đánh giá mô hình như thế nào? Có những phương pháp nào để đối phó với hiện tượng mất cân bằng mẫu nghiêm trọng? Mời các bạn tham khảo các giải pháp qua bài viết này."
      ]
    },
    {
      "cell_type": "markdown",
      "metadata": {
        "id": "y6NIfU-IByn5",
        "colab_type": "text"
      },
      "source": [
        "# Tập dữ liệu\n",
        "\n",
        "Để thuận lợi cho việc minh họa giải pháp, tôi sẽ xây dựng một mô hình trên bộ dữ liệu [gian lận thẻ tín dụng](https://archive.ics.uci.edu/ml/datasets/default+of+credit+card+clients) và thực hiện các đánh giá đo lường mức độ cải thiện mô hình trước và sau khi áp dụng các điều chỉnh.\n",
        "\n",
        "**Thông tin về bộ dữ liệu:**\n",
        "\n",
        "Đây là bộ dữ liệu về thẻ hành vi gian lận trong 6 tháng đầu năm 2005 tại một ngân hàng thuộc Đài Loan. Bộ dữ liệu bao gồm 30000 các hợp đồng thuộc cả 2 nhóm là vỡ nợ và không vỡ nợ. Mẫu xảy ra hiện tượng mất cân bằng trầm trọng vì tỷ lệ `bình thường:vỡ nợ` là `23364:6636`. Chúng ta sẽ cùng xem những giải pháp đưa ra sẽ cải thiện kết quả của mô hình như thế nào.\n",
        "\n",
        "\n",
        "**Thông tin trường:**\n",
        "\n",
        "Trong bộ dữ liệu này chúng ta sẽ dự báo hành vi vỡ nợ của khách hàng trong tháng tới. Biến mục tiêu là default_payment_next_month (Yes = 1, No = 0).\n",
        "\n",
        "Đầu vào của mô hình là 23 biến còn lại có ý nghĩa như bên dưới:\n",
        "* ID: Mã số xác định hồ sơ vay. Mỗi một ID ứng với một quan sát duy nhất.\n",
        "* LIMIT_BAL: Số dư tín dụng bao gồm cả cá nhân người vay và những người phụ thuộc trong gia đình. Đơn vị NT dolar.\n",
        "* SEX: Giới tính (1 = Nam, 2 = Nữ).\n",
        "* EDUCATION: Trình độ giáo dục (1 = tốt nghiệp trung học, 2 = đại học, 3 = trung học thông, 4 = khác).\n",
        "* MARRIAGE: Trạng thái hôn nhân (1 = đã kết hôn, 2 = độc thân, 3 = khác)\n",
        "* AGE: Độ tuổi.\n",
        "* PAY_0 - PAY_6: Lịch sử trả nợ trong quá khứ theo tuần tự của tháng. PAY_6 là tháng xa nhất và PAY_0 là tháng gần nhất. Chỉ số lường cho repayment status được chia thành các hạng: -1 = Trả nợ đúng hạn; 1 = trả nợ chậm 1 tháng; 2= trả nợ chậm 2 tháng; ...; 9 = trả nợ chậm 9 tháng.\n",
        "* BILL_AMT1 - BILL_AMT6: Tổng giá trị của bill. BILL_AMT1 là giá trị bill trong tháng gần nhất, tuần tự như thế cho đến giá trị bill trong tháng sau cùng là BILL_AMT6.\n",
        "* PAY_AMT1 - PAY_AMT6: Số tiền của tháng trước đã thanh toán. PAY_AMT1 là tháng gần nhất cho đến PAY_AMT6 là tháng xa nhất."
      ]
    },
    {
      "cell_type": "markdown",
      "metadata": {
        "id": "QXgmzMxdNsti",
        "colab_type": "text"
      },
      "source": [
        "# Phân chia tập train/val/dev/test\n",
        "\n",
        "Tiếp theo để huấn luyện, lựa chọn và kiểm tra kết quả của mô hình chúng ta sẽ phân chia một cách ngẫu nhiên, không trùng lặp bộ dữ liệu thành các tập train/val/dev/test. Các bộ dữ liệu này có ý nghĩa và vai trò như sau:\n",
        "\n",
        "* tập train: Dựa trên các biến input và target của tập train, ta sẽ huấn luyện mô hình phân loại vỡ nợ. Mô hình thu được sẽ được đánh giá ở những tập dữ liệu độc lập khác.\n",
        "* tập val: Đây là tập dữ liệu có các trường tương tự như tập train nhưng không được đưa vào huấn luyện mô hình mà chỉ được sử dụng để đánh giá kết quả dự báo từ mô hình được huấn luyện từ tập train. Nếu mô hình có hiện tượng overfitting hoặc underfitting sẽ được phát hiện và tiến hành hiệu chỉnh.\n",
        "* tập dev: Đây là tập dữ liệu có các trường cũng tương tự như tập train và val nhưng được dùng để đánh giá việc lựa chọn các siêu tham số (hyper parameters) cho các mô hình huấn luyện.\n",
        "* tập test: Đây cũng là tập dữ liệu có các trường giống train, val, dev và được coi như những quan sát mới. Do đó được sử dụng để kiếm tra độ chính xác của mô hình khi áp dụng vào thực tiễn.\n",
        "\n",
        "Các tập dữ liệu sẽ được lựa chọn ngẫu nhiên và không trùng lặp. Trong đó bộ dữ liệu train có tỷ lệ kích thước giữa `bình thường: vỡ nợ` là 10000:500, và val/dev/test đều là là 2000:100."
      ]
    },
    {
      "cell_type": "code",
      "metadata": {
        "id": "80ugYz5Sujen",
        "colab_type": "code",
        "outputId": "1b895c2a-82e4-473f-ae78-df7f20d3acaf",
        "colab": {
          "base_uri": "https://localhost:8080/",
          "height": 677
        }
      },
      "source": [
        "from google.colab import drive\n",
        "import os\n",
        "import pandas as pd\n",
        "\n",
        "drive.mount('/content/gdrive')\n",
        "path = '/content/gdrive/My Drive/Colab Notebooks/ImbalanceDataset'\n",
        "os.chdir(path)\n",
        "dataset = pd.read_csv('default_of_credit_card_clients.csv', header = 0, \n",
        "                      encoding='utf-8', engine='python')\n",
        "print(dataset.shape)\n",
        "dataset.info()"
      ],
      "execution_count": 0,
      "outputs": [
        {
          "output_type": "stream",
          "text": [
            "Go to this URL in a browser: https://accounts.google.com/o/oauth2/auth?client_id=947318989803-6bn6qk8qdgf4n4g3pfee6491hc0brc4i.apps.googleusercontent.com&redirect_uri=urn%3aietf%3awg%3aoauth%3a2.0%3aoob&response_type=code&scope=email%20https%3a%2f%2fwww.googleapis.com%2fauth%2fdocs.test%20https%3a%2f%2fwww.googleapis.com%2fauth%2fdrive%20https%3a%2f%2fwww.googleapis.com%2fauth%2fdrive.photos.readonly%20https%3a%2f%2fwww.googleapis.com%2fauth%2fpeopleapi.readonly\n",
            "\n",
            "Enter your authorization code:\n",
            "··········\n",
            "Mounted at /content/gdrive\n",
            "(30000, 25)\n",
            "<class 'pandas.core.frame.DataFrame'>\n",
            "RangeIndex: 30000 entries, 0 to 29999\n",
            "Data columns (total 25 columns):\n",
            "ID                            30000 non-null int64\n",
            "LIMIT_BAL                     30000 non-null int64\n",
            "SEX                           30000 non-null int64\n",
            "EDUCATION                     30000 non-null int64\n",
            "MARRIAGE                      30000 non-null int64\n",
            "AGE                           30000 non-null int64\n",
            "PAY_0                         30000 non-null int64\n",
            "PAY_2                         30000 non-null int64\n",
            "PAY_3                         30000 non-null int64\n",
            "PAY_4                         30000 non-null int64\n",
            "PAY_5                         30000 non-null int64\n",
            "PAY_6                         30000 non-null int64\n",
            "BILL_AMT1                     30000 non-null int64\n",
            "BILL_AMT2                     30000 non-null int64\n",
            "BILL_AMT3                     30000 non-null int64\n",
            "BILL_AMT4                     30000 non-null int64\n",
            "BILL_AMT5                     30000 non-null int64\n",
            "BILL_AMT6                     30000 non-null int64\n",
            "PAY_AMT1                      30000 non-null int64\n",
            "PAY_AMT2                      30000 non-null int64\n",
            "PAY_AMT3                      30000 non-null int64\n",
            "PAY_AMT4                      30000 non-null int64\n",
            "PAY_AMT5                      30000 non-null int64\n",
            "PAY_AMT6                      30000 non-null int64\n",
            "default_payment_next_month    30000 non-null int64\n",
            "dtypes: int64(25)\n",
            "memory usage: 5.7 MB\n"
          ],
          "name": "stdout"
        }
      ]
    },
    {
      "cell_type": "markdown",
      "metadata": {
        "id": "BPRxCUVAwqBf",
        "colab_type": "text"
      },
      "source": [
        "\n",
        "Phân chia train/val/dev/test"
      ]
    },
    {
      "cell_type": "code",
      "metadata": {
        "id": "JhWXoNmsRMyv",
        "colab_type": "code",
        "outputId": "1c5ce289-dc7f-4dee-bdf9-0cadaaa3d18d",
        "colab": {
          "base_uri": "https://localhost:8080/",
          "height": 88
        }
      },
      "source": [
        "import numpy as np\n",
        "\n",
        "model_features = list(set(dataset.columns).difference({\"ID\", \"default_payment_next_month\"}))\n",
        "target = [\"default_payment_next_month\"]\n",
        "X = dataset[model_features]\n",
        "y = dataset[target]\n",
        "\n",
        "id_pos = np.where(y.values.reshape(-1) == 1)[0]\n",
        "id_neg = np.where(y.values.reshape(-1) == 0)[0]\n",
        "\n",
        "np.random.shuffle(id_pos)\n",
        "np.random.shuffle(id_neg)\n",
        "\n",
        "# Tập train:\n",
        "id_train_neg = id_neg[:10000] \n",
        "id_train_pos = id_pos[:500]\n",
        "id_train = np.concatenate((id_train_neg, id_train_pos), axis = 0)\n",
        "\n",
        "# Tập val:\n",
        "id_val_neg = id_neg[10000:12000]\n",
        "id_val_pos = id_pos[500:600]\n",
        "id_val = np.concatenate((id_val_neg, id_val_pos), axis = 0)\n",
        "\n",
        "# Tập dev:\n",
        "id_dev_neg = id_neg[12000:14000]\n",
        "id_dev_pos = id_pos[600:700]\n",
        "id_dev = np.concatenate((id_dev_neg, id_dev_pos), axis = 0)\n",
        "\n",
        "# Tập test:\n",
        "id_test_neg = id_neg[14000:16000]\n",
        "id_test_pos = id_pos[700:800]\n",
        "id_test = np.concatenate((id_test_neg, id_test_pos), axis = 0)\n",
        "\n",
        "# khởi tạo dataset\n",
        "data_train = dataset.iloc[id_train]\n",
        "data_val = dataset.iloc[id_val]\n",
        "data_dev = dataset.iloc[id_dev]\n",
        "data_test = dataset.iloc[id_test] \n",
        "\n",
        "print('data train shape: ', data_train.shape)\n",
        "print('data val shape: ', data_val.shape)\n",
        "print('data dev shape: ', data_dev.shape)\n",
        "print('data test shape: ', data_test.shape)"
      ],
      "execution_count": 0,
      "outputs": [
        {
          "output_type": "stream",
          "text": [
            "data train shape:  (10500, 25)\n",
            "data val shape:  (2100, 25)\n",
            "data dev shape:  (2100, 25)\n",
            "data test shape:  (2100, 25)\n"
          ],
          "name": "stdout"
        }
      ]
    },
    {
      "cell_type": "markdown",
      "metadata": {
        "id": "T494-uiN-LZ_",
        "colab_type": "text"
      },
      "source": [
        "## Thay đổi metric:\n",
        "\n",
        "Như đã giải thích ở mục đầu tiên, khi hiện tượng mất cân bằng dữ liệu nghiêm trọng xảy ra thì việc sử dụng độ chính xác làm thước đo đánh giá hiệu quả mô hình thường không chuẩn chuẩn xác bởi hầu hết các mô hình đều đạt độ chính xác rất cao. Một mô hình ngẫu nhiên dự báo toàn bộ là nhãn đa số cũng sẽ mang lại kết quả gần bằng 100%. Khi đó ta có thể cân nhắc tới một số metrics thay thế, có khả năng tập trung đánh giá độ chính xác trên nhóm thiểu số, sẽ có ý nghĩa hơn đối với việc lựa chọn mô hình.\n",
        "\n",
        "![](https://imgur.com/mqcSGn6.png)\n",
        "\n",
        "**Hình 1:** Bảng cross table mô tả kết quả thống kê chéo giữa nhãn dự báo và ground truth. Ở đây Positive tương ứng với nhãn `1` và Negative tương ứng với nhãn `0`.\n",
        "\n",
        "Từ bảng cross table ta dễ dàng hình dung được ý nghĩa của các chỉ số đó là:\n",
        "\n",
        "* Precision: Mức độ dự báo chính xác trong những trường hợp được dự báo là nhãn Positive.\n",
        "\n",
        "$$precision = \\frac{TP}{TP+FP}$$\n",
        "\n",
        "* Recall: Mức độ dự báo chuẩn xác những trường hợp là Positive trong những trường hợp thực tế là Positive.\n",
        "\n",
        "$$Recall = \\frac{TP}{TP+FN}$$\n",
        "\n",
        "* F1-Score: Trung bình điều hòa giữa Precision và Recall. Đây là chỉ số thay thế lý tưởng cho accuracy khi mô hình có tỷ lệ mất cân bằng mẫu cao.\n",
        "\n",
        "$$F1 = \\frac{2}{\\frac{1}{precision} + \\frac{1}{recall}}$$\n",
        "\n",
        "* Kappa-Score: Là chỉ số đo lường mức độ liên kết tin cậy (inter-rater reliability) cho các categories.\n",
        "\n",
        "* Gini: Đo lường sự bất bình đẳng trong phân phối giữa Positive và Negative được dự báo từ mô hình.\n",
        "\n",
        "* AUC: Biểu diễn mối quan hệ giữa độ nhạy (sensitivity) và độ đặc hiệu (specificity). Đánh giá khả năng phân loại good và bad được dự báo từ mô hình.\n",
        "\n",
        "Trong bài này tôi sẽ sử dụng chỉ số `auc` và `f1 score` là 2 thước đo chính đánh giá mô hình."
      ]
    },
    {
      "cell_type": "markdown",
      "metadata": {
        "id": "B-fb28hXUBG8",
        "colab_type": "text"
      },
      "source": [
        "# Xây dựng mô hình\n",
        "## Thuật toán Random forest:\n",
        "Bên dưới chúng ta sẽ sử dụng thuật toán random forest để huấn luyện mô hình. \n",
        "\n",
        "**Decision Tree**\n",
        "\n",
        "Trước tiên để hiểu về thuật toán Random Forest ta cần hiểu khái niệm về cây quyết định (decision tree). \n",
        "\n",
        "![](https://imgur.com/IrNJg5x.png)\n",
        "\n",
        "**Hình 2:** Sơ đồ cây quyết đinh. Các node là những hình tròn trắng. Các mũi tên liên kết các node với nhau được gọi là nhánh. Một cây quyết định sẽ xuất phát bắt đầu từ root node, sau đó rẽ nhánh tới các split node và trả ra kết quả phân phối xác suất cho quan sát tại leaf node. Rotine là đường đi liên kết các node với nhau bằng các nhánh.\n",
        "\n",
        "Decision tree sẽ xây dựng một cây quyết định ngẫu nhiên dựa trên các node (các hình tròn trắng trên hình) và nhánh (các mũi tên trên hình). Đại diện cho mỗi node là một câu hỏi mà giá trị trả về là YES hoặc NO. Các nhánh sẽ có tác dụng kết nối các nodes để tạo ra một kịch bản đường đi (routine).\n",
        "\n",
        "Node bắt đầu của cây quyết định là root node. Từ root node, mô hình sẽ xây dựng một câu hỏi lựa chọn. Tập các phương án có thể là toàn bộ các nhóm của biến category hoặc phương án YES/NO được tạo ra từ biến liên tục. Chẳng hạn trong hình vẽ các phương án của câu hỏi từ root node đó là `sunny` (nắng), `rainy` (mưa), `overcast` (u ám). Dựa trên lựa chọn của chúng ta mà từ root node sẽ rẽ nhánh đến các node mới được gọi là split node hoặc internal node. Chẳng hạn nếu lựa chọn nhánh kịch bản `sunny` thì sẽ rẽ tới internal node tiếp theo là `humidity`.\n",
        "\n",
        "Tại các internal node, mô hình tiếp tục rẽ nhánh tới những internal node ở tầng thấp hơn tương ứng với các biến khác. Thứ tự các biến được lựa chọn là ngẫu nhiên. Quá trình rẽ nhánh được thực hiện liên tục cho đến khi mô hình đi đến node cuối cùng là leaf node. Tại node này không có nhánh nào được rẽ thêm và trả ra kết quả dự báo của cây quyết định. \n",
        "\n",
        "Tợp hợp các liên kết giữa các node được gọi là đường đi (routine). Nhãn của kết quả dự báo phụ thuộc vào phân phối xác suất các classes được tính toán theo đường đi từ root node đến leaf node.\n",
        "\n",
        "**Random Forest**\n",
        "\n",
        "![](https://imgur.com/7BEBZgi.png)\n",
        "\n",
        "**Hình 3:** Kiến trúc mô hình random forest. Mô hình là một tập hợp của nhiều cây quyết định. Mỗi một cây quyết định sẽ trả ra một kết quả dự báo. Quyết định cuối cùng về nhãn của quan sát sẽ dựa trên nguyên tắc bầu cử đa số (Majority-Voting) trên toàn bộ các cây quyết định con. Ngoài ra mô hình cũng được chạy trên rất nhiều các sub-sample. Nếu một quan sát xuất hiện tại nhiều sub-sample thì sẽ thực hiện bầu cử đa số trên cả các cây quyết định của toàn bộ các sub-sample.\n",
        "\n",
        "Random Forest là thuật toán thuộc lớp mô hình kết hợp (ensemble model). Kết quả của thuật toán dựa trên không chỉ từ một cây quyết định mà từ nhiều cây quyết định. Thuật toán sẽ xây dựng nhiều kịch bản cây quyết định khác nhau và mỗi một cây được sẽ được áp dụng trên nhiều mẫu dữ liệu con được lựa chọn ngẫu nhiên. Kết quả nhãn dự báo cho một quan sát được tổng hợp từ rất nhiều mô hình cây quyết định khác nhau và ta sẽ voting trên tập hợp các kết quả đó để quyết định nhãn cuối cùng.\n",
        "\n",
        "Kết quả từ mô hình Random Forest được kết hợp từ nhiều mô hình con nên có độ tin cậy cao hơn. Do đó thường có kết quả dự báo chính xác hơn so với những mô hình phân loại tuyến tính như logistic hoặc linear regression.\n",
        "\n",
        "Bên cạnh Random Forest thì Gradient Boosting và AdaBoost cũng là các mô hình thuộc lớp mô hình kết hợp thường được áp dụng và mang lại hiệu quả cao tại nhiều cuộc thi.\n",
        "\n",
        "**Tham số của Random Forest:**\n",
        "\n",
        "Sẽ có một vài kịch bản tham số được lựa chọn và dựa trên kiểm nghiệm từ tập dev, chúng ta quyết định lựa chọn bộ siêu tham số phù hợp nhất.\n",
        "\n",
        "Có rất nhiều tham số trong một mô hình Random Forest, trong đó một số tham số chính được sử dụng để tunning mô hình là:\n",
        "\n",
        "* **n_estimators**: Số lượng các trees trên một cây quyết định.\n",
        "* **max_depth**: Độ sâu lớn nhất của một cây quyết định.\n",
        "* **min_samples_split**: Số lượng mẫu tối thiểu cần thiết để phân chia một internal node. Nếu kích thước mẫu ở một internal node nhỏ hơn ngưỡng thì ta sẽ không rẽ nhánh internal node.\n",
        "* **max_features**: Số lượng các features được xem xét khi tìm kiếm phương án phân chia tốt nhất. Mặc định là toàn bộ các features đầu vào.\n",
        "* **class_weight**: Trọng số tương ứng với mỗi class. Mặc định là None, khi đó các class sẽ có mức độ quan trọng như nhau. Nếu lựa chọn `balance` các class sẽ được đánh trọng số tỷ lệ nghịch với tỷ trọng mẫu của chúng.\n",
        "* **min_impurity_split**: Ngưỡng để dừng sớm (early stopping) quá trình phát triển của cây quyết định. Nó sẽ tiếp tục phân chia nếu độ vẩn đục (impurity) lớn hơn ngưỡng threshold, trái lại thì nó là node leaf.\n",
        "\n",
        "Chúng ta sẽ có một số kịch bản mô hình như sau:\n",
        "\n",
        "* Mô hình 1:\n",
        "\n",
        "n_estimators=100, \n",
        "\n",
        "max_depth=5, \n",
        "\n",
        "min_samples_split=200, \n",
        "\n",
        "class_weight=None,\n",
        "\n",
        "max_features=10\n",
        "\n",
        "* Mô hình 2: \n",
        "\n",
        "n_estimators=500, \n",
        "\n",
        "max_depth=10, \n",
        "\n",
        "min_samples_split=400,\n",
        "\n",
        "max_features=\"auto\" \n",
        "\n",
        "class_weight=\"balanced\"\n",
        "\n",
        "max_features = 20\n",
        "\n",
        "* Mô hình 3: \n",
        "\n",
        "n_estimators=800, \n",
        "\n",
        "max_depth=10, \n",
        "\n",
        "min_samples_split=200,\n",
        "\n",
        "max_features=\"sqrt\" \n",
        "\n",
        "class_weight=\"balanced\"\n",
        "\n"
      ]
    },
    {
      "cell_type": "code",
      "metadata": {
        "id": "IxXZuHxt7Mel",
        "colab_type": "code",
        "outputId": "df143a35-8dbe-4f71-e99f-0f93c0c1fee9",
        "colab": {
          "base_uri": "https://localhost:8080/",
          "height": 70
        }
      },
      "source": [
        "import numpy as np\n",
        "from sklearn.calibration import calibration_curve, CalibratedClassifierCV\n",
        "from sklearn.ensemble import RandomForestClassifier\n",
        "from sklearn.model_selection import train_test_split\n",
        "from sklearn.metrics import roc_auc_score, f1_score\n",
        "import matplotlib.pyplot as plt\n",
        "\n",
        "model1 = RandomForestClassifier(n_estimators=100,\n",
        "                                max_depth=5,\n",
        "                                min_samples_split=200,\n",
        "                                class_weight=None,\n",
        "                                max_features=10)\n",
        "\n",
        "model2 = RandomForestClassifier(n_estimators=500, \n",
        "                                max_depth=10, \n",
        "                                min_samples_split=400, \n",
        "                                random_state=12, \n",
        "                                class_weight=\"balanced\",\n",
        "                                max_features=\"auto\")\n",
        "\n",
        "model3 = RandomForestClassifier(n_estimators=800, \n",
        "                                max_depth=10, \n",
        "                                min_samples_split=200, \n",
        "                                random_state=12, \n",
        "                                class_weight=\"balanced\",\n",
        "                                max_features=\"sqrt\")\n",
        "\n",
        "def _tunning_model(model , X_train, y_train, X_dev, y_dev):\n",
        "  model.fit(X_train, y_train)\n",
        "  model_predictions = model.predict_proba(X_dev)\n",
        "  model_roc_score = roc_auc_score(y_dev, \n",
        "                                  model_predictions[:,1])\n",
        "  return model, model_roc_score\n",
        "\n",
        "model1, model1_roc_score = _tunning_model(model1, \n",
        "                                          data_train[model_features], data_train['default_payment_next_month'],\n",
        "                                          data_dev[model_features], data_dev['default_payment_next_month'])\n",
        "print('model 1 ROC score on dev dataset: ', model1_roc_score)\n",
        "\n",
        "\n",
        "model2, model2_roc_score = _tunning_model(model2, \n",
        "                                          data_train[model_features], data_train['default_payment_next_month'],\n",
        "                                          data_dev[model_features], data_dev['default_payment_next_month'])\n",
        "print('model 2 ROC score on dev dataset: ', model2_roc_score)\n",
        "\n",
        "model3, model3_roc_score = _tunning_model(model3, \n",
        "                                          data_train[model_features], data_train['default_payment_next_month'],\n",
        "                                          data_dev[model_features], data_dev['default_payment_next_month'])\n",
        "print('model 3 ROC score on dev dataset: ', model3_roc_score)"
      ],
      "execution_count": 0,
      "outputs": [
        {
          "output_type": "stream",
          "text": [
            "model 1 ROC score on dev dataset:  0.7648699999999999\n",
            "model 2 ROC score on dev dataset:  0.7681\n",
            "model 3 ROC score on dev dataset:  0.768555\n"
          ],
          "name": "stdout"
        }
      ]
    },
    {
      "cell_type": "markdown",
      "metadata": {
        "id": "iWDoQinTtDO9",
        "colab_type": "text"
      },
      "source": [
        "Như vậy bằng kiểm tra trên tập dev set cho thấy mô hình 2 sẽ có kết quả tốt nhất. Do đó ta sẽ coi mô hình 2 như một model baseline và các siêu tham số của nó sẽ được giữ để khởi tạo các mô hình về sau."
      ]
    },
    {
      "cell_type": "markdown",
      "metadata": {
        "id": "K7DWeLyF_E8e",
        "colab_type": "text"
      },
      "source": [
        "## Under sampling\n",
        "\n",
        "Under sampling là việc ta giảm số lượng các quan sát của nhóm đa số để nó trở nên cân bằng với số quan sát của nhóm thiểu số. Ưu điểm của under sampling là làm cân bằng mẫu một cách nhanh chóng, dễ dàng tiến hành thực hiện mà không cần đến thuật toán giả lập mẫu. \n",
        "\n",
        "Tuy nhiên nhược điểm của nó là kích thước mẫu sẽ bị giảm một cách trầm trọng. Gỉa sử nhóm thiểu số của chúng ta có kích thước là 500, như vậy để tạo ra sự cân bằng mẫu giữa nhóm đa số và thiểu số sẽ cần giảm kích thước mẫu của nhóm đa số từ 10000 về 500. Tổng kích thước tập huấn luyện sau khi under sampling là 1000 và chiếm khoảng 1/10 so với kích thước tập huấn luyện ban đầu. Đây là tập huấn luyện rất nhỏ, không đại diện cho phân phối của toàn bộ tập dữ liệu và thường dễ dẫn tới hiện tượng overfitting.\n",
        "\n",
        "Do đó trong một số phương án, chúng ta có thể không nhất thiết lựa chọn sao cho tỷ lệ mẫu giữa `nhóm đa số: nhóm thiểu số` là `50%:50%` mà có thể giảm dần xuống về `80%:20%`, `70%:30%` hoặc `60%:40%` và tìm ra phương án nào mang lại hiệu quả dự báo tốt nhất trên tập kiểm tra.\n",
        "\n",
        "Bên dưới ta sẽ xây dựng mô hình trên 2 tỷ lệ mẫu `80%:20%` và `70%:30%` và đánh giá mô hình trên tập test."
      ]
    },
    {
      "cell_type": "code",
      "metadata": {
        "id": "Mcvkpj9ZCstK",
        "colab_type": "code",
        "colab": {}
      },
      "source": [
        "# Phân chia mẫu ngẫu nhiên theo tỷ lệ 80%:20% bằng cách giữ lại 2000 mẫu ngẫu nhiên từ tập train\n",
        "np.random.shuffle(id_train_neg)\n",
        "id_train_neg_80_20 = id_train_neg[:2000]\n",
        "id_train_80_20 = np.concatenate((id_train_neg_80_20, id_train_pos), axis = 0)\n",
        "\n",
        "# Phân chia mẫu ngẫu nhiên theo tỷ lệ 70%:30% bằng cách giữ lại 1166 mẫu ngẫu nhiên từ tập train\n",
        "np.random.shuffle(id_train_neg)\n",
        "id_train_neg_70_30 = id_train_neg[:1166]\n",
        "\n",
        "id_train_70_30 = np.concatenate((id_train_neg_70_30, id_train_pos), axis = 0) \n",
        "\n",
        "# khởi tạo dataset\n",
        "data_train_80_20 = dataset.iloc[id_train_80_20]\n",
        "data_train_70_30 = dataset.iloc[id_train_70_30]"
      ],
      "execution_count": 0,
      "outputs": []
    },
    {
      "cell_type": "code",
      "metadata": {
        "id": "z7SKpZ-dCfwW",
        "colab_type": "code",
        "outputId": "8cba8b2d-e09f-4b96-898f-1075835c8cb3",
        "colab": {
          "base_uri": "https://localhost:8080/",
          "height": 88
        }
      },
      "source": [
        "# Huấn luyện mô hình trên mẫu tỷ lệ 80%:20%\n",
        "model2_unsam_80_20 = RandomForestClassifier(n_estimators=500, \n",
        "                                            max_depth=10, \n",
        "                                            min_samples_split=400, \n",
        "                                            random_state=12, \n",
        "                                            class_weight=\"balanced\",\n",
        "                                            max_features=\"auto\")\n",
        "\n",
        "model2_unsam_80_20.fit(data_train_80_20[model_features], data_train_80_20['default_payment_next_month'])\n",
        "model_predictions = model2_unsam_80_20.predict_proba(data_test[model_features])\n",
        "model_pred_label = model2_unsam_80_20.predict(data_test[model_features]) \n",
        "model_roc_score = roc_auc_score(data_test['default_payment_next_month'], model_predictions[:,1])\n",
        "model_f1_score = f1_score(data_test['default_payment_next_month'], model_pred_label)\n",
        "print('model2_unsam_80_20 roc score on test: ', model_roc_score)\n",
        "print('model2_unsam_80_20 f1 score on test: ', model_f1_score)\n",
        "\n",
        "# Huấn luyện mô hình trên mẫu tỷ lệ 70%:30%\n",
        "model2_unsam_70_30 = RandomForestClassifier(n_estimators=500, \n",
        "                                            max_depth=10, \n",
        "                                            min_samples_split=400, \n",
        "                                            random_state=12, \n",
        "                                            class_weight=\"balanced\",\n",
        "                                            max_features=\"auto\")\n",
        "\n",
        "model2_unsam_70_30.fit(data_train_70_30[model_features], data_train_70_30['default_payment_next_month'])\n",
        "model_predictions = model2_unsam_70_30.predict_proba(data_test[model_features])\n",
        "model_pred_label = model2_unsam_70_30.predict(data_test[model_features]) \n",
        "model_roc_score = roc_auc_score(data_test['default_payment_next_month'], model_predictions[:,1])\n",
        "model_f1_score = f1_score(data_test['default_payment_next_month'], model_pred_label)\n",
        "print('model2_unsam_70_30 roc score on test: ', model_roc_score)\n",
        "print('model2_unsam_70_30 f1 score on test: ', model_f1_score)"
      ],
      "execution_count": 0,
      "outputs": [
        {
          "output_type": "stream",
          "text": [
            "model2_unsam_80_20 roc score on test:  0.7702749999999998\n",
            "model2_unsam_80_20 f1 score on test:  0.19999999999999998\n",
            "model2_unsam_70_30 roc score on test:  0.7649575000000001\n",
            "model2_unsam_70_30 f1 score on test:  0.1949778434268833\n"
          ],
          "name": "stdout"
        }
      ]
    },
    {
      "cell_type": "markdown",
      "metadata": {
        "id": "X4jjOe1fHNcu",
        "colab_type": "text"
      },
      "source": [
        "Dự báo mô hình trên tập test và tính toán các chỉ số `auc` và `f1 score`."
      ]
    },
    {
      "cell_type": "code",
      "metadata": {
        "id": "SiCZwdgoHE9M",
        "colab_type": "code",
        "outputId": "d4aa3487-e224-40a9-d1f7-4cafa9cfde6e",
        "colab": {
          "base_uri": "https://localhost:8080/",
          "height": 52
        }
      },
      "source": [
        "model_predictions = model2.predict_proba(data_test[model_features])\n",
        "model_pred_label = model2.predict(data_test[model_features]) \n",
        "model_roc_score = roc_auc_score(data_test['default_payment_next_month'], model_predictions[:,1])\n",
        "model_f1_score = f1_score(data_test['default_payment_next_month'], model_pred_label)\n",
        "print('random forest roc score on test: ', model_roc_score)\n",
        "print('random forest f1 score on test: ', model_f1_score)"
      ],
      "execution_count": 0,
      "outputs": [
        {
          "output_type": "stream",
          "text": [
            "random forest roc score on test:  0.77301\n",
            "random forest f1 score on test:  0.21946902654867256\n"
          ],
          "name": "stdout"
        }
      ]
    },
    {
      "cell_type": "markdown",
      "metadata": {
        "id": "8tAPTCPEHwMU",
        "colab_type": "text"
      },
      "source": [
        "So sanh kết quả cho ta thấy khi thực hiện under sampling đã không giúp cải thiện được nhiều kết quả dự báo trên tập test ở cả 2 chỉ số `auc` và `f1 score`. Nguyên nhân có thể là do việc thực hiện over sampling đã dẫn tới overfitting. Chúng ta cần thử nghiệm với nhiều tỷ lệ mẫu khác nhau hơn để tìm ra tỷ lệ phù hợp. Phần này xin dành cho bạn đọc."
      ]
    },
    {
      "cell_type": "markdown",
      "metadata": {
        "id": "GvFQ4733mHNI",
        "colab_type": "text"
      },
      "source": [
        "## Over sampling\n",
        "\n",
        "Over sampling là các phương pháp giúp giải quyết hiện tượng mất cân bằng mẫu bằng cách gia tăng kích thước mẫu thuộc nhóm thiểu số bằng các kĩ thuật khác nhau. Có 2 phương pháp chính để thực hiện over sampling đó là:\n",
        "\n",
        "* Lựa chọn mẫu có tái lập.\n",
        "* Mô phỏng mẫu mới dựa trên tổng hợp của các mẫu cũ.\n",
        "\n",
        "Chúng ta cùng tìm hiểu cụ thể các phương pháp này ở phần bên dưới.\n"
      ]
    },
    {
      "cell_type": "markdown",
      "metadata": {
        "id": "otLnSLIGg5kL",
        "colab_type": "text"
      },
      "source": [
        "### Naive random over-sampling\n",
        "\n",
        "Naive random Over sampling là phương pháp tái chọn mẫu dựa trên giả thuyết ngây ngô là dữ liệu của mẫu mới sẽ hoàn toàn giống dữ liệu sẵn có. Do đó ta sẽ chọn mẫu bằng cách lựa chọn ngẫu nhiên có lặp lại các quan sát thuộc nhóm thiểu số. \n",
        "\n",
        "Do lựa chọn dữ liệu có lặp lại nên các quan sát thu được sau naive random over-sampling chính là những quan sát thực tế và đánh giá dược đúng bản chất dữ liệu.\n",
        "\n",
        "Bên dưới ta sẽ lựa chọn Naive random over-sampling sao cho tỷ lệ mẫu thuộc nhóm thiểu số và nhóm đa số là bằng 1. Sau đó huấn luyện model trên tập mẫu đã được over sampling và kiểm tra kết quả trên tập test. So sánh với kết quả từ mô hình baseline để đánh giá phương pháp over sampling có giúp cải thiện hiệu năng dự báo hay không?"
      ]
    },
    {
      "cell_type": "code",
      "metadata": {
        "id": "lbFP_h-I69Xh",
        "colab_type": "code",
        "outputId": "c9e119fb-db73-48a6-fd68-dc4b077691f1",
        "colab": {
          "base_uri": "https://localhost:8080/",
          "height": 107
        }
      },
      "source": [
        "from collections import Counter\n",
        "\n",
        "import matplotlib.pyplot as plt\n",
        "import numpy as np\n",
        "\n",
        "from sklearn.datasets import make_classification\n",
        "from sklearn.svm import LinearSVC\n",
        "\n",
        "from imblearn.pipeline import make_pipeline\n",
        "from imblearn.over_sampling import RandomOverSampler\n",
        "from imblearn.base import BaseSampler"
      ],
      "execution_count": 0,
      "outputs": [
        {
          "output_type": "stream",
          "text": [
            "/usr/local/lib/python3.6/dist-packages/sklearn/externals/six.py:31: FutureWarning: The module is deprecated in version 0.21 and will be removed in version 0.23 since we've dropped support for Python 2.7. Please rely on the official version of six (https://pypi.org/project/six/).\n",
            "  \"(https://pypi.org/project/six/).\", FutureWarning)\n",
            "/usr/local/lib/python3.6/dist-packages/sklearn/utils/deprecation.py:144: FutureWarning: The sklearn.neighbors.base module is  deprecated in version 0.22 and will be removed in version 0.24. The corresponding classes / functions should instead be imported from sklearn.neighbors. Anything that cannot be imported from sklearn.neighbors is now part of the private API.\n",
            "  warnings.warn(message, FutureWarning)\n"
          ],
          "name": "stderr"
        }
      ]
    },
    {
      "cell_type": "code",
      "metadata": {
        "id": "hXtfJX197P7n",
        "colab_type": "code",
        "outputId": "4cc6b6e2-9425-454d-8d56-1421148c3762",
        "colab": {
          "base_uri": "https://localhost:8080/",
          "height": 410
        }
      },
      "source": [
        "model_smote = RandomForestClassifier(n_estimators=500, \n",
        "                                max_depth=10, \n",
        "                                min_samples_split=400, \n",
        "                                random_state=12, \n",
        "                                class_weight=\"balanced\",\n",
        "                                max_features=\"auto\")\n",
        "\n",
        "pipe = make_pipeline(RandomOverSampler(sampling_strategy=1, random_state=0), model_smote)\n",
        "pipe.fit(data_train[model_features], data_train['default_payment_next_month'])"
      ],
      "execution_count": 0,
      "outputs": [
        {
          "output_type": "stream",
          "text": [
            "/usr/local/lib/python3.6/dist-packages/sklearn/utils/deprecation.py:87: FutureWarning: Function safe_indexing is deprecated; safe_indexing is deprecated in version 0.22 and will be removed in version 0.24.\n",
            "  warnings.warn(msg, category=FutureWarning)\n"
          ],
          "name": "stderr"
        },
        {
          "output_type": "execute_result",
          "data": {
            "text/plain": [
              "Pipeline(memory=None,\n",
              "         steps=[('randomoversampler',\n",
              "                 RandomOverSampler(random_state=0, ratio=None,\n",
              "                                   return_indices=False, sampling_strategy=1)),\n",
              "                ('randomforestclassifier',\n",
              "                 RandomForestClassifier(bootstrap=True, ccp_alpha=0.0,\n",
              "                                        class_weight='balanced',\n",
              "                                        criterion='gini', max_depth=10,\n",
              "                                        max_features='auto',\n",
              "                                        max_leaf_nodes=None, max_samples=None,\n",
              "                                        min_impurity_decrease=0.0,\n",
              "                                        min_impurity_split=None,\n",
              "                                        min_samples_leaf=1,\n",
              "                                        min_samples_split=400,\n",
              "                                        min_weight_fraction_leaf=0.0,\n",
              "                                        n_estimators=500, n_jobs=None,\n",
              "                                        oob_score=False, random_state=12,\n",
              "                                        verbose=0, warm_start=False))],\n",
              "         verbose=False)"
            ]
          },
          "metadata": {
            "tags": []
          },
          "execution_count": 16
        }
      ]
    },
    {
      "cell_type": "markdown",
      "metadata": {
        "id": "OXi7C_Gk7eoY",
        "colab_type": "text"
      },
      "source": [
        "Dự báo và kiểm định trên test"
      ]
    },
    {
      "cell_type": "code",
      "metadata": {
        "id": "F2Fo5ACcTshf",
        "colab_type": "code",
        "outputId": "40301cae-e9ae-443b-98a3-bf7dc34518a2",
        "colab": {
          "base_uri": "https://localhost:8080/",
          "height": 52
        }
      },
      "source": [
        "model_smote_predictions = pipe.predict_proba(data_test[model_features])\n",
        "model_smote_pred_label = pipe.predict(data_test[model_features]) \n",
        "model_smote_roc_score = roc_auc_score(data_test['default_payment_next_month'], model_smote_predictions[:,1])\n",
        "model_smote_f1_score = f1_score(data_test['default_payment_next_month'], model_smote_pred_label)\n",
        "print('random forest roc score on test: ', model_smote_roc_score)\n",
        "print('random forest f1 score on test: ', model_smote_f1_score)"
      ],
      "execution_count": 0,
      "outputs": [
        {
          "output_type": "stream",
          "text": [
            "random forest roc score on test:  0.7825150000000001\n",
            "random forest f1 score on test:  0.2565217391304348\n"
          ],
          "name": "stdout"
        }
      ]
    },
    {
      "cell_type": "code",
      "metadata": {
        "id": "MjaqJHt53S-Q",
        "colab_type": "code",
        "outputId": "50cf7a98-c10e-4a5e-9009-7b5688899269",
        "colab": {
          "base_uri": "https://localhost:8080/",
          "height": 52
        }
      },
      "source": [
        "model_predictions = model2.predict_proba(data_test[model_features])\n",
        "model_pred_label = model2.predict(data_test[model_features]) \n",
        "model_roc_score = roc_auc_score(data_test['default_payment_next_month'], model_predictions[:,1])\n",
        "model_f1_score = f1_score(data_test['default_payment_next_month'], model_pred_label)\n",
        "print('random forest roc score on test: ', model_roc_score)\n",
        "print('random forest f1 score on test: ', model_f1_score)"
      ],
      "execution_count": 0,
      "outputs": [
        {
          "output_type": "stream",
          "text": [
            "random forest roc score on test:  0.782075\n",
            "random forest f1 score on test:  0.245398773006135\n"
          ],
          "name": "stdout"
        }
      ]
    },
    {
      "cell_type": "markdown",
      "metadata": {
        "id": "oyuu76PzTxV9",
        "colab_type": "text"
      },
      "source": [
        "Như vậy ta thấy rằng khi sử dụng phương pháp random over sampling mẫu sẽ giúp cải thiện được đáng kể kết quả dự báo. Chỉ số `auc` tăng lên từ:\n",
        "`0.7820` trên tập test lên `0.7825` và chỉ số `f1 score` tăng từ `0.2454` lên `0.2565`."
      ]
    },
    {
      "cell_type": "markdown",
      "metadata": {
        "id": "xLfpXfPUWqgt",
        "colab_type": "text"
      },
      "source": [
        "### SMOTE & ADASYN\n",
        "\n",
        "SMOTE (Synthetic Minority Over-sampling) và ADASYN (Adaptive synthetic sampling) là các phương pháp sinh mẫu nhằm gia tăng kích thước mẫu của nhóm thiểu số trong trường hợp xảy ra mất cân bằng mẫu. Quá trình gia tăng kích thước mẫu sẽ dựa trên một tổ hợp tuyến tính của các mẫu láng giềng gần nhất với các quan sát thuộc mẫu thiểu số để tạo ra kết quả khái quát nhất. Phương pháp để lựa chọn ra các láng giềng của một quan sát có thể dựa trên thuật toán `kNN` hoặc `SVM`.\n",
        "\n",
        "Chi tiết các thuật toán này tôi sẽ không trình bày tại đây. Các bạn có thể tham khảo tại [Synthetic Minority Over-sampling](https://arxiv.org/pdf/1106.1813.pdf) và [Adasyn adaptive synthetic](https://towardsdatascience.com/adasyn-adaptive-synthetic-sampling-method-for-imbalanced-data-602a3673ba16).\n",
        "\n",
        "Bên dưới ta sẽ cùng áp dụng phương pháp over-sampling từ SMOTE và ADASYN và kiểm tra kết quả dự báo của mô hình được huấn luyện trên mẫu over-sampling."
      ]
    },
    {
      "cell_type": "code",
      "metadata": {
        "id": "guwabniSgpLQ",
        "colab_type": "code",
        "outputId": "ce791bce-9cfe-4734-991d-9e1103576303",
        "colab": {
          "base_uri": "https://localhost:8080/",
          "height": 712
        }
      },
      "source": [
        "from imblearn.pipeline import make_pipeline\n",
        "from imblearn.over_sampling import ADASYN\n",
        "from imblearn.over_sampling import (SMOTE, BorderlineSMOTE, SVMSMOTE, SMOTENC)\n",
        "from imblearn.over_sampling import RandomOverSampler\n",
        "from imblearn.base import BaseSampler\n",
        "\n",
        "rf_clf = RandomForestClassifier(n_estimators=500, \n",
        "                                max_depth=10, \n",
        "                                min_samples_split=400, \n",
        "                                random_state=12, \n",
        "                                class_weight=\"balanced\",\n",
        "                                max_features=\"auto\")\n",
        "\n",
        "smotes = {0 : 'SMOTE',\n",
        "          1 : 'BorderlineSMOTE',\n",
        "          2 : 'SVMSMOTE',\n",
        "          3 : 'ADASYN'}\n",
        "\n",
        "\n",
        "for i, sampler in enumerate((SMOTE(sampling_strategy = 1, random_state=0),\n",
        "                BorderlineSMOTE(sampling_strategy = 1, random_state=0, kind='borderline-1'),\n",
        "                SVMSMOTE(sampling_strategy = 1, random_state=0),\n",
        "                ADASYN(sampling_strategy = 1, random_state=0))):\n",
        "    pipe_line = make_pipeline(sampler, rf_clf)\n",
        "    pipe_line.fit(data_train[model_features], data_train['default_payment_next_month'])\n",
        "    rf_predictions = pipe_line.predict_proba(data_test[model_features])\n",
        "    rf_pred_label = pipe_line.predict(data_test[model_features]) \n",
        "    rf_roc_score = roc_auc_score(data_test['default_payment_next_month'], rf_predictions[:,1])\n",
        "    rf_f1_score = f1_score(data_test['default_payment_next_month'], rf_pred_label)\n",
        "    print('------------------------------------------------')\n",
        "    print('SMOTE method: ', smotes[i])\n",
        "    print('random forest roc score on test: ', rf_roc_score)\n",
        "    print('random forest f1 score on test: ', rf_f1_score)"
      ],
      "execution_count": 0,
      "outputs": [
        {
          "output_type": "stream",
          "text": [
            "/usr/local/lib/python3.6/dist-packages/sklearn/utils/deprecation.py:87: FutureWarning: Function safe_indexing is deprecated; safe_indexing is deprecated in version 0.22 and will be removed in version 0.24.\n",
            "  warnings.warn(msg, category=FutureWarning)\n"
          ],
          "name": "stderr"
        },
        {
          "output_type": "stream",
          "text": [
            "------------------------------------------------\n",
            "SMOTE method:  SMOTE\n",
            "random forest roc score on test:  0.71945\n",
            "random forest f1 score on test:  0.2255965292841649\n"
          ],
          "name": "stdout"
        },
        {
          "output_type": "stream",
          "text": [
            "/usr/local/lib/python3.6/dist-packages/sklearn/utils/deprecation.py:87: FutureWarning: Function safe_indexing is deprecated; safe_indexing is deprecated in version 0.22 and will be removed in version 0.24.\n",
            "  warnings.warn(msg, category=FutureWarning)\n",
            "/usr/local/lib/python3.6/dist-packages/sklearn/utils/deprecation.py:87: FutureWarning: Function safe_indexing is deprecated; safe_indexing is deprecated in version 0.22 and will be removed in version 0.24.\n",
            "  warnings.warn(msg, category=FutureWarning)\n",
            "/usr/local/lib/python3.6/dist-packages/sklearn/utils/deprecation.py:87: FutureWarning: Function safe_indexing is deprecated; safe_indexing is deprecated in version 0.22 and will be removed in version 0.24.\n",
            "  warnings.warn(msg, category=FutureWarning)\n"
          ],
          "name": "stderr"
        },
        {
          "output_type": "stream",
          "text": [
            "------------------------------------------------\n",
            "SMOTE method:  BorderlineSMOTE\n",
            "random forest roc score on test:  0.767965\n",
            "random forest f1 score on test:  0.2519280205655527\n"
          ],
          "name": "stdout"
        },
        {
          "output_type": "stream",
          "text": [
            "/usr/local/lib/python3.6/dist-packages/sklearn/utils/deprecation.py:87: FutureWarning: Function safe_indexing is deprecated; safe_indexing is deprecated in version 0.22 and will be removed in version 0.24.\n",
            "  warnings.warn(msg, category=FutureWarning)\n",
            "/usr/local/lib/python3.6/dist-packages/sklearn/utils/deprecation.py:87: FutureWarning: Function safe_indexing is deprecated; safe_indexing is deprecated in version 0.22 and will be removed in version 0.24.\n",
            "  warnings.warn(msg, category=FutureWarning)\n",
            "/usr/local/lib/python3.6/dist-packages/sklearn/utils/deprecation.py:87: FutureWarning: Function safe_indexing is deprecated; safe_indexing is deprecated in version 0.22 and will be removed in version 0.24.\n",
            "  warnings.warn(msg, category=FutureWarning)\n",
            "/usr/local/lib/python3.6/dist-packages/sklearn/utils/deprecation.py:87: FutureWarning: Function safe_indexing is deprecated; safe_indexing is deprecated in version 0.22 and will be removed in version 0.24.\n",
            "  warnings.warn(msg, category=FutureWarning)\n",
            "/usr/local/lib/python3.6/dist-packages/sklearn/utils/deprecation.py:87: FutureWarning: Function safe_indexing is deprecated; safe_indexing is deprecated in version 0.22 and will be removed in version 0.24.\n",
            "  warnings.warn(msg, category=FutureWarning)\n",
            "/usr/local/lib/python3.6/dist-packages/sklearn/utils/deprecation.py:87: FutureWarning: Function safe_indexing is deprecated; safe_indexing is deprecated in version 0.22 and will be removed in version 0.24.\n",
            "  warnings.warn(msg, category=FutureWarning)\n"
          ],
          "name": "stderr"
        },
        {
          "output_type": "stream",
          "text": [
            "------------------------------------------------\n",
            "SMOTE method:  SVMSMOTE\n",
            "random forest roc score on test:  0.776185\n",
            "random forest f1 score on test:  0.28387096774193554\n"
          ],
          "name": "stdout"
        },
        {
          "output_type": "stream",
          "text": [
            "/usr/local/lib/python3.6/dist-packages/sklearn/utils/deprecation.py:87: FutureWarning: Function safe_indexing is deprecated; safe_indexing is deprecated in version 0.22 and will be removed in version 0.24.\n",
            "  warnings.warn(msg, category=FutureWarning)\n"
          ],
          "name": "stderr"
        },
        {
          "output_type": "stream",
          "text": [
            "------------------------------------------------\n",
            "SMOTE method:  ADASYN\n",
            "random forest roc score on test:  0.71786\n",
            "random forest f1 score on test:  0.21940928270042193\n"
          ],
          "name": "stdout"
        }
      ]
    },
    {
      "cell_type": "markdown",
      "metadata": {
        "id": "bMC8EqdVhuaz",
        "colab_type": "text"
      },
      "source": [
        "Như vậy ta thấy có 2 phương pháp SMOTE là `SVMSMOTE` và `BorderlineSMOTE` đã giúp tăng chỉ số `f1` score so với mô hình baseline. Trong đó phương pháp `SVMSMOTE` có mức độ cải thiện f1 score là gần 4% từ `0.2454` lên `0.2839`. Trong khi f1 score thay đổi không đáng kể. Đây là cải thiện rất tốt đối với một mô hình mà hầu hết kết quả của `f1` chỉ xoay quanh khoảng từ `0.24-0.25`. "
      ]
    },
    {
      "cell_type": "markdown",
      "metadata": {
        "id": "ubQPCRyu6RNa",
        "colab_type": "text"
      },
      "source": [
        "## Thu thập thêm dữ liệu\n",
        "\n",
        "Thông thường với các mô hình mà số lượng quan sát trong mẫu thiểu quá nhỏ sẽ không đại diện cho toàn bộ các trường hợp của `vỡ nợ`. Để mô hình học được bao quát hơn các khả năng, chúng ta cần gia tăng kích thước mẫu thiểu bằng cách thu thập thêm các quan sát trên thực tế thuộc nhóm thiểu. \n",
        "\n",
        "Ví dụ, giả sử ta lấy thêm 500 quan sát thuộc nhóm thiểu số vào tập train. Các quan sát này phải thỏa mãn điều kiện chưa từng xuất hiện ở các mẫu của tập test. Bởi vì về nguyên tắc, khi đánh giá mô hình, chúng ta không được lấy mẫu đã được huấn luyến để kiểm tra mô hình.\n",
        "\n",
        "Như vậy ta sẽ có một tập dữ liệu mới gọi là `data_train_add` có 10000 mẫu thông thường và 1000 mẫu vỡ nợ. Cùng xây dựng mô hình và kiểm tra trên tập test.\n"
      ]
    },
    {
      "cell_type": "code",
      "metadata": {
        "id": "JYnmUEYG6wvE",
        "colab_type": "code",
        "outputId": "ecfdd504-7789-4af1-89a6-398d69f95d34",
        "colab": {
          "base_uri": "https://localhost:8080/",
          "height": 34
        }
      },
      "source": [
        "# Tập train:\n",
        "id_train_neg = id_neg[:10000] \n",
        "id_train_pos = id_pos[:500]\n",
        "# Lấy ngẫu nhiên 500 quan sát thuộc nhóm thiểu không trùng với test\n",
        "id_train_pos_add = id_pos[800:1300]\n",
        "id_train_add = np.concatenate((id_train_neg, id_train_pos, id_train_pos_add), axis = 0)\n",
        "\n",
        "# khởi tạo dataset\n",
        "data_train_add = dataset.iloc[id_train_add]\n",
        "print('data train shape: ', data_train_add.shape)"
      ],
      "execution_count": 0,
      "outputs": [
        {
          "output_type": "stream",
          "text": [
            "data train shape:  (11000, 25)\n"
          ],
          "name": "stdout"
        }
      ]
    },
    {
      "cell_type": "code",
      "metadata": {
        "id": "95ltwZL_7I6b",
        "colab_type": "code",
        "outputId": "21313f80-fac7-4fc0-99a7-b7ecc39249fa",
        "colab": {
          "base_uri": "https://localhost:8080/",
          "height": 52
        }
      },
      "source": [
        "model_add = RandomForestClassifier(n_estimators=800, \n",
        "                                max_depth=10, \n",
        "                                min_samples_split=200, \n",
        "                                random_state=12, \n",
        "                                class_weight=\"balanced\",\n",
        "                                max_features=\"sqrt\")\n",
        "\n",
        "model_add.fit(data_train_add[model_features], data_train_add['default_payment_next_month'])\n",
        "model_add_predictions = model_add.predict_proba(data_test[model_features])\n",
        "model_add_pred_label = model_add.predict(data_test[model_features]) \n",
        "model_add_roc_score = roc_auc_score(data_test['default_payment_next_month'], model_add_predictions[:,1])\n",
        "model_add_f1_score = f1_score(data_test['default_payment_next_month'], model_add_pred_label)\n",
        "print('random forest roc score on test: ', model_add_roc_score)\n",
        "print('random forest f1 score on test: ', model_add_f1_score)"
      ],
      "execution_count": 0,
      "outputs": [
        {
          "output_type": "stream",
          "text": [
            "random forest roc score on test:  0.79414\n",
            "random forest f1 score on test:  0.2629310344827586\n"
          ],
          "name": "stdout"
        }
      ]
    },
    {
      "cell_type": "markdown",
      "metadata": {
        "id": "3ByCBTaL8qZC",
        "colab_type": "text"
      },
      "source": [
        "Như vậy ta nhận thấy thu thập thêm dữ liệu cho nhóm thiểu số cũng là một phương án cải thiện khả năng dự báo so với model baseline, chỉ số `auc` và `f1 score` đều tăng.\n",
        "\n",
        "## Thu thập thêm biến\n",
        "\n",
        "Mô hình có kết quả kém có thể là do dữ liệu đang thiếu những biến quan trọng có ảnh hưởng lớn tới hành vi của nhóm thiểu số. Chẳng hạn đối với bài toán dự báo khả năng vỡ nợ, chúng ta có thể thu thập thêm dữ liệu về lịch sử tín dụng của khách hàng trên toàn bộ hệ thống ngân hàng để kiểm tra xem liệu khách hàng có đang vay vốn tại các ngân hàng khác không và khách hàng đã từng phát sinh nợ quá hạn chưa?\n",
        "\n",
        "Có nhiều biến đầu vào quan trọng không dễ dàng nhận biết nếu data scientist không có hiểu biết về lĩnh vực đó. Do đó hiểu biết lĩnh vực (knownledge domain) rất quan trọng đối với mọi data scientist trước khi xây dựng mô hình. Để bổ sung thêm biến, chúng ta có thể xin ý kiến chuyên gia trong lĩnh vực mà ta đang phân loại. Các chuyên gia là người có kinh nghiệm lâu năm và có hiểu biết sâu sắc về đặc tính của các nhóm. Do đó họ sẽ đưa ra nhiều rules nhận diện và các biến quan trọng giúp ích cho phân loại."
      ]
    },
    {
      "cell_type": "markdown",
      "metadata": {
        "id": "JpUg7rTtpszi",
        "colab_type": "text"
      },
      "source": [
        "## Phạt mô hình\n",
        "\n",
        "Việc dự báo sai một quan sát thuộc mẫu đa số sẽ ít nghiêm trọng hơn so với dự báo sai một quan sát thuộc mẫu thiểu số. Xuất phát từ ý tưởng đó chúng ta sẽ phạt nặng hơn đối với sai số dự báo thuộc nhóm thiểu bằng cách gán cho nó một trọng số lớn hơn trong công thức của hàm loss function. Chẳng hạn như bên dưới trong argument `class_weight` chúng ta sẽ gán cho các trọng số của class thiểu số nhãn `1` là giá trị 0.9 và class đa số nhãn `0` là 0.1. Khi đó kết quả mô hình thu được trên tập test sẽ là:"
      ]
    },
    {
      "cell_type": "code",
      "metadata": {
        "id": "xtIz3BfTo_bT",
        "colab_type": "code",
        "outputId": "3911e4af-4d83-4969-a21e-ac02546c0c53",
        "colab": {
          "base_uri": "https://localhost:8080/",
          "height": 52
        }
      },
      "source": [
        "model_pen = RandomForestClassifier(n_estimators=500, \n",
        "                                max_depth=10, \n",
        "                                min_samples_split=400, \n",
        "                                random_state=12, \n",
        "                                class_weight={0: 0.1,\n",
        "                                              1: 0.9},\n",
        "                                max_features=\"auto\")\n",
        "\n",
        "model_pen.fit(data_train[model_features], data_train['default_payment_next_month'])\n",
        "model_pen_predictions = model_pen.predict_proba(data_test[model_features])\n",
        "model_pen_pred_label = model_pen.predict(data_test[model_features]) \n",
        "model_pen_roc_score = roc_auc_score(data_test['default_payment_next_month'], model_pen_predictions[:,1])\n",
        "model_pen_f1_score = f1_score(data_test['default_payment_next_month'], model_pen_pred_label)\n",
        "print('random forest roc score on test: ', model_pen_roc_score)\n",
        "print('random forest f1 score on test: ', model_pen_f1_score)"
      ],
      "execution_count": 0,
      "outputs": [
        {
          "output_type": "stream",
          "text": [
            "random forest roc score on test:  0.784845\n",
            "random forest f1 score on test:  0.3092105263157895\n"
          ],
          "name": "stdout"
        }
      ]
    },
    {
      "cell_type": "markdown",
      "metadata": {
        "id": "vOEYzUxdtmRg",
        "colab_type": "text"
      },
      "source": [
        "Ta thấy cả `auc` và `f1 score` đều cao hơn so với baseline model. Trong đó `f1` đã tăng gần 6% từ `0.2454` lên tới `0.3`. Đây là kết quả khả quan nhất trong các mô hình từ trước đến nay."
      ]
    },
    {
      "cell_type": "markdown",
      "metadata": {
        "id": "XxE0N_8TuLML",
        "colab_type": "text"
      },
      "source": [
        "## Thử nghiệm nhiều phương pháp khác nhau.\n",
        "\n",
        "Quá trình thực nghiệm cho thấy mỗi một thuật toán sẽ có kết quả tốt đối với mỗi một bộ dữ liệu khác nhau. Có thuật toán cho kết quả tốt trên các bộ dữ liệu mất cân bằng nghiêm trọng nhưng kém hiệu quả trên các bộ dữ liệu không bị mất cân bằng. Do đó điều chúng ta không nên tin tưởng vào một thuật toán mà phải mở rộng và thử nghiệm mô hình trên nhiều thuật toán khác nhau.\n",
        "\n",
        "Bên dưới chúng ta cùng lần lượt hồi qui mô hình với các thuật toán và kiểm tra mức độ dự báo chính xác trên tập test.\n",
        "\n",
        "**Logistic Regression**"
      ]
    },
    {
      "cell_type": "code",
      "metadata": {
        "id": "b7gDvhO-vI45",
        "colab_type": "code",
        "outputId": "62867335-4f09-42d7-85c3-069a6e541b36",
        "colab": {
          "base_uri": "https://localhost:8080/",
          "height": 194
        }
      },
      "source": [
        "from sklearn.linear_model import LogisticRegression\n",
        "\n",
        "log_reg = LogisticRegression(C = 0.0001)\n",
        "\n",
        "def _train_and_test(model, algo):\n",
        "  model.fit(data_train[model_features], data_train['default_payment_next_month'])\n",
        "  predictions = model.predict_proba(data_test[model_features])\n",
        "  pred_label = model.predict(data_test[model_features]) \n",
        "  roc_score = roc_auc_score(data_test['default_payment_next_month'], predictions[:,1])\n",
        "  model_f1_score = f1_score(data_test['default_payment_next_month'], pred_label)\n",
        "  print('{} roc score on test: {}'.format(algo , roc_score))\n",
        "  print('{} f1 score on test: {}'.format(algo, model_f1_score))\n",
        "  return model\n",
        "\n",
        "log_reg = _train_and_test(log_reg, algo = 'Logistic')"
      ],
      "execution_count": 0,
      "outputs": [
        {
          "output_type": "stream",
          "text": [
            "Logistic roc score on test: 0.6628700000000001\n",
            "Logistic f1 score on test: 0.0\n"
          ],
          "name": "stdout"
        },
        {
          "output_type": "stream",
          "text": [
            "/usr/local/lib/python3.6/dist-packages/sklearn/linear_model/_logistic.py:940: ConvergenceWarning: lbfgs failed to converge (status=1):\n",
            "STOP: TOTAL NO. of ITERATIONS REACHED LIMIT.\n",
            "\n",
            "Increase the number of iterations (max_iter) or scale the data as shown in:\n",
            "    https://scikit-learn.org/stable/modules/preprocessing.html\n",
            "Please also refer to the documentation for alternative solver options:\n",
            "    https://scikit-learn.org/stable/modules/linear_model.html#logistic-regression\n",
            "  extra_warning_msg=_LOGISTIC_SOLVER_CONVERGENCE_MSG)\n"
          ],
          "name": "stderr"
        }
      ]
    },
    {
      "cell_type": "markdown",
      "metadata": {
        "id": "dIGF9ukgvWrm",
        "colab_type": "text"
      },
      "source": [
        "**kNN**"
      ]
    },
    {
      "cell_type": "code",
      "metadata": {
        "id": "R-YkFKgDvaoL",
        "colab_type": "code",
        "outputId": "7f578541-0f9b-4557-bd59-ac0499cf9e80",
        "colab": {
          "base_uri": "https://localhost:8080/",
          "height": 52
        }
      },
      "source": [
        "from sklearn.neighbors import KNeighborsClassifier\n",
        "\n",
        "knn_classifier = KNeighborsClassifier(n_neighbors = 5, \n",
        "                                      weights = 'distance',\n",
        "                                      algorithm = 'kd_tree',\n",
        "                                      metric = 'minkowski'\n",
        "                                      )\n",
        "\n",
        "knn_classifier = _train_and_test(knn_classifier, algo = 'kNN')"
      ],
      "execution_count": 0,
      "outputs": [
        {
          "output_type": "stream",
          "text": [
            "kNN roc score on test: 0.5585575\n",
            "kNN f1 score on test: 0.0\n"
          ],
          "name": "stdout"
        }
      ]
    },
    {
      "cell_type": "markdown",
      "metadata": {
        "id": "IpKxs2TfvQju",
        "colab_type": "text"
      },
      "source": [
        "**SVM**"
      ]
    },
    {
      "cell_type": "code",
      "metadata": {
        "id": "yZk5AF_8vTe3",
        "colab_type": "code",
        "outputId": "c8b692da-f532-4f25-f146-ab2da7275585",
        "colab": {
          "base_uri": "https://localhost:8080/",
          "height": 52
        }
      },
      "source": [
        "from sklearn.svm import LinearSVC\n",
        "from sklearn.calibration import CalibratedClassifierCV\n",
        "\n",
        "svm_classifier = LinearSVC(penalty='l2', \n",
        "                           loss='squared_hinge',\n",
        "                           tol=0.0001,\n",
        "                           C=0.9,\n",
        "                           dual=False,\n",
        "                           class_weight='balanced',\n",
        "                           max_iter=1000\n",
        "                          )\n",
        "svm_classifier = CalibratedClassifierCV(svm_classifier) \n",
        "svm_classifier = _train_and_test(svm_classifier, algo = 'SVM')"
      ],
      "execution_count": 0,
      "outputs": [
        {
          "output_type": "stream",
          "text": [
            "SVM roc score on test: 0.71934\n",
            "SVM f1 score on test: 0.03773584905660377\n"
          ],
          "name": "stdout"
        }
      ]
    },
    {
      "cell_type": "markdown",
      "metadata": {
        "id": "QYWUUB0-vcg9",
        "colab_type": "text"
      },
      "source": [
        "**MLP**"
      ]
    },
    {
      "cell_type": "code",
      "metadata": {
        "id": "SYjfUXpC2mYq",
        "colab_type": "code",
        "outputId": "281d5ed9-e204-4f65-f64a-fcf9e68dc9ff",
        "colab": {
          "base_uri": "https://localhost:8080/",
          "height": 34
        }
      },
      "source": [
        "data_train.shape"
      ],
      "execution_count": 0,
      "outputs": [
        {
          "output_type": "execute_result",
          "data": {
            "text/plain": [
              "(10500, 25)"
            ]
          },
          "metadata": {
            "tags": []
          },
          "execution_count": 53
        }
      ]
    },
    {
      "cell_type": "code",
      "metadata": {
        "id": "wxHbGIdgveMo",
        "colab_type": "code",
        "outputId": "35e8fc2c-2aee-4428-cc7b-1ff073fffb49",
        "colab": {
          "base_uri": "https://localhost:8080/",
          "height": 410
        }
      },
      "source": [
        "from tensorflow.keras.layers import Dense, Input, Dropout\n",
        "from tensorflow.keras.models import Model\n",
        "from tensorflow.keras.optimizers import Adam\n",
        "\n",
        "# # concate nate all layers\n",
        "# encode_els = concatenate(encode_els) \n",
        "inputlayer = Input(shape=(23,))\n",
        "hidden1 = Dense(units = 128, kernel_initializer = 'normal', activation = 'relu')(inputlayer)\n",
        "droplayer1 = Dropout(0.8)(hidden1)\n",
        "hidden2 = Dense(64, kernel_initializer = 'normal', activation = 'relu')(droplayer1)\n",
        "droplayer2 = Dropout(0.2)(hidden2)\n",
        "outputlayer = Dense(1, kernel_initializer = 'normal', activation = 'sigmoid')(droplayer2)\n",
        "mlp_classifier = Model(inputs = inputlayer, outputs = [outputlayer])\n",
        "mlp_classifier.summary()"
      ],
      "execution_count": 0,
      "outputs": [
        {
          "output_type": "stream",
          "text": [
            "WARNING:tensorflow:Large dropout rate: 0.8 (>0.5). In TensorFlow 2.x, dropout() uses dropout rate instead of keep_prob. Please ensure that this is intended.\n",
            "Model: \"model_10\"\n",
            "_________________________________________________________________\n",
            "Layer (type)                 Output Shape              Param #   \n",
            "=================================================================\n",
            "input_14 (InputLayer)        [(None, 23)]              0         \n",
            "_________________________________________________________________\n",
            "dense_39 (Dense)             (None, 128)               3072      \n",
            "_________________________________________________________________\n",
            "dropout_26 (Dropout)         (None, 128)               0         \n",
            "_________________________________________________________________\n",
            "dense_40 (Dense)             (None, 64)                8256      \n",
            "_________________________________________________________________\n",
            "dropout_27 (Dropout)         (None, 64)                0         \n",
            "_________________________________________________________________\n",
            "dense_41 (Dense)             (None, 1)                 65        \n",
            "=================================================================\n",
            "Total params: 11,393\n",
            "Trainable params: 11,393\n",
            "Non-trainable params: 0\n",
            "_________________________________________________________________\n"
          ],
          "name": "stdout"
        }
      ]
    },
    {
      "cell_type": "code",
      "metadata": {
        "id": "CVEGZ_k_3AvN",
        "colab_type": "code",
        "outputId": "910eb76d-bb14-44b0-fe0e-4bd0846d97e9",
        "colab": {
          "base_uri": "https://localhost:8080/",
          "height": 407
        }
      },
      "source": [
        "optimizer = Adam()\n",
        "mlp_classifier.compile(optimizer, loss='binary_crossentropy', metrics=['accuracy'])\n",
        "mlp_classifier.fit(data_train[model_features], data_train['default_payment_next_month'],\n",
        "                   validation_data = (data_val[model_features], data_val['default_payment_next_month']),\n",
        "                   epochs = 10,\n",
        "                   batch_size = 64)"
      ],
      "execution_count": 0,
      "outputs": [
        {
          "output_type": "stream",
          "text": [
            "Train on 10500 samples, validate on 2100 samples\n",
            "Epoch 1/10\n",
            "10500/10500 [==============================] - 1s 90us/sample - loss: 0.4324 - acc: 0.9504 - val_loss: 0.1956 - val_acc: 0.9524\n",
            "Epoch 2/10\n",
            "10500/10500 [==============================] - 0s 44us/sample - loss: 0.6002 - acc: 0.9515 - val_loss: 0.1946 - val_acc: 0.9524\n",
            "Epoch 3/10\n",
            "10500/10500 [==============================] - 0s 42us/sample - loss: 0.3891 - acc: 0.9515 - val_loss: 0.1997 - val_acc: 0.9524\n",
            "Epoch 4/10\n",
            "10500/10500 [==============================] - 0s 43us/sample - loss: 0.3764 - acc: 0.9516 - val_loss: 0.1916 - val_acc: 0.9524\n",
            "Epoch 5/10\n",
            "10500/10500 [==============================] - 0s 42us/sample - loss: 0.2243 - acc: 0.9517 - val_loss: 0.1958 - val_acc: 0.9524\n",
            "Epoch 6/10\n",
            "10500/10500 [==============================] - 0s 43us/sample - loss: 0.3493 - acc: 0.9514 - val_loss: 0.1917 - val_acc: 0.9524\n",
            "Epoch 7/10\n",
            "10500/10500 [==============================] - 0s 42us/sample - loss: 0.3474 - acc: 0.9520 - val_loss: 0.1908 - val_acc: 0.9524\n",
            "Epoch 8/10\n",
            "10500/10500 [==============================] - 0s 42us/sample - loss: 0.4276 - acc: 0.9513 - val_loss: 0.1916 - val_acc: 0.9524\n",
            "Epoch 9/10\n",
            "10500/10500 [==============================] - 0s 43us/sample - loss: 0.2603 - acc: 0.9522 - val_loss: 0.1916 - val_acc: 0.9524\n",
            "Epoch 10/10\n",
            "10500/10500 [==============================] - 0s 44us/sample - loss: 0.2829 - acc: 0.9522 - val_loss: 0.1915 - val_acc: 0.9524\n"
          ],
          "name": "stdout"
        },
        {
          "output_type": "execute_result",
          "data": {
            "text/plain": [
              "<tensorflow.python.keras.callbacks.History at 0x7fd201605cc0>"
            ]
          },
          "metadata": {
            "tags": []
          },
          "execution_count": 79
        }
      ]
    },
    {
      "cell_type": "code",
      "metadata": {
        "id": "B9v2EqoM7uq4",
        "colab_type": "code",
        "outputId": "6b9055ab-1f68-45ac-d44f-2b3445e82132",
        "colab": {
          "base_uri": "https://localhost:8080/",
          "height": 52
        }
      },
      "source": [
        "predictions = mlp_classifier.predict(data_test[model_features])\n",
        "pred_label = [0 if prob <= 0.5 else 1 for prob in predictions]\n",
        "roc_score = roc_auc_score(data_test['default_payment_next_month'], predictions)\n",
        "model_f1_score = f1_score(data_test['default_payment_next_month'], pred_label)\n",
        "print('{} roc score on test: {}'.format('MLP' , roc_score))\n",
        "print('{} f1 score on test: {}'.format('MLP', model_f1_score))"
      ],
      "execution_count": 0,
      "outputs": [
        {
          "output_type": "stream",
          "text": [
            "MLP roc score on test: 0.515965\n",
            "MLP f1 score on test: 0.0\n"
          ],
          "name": "stdout"
        }
      ]
    },
    {
      "cell_type": "markdown",
      "metadata": {
        "id": "hdi2yTB3vJeK",
        "colab_type": "text"
      },
      "source": [
        "**Light Gradient Boosting**"
      ]
    },
    {
      "cell_type": "code",
      "metadata": {
        "id": "EZ00Z5Kcwh80",
        "colab_type": "code",
        "outputId": "3bf4989c-fc5d-45bc-88f9-3d2088e1e673",
        "colab": {
          "base_uri": "https://localhost:8080/",
          "height": 52
        }
      },
      "source": [
        "import lightgbm as lgb\n",
        "\n",
        "lgb_classifier = lgb.LGBMClassifier(n_estimator = 800, \n",
        "                                    objective = 'binary', \n",
        "                                    class_weight = 'balanced',\n",
        "                                    learning_rate = 0.05,\n",
        "                                    reg_alpha = 0.1,\n",
        "                                    reg_lambda = 0.1,\n",
        "                                    subsample = 0.8,\n",
        "                                    n_job = -1,\n",
        "                                    random_state = 12\n",
        "                                   )\n",
        "\n",
        "lgb_classifier = _train_and_test(lgb_classifier, algo = 'Light Gradient Boosting')"
      ],
      "execution_count": 0,
      "outputs": [
        {
          "output_type": "stream",
          "text": [
            "Light Gradient Boosting roc score on test: 0.7818150000000001\n",
            "Light Gradient Boosting f1 score on test: 0.25654450261780104\n"
          ],
          "name": "stdout"
        }
      ]
    },
    {
      "cell_type": "markdown",
      "metadata": {
        "id": "qwPkKPojvVNS",
        "colab_type": "text"
      },
      "source": [
        "Ta thấy hầu hết các mô hình đều không hoạt động tốt trên dữ liệu imbalance. Một số mô hình dự báo trên tập test chỉ rơi vào 1 nhóm dẫn tới `f1` = 0 như mô hình kNN, MLP, Logistic.\n",
        "\n",
        "Tuy nhiên, mô hình `Light Gradient Boosting` lại cho kết quả dự báo khá tốt khi cải thiện được cả 2 chỉ số `auc` và `f1` so với baseline model. Thực tế tôi từng xây dựng nhiều mô hình có hiện tượng mất cân bằng dữ liệu nghiêm trọng, và kết quả cho thấy `Light Gradient Boosting` là mô hình có hiệu quả cao trong nhiều bài toán của tôi."
      ]
    },
    {
      "cell_type": "markdown",
      "metadata": {
        "id": "_VsTPGLC8T8g",
        "colab_type": "text"
      },
      "source": [
        "## Calibration\n",
        "\n",
        "Đường curve ở trên cho thấy đầu ra của xác suất từ mô hình Random Forest có thể được hưởng lợi từ calibration.\n",
        "\n",
        "**Làm thế nào để xác định một phương pháp calibration tốt**?\n",
        "\n",
        "Một thuật ngữ đơn giản, xác suất có thể được diễn tả như một khoảng tin cậy. Thêm vào đó, một thuật toán classifier được cho rằng đưa ra một calibrated xác suất tốt nếu các điểm dữ liệu nhận xác suất là 0.5, 50% của những điểm dữ liệu này thuộc về class positive.\n",
        "\n",
        "**Có 2 phương pháp phổ biến cho calibrate xác suất:**\n",
        "\n",
        "**1. Platt Scaling:** aka logistic calibration là cách tiếp cận tham số với hàm sigmoid map giả định rằng mỗi class sẽ phân phối chuẩn hóa. Theo nghĩa đơn giản, phương pháp này huấn luyện mô hình logistic để phù hợp với xác suất ở output và tạo ra một điều chỉnh xác suất hợp lý hơn.\n",
        "\n",
        "Ưu điểm: Làm việc tốt với tập dữ liệu nhỏ\n",
        "\n",
        "Nhược điểm: Có thể tạo ra một hiệu chỉnh xác suất nếu giả thuyết không được giữ vững.\n",
        "\n",
        "**2. Isotonic Regression:** Đây là cách tiếp cận phi tham số hướng tới biểu diễn khi nó fit tốt với các piece wise non-decrease function để dự báo xác suất đầu ra bởi một base model.\n",
        "\n",
        "Ưu điểm: Không tạo ra một giả thuyết về phân phối xác suất của input.\n",
        "\n",
        "Nhược điểm: Yêu cầu nhiều dữ liệu hơn để làm việc.\n",
        "\n",
        "Bên dưới ta sẽ sử dụng phương pháp _Platt Scaling_ để tinh chỉnh xác suất của chúng ta."
      ]
    },
    {
      "cell_type": "code",
      "metadata": {
        "id": "YMiahK3SNubP",
        "colab_type": "code",
        "outputId": "4c0885ed-940a-484b-ec12-057d17f31140",
        "colab": {
          "base_uri": "https://localhost:8080/",
          "height": 90
        }
      },
      "source": [
        "calib_clf = CalibratedClassifierCV(rf_clf, method=\"sigmoid\", cv=\"prefit\")\n",
        "calib_clf.fit(x_valid, y_valid)\n",
        "calibrated_predictions = calib_clf.predict_proba(x_test)\n",
        "calib_roc_score = roc_auc_score(y_test, calibrated_predictions[:, 1])\n",
        "print(calib_roc_score)"
      ],
      "execution_count": 0,
      "outputs": [
        {
          "output_type": "stream",
          "text": [
            "0.7719709946699864\n"
          ],
          "name": "stdout"
        },
        {
          "output_type": "stream",
          "text": [
            "/usr/local/lib/python3.6/dist-packages/sklearn/utils/validation.py:760: DataConversionWarning: A column-vector y was passed when a 1d array was expected. Please change the shape of y to (n_samples, ), for example using ravel().\n",
            "  y = column_or_1d(y, warn=True)\n"
          ],
          "name": "stderr"
        }
      ]
    },
    {
      "cell_type": "code",
      "metadata": {
        "id": "lrcC9gGdPxj7",
        "colab_type": "code",
        "outputId": "293b2940-b936-41b9-bbf8-52c9fb9461f3",
        "colab": {
          "base_uri": "https://localhost:8080/",
          "height": 444
        }
      },
      "source": [
        "fig = plt.figure(figsize=(10, 7))\n",
        "for outcomes, models, roc_scores in zip([rf_predictions,calibrated_predictions], \n",
        "    [\"Random Forest\", \"Calibrated Model\"],\n",
        "    [rf_roc_score, calib_roc_score]):\n",
        "    fraction_of_positives, mean_predicted_value =        calibration_curve(y_test, outcomes[:,1])\n",
        "    plt.plot(mean_predicted_value, fraction_of_positives, label=\"%s with roc - (%1.2f)\" % (models, roc_scores))\n",
        "    plt.legend()\n",
        "    plt.title(\"Reliability curve\")\n",
        "plt.show()"
      ],
      "execution_count": 0,
      "outputs": [
        {
          "output_type": "display_data",
          "data": {
            "image/png": "[encoded data removed]",
            "text/plain": [
              "<Figure size 720x504 with 1 Axes>"
            ]
          },
          "metadata": {
            "tags": []
          }
        }
      ]
    },
    {
      "cell_type": "markdown",
      "metadata": {
        "id": "a7REwNvJtuI7",
        "colab_type": "text"
      },
      "source": [
        "# Kết luận\n",
        "\n",
        "Mất cân bằng dữ liệu là hiện tượng thường xuyên xảy ra ở các bài toán phân loại. Hiện tượng này sẽ dẫn tới mô hình dự báo kém chính xác và đa phần kết quả dự báo bị thiên hẳn về một nhãn. Trong trường hợp đó, các thước đo như accuracy cũng không phải là một metric tốt để đánh giá mô hình. Qua bài viết này tôi đã trình bày với các bạn một số phương pháp chính có thể áp dụng để đối phó với các bài toán mất cân bằng mẫu. Hi vọng rằng những phương pháp kể trên sẽ mang lại hiệu quả khi tiến hành xây dựng mô hình."
      ]
    },
    {
      "cell_type": "markdown",
      "metadata": {
        "id": "GBy2xBJwqltP",
        "colab_type": "text"
      },
      "source": [
        "# Tài liệu\n",
        "\n",
        "\n",
        "https://imbalanced-learn.readthedocs.io/en/stable/auto_examples/over-sampling/plot_comparison_over_sampling\n",
        "\n",
        "https://towardsdatascience.com/probability-calibration-for-imbalanced-dataset-64af3730eaab\n",
        "\n",
        "https://www.kdnuggets.com/2016/12/best-metric-measure-accuracy-classification-models.html/2\n",
        "\n",
        "https://www.kaggle.com/residentmario/undersampling-and-oversampling-imbalanced-data\n",
        "\n",
        "https://www.marcoaltini.com/blog/dealing-with-imbalanced-data-undersampling-oversampling-and-proper-cross-validation\n",
        "\n",
        "https://arxiv.org/pdf/1106.1813.pdf\n",
        "\n"
      ]
    }
  ]
}