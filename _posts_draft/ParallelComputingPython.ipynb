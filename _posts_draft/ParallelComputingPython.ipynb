{
  "nbformat": 4,
  "nbformat_minor": 0,
  "metadata": {
    "colab": {
      "name": "MultiThreadInPython.ipynb",
      "provenance": [],
      "collapsed_sections": [],
      "toc_visible": true
    },
    "kernelspec": {
      "name": "python3",
      "display_name": "Python 3"
    }
  },
  "cells": [
    {
      "cell_type": "markdown",
      "metadata": {
        "id": "jqJ9p__R8vL4"
      },
      "source": [
        "# 1. Tại sao cần xử lý song song\n",
        "\n",
        "Trong quá trình xây dựng các ứng dụng deep learning trên python, mình nhận ra rằng để tạo ra một ứng dụng thì không khó. Nhưng để tạo ra một ứng dụng đáp ứng được tốc độ xử lý, độ chính xác và mức độ sử dụng resource thì cần phải tối ưu rất nhiều thứ. Bạn sẽ phải quan tâm đến các khía cạnh như:\n",
        "\n",
        "* Giảm nhẹ kích thước mô hình thông qua: Quantization và compress mô hình. \n",
        "* Optimize lại code.\n",
        "* Chuyển từ single-thread sang multi-thread.\n",
        "* Allocate lại tài nguyên như CPU, Memory.\n",
        "\n",
        "Đặc biệt là các ứng dụng trên python thì tối ưu tốc độ xử lý là một challenge bởi python bị ràng buộc bởi cơ chế GIL (Global Interpreter Lock). Tức là nó chỉ cho phép một thread hoạt động truy suất và chỉnh sửa bộ nhớ tại một thời điểm. Do đó python không tận dụng được các tính toán đa luồng. Tuy nhiên ở python 3.2 trở đi thì python đã bắt đầu hỗ trợ đa luồng. Và thông qua bài viết này mình sẽ hướng dẫn các bạn có thể accelerate các ứng dụng của mình thông qua đa luồng. \n",
        "\n",
        "Nhưng trước tiên chúng ta cần hiểu về thread/process là gì? Vì blog dành cho đa dạng bạn đọc ở trình độ khác nhau nên bạn nào đã biết thì có thể bỏ qua phần kiến thức rất sơ đẳng này.\n",
        "\n"
      ]
    },
    {
      "cell_type": "markdown",
      "metadata": {
        "id": "y_NwBRcUChVx"
      },
      "source": [
        "## 1.1. Thread và Process\n",
        "\n",
        "![](https://www.backblaze.com/blog/wp-content/uploads/2017/08/diagram-thread-process-1.png)\n",
        "\n",
        "\n",
        "Thread và process là hai khái niệm cơ bản trong lập trình và cũng có nhiều định nghĩa từ các nguồn khác nhau cho chúng. \n",
        "\n",
        "**Process là gì?**\n",
        "\n",
        "Chúng ta hiểu một cách đơn giản thì process là tiến trình để chạy một phần mềm. Khi bạn start một program thì tức là bạn đang khởi tạo một process. Hệ điều hành khi đó sẽ cung cấp các tài nguyên về memory, cpu, disk, bandwidth cho process để cho chạy ứng dụng của bạn.\n",
        "\n",
        "![](https://st.quantrimang.com/photos/image/2016/02/16/Windows-Task-Manager.jpg)\n",
        "\n",
        "**Hình 1**: Khi bạn vào task management của window bạn có thể theo dõi các process đang chạy với mã PID của process. Mỗi một process sẽ phụ trách một instance của OS system và được cung cấp các thành phần như memory, cpu, disk, bandwith,....\n",
        "\n",
        "Lịch xử lý của các processes sẽ được OS sắp xếp dựa trên một số thuật toán lập lịch như round robin, first come first serve,... Mình sẽ không đi sâu vào phần này, các bạn có thể tham khảo thêm [Operating System Scheduling algorithms](https://www.tutorialspoint.com/operating_system/os_process_scheduling_algorithms.htm).\n",
        "\n",
        "**Threads là gì?**\n",
        "\n",
        "\n",
        "Chắc hẳn bạn đã từng nghe đến thông số số cores của CPU. Các CPU càng hiện đại, số lượng cores sẽ càng nhiều. Các core sẽ hỗ trợ cho việc tính toán multi-task tốt hơn. Các threads sẽ được vận hành và tính toán trên các core của CPU.\n",
        "\n",
        "Một process khi được khởi tạo sẽ sinh ra các threads để run application. Bạn sẽ thắc mắc vậy thì chỉ cần một thread cũng được ? Tại sao lại cần nhiều threads? Nhiều threads sẽ giúp cho việc tính toán multi-task tốt hơn. Tức là bạn có thể làm nhiều nhiệm vụ một lúc. Nếu coi mỗi thread là một công nhân, thì việc sản xuất sẽ nhanh hơn nếu có nhiều công nhân phối hợp cùng làm việc. Bạn có thể hình dung dễ hơn qua ví dụ:\n",
        "\n",
        "Khi bạn làm việc với microsoft word, bạn gõ bàn phím thì có những công việc sau cần thực hiện:\n",
        "\n",
        "* Đọc thông tin input từ keyboards.\n",
        "* Hiển thị lên màn hình các thông tin đã nhập trong quá trình gõ.\n",
        "* High light những chỗ bị sai chính tả.\n",
        "* Suggest các từ để có thể gõ nhanh hơn.\n",
        "\n",
        "Mỗi công việc được phụ trách bởi một thread và chúng phối hợp với nhau để giúp ứng dụng của bạn mượt hơn. Nếu chỉ có một thread làm tất cả mọi công việc thì nó sẽ bị quá tải và bạn có thể gặp phải giới hạn về tốc độ xử lý của CPU, thuật ngữ hay được gọi là CPU bound.\n",
        "\n",
        "Một process có thể là single-thread hoặc multiple-threads tùy thuộc vào số lượng là một hoặc nhiều. Khi có nhiều threads thì đòi hỏi phải có sự phối hợp tính toán song song (parrallel computing) giữa các threads với nhau. Từ đó sinh ra các khái niệm về đồng bộ (`synchronous`) và bất đồng bộ (`asynchronous`). Chúng ta sẽ làm rõ hai khái niệm này ở các phần tiếp theo.\n",
        "\n",
        "Bạn có thể thắc mắc multiple-threads thì có khác gì khác biệt so với việc sử dụng multiple-processes? Chúng ta vẫn có thể tính toán song song được trên cả hai? Vậy tại sao lại cần phải tách một process thành nhiều threads làm gì ? Thực tế là trong python thì process và thread cùng kế thừa chung một interface là một base thread. Chúng sẽ có những đặc tính chung, nhưng thread là một phiên bản nhẹ hơn so với process. Do đó việc khởi tạo thread sẽ nhanh hơn. Một điểm khác biệt nữa đó là thread được thiết kế để có thể hoạt động tương tác lẫn nhau. Các threads trong cùng một process sẽ chia sẻ được dữ liệu qua lại nên có lợi thế về I/O. Dữ liệu của process thì được thiết kế private nên một process không thể  chia sẻ dữ liệu với các process khác. Đây là lý do chúng ta cần nhiều threads hoạt động trong một process.\n",
        "\n",
        "**Tiếp theo môi trường hoạt động của multiple-threads sẽ như thế nào ?**\n",
        "\n",
        "Khi các threads chạy song song trên cùng một process, chúng sẽ khởi tạo dữ liệu như thế nào? Dữ liệu sẽ được lưu vào đâu? Chúng chia sẻ chung một code như thế nào? Chúng ta cùng làm rõ qua sơ đồ bên dưới.\n",
        "\n",
        "\n",
        "![](https://www.backblaze.com/blog/wp-content/uploads/2017/08/diagram-threads.png)\n",
        "\n",
        "**Hình 2:** Cấu trúc của single thread và multiple threads. \n",
        "\n",
        "Đầu tiên ứng dụng của bạn sẽ khi khởi chạy sẽ load code lên. Phần main của chương trình sẽ được compiler khởi chạy đầu tiên. Lần lượt các method sẽ được load vào môi trường stack theo trình tự chạy. Compiler chạy lần lượt các hàm trong stack. Các hàm được compiler biên dịch thành mã máy (`byte code`) và được thực thi để sinh ra dữ liệu. Dữ liệu sau đó được lưu trữ tại hai bộ nhớ là Heap và Stack (cái này cũng tùy thuộc vào virtual machine của từng ngôn ngữ). Stack lưu trữ method và các local variable còn heap lưu trữ object, array từ chương trình của bạn (phần lưu trữ này cũng có thể thay đổi tùy vào cách sắp xếp bộ nhớ của các ngôn ngữ). Nếu load trên stack thì không bị phân mảng dữ liệu và có thời gian load/access nhanh hơn. Còn heap sẽ allocate vùng nhớ ngẫu nhiên, các ô nhớ không liên tục nên do đó bị phân mảng.\n",
        "\n",
        "Okie, mình nghĩ lý thuyết như vậy là đủ rồi. Tiếp theo chúng ta sẽ cùng thực hành khởi tạo các thread và process trong python."
      ]
    },
    {
      "cell_type": "markdown",
      "metadata": {
        "id": "AJrDWHPQNi7e"
      },
      "source": [
        "# 2. Khởi tạo thread trong python\n"
      ]
    },
    {
      "cell_type": "markdown",
      "metadata": {
        "id": "Ht8CK7UzHZLS"
      },
      "source": [
        "\n",
        "## 2.1. Khởi tạo từ hàm\n",
        "Trên python3 để khởi tạo một thread thì chúng ta sử dụng module `_thread`, trên python2 là `thread`. Để start một method trên thread thì chúng ta chỉ cần truyền vào `_thread.start_new_thread()` tên method và các giá trị đối số của nó. Ví dụ bên dưới chúng ta sử dụng hàm `_counter()` để đếm lùi các số từ trên xuống dưới."
      ]
    },
    {
      "cell_type": "code",
      "metadata": {
        "colab": {
          "base_uri": "https://localhost:8080/"
        },
        "id": "vqiF5AmB8p42",
        "outputId": "53c7bfb3-5def-4779-d015-6f769e9a64ce"
      },
      "source": [
        "import _thread\n",
        "import time\n",
        "\n",
        "def _counter(counter, thread_name):\n",
        "  while (counter):\n",
        "    time.sleep(0.01)\n",
        "    print(\"{}: {}\".format(thread_name, counter))\n",
        "    counter -= 1\n",
        "\n",
        "counter = 5\n",
        "\n",
        "# Khởi tạo 2 threads 1 và 2\n",
        "try:\n",
        "  _thread.start_new_thread(_counter, (counter, \"khanh thread\")) # pass counter and thread_name into method _counter\n",
        "  print(\"\\n\")\n",
        "  _thread.start_new_thread(_counter, (counter, \"ai thread\"))\n",
        "except:\n",
        "  print(\"Error: unable to start thread\")\n",
        "\n",
        "# Running counter\n",
        "while (counter):\n",
        "  counter -= 1\n",
        "  pass"
      ],
      "execution_count": null,
      "outputs": [
        {
          "output_type": "stream",
          "text": [
            "\n",
            "\n",
            "ai thread: 5\n",
            "khanh thread: 5\n",
            "ai thread: 4\n",
            "khanh thread: 4\n",
            "ai thread: 3\n",
            "khanh thread: 3\n",
            "ai thread: 2\n",
            "khanh thread: 2\n",
            "ai thread: 1\n",
            "khanh thread: 1\n"
          ],
          "name": "stdout"
        }
      ]
    },
    {
      "cell_type": "markdown",
      "metadata": {
        "id": "r2x4At6BRf8A"
      },
      "source": [
        "Ta thấy hai thread đã xen kẽ nhau cùng thực hiện tác vụ đếm ngược. Tuy nhiên về bản chất thì chúng vẫn là đơn luồng vì cơ chế GIL của python ép buộc một thời điểm chỉ có một thread được tương tác với dữ liệu. Có khá nhiều developer tỏ ra thất vọng về hạn chế này nhưng một số khác thì bảo vệ quan điểm này bởi nó giúp một dữ liệu không bị sử dụng và thay đổi cùng lúc bởi nhiều threads. Hiện tượng này dẫn tới `concurrency`, một trong những bug thường gặp ở các ngôn ngữ đa luồng như java hay C++.\n",
        "\n",
        "Trong ví dụ trên thì các method trên hai threads `khanh` và `ai` khởi chạy độc lập nhau mà không ưu tiên một thread hoàn thành thì mới chạy thread tiếp theo. Cách chạy như vậy được gọi là bất đồng bộ `asynchronous`, một khái niệm cơ bản của parallel application. Trái ngược lại thì là đồng bộ `synchronous`, các method sẽ chạy theo tuần tự, sau khi method trước đó đã hoàn thành.\n"
      ]
    },
    {
      "cell_type": "markdown",
      "metadata": {
        "id": "alKDH6GLHLUA"
      },
      "source": [
        "\n",
        "## 2.2. Khởi tạo kế thừa\n",
        "Một cách khác để khởi tạo một thread đó là kế thừa lại Threading module. Kiểu kế thừa này khá phổ biến trong lập trình, chắc các bạn còn nhớ khi khởi tạo model trên pytorch chúng ta cũng kế thừa lại [nn.Module](https://phamdinhkhanh.github.io/2019/08/10/PytorchTurtorial1.html#31-ki%E1%BA%BFn-tr%C3%BAc-m%E1%BA%A1ng-cnn) chứ ? Khi đó chúng ta chỉ cần override lại các method cần điều chỉnh từ class cha."
      ]
    },
    {
      "cell_type": "code",
      "metadata": {
        "colab": {
          "base_uri": "https://localhost:8080/"
        },
        "id": "iYfYGkoaTTL0",
        "outputId": "1c0271fc-1fc6-4af6-d787-dc9684bef69f"
      },
      "source": [
        "import threading\n",
        "import time\n",
        "\n",
        "class FirstThread(threading.Thread):\n",
        "  def __init__(self, thread_id, thread_name, counter):\n",
        "    threading.Thread.__init__(self)\n",
        "    self.thread_id = thread_id\n",
        "    self.thread_name = thread_name\n",
        "    self.counter = counter\n",
        "\n",
        "  def run(self):\n",
        "    print(\"Start thread {}!\".format(self.thread_name))\n",
        "    while (self.counter):\n",
        "      time.sleep(0.01)\n",
        "      print(\"{} : {}\".format(self.thread_name, self.counter))\n",
        "      self.counter -= 1\n",
        "    print(\"End thread {}\".format(self.thread_name))\n",
        "\n",
        "\n",
        "thread1 = FirstThread(1, \"khanh thread\", 5)\n",
        "thread2 = FirstThread(2, \"ai thread\", 5)\n",
        "\n",
        "thread1.start()\n",
        "thread2.start()"
      ],
      "execution_count": null,
      "outputs": [
        {
          "output_type": "stream",
          "text": [
            "Start thread khanh thread!\n",
            "Start thread ai thread!\n",
            "khanh thread : 5\n",
            "ai thread : 5\n",
            "khanh thread : 4\n",
            "ai thread : 4\n",
            "khanh thread : 3\n",
            "ai thread : 3\n",
            "khanh thread : 2\n",
            "ai thread : 2\n",
            "khanh thread : 1\n",
            "End thread khanh thread\n",
            "ai thread : 1\n",
            "End thread ai thread\n"
          ],
          "name": "stdout"
        }
      ]
    },
    {
      "cell_type": "markdown",
      "metadata": {
        "id": "paPwYshL9LOp"
      },
      "source": [
        "## 2.3. Cơ chế Thread Lock\n",
        "\n",
        "Như đã giới thiệu chương trước, trong ví dụ ở trên các threads là bất đồng bộ (`asynchronous`). Hai threads chạy độc lập với nhau mà không theo thứ tự. Chúng ta có thể đồng bộ (synchronous) các thread. Tức là cho phép một thread chạy xong thì thread khác mới được phép chạy bằng cách sử dụng Thread Lock trong python."
      ]
    },
    {
      "cell_type": "code",
      "metadata": {
        "colab": {
          "base_uri": "https://localhost:8080/"
        },
        "id": "6MRdKnZJc5zY",
        "outputId": "cab72b73-3235-40ab-aa00-98818c88b50c"
      },
      "source": [
        "import threading\n",
        "\n",
        "class FirstThread(threading.Thread):\n",
        "  def __init__(self, thread_id, thread_name, counter):\n",
        "    threading.Thread.__init__(self)\n",
        "    self.thread_id = thread_id\n",
        "    self.thread_name = thread_name\n",
        "    self.counter = counter\n",
        "\n",
        "  def run(self):\n",
        "    threadLock.acquire()\n",
        "    print(\"Start thread {}!\".format(self.thread_name))\n",
        "    while (self.counter):\n",
        "      time.sleep(0.01)\n",
        "      print(\"{} : {}\".format(self.thread_name, self.counter))\n",
        "      self.counter -= 1\n",
        "    print(\"End thread {}\".format(self.thread_name))\n",
        "    threadLock.release()\n",
        "\n",
        "threadLock = threading.Lock()\n",
        "thread1 = FirstThread(1, \"khanh thread\", 5)\n",
        "thread2 = FirstThread(2, \"linh thread\", 5)\n",
        "\n",
        "thread1.start()\n",
        "thread2.start()\n",
        "\n",
        "threads = [thread1, thread2]\n",
        "\n",
        "for t in threads:\n",
        "  t.join()"
      ],
      "execution_count": null,
      "outputs": [
        {
          "output_type": "stream",
          "text": [
            "Start thread khanh thread!\n",
            "khanh thread : 5\n",
            "khanh thread : 4\n",
            "khanh thread : 3\n",
            "khanh thread : 2\n",
            "khanh thread : 1\n",
            "End thread khanh thread\n",
            "Start thread linh thread!\n",
            "linh thread : 5\n",
            "linh thread : 4\n",
            "linh thread : 3\n",
            "linh thread : 2\n",
            "linh thread : 1\n",
            "End thread linh thread\n"
          ],
          "name": "stdout"
        }
      ]
    },
    {
      "cell_type": "markdown",
      "metadata": {
        "id": "P2WUx9hTWATq"
      },
      "source": [
        "Trong hàm `run()` của thread thì chỉ cần thêm hàm `thread.acquire()` và `thread.release()` vào đầu và cuối hàm thì luồng sẽ được locking cho đến khi thread chạy xong thì thread khác mới được xử lý tiếp.\n",
        "Như chúng ta thấy, sau khi thread1 xử lý xong thì mới đến lượt thread2 xử lý."
      ]
    },
    {
      "cell_type": "markdown",
      "metadata": {
        "id": "8aF04hAK1Z3r"
      },
      "source": [
        "# 3. Khởi tạo process trong python\n",
        "\n",
        "Để khởi tạo một `process` trong python chúng ta sử dụng class `Process` của thư viện `multiprocessing`. Chúng ta cũng truyền vào hàm và đối số như đã thực hiện với thread."
      ]
    },
    {
      "cell_type": "code",
      "metadata": {
        "colab": {
          "base_uri": "https://localhost:8080/"
        },
        "id": "CqB3Ou2Z16kp",
        "outputId": "bf15018e-5dde-4d2e-bf09-4ccb4de65321"
      },
      "source": [
        "from multiprocessing import Process\n",
        "import time\n",
        "\n",
        "def _counter(counter, process_name):\n",
        "  while (counter):\n",
        "    time.sleep(0.01)\n",
        "    print(\"{}: {}\".format(process_name, counter))\n",
        "    counter -= 1\n",
        "\n",
        "counter = 5\n",
        "\n",
        "exec1 = Process(target=_counter, args=(counter, \"khanh thread\")) # pass counter and thread_name into method _counter\n",
        "exec2 = Process(target=_counter, args=(counter, \"ai thread\"))\n",
        "\n",
        "exec1.start()\n",
        "exec2.start()\n",
        "\n",
        "for exec in execs:\n",
        "  exec.join()"
      ],
      "execution_count": 14,
      "outputs": [
        {
          "output_type": "stream",
          "text": [
            "khanh thread: 5\n",
            "ai thread: 5\n",
            "khanh thread: 4\n",
            "ai thread: 4\n",
            "khanh thread: 3\n",
            "ai thread: 3\n",
            "khanh thread: 2\n",
            "ai thread: 2\n",
            "khanh thread: 1\n",
            "ai thread: 1\n"
          ],
          "name": "stdout"
        }
      ]
    },
    {
      "cell_type": "markdown",
      "metadata": {
        "id": "00bFczyB9fdJ"
      },
      "source": [
        "Khi làm việc với multi-process, chúng ta luôn cần một lệnh `join()` để đảm bảo main process hoàn thành sau cùng sau khi các child process khác kết thúc.\n"
      ]
    },
    {
      "cell_type": "markdown",
      "metadata": {
        "id": "YtxP00jC2V2u"
      },
      "source": [
        "Ta nhận thấy rằng các process được thực hiện một cách độc lập và bất đồng bộ. Để đồng bộ các process với nhau thì chúng ta đơn giản là `lock` chúng lại."
      ]
    },
    {
      "cell_type": "code",
      "metadata": {
        "colab": {
          "base_uri": "https://localhost:8080/"
        },
        "id": "uxrkT77Z3j3O",
        "outputId": "44d2c211-4e97-4541-d03c-8bf6b2934e2f"
      },
      "source": [
        "from multiprocessing import Process, Lock\n",
        "import time\n",
        "\n",
        "def _counter_lock(counter, process_name, lock):\n",
        "  lock.acquire()\n",
        "  while (counter):\n",
        "    time.sleep(0.01)\n",
        "    print(\"{}: {}\".format(process_name, counter))\n",
        "    counter -= 1\n",
        "  lock.release()\n",
        "\n",
        "counter = 5\n",
        "\n",
        "lock = Lock()\n",
        "exec1 = Process(target=_counter_lock, args=(counter, \"khanh thread\", lock)) # pass counter and thread_name into method _counter\n",
        "exec2 = Process(target=_counter_lock, args=(counter, \"ai thread\", lock))\n",
        "execs = [exec1, exec2]\n",
        "\n",
        "for exec in execs:\n",
        "  exec.start()"
      ],
      "execution_count": 33,
      "outputs": [
        {
          "output_type": "stream",
          "text": [
            "khanh thread: 5\n",
            "khanh thread: 4\n",
            "khanh thread: 3\n",
            "khanh thread: 2\n",
            "khanh thread: 1\n",
            "ai thread: 5\n",
            "ai thread: 4\n",
            "ai thread: 3\n",
            "ai thread: 2\n",
            "ai thread: 1\n"
          ],
          "name": "stdout"
        }
      ]
    },
    {
      "cell_type": "markdown",
      "metadata": {
        "id": "_wHQoR35B_r5"
      },
      "source": [
        "Bạn thấy đó, chúng cũng khá na ná thread phải không nào ?"
      ]
    },
    {
      "cell_type": "markdown",
      "metadata": {
        "id": "g_IMaDIHCGdV"
      },
      "source": [
        "## 3.1. Sử dụng chung dữ liệu\n",
        "\n",
        "Khi làm việc với các ứng dụng concurrent thì chúng ta nên hạn chế nhất có thể việc chia sẻ dữ liệu giữa các process để tránh xảy ra các lỗi phát sinh do concurency. Tuy nhiên python vẫn cung cấp một cơ chế giúp chia sẻ dữ liệu giữa các process, đó chính là các shared memory object trong multiprocessing như Value, Array. Thật vậy, giả sử ở ví dụ bên dưới chúng ta sử dụng 2 processes để thay đổi dấu các phần tử của một list các số nguyên."
      ]
    },
    {
      "cell_type": "code",
      "metadata": {
        "colab": {
          "base_uri": "https://localhost:8080/"
        },
        "id": "qCrCze6_FhP6",
        "outputId": "7da9af2a-aa0a-4321-dafb-14fe96e14175"
      },
      "source": [
        "from multiprocessing import Process, Lock\n",
        "import time\n",
        "\n",
        "def _counter_arr(arrs, process_name):\n",
        "  lock.acquire()\n",
        "  for i, el in enumerate(arrs):\n",
        "    time.sleep(0.01)\n",
        "    arrs[i] = -arrs[i]\n",
        "    print(\"{}: {}\".format(process_name, arrs[i]))\n",
        "  lock.release()\n",
        "\n",
        "arrs = [1, 2, 3, 4]\n",
        "lock = Lock()\n",
        "exec1 = Process(target=_counter_arr, args=(arrs, \"khanh process\")) # pass counter and thread_name into method _counter\n",
        "exec2 = Process(target=_counter_arr, args=(arrs, \"ai process\"))\n",
        "execs = [exec1, exec2]\n",
        "\n",
        "exec1.start()\n",
        "exec2.start()\n",
        "\n",
        "for exec in execs:\n",
        "  exec.join()"
      ],
      "execution_count": 14,
      "outputs": [
        {
          "output_type": "stream",
          "text": [
            "khanh process: -1\n",
            "khanh process: -2\n",
            "khanh process: -3\n",
            "khanh process: -4\n",
            "ai process: -1\n",
            "ai process: -2\n",
            "ai process: -3\n",
            "ai process: -4\n"
          ],
          "name": "stdout"
        }
      ]
    },
    {
      "cell_type": "markdown",
      "metadata": {
        "id": "-NCstMniJqIF"
      },
      "source": [
        "Ta nhận thấy dữ liệu là không được chia sẻ giữa 2 processes vì process thứ hai đổi lại dấu của process thứ nhất sẽ khiến các phần tử của 2 processes này đảo dấu. Tiếp theo nếu chúng ta sử dụng Array trong multiprocessing thì sao ?"
      ]
    },
    {
      "cell_type": "code",
      "metadata": {
        "colab": {
          "base_uri": "https://localhost:8080/"
        },
        "id": "KNAI9KZoCL8t",
        "outputId": "9891ac48-57ba-4f01-9e21-253a2c8f48e5"
      },
      "source": [
        "from multiprocessing import Process, Value, Array, Lock\n",
        "import time\n",
        "\n",
        "def _counter_arr(arrs, process_name):\n",
        "  lock.acquire()\n",
        "  for i, el in enumerate(arrs):\n",
        "    time.sleep(0.01)\n",
        "    arrs[i] = -arrs[i]\n",
        "    print(\"{}: {}\".format(process_name, arrs[i]))\n",
        "  lock.release()\n",
        "\n",
        "arrs = Array('i', range(1, 5, 1))\n",
        "lock = Lock()\n",
        "exec1 = Process(target=_counter_arr, args=(arrs, \"khanh process\")) # pass counter and thread_name into method _counter\n",
        "exec2 = Process(target=_counter_arr, args=(arrs, \"ai process\"))\n",
        "execs = [exec1, exec2]\n",
        "\n",
        "exec1.start()\n",
        "exec2.start()\n",
        "\n",
        "for exec in execs:\n",
        "  exec.join()"
      ],
      "execution_count": 15,
      "outputs": [
        {
          "output_type": "stream",
          "text": [
            "khanh process: -1\n",
            "khanh process: -2\n",
            "khanh process: -3\n",
            "khanh process: -4\n",
            "ai process: 1\n",
            "ai process: 2\n",
            "ai process: 3\n",
            "ai process: 4\n"
          ],
          "name": "stdout"
        }
      ]
    },
    {
      "cell_type": "markdown",
      "metadata": {
        "id": "ZAOcA3lcKGvT"
      },
      "source": [
        "Các bạn đã thấy gì chưa ? Dữ liệu đã được chia sẻ qua lại giữa hai processes. Vậy thì chúng ta sẽ thường sử dụng shared memory khi nào ? Giả định bạn đang có một pipeline biến đổi dữ liệu gồm nhiều step khác nhau, mỗi một process sẽ phụ trách một step trong pipeline. Khi đó dữ liệu cần được shared chung giữa các process."
      ]
    },
    {
      "cell_type": "markdown",
      "metadata": {
        "id": "xJfQiO7qTCL7"
      },
      "source": [
        "## 3.2. Shared object giữa các Process\n",
        "\n",
        "Queue là một định dạng stack an toàn khi làm việc với multi thread và process. Chúng ta có thể tạo ra một queue và cho phép các thread, process truy cập dữ liệu mà không bị hiện tượng concurrency vì dữ liệu được truy suất và sử dụng một lần bởi một thread hoặc process.\n",
        "\n",
        "Bên dưới chúng ta sẽ lấy ví dụ về việc sử dụng 2 process để đọc các dữ liệu trong một queue. Hai process này tới phiên của mình sẽ lấy ra các phần từ nằm trong queue theo kiểu FIFO (First Come First Out)."
      ]
    },
    {
      "cell_type": "code",
      "metadata": {
        "colab": {
          "base_uri": "https://localhost:8080/"
        },
        "id": "08Se6aduQxyX",
        "outputId": "c1bcc002-556e-4bdb-e5f6-267085ece9d0"
      },
      "source": [
        "from multiprocessing import Process, Queue\n",
        "import time\n",
        "\n",
        "def _counter_queue(queue, process_name, max_count):\n",
        "  # lock.acquire()\n",
        "  while max_count:\n",
        "    time.sleep(0.01)\n",
        "    value = queue.get()\n",
        "    print(\"{}: {}\".format(process_name, value))\n",
        "    max_count -= 1\n",
        "  # lock.release()\n",
        "\n",
        "q = Queue()\n",
        "for i in range(10):\n",
        "  q.put(i)\n",
        "max_count = 5\n",
        "# lock = Lock()\n",
        "exec1 = Process(target=_counter_queue, args=(q, \"khanh process\", 5)) # pass counter and thread_name into method _counter\n",
        "exec2 = Process(target=_counter_queue, args=(q, \"ai process\", 5))\n",
        "execs = [exec1, exec2]\n",
        "\n",
        "exec1.start()\n",
        "exec2.start()\n",
        "\n",
        "for exec in execs:\n",
        "  exec.join()"
      ],
      "execution_count": 25,
      "outputs": [
        {
          "output_type": "stream",
          "text": [
            "khanh process: 0\n",
            "ai process: 1\n",
            "khanh process: 2\n",
            "ai process: 3\n",
            "khanh process: 4\n",
            "ai process: 5\n",
            "khanh process: 6\n",
            "ai process: 7\n",
            "khanh process: 8\n",
            "ai process: 9\n"
          ],
          "name": "stdout"
        }
      ]
    },
    {
      "cell_type": "markdown",
      "metadata": {
        "id": "9AjVM-fIWiH8"
      },
      "source": [
        "Như vậy không có bất kỳ một data nào được sử dụng chung giữa 2 processes nên tránh được concurrency."
      ]
    },
    {
      "cell_type": "markdown",
      "metadata": {
        "id": "yXf59A3XNR7k"
      },
      "source": [
        "## 3.3. Pool trong multiprocess\n",
        "\n",
        "Trong python chúng ta có thể sử dụng pool để tận dụng được các tính toán song song trên nhiều process một lúc. Cơ chế của pool đã loại bỏ hạn chế của GIL trong python, cho phép nhiều luồng hoạt động đồng thời và giúp đẩy nhanh quá trình tính toán.\n",
        "\n",
        "Trong Pool chúng ta có thể khai báo nhiều workers cùng thực hiện chương trình. Các chương trình có thể thực hiện một cách bất đồng bộ thông qua hàm `apply_async()`. Tức là cho phép thực hiện song song nhiều method trên các workers. Đồng thời `apply_async()` cũng cho phép đưa vào các hàm callback để xử lý giữa liệu sau cùng.\n",
        "\n",
        "Ví dụ bên dưới chúng ta sẽ sử dụng 5 workers để tính toán bất đồng bộ bình phương của các số trong phạm vi 20. Kết quả sau khi tính sẽ được lưu vào một list. \n"
      ]
    },
    {
      "cell_type": "code",
      "metadata": {
        "colab": {
          "base_uri": "https://localhost:8080/"
        },
        "id": "MZ8gGcP3XPbx",
        "outputId": "1f8dab1a-4dfc-4aee-af32-7f1d351d6321"
      },
      "source": [
        "import multiprocessing as mp\n",
        "import time\n",
        "\n",
        "def _square(x):\n",
        "  return x*x\n",
        "\n",
        "def log_result(result):\n",
        "  # Hàm được gọi bất kỳ khi nào _square(i) trả ra kết quả.\n",
        "  # result_list được thực hiện trên main process, khong phải pool workers.\n",
        "  result_list.append(result)\n",
        "\n",
        "def apply_async_with_callback():\n",
        "  pool = mp.Pool(processes=5)\n",
        "  for i in range(20):\n",
        "    pool.apply_async(_square, args = (i, ), callback = log_result)\n",
        "  pool.close()\n",
        "  pool.join()\n",
        "  print(result_list)\n",
        "\n",
        "if __name__ == '__main__':\n",
        "  result_list = []\n",
        "  apply_async_with_callback()"
      ],
      "execution_count": 54,
      "outputs": [
        {
          "output_type": "stream",
          "text": [
            "[0, 1, 9, 25, 16, 36, 49, 64, 81, 100, 144, 4, 169, 225, 256, 289, 324, 361, 196, 121]\n"
          ],
          "name": "stdout"
        }
      ]
    },
    {
      "cell_type": "markdown",
      "metadata": {
        "id": "lTuzD3zCdhP8"
      },
      "source": [
        "Ta thấy thứ tự của list không theo tuần tự từ thấp tới cao do hàm được gọi bất đồng bộ.\n",
        "\n",
        "Bên cạnh cách khởi tạo Pool cho process như trên, chúng ta còn có thể khởi tạo từ `concurrent.futures` như phần tiếp theo mình giới thiệu."
      ]
    },
    {
      "cell_type": "markdown",
      "metadata": {
        "id": "EGn7JBof794Z"
      },
      "source": [
        "# 4. Process Pool vs Thread Pool"
      ]
    },
    {
      "cell_type": "markdown",
      "metadata": {
        "id": "n10XtidpLHr3"
      },
      "source": [
        "## 4.1. Process Pool\n",
        "Trong python thì bắt đầu từ version 3.2 chúng ta có thể sử dụng module `concurrent.futures` để xử lý bất đồng bộ các tasks. Đây là một abstract layer được kế thừa trên cả hai modules là threading và multiprocessing để tạo ra một interface cho phép khởi tạo các task sử dụng pool của các processes và threads.\n",
        "\n",
        "Để khởi tạo một Process Pool, chúng ta sử dụng `ProcessPoolExecutor` trong `concurrent.futures` module."
      ]
    },
    {
      "cell_type": "code",
      "metadata": {
        "colab": {
          "base_uri": "https://localhost:8080/"
        },
        "id": "3iuSQrHGumxw",
        "outputId": "7316d80a-1c7d-4071-ad99-23e4bf6ae067"
      },
      "source": [
        "from concurrent.futures import ProcessPoolExecutor\n",
        "from time import sleep\n",
        "import timeit\n",
        "\n",
        "def _counter(counter, task_name):\n",
        "  print(\"Start process {}!\".format(task_name))\n",
        "  while (counter):\n",
        "    print(\"{} : {}\".format(task_name, counter))\n",
        "    counter -= 1\n",
        "  print(\"End process {}!\".format(task_name))\n",
        "  return \"Completed {}!\".format(task_name)\n",
        "\n",
        "def _submit_process():\n",
        "  executor = ProcessPoolExecutor(max_workers=5)\n",
        "  future = executor.submit(_counter, 10, \"task1\")\n",
        "  print('State of future: ', future.done())\n",
        "  print('futre result: ', future.result())\n",
        "  print('State of future: ', future.done())\n",
        "\n",
        "_submit_process()"
      ],
      "execution_count": null,
      "outputs": [
        {
          "output_type": "stream",
          "text": [
            "Start process task1!\n",
            "task1 : 10\n",
            "task1 : 9\n",
            "task1 : 8\n",
            "task1 : 7\n",
            "task1 : 6\n",
            "task1 : 5\n",
            "task1 : 4\n",
            "task1 : 3\n",
            "task1 : 2\n",
            "task1 : 1\n",
            "End process task1!\n",
            "State of future:  False\n",
            "futre result:  Completed task1!\n",
            "State of future:  True\n",
            "         1268 function calls in 0.072 seconds\n",
            "\n",
            "   Ordered by: standard name\n",
            "\n",
            "   ncalls  tottime  percall  cumtime  percall filename:lineno(function)\n",
            "       12    0.000    0.000    0.000    0.000 <frozen importlib._bootstrap>:416(parent)\n",
            "       12    0.000    0.000    0.000    0.000 <frozen importlib._bootstrap>:997(_handle_fromlist)\n",
            "        1    0.000    0.000    0.072    0.072 <ipython-input-58-ef11faf664dd>:13(_submit_process)\n",
            "        1    0.000    0.000    0.072    0.072 <string>:1(<module>)\n",
            "        1    0.000    0.000    0.000    0.000 _base.py:312(__init__)\n",
            "        2    0.000    0.000    0.000    0.000 _base.py:377(done)\n",
            "        1    0.000    0.000    0.000    0.000 _base.py:382(__get_result)\n",
            "        1    0.000    0.000    0.044    0.044 _base.py:405(result)\n",
            "        6    0.000    0.000    0.000    0.000 _weakrefset.py:81(add)\n",
            "        4    0.000    0.000    0.000    0.000 connection.py:117(__init__)\n",
            "        2    0.000    0.000    0.000    0.000 connection.py:134(_check_closed)\n",
            "        2    0.000    0.000    0.000    0.000 connection.py:142(_check_writable)\n",
            "        2    0.000    0.000    0.000    0.000 connection.py:181(send_bytes)\n",
            "        2    0.000    0.000    0.000    0.000 connection.py:365(_send)\n",
            "        2    0.000    0.000    0.000    0.000 connection.py:390(_send_bytes)\n",
            "        2    0.000    0.000    0.000    0.000 connection.py:501(Pipe)\n",
            "        1    0.000    0.000    0.000    0.000 context.py:109(SimpleQueue)\n",
            "        5    0.000    0.000    0.000    0.000 context.py:186(get_context)\n",
            "        5    0.000    0.000    0.000    0.000 context.py:196(get_start_method)\n",
            "        5    0.000    0.000    0.023    0.005 context.py:221(_Popen)\n",
            "        7    0.000    0.000    0.000    0.000 context.py:232(get_context)\n",
            "        5    0.000    0.000    0.022    0.004 context.py:274(_Popen)\n",
            "        4    0.000    0.000    0.000    0.000 context.py:64(Lock)\n",
            "        1    0.000    0.000    0.000    0.000 context.py:84(BoundedSemaphore)\n",
            "        1    0.000    0.000    0.000    0.000 context.py:99(Queue)\n",
            "       33    0.000    0.000    0.004    0.000 iostream.py:195(schedule)\n",
            "       12    0.000    0.000    0.000    0.000 iostream.py:307(_is_master_process)\n",
            "       12    0.000    0.000    0.000    0.000 iostream.py:320(_schedule_flush)\n",
            "       10    0.000    0.000    0.009    0.001 iostream.py:334(flush)\n",
            "       12    0.000    0.000    0.001    0.000 iostream.py:382(write)\n",
            "       33    0.000    0.000    0.000    0.000 iostream.py:93(_event_pipe)\n",
            "        5    0.000    0.000    0.022    0.004 popen_fork.py:16(__init__)\n",
            "       10    0.000    0.000    0.000    0.000 popen_fork.py:24(poll)\n",
            "        5    0.001    0.000    0.012    0.002 popen_fork.py:63(_launch)\n",
            "        1    0.000    0.000    0.000    0.000 process.py:116(__init__)\n",
            "        5    0.000    0.000    0.000    0.000 process.py:190(ident)\n",
            "        1    0.000    0.000    0.000    0.000 process.py:337(_check_system_limits)\n",
            "        5    0.000    0.000    0.000    0.000 process.py:35(current_process)\n",
            "        1    0.000    0.000    0.001    0.001 process.py:380(__init__)\n",
            "        1    0.000    0.000    0.026    0.026 process.py:420(_start_queue_management_thread)\n",
            "        1    0.000    0.000    0.000    0.000 process.py:423(weakref_cb)\n",
            "        1    0.001    0.001    0.025    0.025 process.py:440(_adjust_process_count)\n",
            "        1    0.000    0.000    0.026    0.026 process.py:449(submit)\n",
            "        5    0.000    0.000    0.000    0.000 process.py:52(_cleanup)\n",
            "        5    0.000    0.000    0.001    0.000 process.py:71(__init__)\n",
            "       10    0.000    0.000    0.000    0.000 process.py:83(<genexpr>)\n",
            "        5    0.000    0.000    0.024    0.005 process.py:95(start)\n",
            "        1    0.000    0.000    0.000    0.000 queue.py:115(put)\n",
            "        1    0.000    0.000    0.000    0.000 queue.py:199(_init)\n",
            "        1    0.000    0.000    0.000    0.000 queue.py:206(_put)\n",
            "        1    0.000    0.000    0.000    0.000 queue.py:27(__init__)\n",
            "        1    0.000    0.000    0.000    0.000 queues.py:313(__init__)\n",
            "        2    0.000    0.000    0.000    0.000 queues.py:339(put)\n",
            "        1    0.000    0.000    0.000    0.000 queues.py:36(__init__)\n",
            "        1    0.000    0.000    0.000    0.000 queues.py:67(_after_fork)\n",
            "       40    0.000    0.000    0.000    0.000 random.py:223(_randbelow)\n",
            "       40    0.000    0.000    0.000    0.000 random.py:255(choice)\n",
            "        2    0.000    0.000    0.000    0.000 reduction.py:38(__init__)\n",
            "        2    0.000    0.000    0.000    0.000 reduction.py:48(dumps)\n",
            "       33    0.003    0.000    0.003    0.000 socket.py:432(send)\n",
            "        5    0.000    0.000    0.000    0.000 synchronize.py:114(_make_name)\n",
            "        1    0.000    0.000    0.000    0.000 synchronize.py:144(__init__)\n",
            "        4    0.000    0.000    0.000    0.000 synchronize.py:161(__init__)\n",
            "        5    0.000    0.000    0.000    0.000 synchronize.py:50(__init__)\n",
            "        5    0.000    0.000    0.000    0.000 synchronize.py:90(_make_methods)\n",
            "        2    0.000    0.000    0.000    0.000 synchronize.py:94(__enter__)\n",
            "        2    0.000    0.000    0.000    0.000 synchronize.py:97(__exit__)\n",
            "        5    0.000    0.000    0.000    0.000 tempfile.py:285(rng)\n",
            "        5    0.000    0.000    0.000    0.000 tempfile.py:296(__next__)\n",
            "        5    0.000    0.000    0.000    0.000 tempfile.py:299(<listcomp>)\n",
            "       43    0.000    0.000    0.000    0.000 threading.py:1062(_wait_for_tstate_lock)\n",
            "       43    0.000    0.000    0.000    0.000 threading.py:1104(is_alive)\n",
            "        1    0.000    0.000    0.000    0.000 threading.py:1120(daemon)\n",
            "        1    0.000    0.000    0.000    0.000 threading.py:1136(daemon)\n",
            "        1    0.000    0.000    0.000    0.000 threading.py:1230(current_thread)\n",
            "       16    0.000    0.000    0.000    0.000 threading.py:215(__init__)\n",
            "       15    0.000    0.000    0.000    0.000 threading.py:239(__enter__)\n",
            "       15    0.000    0.000    0.000    0.000 threading.py:242(__exit__)\n",
            "        9    0.000    0.000    0.000    0.000 threading.py:248(_release_save)\n",
            "        9    0.000    0.000    0.000    0.000 threading.py:251(_acquire_restore)\n",
            "       10    0.000    0.000    0.000    0.000 threading.py:254(_is_owned)\n",
            "       10    0.000    0.000    0.050    0.005 threading.py:263(wait)\n",
            "        1    0.000    0.000    0.000    0.000 threading.py:334(notify)\n",
            "       11    0.000    0.000    0.000    0.000 threading.py:498(__init__)\n",
            "       45    0.000    0.000    0.000    0.000 threading.py:506(is_set)\n",
            "       11    0.000    0.000    0.005    0.000 threading.py:533(wait)\n",
            "        1    0.000    0.000    0.000    0.000 threading.py:727(_newname)\n",
            "        1    0.000    0.000    0.000    0.000 threading.py:74(RLock)\n",
            "        1    0.000    0.000    0.000    0.000 threading.py:757(__init__)\n",
            "        1    0.000    0.000    0.001    0.001 threading.py:828(start)\n",
            "        6    0.000    0.000    0.000    0.000 util.py:136(register_after_fork)\n",
            "        5    0.000    0.000    0.001    0.000 util.py:151(__init__)\n",
            "        5    0.000    0.000    0.009    0.002 util.py:395(_flush_std_streams)\n",
            "        6    0.000    0.000    0.000    0.000 util.py:48(debug)\n",
            "        6    0.000    0.000    0.000    0.000 weakref.py:165(__setitem__)\n",
            "        6    0.000    0.000    0.000    0.000 weakref.py:334(__new__)\n",
            "        6    0.000    0.000    0.000    0.000 weakref.py:339(__init__)\n",
            "        1    0.000    0.000    0.000    0.000 weakref.py:406(__setitem__)\n",
            "        6    0.000    0.000    0.000    0.000 {built-in method __new__ of type object at 0x9d12c0}\n",
            "       10    0.000    0.000    0.000    0.000 {built-in method _imp.lock_held}\n",
            "        2    0.000    0.000    0.000    0.000 {built-in method _struct.pack}\n",
            "       24    0.000    0.000    0.000    0.000 {built-in method _thread.allocate_lock}\n",
            "        1    0.000    0.000    0.000    0.000 {built-in method _thread.get_ident}\n",
            "        1    0.000    0.000    0.000    0.000 {built-in method _thread.start_new_thread}\n",
            "        1    0.000    0.000    0.072    0.072 {built-in method builtins.exec}\n",
            "        5    0.000    0.000    0.000    0.000 {built-in method builtins.getattr}\n",
            "       12    0.000    0.000    0.000    0.000 {built-in method builtins.hasattr}\n",
            "        6    0.000    0.000    0.000    0.000 {built-in method builtins.id}\n",
            "       12    0.000    0.000    0.000    0.000 {built-in method builtins.isinstance}\n",
            "       47    0.000    0.000    0.000    0.000 {built-in method builtins.len}\n",
            "       21    0.000    0.000    0.000    0.000 {built-in method builtins.next}\n",
            "        3    0.000    0.000    0.001    0.000 {built-in method builtins.print}\n",
            "        5    0.000    0.000    0.000    0.000 {built-in method posix.close}\n",
            "        5    0.010    0.002    0.010    0.002 {built-in method posix.fork}\n",
            "       33    0.000    0.000    0.000    0.000 {built-in method posix.getpid}\n",
            "        7    0.001    0.000    0.001    0.000 {built-in method posix.pipe}\n",
            "        1    0.000    0.000    0.000    0.000 {built-in method posix.sysconf}\n",
            "       10    0.000    0.000    0.000    0.000 {built-in method posix.waitpid}\n",
            "        2    0.000    0.000    0.000    0.000 {built-in method posix.write}\n",
            "        2    0.000    0.000    0.000    0.000 {method '__enter__' of '_multiprocessing.SemLock' objects}\n",
            "        3    0.000    0.000    0.000    0.000 {method '__enter__' of '_thread.RLock' objects}\n",
            "       12    0.000    0.000    0.000    0.000 {method '__enter__' of '_thread.lock' objects}\n",
            "        2    0.000    0.000    0.000    0.000 {method '__exit__' of '_multiprocessing.SemLock' objects}\n",
            "        3    0.000    0.000    0.000    0.000 {method '__exit__' of '_thread.RLock' objects}\n",
            "       12    0.000    0.000    0.000    0.000 {method '__exit__' of '_thread.lock' objects}\n",
            "        1    0.000    0.000    0.000    0.000 {method '_acquire_restore' of '_thread.RLock' objects}\n",
            "        1    0.000    0.000    0.000    0.000 {method '_is_owned' of '_thread.RLock' objects}\n",
            "        1    0.000    0.000    0.000    0.000 {method '_release_save' of '_thread.RLock' objects}\n",
            "       82    0.049    0.001    0.049    0.001 {method 'acquire' of '_thread.lock' objects}\n",
            "       11    0.000    0.000    0.000    0.000 {method 'add' of 'set' objects}\n",
            "       44    0.000    0.000    0.000    0.000 {method 'append' of 'collections.deque' objects}\n",
            "       40    0.000    0.000    0.000    0.000 {method 'bit_length' of 'int' objects}\n",
            "        7    0.000    0.000    0.000    0.000 {method 'copy' of 'dict' objects}\n",
            "        1    0.000    0.000    0.000    0.000 {method 'disable' of '_lsprof.Profiler' objects}\n",
            "        2    0.000    0.000    0.000    0.000 {method 'dump' of '_pickle.Pickler' objects}\n",
            "        5    0.000    0.000    0.000    0.000 {method 'get' of 'dict' objects}\n",
            "        2    0.000    0.000    0.000    0.000 {method 'getbuffer' of '_io.BytesIO' objects}\n",
            "       78    0.000    0.000    0.000    0.000 {method 'getrandbits' of '_random.Random' objects}\n",
            "       10    0.000    0.000    0.000    0.000 {method 'join' of 'str' objects}\n",
            "        9    0.000    0.000    0.000    0.000 {method 'release' of '_thread.lock' objects}\n",
            "       12    0.000    0.000    0.000    0.000 {method 'rpartition' of 'str' objects}\n",
            "        2    0.000    0.000    0.000    0.000 {method 'update' of 'dict' objects}\n",
            "\n",
            "\n"
          ],
          "name": "stdout"
        }
      ]
    },
    {
      "cell_type": "markdown",
      "metadata": {
        "id": "J8Uo4gIRy3rb"
      },
      "source": [
        "Trong `ProcessPoolExecutor()` chúng ta cần truyền vào số lượng các worker để chạy process. Số lượng worker càng lớn thì càng nhiều threads được sinh ra để tính toán process.\n",
        "\n",
        "**Hàm submit()**\n",
        "\n",
        "Hàm `submit()` được sử dụng để load các task vào process pool. Tham số truyền vào là tên hàm và các đối số của hàm. Hàm `done()` để kiểm tra trạng thái của task. Lúc đầu ngay sau khi submit thì task chưa hoàn thành nên `done()` là `False`. Hàm `result()` thường được dùng để kiểm tra kết quả sau khi task cuối cùng trong process pool đã thực thi xong. Do đó trạng thái `done()` sau khi result được trả về  là `True`.\n",
        " \n"
      ]
    },
    {
      "cell_type": "markdown",
      "metadata": {
        "id": "0UlrncPgyp7A"
      },
      "source": [
        "**Hàm map()**\n",
        "\n",
        "Nhắc đến hàm map trong python, nếu bạn đã có kinh nghiệm thì sẽ hiểu ngay nó sẽ map các đối số từ một list vào hàm.\n",
        "\n",
        "Ví dụ: Để tính diện tích của các bounding box dựa trên tọa độ `(x1, x2, y1, y2)` thì chúng ta thực hiện hàm map trong process pool như sau:"
      ]
    },
    {
      "cell_type": "code",
      "metadata": {
        "colab": {
          "base_uri": "https://localhost:8080/"
        },
        "id": "X1Xm1PJO7Cgg",
        "outputId": "986e648d-2e02-473c-d3bb-a494978b1afd"
      },
      "source": [
        "from concurrent.futures import ProcessPoolExecutor\n",
        "from concurrent.futures import as_completed\n",
        "x1s = [5, 10, 20, 35]\n",
        "x2s = [15, 20, 30, 55]\n",
        "y1s = [5, 10, 10, 15]\n",
        "y2s = [15, 20, 20, 35]\n",
        "\n",
        "def _bbox(x1, x2, y1, y2):\n",
        "  w = x2-x1\n",
        "  h = y2-y1\n",
        "  area = w*h\n",
        "  return area\n",
        "\n",
        "with ProcessPoolExecutor(max_workers = 5) as executor:\n",
        "  results = executor.map(_bbox, x1s, x2s, y1s, y2s)\n",
        "\n",
        "for result in results:\n",
        "  print(result)"
      ],
      "execution_count": null,
      "outputs": [
        {
          "output_type": "stream",
          "text": [
            "100\n",
            "100\n",
            "100\n",
            "400\n"
          ],
          "name": "stdout"
        }
      ]
    },
    {
      "cell_type": "markdown",
      "metadata": {
        "id": "blT1i9Es9YLw"
      },
      "source": [
        "## 4.2. Thread Pool\n",
        "\n",
        "Thread pool cũng tương tự như Process Pool nhưng là tập hợp của các các threads thay vì processes. Các khởi tạo `ThreadPoolExecutor` trên `concurrent.futures` cũng hoàn toàn tương tự như `ProcessPoolExecutor`. Ta thực hiện như sau:"
      ]
    },
    {
      "cell_type": "code",
      "metadata": {
        "id": "k5xlzNvB9hmv",
        "colab": {
          "base_uri": "https://localhost:8080/"
        },
        "outputId": "589ebbda-9e09-461e-da6e-82df376b4518"
      },
      "source": [
        "from concurrent.futures import ThreadPoolExecutor\n",
        "from time import sleep\n",
        "\n",
        "def _counter(counter, task_name):\n",
        "  print(\"Start process {}!\".format(task_name))\n",
        "  while (counter):\n",
        "    print(\"{} : {}\".format(task_name, counter))\n",
        "    counter -= 1\n",
        "  print(\"End process {}!\".format(task_name))\n",
        "  return \"Completed {}!\".format(task_name)\n",
        "\n",
        "def _submit_thread():\n",
        "  executor = ThreadPoolExecutor(max_workers=5)\n",
        "  future = executor.submit(_counter, 10, \"task1\")\n",
        "  print('State of future: ', future.done())\n",
        "  print('futre result: ', future.result())\n",
        "  print('State of future: ', future.done())\n",
        "\n",
        "_submit_thread()"
      ],
      "execution_count": null,
      "outputs": [
        {
          "output_type": "stream",
          "text": [
            "Start process task1!\n",
            "task1 : 10\n",
            "task1 : 9\n",
            "task1 : 8\n",
            "task1 : 7\n",
            "task1 : 6\n",
            "task1 : 5\n",
            "task1 : 4\n",
            "task1 : 3\n",
            "task1 : 2\n",
            "task1 : 1\n",
            "End process task1!\n",
            "State of future:  True\n",
            "futre result:  Completed task1!\n",
            "State of future:  True\n",
            "         249 function calls in 0.001 seconds\n",
            "\n",
            "   Ordered by: standard name\n",
            "\n",
            "   ncalls  tottime  percall  cumtime  percall filename:lineno(function)\n",
            "        1    0.000    0.000    0.001    0.001 <ipython-input-60-3ebee1b1a000>:12(_submit_thread)\n",
            "        1    0.000    0.000    0.001    0.001 <string>:1(<module>)\n",
            "        1    0.000    0.000    0.000    0.000 _base.py:312(__init__)\n",
            "        2    0.000    0.000    0.000    0.000 _base.py:377(done)\n",
            "        1    0.000    0.000    0.000    0.000 _base.py:382(__get_result)\n",
            "        1    0.000    0.000    0.000    0.000 _base.py:405(result)\n",
            "        1    0.000    0.000    0.000    0.000 _weakrefset.py:81(add)\n",
            "       12    0.000    0.000    0.000    0.000 iostream.py:195(schedule)\n",
            "       12    0.000    0.000    0.000    0.000 iostream.py:307(_is_master_process)\n",
            "       12    0.000    0.000    0.000    0.000 iostream.py:320(_schedule_flush)\n",
            "       12    0.000    0.000    0.000    0.000 iostream.py:382(write)\n",
            "       12    0.000    0.000    0.000    0.000 iostream.py:93(_event_pipe)\n",
            "        2    0.000    0.000    0.000    0.000 queue.py:115(put)\n",
            "        1    0.000    0.000    0.000    0.000 queue.py:199(_init)\n",
            "        2    0.000    0.000    0.000    0.000 queue.py:206(_put)\n",
            "        1    0.000    0.000    0.000    0.000 queue.py:27(__init__)\n",
            "       12    0.000    0.000    0.000    0.000 socket.py:432(send)\n",
            "        1    0.000    0.000    0.001    0.001 thread.py:114(submit)\n",
            "        1    0.000    0.000    0.001    0.001 thread.py:127(_adjust_thread_count)\n",
            "        1    0.000    0.000    0.000    0.000 thread.py:130(weakref_cb)\n",
            "        1    0.000    0.000    0.000    0.000 thread.py:45(__init__)\n",
            "        1    0.000    0.000    0.000    0.000 thread.py:91(__init__)\n",
            "       12    0.000    0.000    0.000    0.000 threading.py:1062(_wait_for_tstate_lock)\n",
            "       12    0.000    0.000    0.000    0.000 threading.py:1104(is_alive)\n",
            "        1    0.000    0.000    0.000    0.000 threading.py:1120(daemon)\n",
            "        1    0.000    0.000    0.000    0.000 threading.py:1136(daemon)\n",
            "        1    0.000    0.000    0.000    0.000 threading.py:1230(current_thread)\n",
            "        5    0.000    0.000    0.000    0.000 threading.py:215(__init__)\n",
            "        6    0.000    0.000    0.000    0.000 threading.py:239(__enter__)\n",
            "        6    0.000    0.000    0.000    0.000 threading.py:242(__exit__)\n",
            "        1    0.000    0.000    0.000    0.000 threading.py:248(_release_save)\n",
            "        1    0.000    0.000    0.000    0.000 threading.py:251(_acquire_restore)\n",
            "        3    0.000    0.000    0.000    0.000 threading.py:254(_is_owned)\n",
            "        1    0.000    0.000    0.001    0.001 threading.py:263(wait)\n",
            "        2    0.000    0.000    0.000    0.000 threading.py:334(notify)\n",
            "        1    0.000    0.000    0.000    0.000 threading.py:498(__init__)\n",
            "       14    0.000    0.000    0.000    0.000 threading.py:506(is_set)\n",
            "        1    0.000    0.000    0.001    0.001 threading.py:533(wait)\n",
            "        1    0.000    0.000    0.000    0.000 threading.py:74(RLock)\n",
            "        1    0.000    0.000    0.000    0.000 threading.py:757(__init__)\n",
            "        1    0.000    0.000    0.001    0.001 threading.py:828(start)\n",
            "        1    0.000    0.000    0.000    0.000 weakref.py:406(__setitem__)\n",
            "        4    0.000    0.000    0.000    0.000 {built-in method _thread.allocate_lock}\n",
            "        1    0.000    0.000    0.000    0.000 {built-in method _thread.get_ident}\n",
            "        1    0.000    0.000    0.000    0.000 {built-in method _thread.start_new_thread}\n",
            "        1    0.000    0.000    0.001    0.001 {built-in method builtins.exec}\n",
            "       12    0.000    0.000    0.000    0.000 {built-in method builtins.isinstance}\n",
            "        1    0.000    0.000    0.000    0.000 {built-in method builtins.len}\n",
            "        3    0.000    0.000    0.000    0.000 {built-in method builtins.print}\n",
            "       12    0.000    0.000    0.000    0.000 {built-in method posix.getpid}\n",
            "        3    0.000    0.000    0.000    0.000 {method '__enter__' of '_thread.RLock' objects}\n",
            "        3    0.000    0.000    0.000    0.000 {method '__enter__' of '_thread.lock' objects}\n",
            "        3    0.000    0.000    0.000    0.000 {method '__exit__' of '_thread.RLock' objects}\n",
            "        3    0.000    0.000    0.000    0.000 {method '__exit__' of '_thread.lock' objects}\n",
            "       18    0.001    0.000    0.001    0.000 {method 'acquire' of '_thread.lock' objects}\n",
            "        2    0.000    0.000    0.000    0.000 {method 'add' of 'set' objects}\n",
            "       15    0.000    0.000    0.000    0.000 {method 'append' of 'collections.deque' objects}\n",
            "        1    0.000    0.000    0.000    0.000 {method 'disable' of '_lsprof.Profiler' objects}\n",
            "        2    0.000    0.000    0.000    0.000 {method 'release' of '_thread.lock' objects}\n",
            "        1    0.000    0.000    0.000    0.000 {method 'remove' of 'collections.deque' objects}\n",
            "\n",
            "\n"
          ],
          "name": "stdout"
        }
      ]
    },
    {
      "cell_type": "code",
      "metadata": {
        "id": "vF4DkP6GwLJF"
      },
      "source": [
        "import cProfile\n",
        "cProfile.run('_submit_process()')\n",
        "cProfile.run('_submit_thread()')"
      ],
      "execution_count": null,
      "outputs": []
    },
    {
      "cell_type": "markdown",
      "metadata": {
        "id": "TLpNJVME4-P6"
      },
      "source": [
        "Với cùng các tác vụ như nhau thì ta thấy thời gian thực thi của Thread Pool chỉ là `0.001` seconds, nhanh thời gian thực thi của Process Pool là `0.072` seconds. Lý do là vì thread là một phiên bản light weight hơn process rất nhiều. Bạn có thể nhận thấy điều này một cách trực quan thông qua số hàm được gọi ở cả hai phương pháp.\n",
        "\n",
        "**Vậy lựa chọn thế nào giữa process pool và thread pool?**\n",
        "\n",
        "Chúng ta đã biết rằng khi sử dụng threads thì sẽ có lợi về I/O vì các threads có thể chia sẻ data qua lại lẫn nhau. Còn giữa các processes thì data được sử dụng hoàn toàn độc lập nên không có lợi về I/O. Tuy nhiên khi sử dụng process thì chúng ta sẽ được allocate về CPU, Memomory,... nên lời khuyên là nếu task của bạn gặp phải giới hạn về I/O bound thì nên sử dụng thread pool và giới hạn về CPUs bound thì nên sử dụng process pool."
      ]
    },
    {
      "cell_type": "markdown",
      "metadata": {
        "id": "dWeoAplV9Sqk"
      },
      "source": [
        "# 5. Queue\n",
        "\n",
        "Khi chạy một process trên multiple-threads, queue thường được sử dụng để làm nơi lưu trữ dữ liệu chung giữa các threads với nhau.\n",
        "\n",
        "![](https://media.geeksforgeeks.org/wp-content/cdn-uploads/gq/2014/02/Queue.png)\n",
        "\n",
        "![](https://media.geeksforgeeks.org/wp-content/cdn-uploads/gq/2013/03/stack.png)\n",
        "\n",
        "\n",
        "**Hình 3:** Cấu trúc FIFO và LIFO của một queue.\n",
        "\n",
        "Queue là một cấu trúc dữ liệu tuyến tính (linear data structure). Nó có tính chất tương tự như list. Cho phép chúng ta thêm, sửa, xóa, truy xuất các phần tử bên trong. Trong python, Queue có ưu điểm lớn hơn list đó là tốc độ truy xuất nhanh hơn. Độ phức tạp thời gian (`time complexity`) của queue là `O(1)` trong khi của list là `O(n)`. Queue là một lựa chọn thay thế tốt hơn cho list trong trường hợp dữ liệu của bạn có số lượng phần tử lớn.\n",
        "\n",
        "Khi làm việc với Queue ban có thể truy xuất các phần tử bên trong khối theo kiểu FIFO (first in first out) hoặc LIFO (last in first out) thông qua hàm `pop()`.\n",
        "\n",
        "Queue thường được sử dụng trong các tác vụ liên quan tới threads synchronous. Các thread sẽ sử dụng chung một dữ liệu và thay đổi các phần tử bên trong nó một cách tuần tự."
      ]
    },
    {
      "cell_type": "code",
      "metadata": {
        "colab": {
          "base_uri": "https://localhost:8080/"
        },
        "id": "cF_XihD0OF-u",
        "outputId": "3351fb1c-dcb1-42b6-c9f4-9b6566a79841"
      },
      "source": [
        "from concurrent.futures import ThreadPoolExecutor\n",
        "import queue\n",
        "\n",
        "\n",
        "def _sum_queue(name, work_queue):\n",
        "  sum = 0\n",
        "  while not work_queue.empty():\n",
        "    print(f\"Task {name} running\")\n",
        "    count = work_queue.get()\n",
        "    sum += count\n",
        "  print(f\"Task {name} total: {sum}\")\n",
        "  return sum\n",
        "\n",
        "def task(name, work_queue):\n",
        "  if work_queue.empty():\n",
        "    print(f\"Task {name} nothing to do\")\n",
        "  else:\n",
        "    print(\"Start ThreadPoolExecutor!\")\n",
        "    with ThreadPoolExecutor(max_workers = 5) as executor:\n",
        "      print(\"Submit task!\")  \n",
        "      future = executor.submit(_sum_queue, name, work_queue)\n",
        "      sum = future.result()\n",
        "    return sum\n",
        "    \n",
        "# Create the queue of work\n",
        "work_queue = queue.Queue()\n",
        "\n",
        "# Put some work in the queue\n",
        "for work in [15, 10, 5, 2]:\n",
        "    work_queue.put(work)\n",
        "\n",
        "# Create some synchronous tasks\n",
        "tasks = [(\"one\", work_queue), (\"two\", work_queue)]\n",
        "\n",
        "# Run the tasks\n",
        "for n, q in tasks:\n",
        "    print(task(n, q))"
      ],
      "execution_count": null,
      "outputs": [
        {
          "output_type": "stream",
          "text": [
            "Start ThreadPoolExecutor!\n",
            "Submit task!\n",
            "Task one running\n",
            "Task one running\n",
            "Task one running\n",
            "Task one running\n",
            "Task one total: 32\n",
            "32\n",
            "Task two nothing to do\n",
            "None\n"
          ],
          "name": "stdout"
        }
      ]
    },
    {
      "cell_type": "markdown",
      "metadata": {
        "id": "tuA7WYN_YywZ"
      },
      "source": [
        "Trong ví dụ trên giải sử chúng ta có hai threads hoạt động một cách synchronous là `one` và `two`. Hai threads này sử dụng chung một nguồn dữ liệu là `work_queue`. Khi thread `one` chạy xong thì toàn bộ các phần tử của queue đã được trích xuất xong nên ở thread `two` chúng ta không có gì để chạy tiếp."
      ]
    },
    {
      "cell_type": "markdown",
      "metadata": {
        "id": "rdbfB9cF9mre"
      },
      "source": [
        "# 6. Kết luận\n",
        "\n",
        "Như vậy qua bài viết này mình đã giới thiệu với các bạn những khái niệm cơ bản nhất trong xử lý song song như thread, process, khác biệt giữa chúng và các khái niệm về đồng bộ, bất đồng bộ, concurrency. Thông qua ví dụ minh họa chi tiết và cách khởi tạo và áp dụng thread và process trong một chương trình bạn đọc sẽ có thể áp dụng vào các project của mình.\n",
        "\n",
        "Đồng thời để loại bỏ hạn chế của GIL trong python, tận dụng được tính toán song song trên nhiều CPUs thì bạn đọc có thể áp dụng Process Pool, Thread Pool như một giải pháp hữu hiệu.\n",
        "\n",
        "Để xây dựng bài viết này mình đã khảo cứu và tổng hợp từ rất nhiều nguồn dữ liệu bên dưới."
      ]
    },
    {
      "cell_type": "markdown",
      "metadata": {
        "id": "S2RS6Nlr9ofy"
      },
      "source": [
        "# 7. Tài liệu"
      ]
    },
    {
      "cell_type": "markdown",
      "metadata": {
        "id": "_6G9leMKk03e"
      },
      "source": [
        "https://docs.python.org/3.1/library/multiprocessing.html\n",
        "\n",
        "https://docs.python.org/3/library/queue.html#queue.Queue\n",
        "\n",
        "https://www.geeksforgeeks.org/stack-in-python/?ref=lbp\n",
        "\n",
        "https://realpython.com/python-async-features/\n",
        "\n",
        "https://www.tutorialspoint.com/concurrency_in_python/concurrency_in_python_pool_of_processes.htm\n",
        "\n",
        "https://medium.com/@bfortuner/python-multithreading-vs-multiprocessing-73072ce5600b\n",
        "\n",
        "https://docs.python.org/3/library/asyncio-subprocess.html\n",
        "\n",
        "https://realpython.com/python-async-features/"
      ]
    }
  ]
}