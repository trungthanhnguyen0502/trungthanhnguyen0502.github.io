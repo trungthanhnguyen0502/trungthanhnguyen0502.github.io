{
  "nbformat": 4,
  "nbformat_minor": 0,
  "metadata": {
    "accelerator": "GPU",
    "colab": {
      "name": "pytorch.ipynb",
      "version": "0.3.2",
      "provenance": [],
      "collapsed_sections": []
    },
    "kernelspec": {
      "display_name": "Python 3",
      "language": "python",
      "name": "python3"
    },
    "language_info": {
      "codemirror_mode": {
        "name": "ipython",
        "version": 3
      },
      "file_extension": ".py",
      "mimetype": "text/x-python",
      "name": "python",
      "nbconvert_exporter": "python",
      "pygments_lexer": "ipython3",
      "version": "3.6.0"
    }
  },
  "cells": [
    {
      "cell_type": "markdown",
      "metadata": {
        "colab_type": "text",
        "deletable": true,
        "editable": true,
        "id": "tGZeoiXq7oIH"
      },
      "source": [
        "# 1. Pytorch là gì?\n",
        "\n",
        "Trong số những framework hỗ trợ deeplearning thì pytorch là một trong những framework được ưa chuộng nhiều nhất (cùng với tensorflow và keras), có lượng người dùng đông đảo, cộng đồng lớn mạnh. Vào năm 2019 framework này đã vươn lên vị trí thứ 2 về số lượng người dùng trong những framework hỗ trợ deeplearning (chỉ sau tensorflow). Đây là package sử dụng các thư viện của CUDA và C/C++ hỗ trợ các tính toán trên GPU nhằm gia tăng tốc độ xử lý của mô hình. 2 mục tiêu chủ đạo của package này hướng tới là:\n",
        "\n",
        "* Thay thế kiến trúc của numpy để tính toán được trên GPU.\n",
        "* Deep learning platform cung cấp các xử lý tốc độ và linh hoạt.\n",
        "\n",
        "Trước khi đọc bài viết này, bạn đọc có thể ôn lại bài hướng dẫn về [tensorflow deeplearning framework](https://www.kaggle.com/phamdinhkhanh/tensorflow-turtorial) để tự rút ra được những so sánh về các đặc điểm chung và các ưu nhược điểm của 2 framework này.\n",
        "\n",
        "Để sử dụng pytorch trên GPU bắt buộc các bạn phải cài CUDA và tất nhiên phải có GPU. Hướng dẫn cài đặt pytorch có thể xem tại [pytorch install](https://pytorch.org/get-started/locally/). Trên google colab thì thư viện này và tensorflow đã được tích hợp sẵn cho người dùng.\n",
        "\n",
        "Bên dưới chúng ta cùng tìm hiểu:\n",
        "\n",
        "* Định dạng tensor trên pytorch.\n",
        "* Các toán tử trên torch tensor.\n",
        "* Xây dựng một mô hình mạng nơ ron trên pytorch.\n",
        "\n",
        "Bài viết này được mình tổng hợp và lược dịch từ bài viết [Deeplearning with Pytorch: A 60 Minute Blitz](https://pytorch.org/tutorials/beginner/deep_learning_60min_blitz.html) có sự hiệu chỉnh và bổ sung về nội dung dựa trên kiến thức của mình.\n",
        "\n",
        "## 1.1. Tensor\n",
        "\n",
        "Là dữ liệu nhiều chiều tương tự như ma trận trong numpy nhưng được thêm các tính chất để có thể hoạt động trên GPU nhằm gia tăng tốc độ tính toán. Các định dạng dữ liệu tensor của pytorch khá giống với [tensorflow](https://www.kaggle.com/phamdinhkhanh/tensorflow-turtorial). Tuy nhiên trong quá trình khởi tạo chúng trên pytorch chúng ta không cần phải truyền code vào trong 1 session để tạo tensor như tensorflow. Qua các ví dụ bên dưới chúng ta sẽ cùng làm quen với các dạng tensor chính của pytorch."
      ]
    },
    {
      "cell_type": "code",
      "metadata": {
        "colab_type": "code",
        "deletable": true,
        "editable": true,
        "id": "tYUmcaz48ecy",
        "colab": {}
      },
      "source": [
        "from __future__ import print_function\n",
        "import torch"
      ],
      "execution_count": 0,
      "outputs": []
    },
    {
      "cell_type": "code",
      "metadata": {
        "colab_type": "code",
        "deletable": true,
        "editable": true,
        "id": "X9y-Rszv8np6",
        "outputId": "564c3df1-e156-45e3-c443-4e96abfdb74c",
        "colab": {
          "base_uri": "https://localhost:8080/",
          "height": 102
        }
      },
      "source": [
        "# Khởi tạo một ma trận rỗng\n",
        "\n",
        "x = torch.empty(5, 3)\n",
        "print(x)"
      ],
      "execution_count": 2,
      "outputs": [
        {
          "output_type": "stream",
          "text": [
            "tensor([[1.9225e-36, 0.0000e+00, 3.3631e-44],\n",
            "        [0.0000e+00,        nan, 0.0000e+00],\n",
            "        [1.1578e+27, 1.1362e+30, 7.1547e+22],\n",
            "        [4.5828e+30, 1.2121e+04, 7.1846e+22],\n",
            "        [9.2198e-39, 0.0000e+00, 0.0000e+00]])\n"
          ],
          "name": "stdout"
        }
      ]
    },
    {
      "cell_type": "code",
      "metadata": {
        "colab_type": "code",
        "deletable": true,
        "editable": true,
        "id": "iLttDYaP8oIg",
        "outputId": "5c4043f2-013b-459c-8ad7-18e0d85863ff",
        "colab": {
          "base_uri": "https://localhost:8080/",
          "height": 102
        }
      },
      "source": [
        "# Khởi tạo một ma trận ngẫu nhiên\n",
        "\n",
        "x = torch.rand(5, 3)\n",
        "print(x)"
      ],
      "execution_count": 3,
      "outputs": [
        {
          "output_type": "stream",
          "text": [
            "tensor([[0.1862, 0.5766, 0.7265],\n",
            "        [0.5885, 0.8067, 0.5271],\n",
            "        [0.3040, 0.2556, 0.9610],\n",
            "        [0.6661, 0.6096, 0.5479],\n",
            "        [0.3799, 0.8784, 0.8257]])\n"
          ],
          "name": "stdout"
        }
      ]
    },
    {
      "cell_type": "code",
      "metadata": {
        "colab_type": "code",
        "deletable": true,
        "editable": true,
        "id": "ZUYFACkV8_p-",
        "outputId": "09544de1-262d-49be-acf8-62a561ca1a73",
        "colab": {
          "base_uri": "https://localhost:8080/",
          "height": 102
        }
      },
      "source": [
        "# Khởi tạo ma trận 0 với data type là long\n",
        "\n",
        "x = torch.zeros(5, 3, dtype = torch.long)\n",
        "print(x)"
      ],
      "execution_count": 4,
      "outputs": [
        {
          "output_type": "stream",
          "text": [
            "tensor([[0, 0, 0],\n",
            "        [0, 0, 0],\n",
            "        [0, 0, 0],\n",
            "        [0, 0, 0],\n",
            "        [0, 0, 0]])\n"
          ],
          "name": "stdout"
        }
      ]
    },
    {
      "cell_type": "code",
      "metadata": {
        "colab_type": "code",
        "deletable": true,
        "editable": true,
        "id": "AYIFdMq39Lpr",
        "outputId": "f7bd72e6-b3c1-4cb6-b1d3-ab5e12e517b0",
        "colab": {
          "base_uri": "https://localhost:8080/",
          "height": 34
        }
      },
      "source": [
        "# Khởi tạo ma trận từ list\n",
        "\n",
        "x = torch.tensor([[5, 3.5]])\n",
        "print(x)"
      ],
      "execution_count": 5,
      "outputs": [
        {
          "output_type": "stream",
          "text": [
            "tensor([[5.0000, 3.5000]])\n"
          ],
          "name": "stdout"
        }
      ]
    },
    {
      "cell_type": "code",
      "metadata": {
        "colab_type": "code",
        "deletable": true,
        "editable": true,
        "id": "GC-vkNsu9Uga",
        "outputId": "a04afcd2-f420-4c4f-9771-e9510369d19a",
        "colab": {
          "base_uri": "https://localhost:8080/",
          "height": 187
        }
      },
      "source": [
        "# Khởi tạo ma trận có các thuộc tính tương tự như của một ma trận sẵn có. Chẳng hạn như shape. Trừ khi thuộc tính mới được đưa vào override thuộc tính cũ.\n",
        "\n",
        "x = x.new_ones(5, 3, dtype = torch.double)\n",
        "print(x)\n",
        "\n",
        "x = torch.randn_like(x, dtype = torch.float) #override dtype\n",
        "# Ma trận mới được khởi tạo ngẫu nhiên có shape tương tự như ma trận cũ, dtype được override.\n",
        "print(x)"
      ],
      "execution_count": 6,
      "outputs": [
        {
          "output_type": "stream",
          "text": [
            "tensor([[1., 1., 1.],\n",
            "        [1., 1., 1.],\n",
            "        [1., 1., 1.],\n",
            "        [1., 1., 1.],\n",
            "        [1., 1., 1.]], dtype=torch.float64)\n",
            "tensor([[ 1.0536, -0.0921, -0.7262],\n",
            "        [ 0.7677, -0.2225,  0.0847],\n",
            "        [ 0.4700,  0.6618,  0.3220],\n",
            "        [-1.3720, -0.9271,  0.3299],\n",
            "        [ 0.4915, -0.5932, -1.8757]])\n"
          ],
          "name": "stdout"
        }
      ]
    },
    {
      "cell_type": "code",
      "metadata": {
        "colab_type": "code",
        "deletable": true,
        "editable": true,
        "id": "6GXz0Bqf-N7d",
        "outputId": "da8d60bc-5411-418f-8bf1-17845bd61dcb",
        "colab": {
          "base_uri": "https://localhost:8080/",
          "height": 34
        }
      },
      "source": [
        "# get size\n",
        "print(x.size())"
      ],
      "execution_count": 7,
      "outputs": [
        {
          "output_type": "stream",
          "text": [
            "torch.Size([5, 3])\n"
          ],
          "name": "stdout"
        }
      ]
    },
    {
      "cell_type": "markdown",
      "metadata": {
        "colab_type": "text",
        "deletable": true,
        "editable": true,
        "id": "RgptW6-c-ZiI"
      },
      "source": [
        "Trên thực tế torch.Size() là tuple nên sẽ hỗ trợ các operation dạng tuple.\n",
        "\n",
        "## 1.2. Operations\n",
        "\n",
        "Có rất nhiều các operation trên pytorch như: cộng, trừ, nhân, chia, reshape,  khởi tạo ngẫu nhiên. Chúng ta sẽ lần lượt tìm hiểu:\n",
        "\n",
        "* **Khởi tạo ngẫu nhiên**"
      ]
    },
    {
      "cell_type": "code",
      "metadata": {
        "colab_type": "code",
        "deletable": true,
        "editable": true,
        "id": "enkSWR3U-Y5U",
        "outputId": "10057c05-1dc5-43d2-f09c-fe3379d1508e",
        "colab": {
          "base_uri": "https://localhost:8080/",
          "height": 170
        }
      },
      "source": [
        "x = torch.randn(3, 3)\n",
        "print(x)\n",
        "y = torch.ones(3, 3)\n",
        "print(y)\n",
        "print(x+y)"
      ],
      "execution_count": 8,
      "outputs": [
        {
          "output_type": "stream",
          "text": [
            "tensor([[ 0.7770, -1.0313, -0.5739],\n",
            "        [ 2.2917,  0.4533,  1.9091],\n",
            "        [-0.1328,  0.2833, -0.9506]])\n",
            "tensor([[1., 1., 1.],\n",
            "        [1., 1., 1.],\n",
            "        [1., 1., 1.]])\n",
            "tensor([[ 1.7770, -0.0313,  0.4261],\n",
            "        [ 3.2917,  1.4533,  2.9091],\n",
            "        [ 0.8672,  1.2833,  0.0494]])\n"
          ],
          "name": "stdout"
        }
      ]
    },
    {
      "cell_type": "markdown",
      "metadata": {
        "colab_type": "text",
        "deletable": true,
        "editable": true,
        "id": "t2vNx2Rs_GGN"
      },
      "source": [
        "* **Phép cộng**"
      ]
    },
    {
      "cell_type": "code",
      "metadata": {
        "colab_type": "code",
        "deletable": true,
        "editable": true,
        "id": "YyBc6FVR_Fco",
        "outputId": "062fa329-29fc-42f4-c27c-a2f505a5c13b",
        "colab": {
          "base_uri": "https://localhost:8080/",
          "height": 68
        }
      },
      "source": [
        "print(torch.add(x, y))"
      ],
      "execution_count": 9,
      "outputs": [
        {
          "output_type": "stream",
          "text": [
            "tensor([[ 1.7770, -0.0313,  0.4261],\n",
            "        [ 3.2917,  1.4533,  2.9091],\n",
            "        [ 0.8672,  1.2833,  0.0494]])\n"
          ],
          "name": "stdout"
        }
      ]
    },
    {
      "cell_type": "markdown",
      "metadata": {
        "colab_type": "text",
        "deletable": true,
        "editable": true,
        "id": "ymnMbqTg_RXe"
      },
      "source": [
        "hoặc cũng có thể đưa kết quả vào một giá trị khởi tạo rỗng."
      ]
    },
    {
      "cell_type": "code",
      "metadata": {
        "colab_type": "code",
        "deletable": true,
        "editable": true,
        "id": "kdvU6Gel_MwI",
        "outputId": "df4099c0-97c8-4710-ce40-eb92cb2e947d",
        "colab": {
          "base_uri": "https://localhost:8080/",
          "height": 68
        }
      },
      "source": [
        "z = torch.empty(3,3)\n",
        "torch.add(x, y, out = z)\n",
        "print(z)"
      ],
      "execution_count": 10,
      "outputs": [
        {
          "output_type": "stream",
          "text": [
            "tensor([[ 1.7770, -0.0313,  0.4261],\n",
            "        [ 3.2917,  1.4533,  2.9091],\n",
            "        [ 0.8672,  1.2833,  0.0494]])\n"
          ],
          "name": "stdout"
        }
      ]
    },
    {
      "cell_type": "markdown",
      "metadata": {
        "colab_type": "text",
        "deletable": true,
        "editable": true,
        "id": "bITN6R5n_kuL"
      },
      "source": [
        "Cách khác: Triển khai tính toán inplace. Tức tính toán và lưu kết quả ngay trên đối tượng được áp dụng."
      ]
    },
    {
      "cell_type": "code",
      "metadata": {
        "colab_type": "code",
        "deletable": true,
        "editable": true,
        "id": "A0clQs2J_h_D",
        "outputId": "585ca5f6-ad40-44e6-dd9d-5e16ae2e380f",
        "colab": {
          "base_uri": "https://localhost:8080/",
          "height": 119
        }
      },
      "source": [
        "print(y)\n",
        "y.add_(x)\n",
        "print(y)"
      ],
      "execution_count": 11,
      "outputs": [
        {
          "output_type": "stream",
          "text": [
            "tensor([[1., 1., 1.],\n",
            "        [1., 1., 1.],\n",
            "        [1., 1., 1.]])\n",
            "tensor([[ 1.7770, -0.0313,  0.4261],\n",
            "        [ 3.2917,  1.4533,  2.9091],\n",
            "        [ 0.8672,  1.2833,  0.0494]])\n"
          ],
          "name": "stdout"
        }
      ]
    },
    {
      "cell_type": "markdown",
      "metadata": {
        "colab_type": "text",
        "deletable": true,
        "editable": true,
        "id": "usgQA8rN_3hk"
      },
      "source": [
        "Note: Các biến đổi inplace trên tensor sẽ có suffix là `_` . Chẳng hạn: `x.copy_(y), x.t_()` sẽ thay đổi trên chính giá trị của x.\n",
        "\n",
        "* **Truy cập index**\n",
        "\n",
        "Có thể sử dụng các tính chất của numpy 1 cách dễ dàng. Chẳng hạn như indexing."
      ]
    },
    {
      "cell_type": "code",
      "metadata": {
        "colab_type": "code",
        "deletable": true,
        "editable": true,
        "id": "_o3P8CG0_zih",
        "outputId": "ba61104a-1f2e-4d60-f194-946457cd1b42",
        "colab": {
          "base_uri": "https://localhost:8080/",
          "height": 34
        }
      },
      "source": [
        "# Truy cập cột thứ 2 của x\n",
        "print(x[:, 1])"
      ],
      "execution_count": 12,
      "outputs": [
        {
          "output_type": "stream",
          "text": [
            "tensor([-1.0313,  0.4533,  0.2833])\n"
          ],
          "name": "stdout"
        }
      ]
    },
    {
      "cell_type": "markdown",
      "metadata": {
        "colab_type": "text",
        "deletable": true,
        "editable": true,
        "id": "d5LrFg_0BMDT"
      },
      "source": [
        "* **reshape tensor**\n",
        "\n",
        "Để resize/reshape tensor ta sử dụng hàm view"
      ]
    },
    {
      "cell_type": "code",
      "metadata": {
        "colab_type": "code",
        "deletable": true,
        "editable": true,
        "id": "dRcLEaaxBIr7",
        "outputId": "4cf0481c-ce54-4bd4-f13a-43d90e6b2055",
        "colab": {
          "base_uri": "https://localhost:8080/",
          "height": 34
        }
      },
      "source": [
        "x = torch.randn(4, 4)\n",
        "y = x.view(16)\n",
        "z = x.view(-1, 8) # Giá trị -1 cho biết kích thước của chiều này được tính theo các chiều còn lại\n",
        "\n",
        "print(x.size(), y.size(), z.size())"
      ],
      "execution_count": 13,
      "outputs": [
        {
          "output_type": "stream",
          "text": [
            "torch.Size([4, 4]) torch.Size([16]) torch.Size([2, 8])\n"
          ],
          "name": "stdout"
        }
      ]
    },
    {
      "cell_type": "markdown",
      "metadata": {
        "colab_type": "text",
        "deletable": true,
        "editable": true,
        "id": "bftJTuGEKPeh"
      },
      "source": [
        "Chúng ta có thể chuyển tensor x có 1 phần tử sang 1 numeric python bằng hàm `item()`."
      ]
    },
    {
      "cell_type": "code",
      "metadata": {
        "colab_type": "code",
        "deletable": true,
        "editable": true,
        "id": "3Icc8dMiKXRs",
        "outputId": "c45e0382-9cf8-46f3-d80b-6b7395a25e75",
        "colab": {
          "base_uri": "https://localhost:8080/",
          "height": 34
        }
      },
      "source": [
        "x = torch.tensor([1.5])\n",
        "i = x.item()\n",
        "print(i)"
      ],
      "execution_count": 14,
      "outputs": [
        {
          "output_type": "stream",
          "text": [
            "1.5\n"
          ],
          "name": "stdout"
        }
      ]
    },
    {
      "cell_type": "markdown",
      "metadata": {
        "colab_type": "text",
        "deletable": true,
        "editable": true,
        "id": "5XmTqMplK46I"
      },
      "source": [
        "## 1.3. Các kết nối với numpy\n",
        "\n",
        "Chuyển đổi Torch tensor sang numpy array khá dễ dàng.\n",
        "\n",
        "Torch tensor và numpy array sẽ sử dụng chung các địa chỉ ô nhớ khi torch tensor hoạt động trên CPU, do đó khi thay đổi giá trị này sẽ thay đổi giá trị kia. Gần giống như phép gán trong pandas nếu không sử dụng `copy()`. Bên dưới ta sẽ thử nghiệm khởi tạo $a$ trên pytorch và $b$ là giá trị numpy của tensor torch $a$. Thay đổi $a$ và kiểm tra giá trị của $b$ có bị thay đổi tương ứng không?\n",
        "\n",
        "### 1.3.1. Chuyển đổi torch tensor sang numpy array"
      ]
    },
    {
      "cell_type": "code",
      "metadata": {
        "colab_type": "code",
        "deletable": true,
        "editable": true,
        "id": "2abSDQ0tKyKG",
        "outputId": "8a1c817b-2cd1-4140-dfb4-33838a2086b1",
        "colab": {
          "base_uri": "https://localhost:8080/",
          "height": 68
        }
      },
      "source": [
        "a = torch.ones(5)\n",
        "print(a)\n",
        "print(type(a))\n",
        "\n",
        "b = a.numpy()\n",
        "print(type(b))"
      ],
      "execution_count": 15,
      "outputs": [
        {
          "output_type": "stream",
          "text": [
            "tensor([1., 1., 1., 1., 1.])\n",
            "<class 'torch.Tensor'>\n",
            "<class 'numpy.ndarray'>\n"
          ],
          "name": "stdout"
        }
      ]
    },
    {
      "cell_type": "markdown",
      "metadata": {
        "colab_type": "text",
        "deletable": true,
        "editable": true,
        "id": "OH7UTe3eL8ZX"
      },
      "source": [
        "Khi thay đổi a sẽ thay đổi phần tử của b như thế nào?"
      ]
    },
    {
      "cell_type": "code",
      "metadata": {
        "colab_type": "code",
        "deletable": true,
        "editable": true,
        "id": "o730r9tpL6HI",
        "outputId": "9adeec3e-4781-41ec-fa28-7ac5c3d66f36",
        "colab": {
          "base_uri": "https://localhost:8080/",
          "height": 51
        }
      },
      "source": [
        "# Thêm 1 phần tử 1 vào a\n",
        "a.add_(1)\n",
        "print(a)\n",
        "print(b)"
      ],
      "execution_count": 16,
      "outputs": [
        {
          "output_type": "stream",
          "text": [
            "tensor([2., 2., 2., 2., 2.])\n",
            "[2. 2. 2. 2. 2.]\n"
          ],
          "name": "stdout"
        }
      ]
    },
    {
      "cell_type": "markdown",
      "metadata": {
        "colab_type": "text",
        "deletable": true,
        "editable": true,
        "id": "BOfDV6-GMLDm"
      },
      "source": [
        "Khi $a$ thay đổi thì giá trị numpy của nó là $b$ cũng thay đổi tương ứng và có các phần tử bên trong bằng $a$.\n",
        "\n",
        "### 1.3.2. chuyển đổi numpy array sang torch tensor\n",
        "\n",
        "Để chuyển 1 numpy array sang pytorch ta sử dụng hàm `from_numpy()`"
      ]
    },
    {
      "cell_type": "code",
      "metadata": {
        "colab_type": "code",
        "deletable": true,
        "editable": true,
        "id": "9iJUbWqTMHY7",
        "outputId": "a8af05a1-ee2c-4649-9299-cad5a233017d",
        "colab": {
          "base_uri": "https://localhost:8080/",
          "height": 85
        }
      },
      "source": [
        "import numpy as np\n",
        "\n",
        "a = np.ones(5)\n",
        "b = torch.from_numpy(a)\n",
        "\n",
        "print(a)\n",
        "print(b)\n",
        "print(type(a))\n",
        "print(type(b))"
      ],
      "execution_count": 17,
      "outputs": [
        {
          "output_type": "stream",
          "text": [
            "[1. 1. 1. 1. 1.]\n",
            "tensor([1., 1., 1., 1., 1.], dtype=torch.float64)\n",
            "<class 'numpy.ndarray'>\n",
            "<class 'torch.Tensor'>\n"
          ],
          "name": "stdout"
        }
      ]
    },
    {
      "cell_type": "markdown",
      "metadata": {
        "colab_type": "text",
        "deletable": true,
        "editable": true,
        "id": "JvAx7K_MMsQq"
      },
      "source": [
        "Tất cả các tensor CPU ngoại trừ CharTensor hỗ trợ chuyển đổi về numpy và ngược lại.\n",
        "\n",
        "## 2. CUDA tensor\n",
        "\n",
        "là định dạng tensor nhưng được đưa lên device (có thể là cpu, cuda, mkldnn, opengl, ...). Hỗ trợ các tính toán nhanh hơn nhờ kiến trúc CUDA.\n",
        "Để đưa 1 tensor lên một thiết bị bất kì ta sử dụng hàm `to()`."
      ]
    },
    {
      "cell_type": "code",
      "metadata": {
        "colab_type": "code",
        "deletable": true,
        "editable": true,
        "id": "7sx0hLDIMpA5",
        "outputId": "286bc196-a949-482f-e19e-55c7e24018b0",
        "colab": {
          "base_uri": "https://localhost:8080/",
          "height": 51
        }
      },
      "source": [
        "# kiểm tra xem có tồn tại CUDA trên máy không. Lưu ý nếu đang sử dụng google colab, bạn phải bật GPU tại Runtime>change runtime type để enable CUDA.\n",
        "if torch.cuda.is_available():\n",
        "  device = torch.device(\"cuda\") # Khởi tạo một cuda device object\n",
        "  y = torch.ones_like(x, device = device) # Trực tiếp khởi tạo một tensor trên GPU\n",
        "  x = x.to(device) # Truyền giá trị tensor vào thiết bị. Có thể truyền vào tên thiết bị: .to(\"cuda\")\n",
        "  z = x + y\n",
        "  print(z)\n",
        "  print(z.to(\"cpu\", torch.double)) # Trong hàm .to() ta có thể thay định dạng dữ liệu."
      ],
      "execution_count": 18,
      "outputs": [
        {
          "output_type": "stream",
          "text": [
            "tensor([2.5000], device='cuda:0')\n",
            "tensor([2.5000], dtype=torch.float64)\n"
          ],
          "name": "stdout"
        }
      ]
    },
    {
      "cell_type": "markdown",
      "metadata": {
        "colab_type": "text",
        "deletable": true,
        "editable": true,
        "id": "wN7JRLe4PO18"
      },
      "source": [
        "## 2.1. Autograd: Tự động tính đạo hàm\n",
        "\n",
        "Trung tâm của toàn bộ các mạng nơ ron hoạt động trên pytorch là `autograd` package. Hãy tìm hiểu về autograd trước khi thực sự xây dựng một mạng nơ ron trên pytorch.\n",
        "\n",
        "**Chức năng của autograd**: Tự động tính toán đạo hàm trên toàn bộ các toán tử của tensors. Nó là một framework được định nghĩa trong quá trình chạy, có nghĩa rằng quá trình lan truyền ngược được xác định khi mà code được chạy, và do đó mỗi vòng lặp có thể có kết quả thay đổi tham số theo lan truyền ngược khác nhau.\n",
        "\n",
        "**Theo dõi lịch sử của tensor torch**: torch.tensor là package khởi tạo các tensor torch. Mỗi một tensor torch sẽ có 1 thuộc tính là `.requires_grad`, nếu bạn set thuộc tính này về True, các toán tử triển khai trên tensor sẽ được theo dõi. Khi kết thúc quá trình lan truyền thuận (hoặc quá trình tính toán output) bạn có thể gọi `.backward()` và mọi tính toán gradient sẽ được tự động thực hiện dựa trên lịch sử đã được lưu lại. Các gradient cho tensor này sẽ được tích lũy và xem tại thuộc tính `.grad`.\n",
        "\n",
        "Để dừng theo dõi một tensor chúng ta gọi vào hàm `.detach()`. Khi đó các hoạt động trên tensor sẽ không còn được lưu vết nữa.\n",
        "\n",
        "Ngoài ra để ngăn tensor lưu lại lịch sử (và sử dụng memory), chúng ta cũng có thể bao quanh code block triển khai tensor với hàm `with torch.no_grad():` nó rất hữu ích trong trường hợp đánh giá model bởi vì khi thuộc tính `requires_grad = True` thì model sẽ có thể được cập nhật tham số. Nhưng quá trình đánh giá model sẽ không cần cập nhật tham số nên chúng ta không cần áp dụng gradient lên chúng. Đơn giản là set `requires_grad = False`.\n",
        "\n",
        "Bạn đọc tạm chấp nhận lý thuyết nêu trên, phần thực hành bên dưới sẽ giúp giải thích sáng tỏ.\n",
        "\n",
        "Ngoài ra class Function cũng rất quan trọng trong thực hiện autograd. \n",
        "\n",
        "**Lưu trữ đồ thị tính toán**:\n",
        "\n",
        "2 class `Tensor` và `Function` cùng tương tác và xây dựng một đồ thị chu trình mà đồ thị này mã hóa lại toàn bộ lịch sử tính toán. Mỗi một tensor đều có 1 thuộc tính `grad_fn` trích dẫn đến một `Function` đã tạo ra `Tensor` (trừ trường hợp tensor được tạo ra bởi user được set thuộc tính `grad_fn` là `None`).\n",
        "\n",
        "Nếu muốn tính toán đạo hàm chúng ta gọi vào hàm `.backward()` của `Tensor`. Nếu `Tensor` là một scalar sẽ không cần xác định bất kì đối số `gradient` nào cho `.backward()`. Tuy nhiên khi `Tensor` có nhiều  hơn 1 phẩn tử cần xác định đối số `gradient` là một tensor có cùng kích thước. Đối số này sẽ qui định tốc độ thay đổi theo `gradient` tại mỗi chiều là bao nhiêu. \n",
        "\n",
        "**Ví dụ về lưu trữ đồ thị tính toán**:\n",
        "\n",
        "Bên dưới ta sẽ khởi tạo một tensor torch có khả năng theo dõi thay đổi theo 2 cách:\n",
        "\n",
        "* Cách 1: set `requires_grad = True`."
      ]
    },
    {
      "cell_type": "code",
      "metadata": {
        "colab_type": "code",
        "deletable": true,
        "editable": true,
        "id": "VZz1HU47OSL8",
        "outputId": "6603901f-0f77-405b-82d8-bfd08eb739bb",
        "colab": {
          "base_uri": "https://localhost:8080/",
          "height": 85
        }
      },
      "source": [
        "import torch\n",
        "\n",
        "x = torch.ones(2, 2, requires_grad = True)\n",
        "print(x)\n",
        "\n",
        "y = x+2\n",
        "print(y)"
      ],
      "execution_count": 19,
      "outputs": [
        {
          "output_type": "stream",
          "text": [
            "tensor([[1., 1.],\n",
            "        [1., 1.]], requires_grad=True)\n",
            "tensor([[3., 3.],\n",
            "        [3., 3.]], grad_fn=<AddBackward0>)\n"
          ],
          "name": "stdout"
        }
      ]
    },
    {
      "cell_type": "markdown",
      "metadata": {
        "colab_type": "text",
        "deletable": true,
        "editable": true,
        "id": "65KZ2LvZXru0"
      },
      "source": [
        "Do tại $x$ ta đã theo dõi thay đổi bằng các set tham số `requires_grad = True` nên các tính toán được thực hiện trên $x$ sẽ được theo dõi lại ở thuộc tính `grad_fn`."
      ]
    },
    {
      "cell_type": "code",
      "metadata": {
        "colab_type": "code",
        "deletable": true,
        "editable": true,
        "id": "D32LcpVXXquZ",
        "outputId": "422e1d67-59fb-4575-c331-0c186db4ceac",
        "colab": {
          "base_uri": "https://localhost:8080/",
          "height": 34
        }
      },
      "source": [
        "print(y.grad_fn)"
      ],
      "execution_count": 20,
      "outputs": [
        {
          "output_type": "stream",
          "text": [
            "<AddBackward0 object at 0x7f211d04fc18>\n"
          ],
          "name": "stdout"
        }
      ]
    },
    {
      "cell_type": "markdown",
      "metadata": {
        "colab_type": "text",
        "deletable": true,
        "editable": true,
        "id": "6u_S8_jJYBMl"
      },
      "source": [
        "Giá trị của `grad_fn` cho thấy ta đã thực hiện một phép cộng để thu được $y$. Thực hiện tiếp 1 biến đổi nữa sử dụng $y$."
      ]
    },
    {
      "cell_type": "code",
      "metadata": {
        "colab_type": "code",
        "deletable": true,
        "editable": true,
        "id": "nupIRjNIX_Xg",
        "outputId": "4cac1783-98a3-4918-8783-e5d12fb8c740",
        "colab": {
          "base_uri": "https://localhost:8080/",
          "height": 68
        }
      },
      "source": [
        "z = y * y * 3\n",
        "out = z.mean()\n",
        "print(z)\n",
        "print(out)"
      ],
      "execution_count": 21,
      "outputs": [
        {
          "output_type": "stream",
          "text": [
            "tensor([[27., 27.],\n",
            "        [27., 27.]], grad_fn=<MulBackward0>)\n",
            "tensor(27., grad_fn=<MeanBackward0>)\n"
          ],
          "name": "stdout"
        }
      ]
    },
    {
      "cell_type": "markdown",
      "metadata": {
        "colab_type": "text",
        "deletable": true,
        "editable": true,
        "id": "ZhwoN8EiXrEz"
      },
      "source": [
        "* Cách 2: Sử dụng inplace function.\n",
        "\n",
        "Hoặc chúng ta có thể thiết lập requires_grad theo cách inplace. Mặc định của `requires_grad` khi khởi tạo 1 tensor torch là False tức là sẽ không ghi lại lịch sử thay đổi."
      ]
    },
    {
      "cell_type": "code",
      "metadata": {
        "colab_type": "code",
        "deletable": true,
        "editable": true,
        "id": "k4WBCCrQY-6W",
        "outputId": "5c66497e-89ad-4b74-932b-b36e6cda3de3",
        "colab": {
          "base_uri": "https://localhost:8080/",
          "height": 136
        }
      },
      "source": [
        "a = torch.ones(3, 3)\n",
        "print(a)\n",
        "print(a.requires_grad)\n",
        "a.requires_grad_(True)\n",
        "print(a.requires_grad)\n",
        "b = (a*a).sum()\n",
        "print(b)\n",
        "print(b.grad_fn)"
      ],
      "execution_count": 22,
      "outputs": [
        {
          "output_type": "stream",
          "text": [
            "tensor([[1., 1., 1.],\n",
            "        [1., 1., 1.],\n",
            "        [1., 1., 1.]])\n",
            "False\n",
            "True\n",
            "tensor(9., grad_fn=<SumBackward0>)\n",
            "<SumBackward0 object at 0x7f216932d4a8>\n"
          ],
          "name": "stdout"
        }
      ]
    },
    {
      "cell_type": "markdown",
      "metadata": {
        "colab_type": "text",
        "deletable": true,
        "editable": true,
        "id": "G7R6VZSDZa7R"
      },
      "source": [
        "### 2.1.2. Gradients\n",
        "\n",
        "Bây h ta sẽ thực hiện một lan truyền ngược (backprop) thông qua hàm `out.backward()`."
      ]
    },
    {
      "cell_type": "code",
      "metadata": {
        "colab_type": "code",
        "deletable": true,
        "editable": true,
        "id": "FpelmEVwZT7J",
        "colab": {}
      },
      "source": [
        "out.backward()"
      ],
      "execution_count": 0,
      "outputs": []
    },
    {
      "cell_type": "markdown",
      "metadata": {
        "colab_type": "text",
        "deletable": true,
        "editable": true,
        "id": "fZSVpFDnaJYM"
      },
      "source": [
        "Kết quả của gradient `d(out)/dx` sẽ được lưu trong phần tử `x.grad`."
      ]
    },
    {
      "cell_type": "code",
      "metadata": {
        "colab_type": "code",
        "deletable": true,
        "editable": true,
        "id": "Uy3Od51raJow",
        "outputId": "65ffd5d2-024e-4485-a3a0-bbcdf5c7b5ed",
        "colab": {
          "base_uri": "https://localhost:8080/",
          "height": 51
        }
      },
      "source": [
        "print(x.grad)"
      ],
      "execution_count": 24,
      "outputs": [
        {
          "output_type": "stream",
          "text": [
            "tensor([[4.5000, 4.5000],\n",
            "        [4.5000, 4.5000]])\n"
          ],
          "name": "stdout"
        }
      ]
    },
    {
      "cell_type": "markdown",
      "metadata": {
        "colab_type": "text",
        "deletable": true,
        "editable": true,
        "id": "0YJRFC9Nafr-"
      },
      "source": [
        "Chúng ta nhận được ma trận chỉ gồm các phần tử là 4.5. Đây chính là đạo hàm của mỗi phần tử của $x$ theo $y$.\n",
        "$$\\frac{dy}{dx}= \\frac{d(\\frac{3(x+2)^2}{4})}{dx}=\\frac{3(x+2)}{2}$$\n",
        "\n",
        "Tại $x=1$ ta suy ra $\\frac{dy}{dx} = 4.5$\n",
        "\n",
        "Hàm `torch.autograd` sẽ là hàm chức năng tính tích giữa vector và ma trận jacobian. Hàm số cho ta biết mức độ thay đổi của các chiều khi đi theo phương gradient. \n",
        "\n",
        "* Định nghĩa về ma trận jacobian: giả sử $\\mathbf{f}$ là một hàm số ánh xạ từ vector $\\mathbf{x} = (x_1, x_2,..., x_n)$ lên vector hàm số $\\mathbf{y} = (y_1, y_2,...,y_m)$ : $\\mathbb{R}^{n} \\rightarrow \\mathbb{R}^{m}$. Khi đó ma trận Jacobian của hàm số $\\mathbf{f}$ chính là ma trận đạo hàm bậc nhất của vector hàm số $y$ theo các chiều của vector $\\mathbf{x}$. \n",
        "\n",
        "\n",
        "$$\\mathbf{J} = \\nabla_{\\mathbf{x}}\\mathbf{y} = \\begin{bmatrix}\n",
        "\\frac{\\nabla y_1}{\\nabla x_1} & \\frac{\\nabla y_1}{\\nabla x_2} & \\dots & \\frac{\\nabla y_1}{\\nabla x_n} \\\\\n",
        "\\frac{\\nabla y_2}{\\nabla x_1} & \\frac{\\nabla y_2}{\\nabla x_2} & \\dots & \\frac{\\nabla y_2}{\\nabla x_n} \\\\\n",
        "\\vdots & \\vdots & \\ddots & \\vdots \\\\\n",
        "\\frac{\\nabla y_m}{\\nabla x_1} & \\frac{\\nabla y_m}{\\nabla x_2} & \\dots & \\frac{\\nabla y_m}{\\nabla x_n}\n",
        "\\end{bmatrix}$$\n",
        "\n",
        "Cụ thể hơn chúng ta có thể tham khảo ở link sau: [Ma trận jacobian - wiki](https://en.wikipedia.org/wiki/Jacobian_matrix_and_determinant)\n",
        "\n",
        "Cho một vector $\\mathbf{v} = (v_1, v_2, ..., v_m)^T$ bất kì. Nếu $\\mathbf{v}$ là ma trận gradient của hàm loss function $l = g(y)$  thì $\\mathbf{v} = (\\frac{\\nabla l}{\\nabla y_1}, \\frac{\\nabla l}{\\nabla y_2}, ... , \\frac{\\nabla l}{\\nabla y_m})^{T}$, do đó theo công thức chain rule thì tích vector-jacobian sẽ là gradient của hàm $l$ tương ứng với vector $\\mathbf{x}$:\n",
        "$$\\nabla_{\\mathbf{x}}l = \\nabla_{\\mathbf{x}}g(\\mathbf{y}) = \\nabla_{\\mathbf{x}}\\mathbf{y}^T\\nabla_{\\mathbf{y}} g(\\mathbf{y}) = \\mathbf{J}^T \\mathbf{v}$$\n",
        "\n",
        "Đây chính là giá trị của tích vector-jacobian được tính toán dựa trên hàm số `torch.autograd`. Công thức này giúp ta dễ dàng truyền các gradient bên ngoài vào `backward()` để tùy biến gradient của mô hình theo gradient truyền vào. Cụ thể hơn xem ví dụ bên dưới:\n",
        "\n",
        "Bây h chúng ta cùng xét ví dụ về tích vector-jacobian."
      ]
    },
    {
      "cell_type": "code",
      "metadata": {
        "colab_type": "code",
        "deletable": true,
        "editable": true,
        "id": "A47jswbPs8tw",
        "outputId": "4335820e-c77f-4a67-ce30-acd1722ba95b",
        "colab": {
          "base_uri": "https://localhost:8080/",
          "height": 34
        }
      },
      "source": [
        "import torch\n",
        "\n",
        "x = torch.randn(3, requires_grad = True)\n",
        "yhat = torch.randn(3, requires_grad = True)*2\n",
        "y = x*2\n",
        "l = ((y-yhat)**2).mean()\n",
        "print(l)"
      ],
      "execution_count": 35,
      "outputs": [
        {
          "output_type": "stream",
          "text": [
            "tensor(0.4746, grad_fn=<MeanBackward0>)\n"
          ],
          "name": "stdout"
        }
      ]
    },
    {
      "cell_type": "markdown",
      "metadata": {
        "colab_type": "text",
        "deletable": true,
        "editable": true,
        "id": "Pch0Rt5PEPtN"
      },
      "source": [
        "Trong TH này $\\mathbf{y}$ sẽ không còn là 1 scalar. Hàm `torch.autograd` sẽ không tính toán ma trận jacobian trực tiếp mà thay vào đó sẽ tính tích vector-jacobian theo vector $\\mathbf{v}$ truyền vào đối số `.backward()`."
      ]
    },
    {
      "cell_type": "code",
      "metadata": {
        "colab_type": "code",
        "deletable": true,
        "editable": true,
        "id": "ZdzKFXEHEO-f",
        "outputId": "ea725e04-21b6-4624-9e4f-edeb4ae0604a",
        "colab": {
          "base_uri": "https://localhost:8080/",
          "height": 34
        }
      },
      "source": [
        "# Khởi tạo một vector gradient tự do v\n",
        "v = torch.tensor([0.1, 1.0, 0.001], dtype = torch.float)\n",
        "# Tính ma trận Jacobian (đạo hàm của y theo v)\n",
        "l.backward(v)\n",
        "# Tính tích vector-jacobian chính là đạo hàm của \n",
        "print(x.grad)"
      ],
      "execution_count": 36,
      "outputs": [
        {
          "output_type": "stream",
          "text": [
            "tensor([-1.5380,  0.7883, -0.2852])\n"
          ],
          "name": "stdout"
        }
      ]
    },
    {
      "cell_type": "markdown",
      "metadata": {
        "colab_type": "text",
        "deletable": true,
        "editable": true,
        "id": "SOEvLSpIHiy7"
      },
      "source": [
        "Để dừng autograd theo dõi các thay đổi lịch sử trên tensor, chúng ta có thể thiết lập `.requires_grad = True` hoặc đặt các biến đổi tensor trong block code `torch.no_grad()`."
      ]
    },
    {
      "cell_type": "code",
      "metadata": {
        "colab_type": "code",
        "deletable": true,
        "editable": true,
        "id": "1zFf1uxtHeRo",
        "outputId": "8a0e1923-92e2-4b41-89f8-0162eff3b97e",
        "colab": {
          "base_uri": "https://localhost:8080/",
          "height": 68
        }
      },
      "source": [
        "print(x.requires_grad)\n",
        "print((x*x).requires_grad)\n",
        "with torch.no_grad():\n",
        "  print((x*x).requires_grad)"
      ],
      "execution_count": 37,
      "outputs": [
        {
          "output_type": "stream",
          "text": [
            "True\n",
            "True\n",
            "False\n"
          ],
          "name": "stdout"
        }
      ]
    },
    {
      "cell_type": "markdown",
      "metadata": {
        "colab_type": "text",
        "deletable": true,
        "editable": true,
        "id": "T-GCAM_lR70C"
      },
      "source": [
        "# 3. Xây dựng mạng neural network\n",
        "## 3.1. Kiến trúc mạng CNN\n",
        "\n",
        "Các mạng neural sẽ được xây dựng dựa trên package torch.nn. Dựa trên `autograd` model sẽ xác định đạo hàm bậc 1 theo các chiều dữ liệu. Một nn.Module sẽ bao gồm các layers và một phương thức `forward(input)` để trả ra kết quả `output`.\n",
        "\n",
        "Xây dựng mạng neural network sẽ trả qua các bước sau:\n",
        "\n",
        "* Xây dựng kiến trúc mạng nơ ron.\n",
        "* Phân chia dữ liệu train, test.\n",
        "* Xác định phương pháp optimization để cập nhật gradient descent và hàm loss function.\n",
        "* Huấn luyện model.\n",
        "* Hậu kiểm model.\n",
        "\n",
        "Về convolution layer xem tại: [Convolution layer](https://www.kaggle.com/phamdinhkhanh/convolutional-neural-network-p1)\n",
        "\n",
        "Tiếp theo chúng ta sẽ xây dựng kiến trúc mạng Lenet để phân biệt hình ảnh các đồ vật và loài vật. Sơ đồ kích thước các layers của mạng như bên dưới: \n",
        "\n",
        "<img src=\"https://pytorch.org/tutorials/_images/mnist.png\" width=\"800px\" style=\"display:block; margin-left:auto; margin-right:auto\"/>\n",
        "\n",
        "> **Hình 1** Kiến trúc mạng Lenet sử dụng các convolutional neural network.\n",
        "\n",
        "Để xây dựng mạng neural chúng ta sẽ kế thừa object `nn.Module`. Object này sẽ cho phép thực hiện quá trình lan truyền thuận và lan truyền ngược thông qua 2 hàm `forward()` và `backward()`."
      ]
    },
    {
      "cell_type": "code",
      "metadata": {
        "colab_type": "code",
        "deletable": true,
        "editable": true,
        "id": "dFLPQvI5INSO",
        "outputId": "b4dd058b-5df6-4ef5-d91d-e0c02898b499",
        "colab": {
          "base_uri": "https://localhost:8080/",
          "height": 136
        }
      },
      "source": [
        "import torch\n",
        "import torch.nn as nn\n",
        "import torch.nn.functional as F\n",
        "\n",
        "class Net(nn.Module):\n",
        "  def __init__(self):\n",
        "    super(Net, self).__init__()\n",
        "    # 1 input image channel, 6 output channels, 3x3 square convolution\n",
        "    # kernel \n",
        "    # conv2d (input chanels, output chanels, kernel size)\n",
        "    self.conv1 = nn.Conv2d(1, 6, 3)\n",
        "    self.conv2 = nn.Conv2d(6, 16, 3)\n",
        "    # an affine operation: y = Wx + b\n",
        "    self.fc1 = nn.Linear(16 * 6 * 6, 120)  # 6*6 from image dimension\n",
        "    self.fc2 = nn.Linear(120, 84)\n",
        "    self.fc3 = nn.Linear(84, 10)\n",
        "\n",
        "  def forward(self, x):\n",
        "    # Max pooling over a (2, 2) window\n",
        "    x = F.max_pool2d(F.relu(self.conv1(x)), (2, 2))\n",
        "    # If the size is a square you can only specify a single number\n",
        "    x = F.max_pool2d(F.relu(self.conv2(x)), 2)\n",
        "    x = x.view(-1, self.num_flat_features(x))\n",
        "    x = F.relu(self.fc1(x))\n",
        "    x = F.relu(self.fc2(x))\n",
        "    x = self.fc3(x)\n",
        "    return x\n",
        "\n",
        "  def num_flat_features(self, x):\n",
        "    size = x.size()[1:]  # all dimensions except the batch dimension\n",
        "    num_features = 1\n",
        "    for s in size:\n",
        "        num_features *= s\n",
        "    return num_features\n",
        "\n",
        "\n",
        "net = Net()\n",
        "print(net)"
      ],
      "execution_count": 38,
      "outputs": [
        {
          "output_type": "stream",
          "text": [
            "Net(\n",
            "  (conv1): Conv2d(1, 6, kernel_size=(3, 3), stride=(1, 1))\n",
            "  (conv2): Conv2d(6, 16, kernel_size=(3, 3), stride=(1, 1))\n",
            "  (fc1): Linear(in_features=576, out_features=120, bias=True)\n",
            "  (fc2): Linear(in_features=120, out_features=84, bias=True)\n",
            "  (fc3): Linear(in_features=84, out_features=10, bias=True)\n",
            ")\n"
          ],
          "name": "stdout"
        }
      ]
    },
    {
      "cell_type": "markdown",
      "metadata": {
        "colab_type": "text",
        "deletable": true,
        "editable": true,
        "id": "d1rfc80r_3q7"
      },
      "source": [
        "Chúng ta phải xác định trước `forward` function để trả ra kết quả của model ở đầu ra. Dựa trên `forward` function, hàm `backward` function (là nơi mà gradients tại mỗi layers được tính toán) sẽ được tự động xác định khi bạn sử dụng `autograd`. Chúng ta cũng có thể sử dụng bất kì một phép biến đổi toán tử Tensor nào trên hàm forward function.\n",
        "\n",
        "Các tham số huấn luyện (tham số mà có thể thay đổi được trong huấn luyện) của mô hình được trả về bằng hàm `net.parameters()`."
      ]
    },
    {
      "cell_type": "code",
      "metadata": {
        "colab_type": "code",
        "deletable": true,
        "editable": true,
        "id": "az8H74HMXg52",
        "outputId": "6ec37c5a-e82c-4beb-fb96-01937d2a8c64",
        "colab": {
          "base_uri": "https://localhost:8080/",
          "height": 51
        }
      },
      "source": [
        "params = list(net.parameters())\n",
        "print(len(params))\n",
        "print(params[0].size())  # conv1's .weight"
      ],
      "execution_count": 39,
      "outputs": [
        {
          "output_type": "stream",
          "text": [
            "10\n",
            "torch.Size([6, 1, 3, 3])\n"
          ],
          "name": "stdout"
        }
      ]
    },
    {
      "cell_type": "markdown",
      "metadata": {
        "colab_type": "text",
        "deletable": true,
        "editable": true,
        "id": "8TK9oSgyA8lU"
      },
      "source": [
        "Chúng ta thử nghiệm khởi tạo một đầu vào ngẫu nhiên 32x32. Chú ý rằng: Kì vọng đầu vào của mạng lenet là 32x32. Để sử dụng mạng này trên MNIST dataset chúng ta sẽ phải resize kích thước ảnh về 32x32."
      ]
    },
    {
      "cell_type": "code",
      "metadata": {
        "colab_type": "code",
        "deletable": true,
        "editable": true,
        "id": "H722uMaYAxkO",
        "outputId": "90e6bcca-2212-414c-92d5-5161b78ad7f4",
        "colab": {
          "base_uri": "https://localhost:8080/",
          "height": 51
        }
      },
      "source": [
        "input = torch.randn(1, 1, 32, 32)\n",
        "out = net(input)\n",
        "print(out)"
      ],
      "execution_count": 40,
      "outputs": [
        {
          "output_type": "stream",
          "text": [
            "tensor([[ 0.0451, -0.0784, -0.0997, -0.0572, -0.0218, -0.1198, -0.0557, -0.1128,\n",
            "          0.1927, -0.0887]], grad_fn=<AddmmBackward>)\n"
          ],
          "name": "stdout"
        }
      ]
    },
    {
      "cell_type": "markdown",
      "metadata": {
        "colab_type": "text",
        "deletable": true,
        "editable": true,
        "id": "aYFX18VqBoAl"
      },
      "source": [
        "Khi đó kết quả đầu ra thu được là một tensor có 10 phần tử, mỗi phần tử tương ứng với điểm số được phân bố cho class mà nó thuộc về. Bên dưới chúng ta chuyển toàn bộ các gradients trong bộ nhớ đệm về 0 bằng hàm `.zero_grad()` và lan truyền ngược với gradients ngẫu nhiên."
      ]
    },
    {
      "cell_type": "code",
      "metadata": {
        "colab_type": "code",
        "deletable": true,
        "editable": true,
        "id": "k17YwwxWB441",
        "colab": {}
      },
      "source": [
        "net.zero_grad()\n",
        "out.backward(torch.randn(1, 10))"
      ],
      "execution_count": 0,
      "outputs": []
    },
    {
      "cell_type": "markdown",
      "metadata": {
        "colab_type": "text",
        "deletable": true,
        "editable": true,
        "id": "ZMBvVbO0CJuw"
      },
      "source": [
        "**Lưu ý**: \n",
        "`torch.nn` chỉ hỗ trợ các mini-batches. Toàn bộ `torch.nn` packages chỉ hỗ trợ đầu vào là mini-batch của mẫu (tức là luôn có 1 chiều trong shape qui định `batch size`), và không tiếp nhận 1 mẫu đơn lẻ.\n",
        "\n",
        "Chẳng hạn, `nn.Conv2d` sẽ nhận đầu vào là 4D Tensor của `nSamples x nChannels x Height x Width`. Trong đó chiều đầu tiên là kích thước mẫu (`batch size`).\n",
        "\n",
        "Nếu bạn có một mẫu đơn lẻ, chỉ cần sử dụng `input.unsqueeze(0)` để thêm vào một chiều `batch size` giả mạo.\n",
        "\n",
        "Tổng kết:\n",
        "* torch.Tensor: là một mảng nhiều chiều hỗ trợ các biến đổi autograd như `backward()`. Và cũng lưu trữ các gradients của tensor.\n",
        "* nn.Module: Neural network module. Thuận tiện trong đóng gói các tham số với sự hỗ trợ để đẩy chúng lên GPU, export và loading tham số,....\n",
        "* nn.Parameter: Là một dạng tensor lưu trữ tham số huấn luyện và được phân bố như một thuộc tính của Module.\n",
        "* autograd.Function: Kế thừa quá trình lan truyền thuận và lan truyền ngược của một biến đổi autograd. Mọi triển khai `Tensor` tạo ra ít nhất `Function` node kết nối đến function được tạo bởi tensor và mã hóa lịch sử của chúng.\n",
        "\n",
        "## 3.1. Hàm loss\n",
        "\n",
        "Một hàm loss sẽ nhận 1 cặp (output, target) và tính toán giá trị khoảng cách giữa output và giá trị target.\n",
        "\n",
        "Có một số dạng loss function khác nhau mà chúng ta có thể tham khảo được hỗ trợ trong nn package: [Loss function trong nn](https://pytorch.org/docs/stable/nn.html).  Dạng đơn giản nhất là `nn.MSELoss` (trung bình bình phương sai số) tính toán trung bình bình phương sai số giữa giá trị output và giá trị target.\n",
        "\n",
        "Chúng ta có thể xem ví dụ như bên dưới:"
      ]
    },
    {
      "cell_type": "code",
      "metadata": {
        "colab_type": "code",
        "deletable": true,
        "editable": true,
        "id": "pZj7bWC6B_oq",
        "outputId": "1f73259f-6873-4f7c-f31d-30945d5e8f75",
        "colab": {
          "base_uri": "https://localhost:8080/",
          "height": 34
        }
      },
      "source": [
        "output = net(input)\n",
        "target = torch.randn(10) # a dummy target, for example\n",
        "target = target.view(1, -1) # make it same shape as output\n",
        "criterion = nn.MSELoss()\n",
        "\n",
        "loss = criterion(output, target)\n",
        "print(loss)"
      ],
      "execution_count": 0,
      "outputs": [
        {
          "output_type": "stream",
          "text": [
            "tensor(1.1689, grad_fn=<MseLossBackward>)\n"
          ],
          "name": "stdout"
        }
      ]
    },
    {
      "cell_type": "markdown",
      "metadata": {
        "colab_type": "text",
        "deletable": true,
        "editable": true,
        "id": "oQIH5sFiHWCc"
      },
      "source": [
        "Tiến trình backward của hàm loss function sẽ sử dụng thuộc tính `.grad_fn` của nó để lần tìm trên đồ thị tính toán quá trình biến đổi tensor như bên dưới:\n",
        "\n",
        "`input -> conv2d -> relu -> maxpool2d -> conv2d -> relu -> maxpool2d\n",
        "      -> view -> linear -> relu -> linear -> relu -> linear\n",
        "      -> MSELoss\n",
        "      -> loss`\n",
        "   \n",
        "   \n",
        "Khi ta gọi vào hàm `loss.backward()`, toàn bộ graph sẽ tính toán đạo hàm của loss function, các tensors trong graph có thuộc tính `requires_grad = True` thì  sẽ có tensor `.grad` được cập nhật gradient theo trình tự lũy tiến.\n",
        "\n",
        "Để minh họa chúng ta có thể sử dụng một vài bước backward:\n",
        "      "
      ]
    },
    {
      "cell_type": "code",
      "metadata": {
        "colab_type": "code",
        "deletable": true,
        "editable": true,
        "id": "8wHxv51pGv2_",
        "outputId": "d5c09bbb-14c5-4f85-a20c-b3cde7632fd3",
        "colab": {
          "base_uri": "https://localhost:8080/",
          "height": 67
        }
      },
      "source": [
        "print(loss.grad_fn) # MSELoss\n",
        "print(loss.grad_fn.next_functions[0][0]) # Linear\n",
        "print(loss.grad_fn.next_functions[0][0].next_functions[0][0]) # Relu"
      ],
      "execution_count": 0,
      "outputs": [
        {
          "output_type": "stream",
          "text": [
            "<MseLossBackward object at 0x7f32a2e7ef28>\n",
            "<AddmmBackward object at 0x7f32a2e7e518>\n",
            "<AccumulateGrad object at 0x7f32a2e7ef28>\n"
          ],
          "name": "stdout"
        }
      ]
    },
    {
      "cell_type": "markdown",
      "metadata": {
        "colab_type": "text",
        "deletable": true,
        "editable": true,
        "id": "akJu4-vAPNSo"
      },
      "source": [
        "## 3.2. Lan truyền ngược (backpropagation)\n",
        "\n",
        "Để lan truyền ngược chúng ta sử dụng hàm `loss.backward()`. Nhưng trước đó chúng ta cần xóa nhưng gradients đang có và các gradient khác sẽ tích lũy vào gradient hiện có.\n",
        "\n",
        "Bên dưới chúng ta sẽ cùng gọi vào hàm `loss.backward()`, và chúng ta phải nhìn vào hệ số chệch của conv1 gradient trước và sau khi backward."
      ]
    },
    {
      "cell_type": "code",
      "metadata": {
        "colab_type": "code",
        "deletable": true,
        "editable": true,
        "id": "O4sPDftaOLDv",
        "outputId": "ba303f27-3a04-408a-9aca-7a69998aca5b",
        "colab": {
          "base_uri": "https://localhost:8080/",
          "height": 84
        }
      },
      "source": [
        "net.zero_grad() # chuyển về 0 toàn bộ các gradient trong bộ nhớ đệm của toàn bộ các parameters.\n",
        "print('conv1.bias.grad before backward')\n",
        "print(net.conv1.bias.grad)\n",
        "\n",
        "loss.backward()\n",
        "\n",
        "print('conv1.bias.grad after backward')\n",
        "print(net.conv1.bias.grad)"
      ],
      "execution_count": 0,
      "outputs": [
        {
          "output_type": "stream",
          "text": [
            "conv1.bias.grad before backward\n",
            "tensor([0., 0., 0., 0., 0., 0.])\n",
            "conv1.bias.grad after backward\n",
            "tensor([-0.0063, -0.0041,  0.0004,  0.0066,  0.0064,  0.0063])\n"
          ],
          "name": "stdout"
        }
      ]
    },
    {
      "cell_type": "markdown",
      "metadata": {
        "colab_type": "text",
        "deletable": true,
        "editable": true,
        "id": "q1f9zzrPTvj1"
      },
      "source": [
        "## 3.3. Cập nhật trọng số.\n",
        "\n",
        "Công thức đơn giản để cập nhật trọng số là:\n",
        "\n",
        "`weight = weight - learning_rate * gradient`\n",
        "\n",
        "Chúng ta có thể triển khai bằng sử dụng python code đơn giản như sau:"
      ]
    },
    {
      "cell_type": "code",
      "metadata": {
        "colab_type": "code",
        "deletable": true,
        "editable": true,
        "id": "T2YXiXPgUC4N",
        "colab": {}
      },
      "source": [
        "learning_rate = 0.01\n",
        "for f in net.parameters():\n",
        "  f.data.sub_(f.grad.data * learning_rate)"
      ],
      "execution_count": 0,
      "outputs": []
    },
    {
      "cell_type": "markdown",
      "metadata": {
        "colab_type": "text",
        "deletable": true,
        "editable": true,
        "id": "sAFMxYQ5UV1w"
      },
      "source": [
        "Trong đó `_sub()` là một hàm inplace của phép trừ.\n",
        "\n",
        "Tuy nhiên khi sử dụng mạng neural networks, bạn muốn sử dụng đa dạng các phương pháp cập nhật gradient descent khác nhau như SGD, Nesterov-SGD, Adam, RMSProp,.... Do đó sử dụng package torch.optim chúng ta có thể thực hiện được toàn bộ nhữn phương pháp gradient descent này một cách đơn giản."
      ]
    },
    {
      "cell_type": "code",
      "metadata": {
        "colab_type": "code",
        "deletable": true,
        "editable": true,
        "id": "crpghABCUTHs",
        "colab": {}
      },
      "source": [
        "import torch.optim as optim\n",
        "\n",
        "# Create your optimizer\n",
        "optimizer = optim.SGD(net.parameters(), lr = 0.001)\n",
        "\n",
        "# in your training loop\n",
        "optimizer.zero_grad() # zero gradients buffers\n",
        "output = net(input)\n",
        "loss = criterion(output, target)\n",
        "loss.backward()\n",
        "optimizer.step() #Does update"
      ],
      "execution_count": 0,
      "outputs": []
    },
    {
      "cell_type": "markdown",
      "metadata": {
        "id": "w72A4tjWTJtJ",
        "colab_type": "text"
      },
      "source": [
        "Hàm `criterion()` được sử dụng để tính loss function. `loss.backward()` sẽ thực hiện quá trình lan truyền ngược và `optimizer.step()` được dùng để cập nhật gradients theo phương pháp optimization."
      ]
    },
    {
      "cell_type": "markdown",
      "metadata": {
        "colab_type": "text",
        "deletable": true,
        "editable": true,
        "id": "ansWfET-UTay"
      },
      "source": [
        "## 3.4. Huấn luyện một mô hình phân lớp\n",
        "\n",
        "Phần này được tham khảo từ code của bài viết gốc: [Hướng dẫn phân loại ảnh pytorch](https://pytorch.org/tutorials/beginner/blitz/cifar10_tutorial.html)\n",
        "\n",
        "Như vậy chúng ta đã hình dung cơ bản được cách nào để xây dựng một mạng neural và làm thế nào để tính toán loss function và cập nhật trọng số. \n",
        "\n",
        "Nhưng bước quan trọng nhất của mô hình đó là chuyển hóa dữ liệu từ raw data sang numpy array của python để model có thể đọc hiểu được.\n",
        "\n",
        "Các định dạng dữ liệu thông thường bạn làm việc sẽ là hình ảnh, âm thanh, đoạn text, đoạn video. Bạn có thể sử dụng các packages của python để đọc những dữ liệu này dưới dạng numpy và sau đó convert những array này sang torch tensor.\n",
        "\n",
        "* Đối với hình ảnh, packages có thể sử dụng là pillow, opencv.\n",
        "* Đối với âm thanh chúng ta có thể sử dụng scipy hoặc librosa.\n",
        "* Đối với định dạng text NLTK và Spacy có thể hữu ích.\n",
        "\n",
        "Để sử dụng chuyên biệt cho đọc và xử lý ảnh trên pytorch chúng ta có thể sử dụng một packages là `torchvision`. Package này có thể load được các bộ ảnh lớn như CIFAR10, MNIST, ... và biến đổi dữ liệu ảnh thông qua các module torchvision.datasets, torchvision.utils.data.DataLoader hay visualization.\n",
        "\n",
        "## 3.5. Huấn luyện một model phân loại ảnh\n",
        "\n",
        "Chúng ta sẽ đi qua các step sau đây:\n",
        "* Load hình ảnh và chuẩn hóa tập dữ liệu hình ảnh CIFAR10 sử dụng torchvision.\n",
        "* Xác định kiến trúc mạng neural.\n",
        "* Xác định hàm loss function.\n",
        "* Huấn luyện model trên tập training.\n",
        "* Đánh giá model trên tập testing.\n",
        "\n",
        "### 3.5.1. Loading và chuẩn hóa CIFAR10\n",
        "\n",
        "Sử dụng torchvision chúng ta có thể dễ dàng load các hình ảnh trong CIFAR10. Đầu ra của torchvision dataset là các hình ảnh PILImage nằm trong khoảng [0, 1]. Chúng ta sẽ biến đổi chúng thành các Tensors chuẩn hóa về khoảng [-1, 1]."
      ]
    },
    {
      "cell_type": "code",
      "metadata": {
        "colab_type": "code",
        "deletable": true,
        "editable": true,
        "id": "Q-ozhg8ib_wk",
        "outputId": "18b921c8-f85e-4939-d89f-d9ac1b3eff19",
        "colab": {
          "base_uri": "https://localhost:8080/",
          "height": 51
        }
      },
      "source": [
        "import torch\n",
        "import torchvision\n",
        "import torchvision.transforms as transforms\n",
        "\n",
        "# Xây dựng một chuẩn hóa đầu vào cho ảnh\n",
        "\n",
        "transform = transforms.Compose(\n",
        "  [transforms.ToTensor(),\n",
        "  transforms.Normalize((0.5, 0.5, 0.5), (0.5, 0.5, 0.5))]\n",
        ")\n",
        "\n",
        "# Khởi tạo dữ trainset qui định dữ liệu training\n",
        "trainset = torchvision.datasets.CIFAR10(root = './CIFAR10', train = True, \n",
        "                                       download = True, transform = transform)\n",
        "\n",
        "# Khởi tạo trainloader qui định cách truyền dữ liệu vào model theo batch. \n",
        "trainloader = torch.utils.data.DataLoader(trainset, batch_size = 4, \n",
        "                                         shuffle = True, num_workers = 2)\n",
        "\n",
        "# Tương tự nhưng đối với test\n",
        "testset = torchvision.datasets.CIFAR10(root = './CIFAR10', train = False, \n",
        "                                      download = True, transform = transform)\n",
        "\n",
        "testloader = torch.utils.data.DataLoader(testset, batch_size = 4,\n",
        "                                              shuffle = False, num_workers = 2)\n",
        "\n",
        "# Nhãn cho các class\n",
        "classes = ('plane', 'car', 'bird', 'cat',\n",
        "           'deer', 'dog', 'frog', 'horse', 'ship', 'truck')"
      ],
      "execution_count": 44,
      "outputs": [
        {
          "output_type": "stream",
          "text": [
            "\r0it [00:00, ?it/s]"
          ],
          "name": "stderr"
        },
        {
          "output_type": "stream",
          "text": [
            "Downloading https://www.cs.toronto.edu/~kriz/cifar-10-python.tar.gz to ./CIFAR10/cifar-10-python.tar.gz\n"
          ],
          "name": "stdout"
        },
        {
          "output_type": "stream",
          "text": [
            " 98%|█████████▊| 167616512/170498071 [00:11<00:00, 17124241.10it/s]"
          ],
          "name": "stderr"
        },
        {
          "output_type": "stream",
          "text": [
            "Files already downloaded and verified\n"
          ],
          "name": "stdout"
        }
      ]
    },
    {
      "cell_type": "code",
      "metadata": {
        "id": "bYx5FA2UYvP9",
        "colab_type": "code",
        "colab": {
          "base_uri": "https://localhost:8080/",
          "height": 51
        },
        "outputId": "dcd2ba43-bc2d-4638-9624-f34b618930fd"
      },
      "source": [
        "print(type(trainset[0][0]))\n",
        "print(trainset[0][0].size())"
      ],
      "execution_count": 55,
      "outputs": [
        {
          "output_type": "stream",
          "text": [
            "<class 'torch.Tensor'>\n",
            "torch.Size([3, 32, 32])\n"
          ],
          "name": "stdout"
        }
      ]
    },
    {
      "cell_type": "markdown",
      "metadata": {
        "colab_type": "text",
        "deletable": true,
        "editable": true,
        "id": "4-WEcxDhLiSI"
      },
      "source": [
        "Các object trainset và testset là dữ liệu mà chúng ta sử dụng để huấn luyện model (chính là list các tensor đại diện cho các bức ảnh). Những object còn lại bao gồm trainLoader và testLoader qui định dữ liệu chúng ta lấy từ đâu và cách thức chúng ta truyền dữ liệu vào mô hình theo batch với kích thước bao nhiêu, có thực hiện shuffle các batch sau khi hết một epoch hay không?"
      ]
    },
    {
      "cell_type": "markdown",
      "metadata": {
        "colab_type": "text",
        "deletable": true,
        "editable": true,
        "id": "BpAldx20deC6"
      },
      "source": [
        "Hiển thị một số hình ảnh bằng matplotlib"
      ]
    },
    {
      "cell_type": "code",
      "metadata": {
        "colab_type": "code",
        "deletable": true,
        "editable": true,
        "id": "saorlB1zdQa7",
        "outputId": "20ff787f-4cab-46b8-b9f3-c3ca085facea",
        "colab": {
          "base_uri": "https://localhost:8080/",
          "height": 156
        }
      },
      "source": [
        "import matplotlib.pyplot as plt\n",
        "import numpy as np\n",
        "\n",
        "# functions to show an image\n",
        "\n",
        "\n",
        "def imshow(img):\n",
        "    img = img / 2 + 0.5     # unnormalize\n",
        "    npimg = img.numpy()\n",
        "    plt.imshow(np.transpose(npimg, (1, 2, 0)))\n",
        "    plt.show()\n",
        "\n",
        "\n",
        "# get some random training images\n",
        "dataiter = iter(trainloader)\n",
        "images, labels = dataiter.next()\n",
        "\n",
        "# show images\n",
        "imshow(torchvision.utils.make_grid(images))\n",
        "# print labels\n",
        "print(' '.join('%5s' % classes[labels[j]] for j in range(4)))"
      ],
      "execution_count": 0,
      "outputs": [
        {
          "output_type": "display_data",
          "data": {
            "image/png": "[encoded data removed]",
            "text/plain": [
              "<Figure size 432x288 with 1 Axes>"
            ]
          },
          "metadata": {
            "tags": []
          }
        },
        {
          "output_type": "stream",
          "text": [
            "truck plane   cat truck\n"
          ],
          "name": "stdout"
        }
      ]
    },
    {
      "cell_type": "code",
      "metadata": {
        "colab_type": "code",
        "deletable": true,
        "editable": true,
        "id": "1DXs0VVVegoC",
        "outputId": "5f844387-1b67-4e08-ae76-e83463f3a3da",
        "colab": {
          "base_uri": "https://localhost:8080/",
          "height": 51
        }
      },
      "source": [
        "print(type(trainloader))\n",
        "print(images.shape)"
      ],
      "execution_count": 0,
      "outputs": [
        {
          "output_type": "stream",
          "text": [
            "<class 'torch.utils.data.dataloader.DataLoader'>\n",
            "torch.Size([4, 3, 32, 32])\n"
          ],
          "name": "stdout"
        }
      ]
    },
    {
      "cell_type": "markdown",
      "metadata": {
        "colab_type": "text",
        "deletable": true,
        "editable": true,
        "id": "f5ifa5EQe4mT"
      },
      "source": [
        "### 3.5.2. Xác định một mạng neural network\n",
        "\n",
        "Khởi tạo một mạng neural network thông qua class net như bên dưới. Hàm tạo `__init__()` sẽ chứa những layers của class và hàm `forward()` được sử dụng để ráp nối các layer và trả về một module hoàn chỉnh.\n",
        "\n",
        "Để hiểu về các layer trong pytorch chúng ta tham khảo tại [pytorch layer](https://pytorch.org/docs/stable/nn.html?highlight=nn%20linear#torch.nn.Linear)."
      ]
    },
    {
      "cell_type": "code",
      "metadata": {
        "colab_type": "code",
        "deletable": true,
        "editable": true,
        "id": "R4GKZNQSe1qo",
        "colab": {}
      },
      "source": [
        "import torch.nn as nn\n",
        "import torch.nn.functional as F\n",
        "\n",
        "\n",
        "class Net(nn.Module):\n",
        "  def __init__(self):\n",
        "    super(Net, self).__init__()\n",
        "    # Conv2d: input nodes, output nodes, kernel size\n",
        "    self.conv1 = nn.Conv2d(3, 6, 5)\n",
        "    self.pool = nn.MaxPool2d(2, 2)\n",
        "    self.conv2 = nn.Conv2d(6, 16, 5)\n",
        "    self.fc1 = nn.Linear(16 * 5 * 5, 120)\n",
        "    self.fc2 = nn.Linear(120, 84)\n",
        "    self.fc3 = nn.Linear(84, 10)\n",
        "\n",
        "  def forward(self, x):\n",
        "    x = self.pool(F.relu(self.conv1(x)))\n",
        "    x = self.pool(F.relu(self.conv2(x)))\n",
        "    x = x.view(-1, 16 * 5 * 5)\n",
        "    x = F.relu(self.fc1(x))\n",
        "    x = F.relu(self.fc2(x))\n",
        "    x = self.fc3(x)\n",
        "    return x\n",
        "\n",
        "\n",
        "net = Net()"
      ],
      "execution_count": 0,
      "outputs": []
    },
    {
      "cell_type": "markdown",
      "metadata": {
        "colab_type": "text",
        "deletable": true,
        "editable": true,
        "id": "tNyWCOMRf_0y"
      },
      "source": [
        "## 3.6. Xác định hàm optimizer và hàm loss function\n",
        "\n",
        "Hàm loss function được sử dụng là cross-entropy thông qua class `nn.CrossEntropyLoss()` và phương pháp optimizer là stochastic gradient descent của module `torch.optim`. Chi tiết về hàm loss function và phương pháp optimize đã quá quen thuộc, các bạn có thể lên google search một vài bài báo để hiểu rõ."
      ]
    },
    {
      "cell_type": "code",
      "metadata": {
        "colab_type": "code",
        "deletable": true,
        "editable": true,
        "id": "IFzFSZpGf-Xx",
        "colab": {}
      },
      "source": [
        "import torch.optim as optim\n",
        "\n",
        "criterion = nn.CrossEntropyLoss()\n",
        "optimizer = optim.SGD(net.parameters(), lr = 0.001, momentum = 0.1)"
      ],
      "execution_count": 0,
      "outputs": []
    },
    {
      "cell_type": "markdown",
      "metadata": {
        "colab_type": "text",
        "deletable": true,
        "editable": true,
        "id": "XC3uGGdogbMt"
      },
      "source": [
        "### 3.7. Huấn luyện model\n",
        "\n",
        "Chúng ta sẽ khởi tạo một vòng loop bao gồm 2 epochs trong đó mỗi một epochs sẽ truyền toàn bộ các data iterator như đầu vào của mạng nơ ron. Bên trong mỗi epoch chúng ta xác định:\n",
        "\n",
        "* output của mô hình.\n",
        "* hàm loss function.\n",
        "* phương pháp optimize.\n",
        "* thực hiện quá trình feed forward.\n",
        "\n",
        "Mọi thứ diễn ra khá đơn giản theo như code bên dưới"
      ]
    },
    {
      "cell_type": "code",
      "metadata": {
        "colab_type": "code",
        "deletable": true,
        "editable": true,
        "id": "7r-xM7egJKDa",
        "outputId": "c716002a-c1c1-475b-c181-9053ea83f906",
        "colab": {
          "base_uri": "https://localhost:8080/",
          "height": 238
        }
      },
      "source": [
        "for epoch in range(2): # loop over the dataset multiple times\n",
        "  running_loss = 0.0\n",
        "  for i, data in enumerate(trainloader, 0):\n",
        "    # get the inputs, data is a list of [inputs, labels]\n",
        "    inputs, labels = data\n",
        "    \n",
        "    # zero the parameter gradients\n",
        "    optimizer.zero_grad()\n",
        "    \n",
        "    # forward + backward + optimize\n",
        "    outputs = net(inputs)\n",
        "    loss = criterion(outputs, labels)\n",
        "    loss.backward()\n",
        "    optimizer.step()\n",
        "    \n",
        "    # print statistics\n",
        "    running_loss += loss.item()\n",
        "    if i % 2000 == 1999: # print every 2000 mini-batches\n",
        "      print('[%d, %5d] loss: %.3f' %\n",
        "           (epoch + 1, i + 1, running_loss/2000))\n",
        "      running_loss = 0.0\n",
        "      \n",
        "print('Finished Training')\n",
        "      "
      ],
      "execution_count": 0,
      "outputs": [
        {
          "output_type": "stream",
          "text": [
            "[1,  2000] loss: 2.305\n",
            "[1,  4000] loss: 2.300\n",
            "[1,  6000] loss: 2.296\n",
            "[1,  8000] loss: 2.283\n",
            "[1, 10000] loss: 2.223\n",
            "[1, 12000] loss: 2.094\n",
            "[2,  2000] loss: 2.002\n",
            "[2,  4000] loss: 1.930\n",
            "[2,  6000] loss: 1.876\n",
            "[2,  8000] loss: 1.821\n",
            "[2, 10000] loss: 1.774\n",
            "[2, 12000] loss: 1.755\n",
            "Finished Training\n"
          ],
          "name": "stdout"
        }
      ]
    },
    {
      "cell_type": "markdown",
      "metadata": {
        "colab_type": "text",
        "deletable": true,
        "editable": true,
        "id": "rMGo7NhmKj7o"
      },
      "source": [
        "### 3.8. Kiểm tra network trên tập data test\n",
        "\n",
        "Như vậy chúng ta đã hoàn thành 2 lượt huấn luyện dữ liệu trên toàn bộ tập training dataset. Sau đây chúng ta cần kiểm tra xem kết quả mô hình sau huấn luyện như thế nào trên dữ liệu test dataset."
      ]
    },
    {
      "cell_type": "code",
      "metadata": {
        "colab_type": "code",
        "deletable": true,
        "editable": true,
        "id": "FNIWYVLCMrFF",
        "outputId": "11672e84-9dfd-4745-f1a1-45e425731b7c",
        "colab": {
          "base_uri": "https://localhost:8080/",
          "height": 156
        }
      },
      "source": [
        "# Hiển thị một vài dữ liệu\n",
        "# Sử dụng hàm iter để biến testloader thành 1 iterator, từ đó có thể lấy các giá trị tiếp theo.\n",
        "dataiter = iter(testloader)\n",
        "images, labels = dataiter.next()\n",
        "\n",
        "# print image\n",
        "imshow(torchvision.utils.make_grid(images))\n",
        "print('GroundTruth: {}'.format(' '.join('%5s' % classes[labels[j]] for j in range(4))))"
      ],
      "execution_count": 0,
      "outputs": [
        {
          "output_type": "display_data",
          "data": {
            "image/png": "[encoded data removed]",
            "text/plain": [
              "<Figure size 432x288 with 1 Axes>"
            ]
          },
          "metadata": {
            "tags": []
          }
        },
        {
          "output_type": "stream",
          "text": [
            "GroundTruth:   cat  ship  ship plane\n"
          ],
          "name": "stdout"
        }
      ]
    },
    {
      "cell_type": "markdown",
      "metadata": {
        "colab_type": "text",
        "deletable": true,
        "editable": true,
        "id": "0HqWXzNUNbtl"
      },
      "source": [
        "Khác với tensorflow khi dự báo chúng ta cần phải sử dụng hàm predict. Để dự báo nhãn cho tập data test chúng ta chỉ cần truyền raw data vào object `net`.  Mô hình sẽ tự động thực hiện một quá trình lan truyền thuận và tính ra phân phối xác xuất ở đầu ra."
      ]
    },
    {
      "cell_type": "code",
      "metadata": {
        "colab_type": "code",
        "deletable": true,
        "editable": true,
        "id": "WyaNkcFxNUDt",
        "outputId": "1fd4b635-7886-4e51-ab03-fb018c57b4e5",
        "colab": {
          "base_uri": "https://localhost:8080/"
        }
      },
      "source": [
        "outputs = net(images)\n",
        "print(type(outputs))\n",
        "print(outputs.shape)"
      ],
      "execution_count": 0,
      "outputs": [
        {
          "output_type": "stream",
          "text": [
            "<class 'torch.Tensor'>\n",
            "torch.Size([4, 10])\n"
          ],
          "name": "stdout"
        }
      ]
    },
    {
      "cell_type": "markdown",
      "metadata": {
        "colab_type": "text",
        "deletable": true,
        "editable": true,
        "id": "8RA72vuJOaUZ"
      },
      "source": [
        "Lấy ra nhãn dự báo dựa vào xác xuất lớn nhất của phân phối xác xuất đầu ra. "
      ]
    },
    {
      "cell_type": "code",
      "metadata": {
        "colab_type": "code",
        "deletable": true,
        "editable": true,
        "id": "KS9amew4OOQ1",
        "outputId": "9e5f5c6f-a838-40a5-fc01-3604b943c6ef",
        "colab": {
          "base_uri": "https://localhost:8080/",
          "height": 34
        }
      },
      "source": [
        "_,  predicted = torch.max(outputs, 1)\n",
        "print('Predicted: ', ' '.join('%5s' % classes[predicted[j]]\n",
        "                              for j in range(4)))"
      ],
      "execution_count": 0,
      "outputs": [
        {
          "output_type": "stream",
          "text": [
            "Predicted:    cat  ship  ship  ship\n"
          ],
          "name": "stdout"
        }
      ]
    },
    {
      "cell_type": "markdown",
      "metadata": {
        "colab_type": "text",
        "deletable": true,
        "editable": true,
        "id": "emcjGiceSx27"
      },
      "source": [
        "Dự báo trên 4 quan sát đầu tiên cho thấy đúng 3 sai 1. Kiểm tra trên toàn bộ các quan sát."
      ]
    },
    {
      "cell_type": "code",
      "metadata": {
        "colab_type": "code",
        "deletable": true,
        "editable": true,
        "id": "XLeL81_rTvWx",
        "outputId": "f6915f07-d0e3-4b5e-b679-a4473fd5753f",
        "colab": {
          "base_uri": "https://localhost:8080/",
          "height": 85
        }
      },
      "source": [
        "print(type(labels))\n",
        "print(type(images))\n",
        "\n",
        "print(labels.shape)\n",
        "print(images.shape)"
      ],
      "execution_count": 0,
      "outputs": [
        {
          "output_type": "stream",
          "text": [
            "<class 'torch.Tensor'>\n",
            "<class 'torch.Tensor'>\n",
            "torch.Size([4])\n",
            "torch.Size([4, 3, 32, 32])\n"
          ],
          "name": "stdout"
        }
      ]
    },
    {
      "cell_type": "code",
      "metadata": {
        "colab_type": "code",
        "deletable": true,
        "editable": true,
        "id": "jmTSfUlaSd0D",
        "outputId": "16aca519-95e3-4763-d2c4-cef6967bac51",
        "colab": {
          "base_uri": "https://localhost:8080/",
          "height": 34
        }
      },
      "source": [
        "correct = 0\n",
        "total = 0\n",
        "with torch.no_grad():\n",
        "    for data in testloader:\n",
        "        images, labels = data\n",
        "        outputs = net(images)\n",
        "        _, predicted = torch.max(outputs.data, 1)\n",
        "        total += labels.size(0)\n",
        "        correct += (predicted == labels).sum().item()\n",
        "\n",
        "print('Accuracy of the network on the 10000 test images: %d %%' % (\n",
        "    100 * correct / total))"
      ],
      "execution_count": 0,
      "outputs": [
        {
          "output_type": "stream",
          "text": [
            "Accuracy of the network on the 10000 test images: 37 %\n"
          ],
          "name": "stdout"
        }
      ]
    },
    {
      "cell_type": "markdown",
      "metadata": {
        "colab_type": "text",
        "deletable": true,
        "editable": true,
        "id": "Utzd0w_sT_vu"
      },
      "source": [
        "Kiểm tra mức độ chính xác trên từng class một."
      ]
    },
    {
      "cell_type": "code",
      "metadata": {
        "colab_type": "code",
        "deletable": true,
        "editable": true,
        "id": "rjx2FdWqUCt6",
        "outputId": "10aca864-4ac4-4422-9816-394172fb8c21",
        "colab": {
          "base_uri": "https://localhost:8080/",
          "height": 187
        }
      },
      "source": [
        "class_correct = list(0. for i in range(10))\n",
        "class_total = list(0. for i in range(10))\n",
        "with torch.no_grad():\n",
        "    for data in testloader:\n",
        "        images, labels = data\n",
        "        outputs = net(images)\n",
        "        _, predicted = torch.max(outputs, 1)\n",
        "        c = (predicted == labels).squeeze()\n",
        "        for i in range(4):\n",
        "            label = labels[i]\n",
        "            class_correct[label] += c[i].item()\n",
        "            class_total[label] += 1\n",
        "\n",
        "\n",
        "for i in range(10):\n",
        "    print('Accuracy of %5s : %2d %%' % (\n",
        "        classes[i], 100 * class_correct[i] / class_total[i]))"
      ],
      "execution_count": 0,
      "outputs": [
        {
          "output_type": "stream",
          "text": [
            "Accuracy of plane : 46 %\n",
            "Accuracy of   car : 42 %\n",
            "Accuracy of  bird : 31 %\n",
            "Accuracy of   cat : 16 %\n",
            "Accuracy of  deer : 14 %\n",
            "Accuracy of   dog : 20 %\n",
            "Accuracy of  frog : 56 %\n",
            "Accuracy of horse : 53 %\n",
            "Accuracy of  ship : 39 %\n",
            "Accuracy of truck : 49 %\n"
          ],
          "name": "stdout"
        }
      ]
    },
    {
      "cell_type": "markdown",
      "metadata": {
        "colab_type": "text",
        "deletable": true,
        "editable": true,
        "id": "sAB5D_gxUoFu"
      },
      "source": [
        "## 3.9. Huấn luyện model trên GPU\n",
        "\n",
        "Đầu tiên xác định cuda device nếu chúng thực sự tồn tại."
      ]
    },
    {
      "cell_type": "code",
      "metadata": {
        "colab_type": "code",
        "deletable": true,
        "editable": true,
        "id": "8nUnsdvAVJld",
        "outputId": "9cc41163-3e22-469e-80d8-008264292df6",
        "colab": {
          "base_uri": "https://localhost:8080/",
          "height": 34
        }
      },
      "source": [
        "device = torch.device(\"cuda:0\" if torch.cuda.is_available() else \"cpu\")\n",
        "print(device)"
      ],
      "execution_count": 0,
      "outputs": [
        {
          "output_type": "stream",
          "text": [
            "cuda:0\n"
          ],
          "name": "stdout"
        }
      ]
    },
    {
      "cell_type": "markdown",
      "metadata": {
        "colab_type": "text",
        "deletable": true,
        "editable": true,
        "id": "ruj8xdi5Veuf"
      },
      "source": [
        "Để đưa model lên device chúng ta sẽ convert chúng thành parameters và lưu trữ chúng lên buffer của CUDA."
      ]
    },
    {
      "cell_type": "code",
      "metadata": {
        "colab_type": "code",
        "deletable": true,
        "editable": true,
        "id": "gnOZlDEeVXmy",
        "outputId": "aa6266c1-4edd-4e18-dd4a-54634341d043",
        "colab": {
          "base_uri": "https://localhost:8080/",
          "height": 153
        }
      },
      "source": [
        "net.to(device)"
      ],
      "execution_count": 0,
      "outputs": [
        {
          "output_type": "execute_result",
          "data": {
            "text/plain": [
              "Net(\n",
              "  (conv1): Conv2d(3, 6, kernel_size=(5, 5), stride=(1, 1))\n",
              "  (pool): MaxPool2d(kernel_size=2, stride=2, padding=0, dilation=1, ceil_mode=False)\n",
              "  (conv2): Conv2d(6, 16, kernel_size=(5, 5), stride=(1, 1))\n",
              "  (fc1): Linear(in_features=400, out_features=120, bias=True)\n",
              "  (fc2): Linear(in_features=120, out_features=84, bias=True)\n",
              "  (fc3): Linear(in_features=84, out_features=10, bias=True)\n",
              ")"
            ]
          },
          "metadata": {
            "tags": []
          },
          "execution_count": 64
        }
      ]
    },
    {
      "cell_type": "markdown",
      "metadata": {
        "colab_type": "text",
        "deletable": true,
        "editable": true,
        "id": "YcOPMHhiV-Fh"
      },
      "source": [
        "Hãy nhớ rằng bạn phải gửi inputs và targets tại mỗi bước huấn luyện lên GPU:"
      ]
    },
    {
      "cell_type": "code",
      "metadata": {
        "colab_type": "code",
        "deletable": true,
        "editable": true,
        "id": "hs-1ntZ8Wjfm",
        "outputId": "c1e030dc-a687-4cd3-a6c9-346c4894574b",
        "colab": {
          "base_uri": "https://localhost:8080/",
          "height": 51
        }
      },
      "source": [
        "print(data[0].shape)\n",
        "print(data[1].shape)"
      ],
      "execution_count": 0,
      "outputs": [
        {
          "output_type": "stream",
          "text": [
            "torch.Size([4, 3, 32, 32])\n",
            "torch.Size([4])\n"
          ],
          "name": "stdout"
        }
      ]
    },
    {
      "cell_type": "code",
      "metadata": {
        "colab_type": "code",
        "deletable": true,
        "editable": true,
        "id": "8UsmS_scWNzg",
        "colab": {}
      },
      "source": [
        "inputs, labels = data[0].to(device), data[1].to(device)"
      ],
      "execution_count": 0,
      "outputs": []
    },
    {
      "cell_type": "markdown",
      "metadata": {
        "colab_type": "text",
        "deletable": true,
        "editable": true,
        "id": "8VFMxaz0XXfi"
      },
      "source": [
        "# 4. Tài liệu tham khảo\n",
        "\n",
        "1. [Pytorch layer](https://pytorch.org/docs/stable/nn.html)\n",
        "2. [Xây dựng mạng convolutional neural network trên pytorch](https://pytorch.org/tutorials/beginner/blitz/cifar10_tutorial.html)\n",
        "3. [Dataset pytorch](https://pytorch.org/docs/stable/data.html)\n",
        "4. [Xử lý trên GPU - pytorch](https://pytorch.org/tutorials/beginner/blitz/data_parallel_tutorial.html)"
      ]
    }
  ]
}