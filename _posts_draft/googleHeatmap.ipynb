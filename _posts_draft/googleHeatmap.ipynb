{
 "cells": [
  {
   "cell_type": "markdown",
   "metadata": {
    "deletable": true,
    "editable": true
   },
   "source": [
    "# 1. Các biểu đồ dạng bản đồ \n",
    "**Bản đồ google map có thể thực hiện được những gì?**\n",
    "\n",
    "Ngày nay cùng với sự phát triển của công cụ google map, việc visualize các báo cáo có liên quan đến vị trí địa lý trở nên dễ dàng hơn. Google map cũng support đa dạng các biểu đồ khác nhau như biểu đồ heatmap, biểu đồ scatter, biểu đồ line và rất nhiều các tùy biến khác trên một bản đồ có khả năng phóng to hoặc thu nhỏ theo view. Người dùng thông qua các điểm trên google map có thể đo lường được vị trí khoảng cách địa lý, phân phối mạng lưới chi nhánh theo khu vực. Các ứng dụng lớn của google map có thể kể đến đó là:\n",
    "\n",
    "- Vẽ các biểu đồ cảnh báo thiên tai: Mức độ động đất, lũ quét, hạn hán,....\n",
    "- Vẽ các biểu đồ liên quan đến dân số, sản lượng nông nghiệp, công nghiệp.\n",
    "- Trong bất động sản có thể ứng dụng google map để người mua dễ hình dung vị trí của nhà ở so với các trục đường chính và hệ thống cơ sở hạ tầng xung quanh khu vực.\n",
    "- Visualize mạng lưới kinh doanh để quản lý và phát triển mạng lưới.\n",
    "- Đánh dấu vị trí cửa hàng, doanh nghiệp trên google map để tăng lượng khách hàng tiềm năng.\n",
    "...\n",
    "\n",
    "Và rất nhiều các ứng dụng khác của google map mà ta có thể thực hiện được. Để vẽ một biểu đồ của google map rất đơn giản vì dữ liệu đầu vào cần có tọa độ địa lý `(longtitude, latitude)` và giá trị gắn liền với tọa độ địa lý đó.\n",
    "\n",
    "Bài viết này sẽ hướng dẫn các bạn cách để vẽ các biểu đồ thông dụng trên google map sao cho đẹp mắt, hiệu quả và thể hiện được mục tiêu cần phân tích.\n",
    "\n",
    "Các tài liệu mà tôi tham khảo để vẽ biểu đồ sẽ được liệt kê ở phần cuối cùng.\n",
    "\n",
    "Bây h chúng ta sẽ cùng bắt tay việc thực hiện các biểu đồ trên google map nào.\n",
    "\n",
    "**Có thể sử dụng những package nào để visualize bản đồ trên python?**\n",
    "\n",
    "Trên python có rất nhiều các package visualization các bản đồ của google map. Một trong số đó là: `folium, gmplot, gmaps`. Các package `gmplot, gmaps` đều sử dụng các API của google map. Gần đây việc sử dụng những thông tin này yêu cầu bạn phải có tài khoản trả phí của google. Trái lại `folium` sử dụng thông tin bản đồ từ OpenStreetMap là một data mở được chia sẻ tới người dùng. Bên dưới là thông tin giới thiệu về những packages này:\n",
    "\n",
    "* folium: Là một công cụ khai phá dữ liệu mạnh của python kế thừa các tính năng mạnh mẽ của thư viện rất nổi tiếng về map là `Leaflet.js` trong javascript.\n",
    "* gmplot: Là một interface của matplotlib để tạo thành HTML và javascript cho phép render toàn bộ dữ liệu bạn muốn vào một bản đồ trên google map một cách dễ dàng.\n",
    "* gmaps: Cũng là một Jupyter plugin cho phép nhúng google map vào một jupyter notebook. Các tính năng chính tương tự như gmplot.\n",
    "\n",
    "Trong bài viết này chúng ta sẽ sử dụng thư viện folium là chủ yếu bởi: Biểu đồ không yêu cầu phải sử dụng API key của google map và các graphic cũng đa dạng hơn rất nhiều so với gmplot và gmaps.\n",
    "\n",
    "Lý thuyết cũng chỉ là lý thuyết. Bây h hãy cùng xem chúng ta có thể tạo được các bản đồ đẹp mắt như thế nào trên google map nào.\n",
    "\n",
    "# 2. Biểu đồ mark\n",
    "**Ví dụ về đánh dấu chi nhánh**\n",
    "\n",
    "Giả sử công ty bạn có một mạng lưới các chi nhánh phân bố từ bắc vào nam. Bạn không biết làm cách nào để thể hiện khoảng cách giữa các chi nhánh đó. Trước khi có google map công việc thật khó khăn nhưng hiện tại bạn có thể:\n",
    "\n",
    "- Đánh dấu vị trí địa lý các chi nhánh trên bản đồ.\n",
    "- Thể hiện qui mô doanh số giữa các chi nhánh.\n",
    "- Phân biệt được các chi nhánh theo vùng quản lý dựa trên màu sắc thay đổi.\n",
    "\n",
    "Tôi sẽ lấy ví dụ một công ty (dữ liệu fake) có khoảng 200 chi nhánh được phân chia thành 7 vùng với mã số từ `R01` đến `R07` và 2 miền `MB` và `MN` như bên dưới. Chúng ta sẽ vẽ biểu đồ phân bố chi nhánh theo vùng và thể hiện doanh số của các chi nhánh thông qua 3 packages trên. Dữ liệu chúng ta có thể download tại [DemandBranchFake.xlsx](https://drive.google.com/file/d/1tbWWs58EedFhIl5DBdnW9p8uB8oSjZSv/view?usp=sharing).\n",
    "\n",
    "**Khảo sát dữ liệu**"
   ]
  },
  {
   "cell_type": "code",
   "execution_count": 17,
   "metadata": {
    "collapsed": false,
    "deletable": true,
    "editable": true
   },
   "outputs": [],
   "source": [
    "import pandas as pd\n",
    "dataset = pd.read_excel(\"DemandBranchFake.xlsx\", sheet_name=\"DemandBranchFake\", \n",
    "                        names = ['DELIVERY_WARD_LATITUDE', 'DELIVERY_WARD_LONGITUDE', 'PROVINCE',\n",
    "                                   'BRANCH_CODE', 'AREA', 'REGION', 'DEMAND'],\n",
    "                        encoding=\"utf8\", sep=\",\", header=0)\n",
    "print(dataset.shape)\n",
    "dataset.head()"
   ]
  },
  {
   "cell_type": "markdown",
   "metadata": {},
   "source": [
    "![](dataDemandBranchFake.png)"
   ]
  },
  {
   "cell_type": "markdown",
   "metadata": {
    "deletable": true,
    "editable": true
   },
   "source": [
    "## 2.1. Khởi tạo google map\n",
    "\n",
    "Việc đầu tiên khi tạo một bản đồ trên google map là chúng ta phải khởi tạo một base map. Một base map sẽ yêu cầu truyền vào giá trị latitude-longtitude (vĩ độ-kinh độ) để xác định tọa độ vị trí tâm bản đồ và mức độ zoom tại thời điểm ban đầu. Từ các giá trị này ta sẽ xác định được bản đồ khởi tạo sẽ hiển thị bắt đầu trên khu vực nào với mức độ phóng đại là bao nhiêu. Chẳng hạn nếu tôi muốn đồ thị của mình hiển thị một khu vực xung quanh Hà Nội với độ zoom không qua lớn tôi có thể thiết lập latitude-longtitude vào khoảng (20.9, 105.8) và mức độ zoom là 12. Trường hợp tôi muốn nhìn toàn bộ các tỉnh ở miền bắc có thể giảm độ zoom xuống 7-8. Điều đó có nghĩa rằng zoom càng to thì càng chi tiết và zoom nhỏ sẽ ít chi tiết nhưng bao phủ một khu vực rộng lớn hơn.\n",
    "\n",
    "Bên dưới ta sẽ khởi tạo một base map trên package gmplot thông qua hàm `GoogleMapPlotter()`."
   ]
  },
  {
   "cell_type": "code",
   "execution_count": 3,
   "metadata": {
    "collapsed": false,
    "deletable": true,
    "editable": true
   },
   "outputs": [],
   "source": [
    "import gmplot\n",
    "\n",
    "lat = 20.97\n",
    "long = 105.8\n",
    "zoom = 12\n",
    "\n",
    "# Khởi tạo một googleMapPlotter\n",
    "gmap1 = gmplot.GoogleMapPlotter(lat, long, zoom)\n",
    "# Lưu google map vào một html file\n",
    "gmap1.draw('initialGmplot.html')"
   ]
  },
  {
   "cell_type": "markdown",
   "metadata": {
    "deletable": true,
    "editable": true
   },
   "source": [
    "Hiện tại google đã thu phí đối với các API của google map service nên nếu không sử dụng google map key bạn sẽ chỉ có thể xem ở chế độ development mode. Bạn có thể tạo một key của [google map api](https://developers.google.com/maps/documentation/embed/get-api-key), sau khi đã tạo được key thì cần phải enable dịch vụ [Map API javascript](https://developers.google.com/maps/documentation/javascript/tutorial) để sử dụng được chế độ tương tác trên javascript. Thủ tục này khá mất công. Sau khi đã gen key, chúng ta cần add key vào bản đồ như bên dưới:"
   ]
  },
  {
   "cell_type": "code",
   "execution_count": 4,
   "metadata": {
    "collapsed": true,
    "deletable": true,
    "editable": true
   },
   "outputs": [],
   "source": [
    "import gmplot\n",
    "\n",
    "lat = 20.97\n",
    "long = 105.8\n",
    "zoom = 12\n",
    "\n",
    "# Khởi tạo một googleMapPlotter\n",
    "gmap1 = gmplot.GoogleMapPlotter(lat, long, zoom)\n",
    "# Thêm key cho API bằng cách thay thế key vào `your_key`\n",
    "gmap1.apikey = \"your_key\"\n",
    "# Lưu google map vào một html file\n",
    "gmap1.draw('initialGmplot.html')"
   ]
  },
  {
   "cell_type": "markdown",
   "metadata": {
    "deletable": true,
    "editable": true
   },
   "source": [
    "Theo cách trên bạn sẽ mất phí vì phải sử dụng các google services. Một giải pháp khác đó là package folium. Biểu đồ của folium không đòi hỏi API key, được kế thừa từ thư viện `leaflet.js` bên javascript nên trông đẹp mắt và đa dạng hơn."
   ]
  },
  {
   "cell_type": "code",
   "execution_count": 2,
   "metadata": {
    "collapsed": false,
    "deletable": true,
    "editable": true
   },
   "outputs": [],
   "source": [
    "import folium\n",
    "\n",
    "lat = 20.97\n",
    "long = 105.8\n",
    "zoom = 12\n",
    "\n",
    "gmap2 = folium.Map(location=(lat, long), zoom_start=zoom)\n",
    "gmap2.save('initialFolium.html')"
   ]
  },
  {
   "cell_type": "markdown",
   "metadata": {
    "deletable": true,
    "editable": true
   },
   "source": [
    "Sau khi mở các file trên các bạn sẽ thu được một bản đồ có dạng:\n",
    "\n",
    "![](foliumInitialMap.png)\n",
    "\n",
    "## 2.2. Đánh dấu điểm trên google map\n",
    "\n",
    "google map cho phép ta đánh dấu được những vị trí quan trọng trên bản đồ. Đây là một hình thức thu thập và làm giàu dữ liệu từ người dùng rất thông minh của google. Thi thoảng bạn sẽ nhận được những câu hỏi khi đánh dấu một địa điểm trên google map như:\n",
    "\n",
    "* Hãy cho tôi biết địa điểm bạn đang đứng là gì? Mục đích thu thập và làm giàu thông tin.\n",
    "* Có phải vị trí bạn đang ở gần địa điểm A không? Mục đích là xác thực thông tin người dùng khác đã nhập.\n",
    "* Hãy tham gia vào hệ thống người đánh dấu địa điểm của google để thu được các tiện ích gì đó (không nhớ rõ). Mục đích là để tạo ra những người dùng trung thành là chuyên gia và có đam mê với đánh dấu địa lý trên google map.\n",
    "\n",
    "Nói tóm lại google có rất nhiều cách thức khác nhau khuyến nghị người dùng bổ sung và làm giàu dữ liệu cho bản đồ của họ. Bản thân tôi cũng là một người thường xuyên đánh dấu lại các địa điểm trên google, nhưng nơi mà tôi đã đến du lịch để lưu lại thời gian, địa điểm như một cuốn nhật ký địa lý. Việc đánh dấu các điểm quan trọng trên bản đồ cũng có thể được sử dụng dễ dàng thông qua object `Marker` trong `folium`."
   ]
  },
  {
   "cell_type": "code",
   "execution_count": 3,
   "metadata": {
    "collapsed": false,
    "deletable": true,
    "editable": true
   },
   "outputs": [],
   "source": [
    "import folium\n",
    "\n",
    "lat = 20.97\n",
    "long = 105.8\n",
    "zoom = 12\n",
    "name = \"Nhà của Khánh\"\n",
    "color=\"red\"\n",
    "\n",
    "# Khởi tạo base map\n",
    "gmap2 = folium.Map(location=(lat, long), zoom_start=zoom)\n",
    "# Thêm một marker vào base map\n",
    "folium.Marker(location=(lat, long), popup=name).add_to(gmap2)\n",
    "gmap2.save(\"foliumMarker.html\")"
   ]
  },
  {
   "cell_type": "markdown",
   "metadata": {
    "deletable": true,
    "editable": true
   },
   "source": [
    "![](foliumMarker.png)\n",
    "\n",
    "Quay trở lại ví dụ về đánh dấu các chi nhánh. Chúng ta có gần 200 chi nhánh trong bộ dữ liệu. Liệu có thể đánh dấu toàn bộ những vị trí của các chi nhánh này? Câu trả lời là hoàn toàn có thể thông qua một vòng lặp đánh dấu từng điểm dữ liệu."
   ]
  },
  {
   "cell_type": "code",
   "execution_count": 8,
   "metadata": {
    "collapsed": false,
    "deletable": true,
    "editable": true
   },
   "outputs": [],
   "source": [
    "import folium\n",
    "\n",
    "lat = 20.97\n",
    "long = 105.8\n",
    "zoom = 12\n",
    "gmap2 = folium.Map(location=(lat, long), zoom_start=zoom)\n",
    "\n",
    "def _addMarker(gmap):\n",
    "    for i, row in dataset.iterrows():\n",
    "        marker = folium.Marker(location=(row['DELIVERY_WARD_LATITUDE'], row['DELIVERY_WARD_LONGITUDE']), popup = row['BRANCH_CODE'])\n",
    "        marker.add_to(gmap)\n",
    "\n",
    "_addMarker(gmap2)\n",
    "gmap2.save(\"foliumMarkerMultiple.html\")"
   ]
  },
  {
   "cell_type": "markdown",
   "metadata": {
    "deletable": true,
    "editable": true
   },
   "source": [
    "Khi đó các điểm trên bản đồ sẽ hiển thị như sau:\n",
    "\n",
    "![](foliumMarkerMultiple.png)"
   ]
  },
  {
   "cell_type": "markdown",
   "metadata": {
    "deletable": true,
    "editable": true
   },
   "source": [
    "# 2.3. Nối các điểm trên google map bằng polyLine \n",
    "\n",
    "**Ví dụ về giao vận**\n",
    "\n",
    "Một tình huống khác phát sinh đó là bạn là một đơn vị giao vận (logistic) và cần chuyển hàng từ điểm đến tới điểm đi. Làm sao để biết được giữa các điểm thể hiện trên bản đồ thì đâu là 2 điểm thuộc cùng một chuyến giao hàng (gồm điểm bắt đầu là kho và điểm kết thúc là địa chỉ nhận hàng). Trong `folium` biểu đồ `PolyLine` sẽ cho phép chúng ta đưa ra một lộ trình bằng cách nối các điểm trong list locations dựa trên kinh độ và vĩ độ của nó. Thực hiện như bên dưới:"
   ]
  },
  {
   "cell_type": "code",
   "execution_count": 19,
   "metadata": {
    "collapsed": false,
    "deletable": true,
    "editable": true
   },
   "outputs": [],
   "source": [
    "import folium\n",
    "\n",
    "lat = 20.97\n",
    "long = 105.8\n",
    "zoom = 12\n",
    "gmap2 = folium.Map(location=(lat, long), zoom_start=zoom)\n",
    "\n",
    "def _addPolyLine(gmap, dataset):\n",
    "    for i, row in dataset.iterrows():\n",
    "        marker = folium.Marker(location=(row['DELIVERY_WARD_LATITUDE'], row['DELIVERY_WARD_LONGITUDE']), popup = row['BRANCH_CODE'])\n",
    "        marker.add_to(gmap)\n",
    "    polyLine = folium.PolyLine(locations=list(zip(dataset['DELIVERY_WARD_LATITUDE'], dataset['DELIVERY_WARD_LONGITUDE'])), \n",
    "                              line_opacity=0.5).add_to(gmap)\n",
    "\n",
    "dataHN = dataset[dataset['PROVINCE'] == 'Hà Nội'].sample(5)\n",
    "_addPolyLine(gmap2, dataHN)\n",
    "gmap2.save(\"foliumPolyLine.html\")"
   ]
  },
  {
   "cell_type": "markdown",
   "metadata": {
    "deletable": true,
    "editable": true
   },
   "source": [
    "![](foliumPolyLine.png)\n",
    "\n",
    "## 2.4. Tính toán khoảng cách theo đường chim bay\n",
    "\n",
    "Dựa trên cặp (latitude, longtitude) truyền vào ta có thể tính toán được khoảng cách theo đường chim bay giữa các điểm với nhau.\n",
    "Khoảng cách được xây dựng dựa trên công thức tính khoảng cách giữa 2 điểm trên một mặt cầu. Bạn đọc quan tâm có thể xem thêm tại [Great circle distance - wikipedia](https://en.wikipedia.org/wiki/Great-circle_distance). Tôi xin phép không đi sâu lan man lý thuyết phần này mà đi vào ứng dụng luôn. Hàm tính khoảng cách khi đã biết tọa độ (latitude, longtitude) của 2 điểm $(X, Y)$ như bên dưới."
   ]
  },
  {
   "cell_type": "code",
   "execution_count": 11,
   "metadata": {
    "collapsed": false,
    "deletable": true,
    "editable": true
   },
   "outputs": [],
   "source": [
    "from math import cos, asin, sqrt\n",
    "import numpy as np\n",
    "\n",
    "def distance(lat1, lon1, lat2, lon2):\n",
    "    R = 6371 # Bán kính trái đất (km)\n",
    "    p = np.pi/180 # giá trị pi/180\n",
    "    a = 0.5 - cos((lat2 - lat1) * p)/2 + cos(lat1 * p) * cos(lat2 * p) * (1 - cos((lon2 - lon1) * p)) / 2\n",
    "    return 2*R*asin(sqrt(a)) "
   ]
  },
  {
   "cell_type": "markdown",
   "metadata": {
    "deletable": true,
    "editable": true
   },
   "source": [
    "Chẳng hạn bên dưới ta muốn tính khoảng cách từ tỉnh Vĩnh Long đến thành phố Hồ Chí Minh. Ta sẽ truyền vào tọa độ tương ứng với 2 vị trí này như bên dưới:"
   ]
  },
  {
   "cell_type": "code",
   "execution_count": 12,
   "metadata": {
    "collapsed": false,
    "deletable": true,
    "editable": true
   },
   "outputs": [
    {
     "data": {
      "text/plain": [
       "81.00896435483854"
      ]
     },
     "execution_count": 12,
     "metadata": {},
     "output_type": "execute_result"
    }
   ],
   "source": [
    "# Tọa độ Vĩnh Long\n",
    "lat1 = 10.250815\n",
    "lon1 = 106.002399\n",
    "# Tọa độ thành phố Hồ Chí Minh\n",
    "lat2 = 10.678836\n",
    "lon2 = 106.601911\n",
    "# Tính khoảng cách\n",
    "\n",
    "distance(lat1, lon1, lat2, lon2)"
   ]
  },
  {
   "cell_type": "markdown",
   "metadata": {
    "deletable": true,
    "editable": true
   },
   "source": [
    "## 2.5. Bản đồ heatmap\n",
    "\n",
    "Bản đồ heatmap hay còn gọi là bản đồ nhiệt là một trong những bản đồ thể hiện độ lớn thông qua cường độ màu sắc, rất hiệu quả trong việc đo lường giá trị cường độ theo vùng địa lý. Heatmap thường được sử dụng trong các biểu đồ cảnh báo thiên tai hoặc biểu đồ về phân bố lượng mưa, lượng nhiệt. \n",
    "\n",
    "Trong kinh doanh heatmap cũng rất hiệu quả trong việc thể hiện phân bố doanh số theo vùng. Giả sử dựa trên nhu cầu tiêu thụ của các vùng miền chúng ta muốn vẽ một bản đồ heatmap để hiển thị những vùng có nhu cầu tiêu thụ lớn và tập trung và những vùng có nhu cầu tiêu thụ ít. Chúng ta thực hiện như sau:"
   ]
  },
  {
   "cell_type": "code",
   "execution_count": 59,
   "metadata": {
    "collapsed": false,
    "deletable": true,
    "editable": true
   },
   "outputs": [],
   "source": [
    "from folium.plugins import HeatMap\n",
    "\n",
    "lat = 20.97\n",
    "long = 105.8\n",
    "zoom = 12\n",
    "gmap2 = folium.Map(location=(lat, long), zoom_start=zoom)\n",
    "maximum = max(dataset['DEMAND'])\n",
    "\n",
    "def _addHeatMap(dataset, gmap):\n",
    "    data_loc_val = list(zip(dataset['DELIVERY_WARD_LATITUDE'], dataset['DELIVERY_WARD_LONGITUDE'], dataset['DEMAND']))\n",
    "    heatMap = HeatMap(data=data_loc_val, \n",
    "            min_opacity = 0.6,\n",
    "            blur = 20,\n",
    "            max_val = maximum,\n",
    "            radius = 15, \n",
    "            overlay = True)\n",
    "    heatMap.add_to(gmap)\n",
    "    \n",
    "_addHeatMap(dataset, gmap2)\n",
    "gmap2.save(\"foliumHeatMap.html\")"
   ]
  },
  {
   "cell_type": "markdown",
   "metadata": {
    "deletable": true,
    "editable": true
   },
   "source": [
    "![](foliumHeatMap.png)"
   ]
  },
  {
   "cell_type": "markdown",
   "metadata": {
    "deletable": true,
    "editable": true
   },
   "source": [
    "Nhìn vào bản đồ ta có thể thấy Hà Nội và Hồ Chí Minh là hai thành phố có nhu cầu tiêu thụ lớn nhất khi màu sắc được thể hiện đậm hơn trên heatmap. Ngoài ra, khi zoom chi tiết vào các khu vực này ta còn có thể thấy được ở từng phường, quận mức độ tiêu thụ như thế nào?\n",
    "\n",
    "**Làm thế nào để đánh dấu điểm quan trọng trên heatmap?**\n",
    "\n",
    "Khi theo dõi heatmap chúng ta có thể cần đánh dấu những vị trí quan trọng trên bản đồ để tìm vị trí đặt chi nhánh. Khi đó chỉ cần thêm một layer vào bản đồ gốc sao cho layer này cho phép khởi tạo các marker. Hàm `ClickFormarker()` trong folium cho phép ta tạo một layer như vậy."
   ]
  },
  {
   "cell_type": "code",
   "execution_count": 61,
   "metadata": {
    "collapsed": true,
    "deletable": true,
    "editable": true
   },
   "outputs": [],
   "source": [
    "from folium.plugins import HeatMap\n",
    "\n",
    "lat = 20.97\n",
    "long = 105.8\n",
    "zoom = 12\n",
    "gmap2 = folium.Map(location=(lat, long), zoom_start=zoom)\n",
    "maximum = max(dataset['DEMAND'])\n",
    "\n",
    "def _addHeatMap(dataset, gmap):\n",
    "    data_loc_val = list(zip(dataset['DELIVERY_WARD_LATITUDE'], dataset['DELIVERY_WARD_LONGITUDE'], dataset['DEMAND']))\n",
    "    heatMap = HeatMap(data=data_loc_val, \n",
    "            min_opacity = 0.6,\n",
    "            blur = 20,\n",
    "            max_val = maximum,\n",
    "            radius = 15, \n",
    "            overlay = True)\n",
    "    heatMap.add_to(gmap)\n",
    "\n",
    "_addHeatMap(dataset, gmap2)\n",
    "gmap2.add_child(folium.ClickForMarker(popup='Chi nhánh tiềm năng'))\n",
    "\n",
    "gmap2.save(\"foliumHeatMapClickForMarker.html\")"
   ]
  },
  {
   "cell_type": "markdown",
   "metadata": {
    "deletable": true,
    "editable": true
   },
   "source": [
    "Kết quả sau khi right click vào những vị trí được đánh dấu trên bản đồ:\n",
    "\n",
    "![](foliumHeatMapClickForMarker.png)"
   ]
  },
  {
   "cell_type": "markdown",
   "metadata": {
    "deletable": true,
    "editable": true
   },
   "source": [
    "Ta có thể khoanh thêm vùng cho các vị trí lõi dựa vào layer `Circle()`."
   ]
  },
  {
   "cell_type": "code",
   "execution_count": 70,
   "metadata": {
    "collapsed": false,
    "deletable": true,
    "editable": true
   },
   "outputs": [],
   "source": [
    "from folium.plugins import HeatMap\n",
    "from folium.features import DivIcon\n",
    "\n",
    "lat = 20.97\n",
    "long = 105.8\n",
    "zoom = 12\n",
    "text = \"Hà Nội\"\n",
    "gmap2 = folium.Map(location=(lat, long), zoom_start=zoom)\n",
    "maximum = max(dataset['DEMAND'])\n",
    "\n",
    "def _addHeatMap(dataset, gmap):\n",
    "    data_loc_val = list(zip(dataset['DELIVERY_WARD_LATITUDE'], dataset['DELIVERY_WARD_LONGITUDE'], dataset['DEMAND']))\n",
    "    heatMap = HeatMap(data=data_loc_val, \n",
    "            min_opacity = 0.6,\n",
    "            blur = 20,\n",
    "            max_val = maximum,\n",
    "            radius = 15, \n",
    "            overlay = True)\n",
    "    heatMap.add_to(gmap)\n",
    "\n",
    "_addHeatMap(dataset, gmap2)\n",
    "gmap2.add_child(folium.ClickForMarker(popup='Chi nhánh tiềm năng'))\n",
    "# Thêm circle có bán kính 15000\n",
    "gmap2.add_child(folium.Circle([lat, long], radius = 15000, fill = True))\n",
    "# Thêm text chú thích cho circle\n",
    "gmap2.add_child(folium.Marker(\n",
    "    [lat, long],\n",
    "    icon=DivIcon(\n",
    "        icon_size=(150,36),\n",
    "        icon_anchor=(0,0),\n",
    "        html='<div style=\"font-size: 24pt\">%s</div>' % text,\n",
    "        )\n",
    "    ))\n",
    "\n",
    "gmap2.save(\"foliumHeatMapClickForMarker.html\")"
   ]
  },
  {
   "cell_type": "markdown",
   "metadata": {
    "deletable": true,
    "editable": true
   },
   "source": [
    "Kết quả:\n",
    "\n",
    "![](foliumMarkerCircle.png)"
   ]
  },
  {
   "cell_type": "markdown",
   "metadata": {
    "deletable": true,
    "editable": true
   },
   "source": [
    "Chúng ta cũng có thể thay đổi màu sắc cho đồ thị Heatmap thông qua việc điều chỉnh gradient của hàm `Heatmap()` bằng cách thay đổi cường độ của các màu sắc bên trong. Chẳng hạn tôi muốn heatmap có một màu đỏ hơn thì cần điều chỉnh trọng số của heatmap cao hơn. Giá trị mà tôi thiết lập cho gradient là: `{0.2: 'blue', 0.4: 'lime', 0.6: 'orange', 1: 'red'}`"
   ]
  },
  {
   "cell_type": "code",
   "execution_count": 86,
   "metadata": {
    "collapsed": false,
    "deletable": true,
    "editable": true,
    "scrolled": true
   },
   "outputs": [],
   "source": [
    "from folium.plugins import HeatMap\n",
    "from folium.features import DivIcon\n",
    "\n",
    "lat = 20.97\n",
    "long = 105.8\n",
    "zoom = 12\n",
    "text = \"Hà Nội\"\n",
    "gmap2 = folium.Map(location=(lat, long), zoom_start=zoom)\n",
    "maximum = max(dataset['DEMAND'])\n",
    "\n",
    "def _addHeatMap(dataset, gmap):\n",
    "    data_loc_val = list(zip(dataset['DELIVERY_WARD_LATITUDE'], dataset['DELIVERY_WARD_LONGITUDE'], dataset['DEMAND']))\n",
    "    heatMap = HeatMap(data=data_loc_val, \n",
    "            min_opacity = 0.6,\n",
    "            blur = 20,\n",
    "            # Thay đổi màu sắc bằng gradient\n",
    "            gradient = {0.2: 'blue', 0.4: 'lime', 0.6: 'orange', 1: 'red'},\n",
    "            max_val = maximum,\n",
    "            radius = 15, \n",
    "            overlay = True)\n",
    "    heatMap.add_to(gmap)\n",
    "\n",
    "_addHeatMap(dataset, gmap2)\n",
    "gmap2.add_child(folium.ClickForMarker(popup='Chi nhánh tiềm năng'))\n",
    "# Thêm circle có bán kính 15000\n",
    "gmap2.add_child(folium.Circle([lat, long], radius = 15000, fill = True))\n",
    "# Thêm text chú thích cho circle\n",
    "gmap2.add_child(folium.Marker(\n",
    "    [lat, long],\n",
    "    icon=DivIcon(\n",
    "        icon_size=(150,36),\n",
    "        icon_anchor=(0,0),\n",
    "        html='<div style=\"font-size: 24pt\">%s</div>' % text,\n",
    "        )\n",
    "    ))\n",
    "\n",
    "gmap2.save(\"foliumHeatMapClickForMarker.html\")"
   ]
  },
  {
   "cell_type": "markdown",
   "metadata": {
    "deletable": true,
    "editable": true
   },
   "source": [
    "![](foliumMarkerCircleRed.png)"
   ]
  },
  {
   "cell_type": "markdown",
   "metadata": {
    "deletable": true,
    "editable": true
   },
   "source": [
    "## 2.6. Bản đồ heatmap theo thời gian\n",
    "\n",
    "Khi xem một bản đồ heatmap thường phân phối màu sắc sẽ thay đổi theo thời gian. Cũng giống như các bạn xem bản đồ về diện tích của bắc cực và nam cực theo 4 mùa trong năm, diện tích các cực sẽ mở rộng hoặc thu hẹp theo từng mùa. Để tracking được những biến đổi này chúng ta cần sử dụng tới biểu đồ time heatmap.\n",
    "\n",
    "Để demo cho cách tạo một biểu đồ time heatmap tôi sẽ lấy ví dụ về dữ liệu độ dài của các chuyến đi taxi trong năm 2016 được lấy từ cuộc thi [NYC taxi trip duration](https://www.kaggle.com/c/nyc-taxi-trip-duration/data). Dựa trên các thông tin về chuyến đi người dùng cần dự báo xem chuyến đi sẽ kéo dài trong bao lâu. Dữ liệu gồm các trường như sau:\n",
    "\n",
    "* id: Mã số chuyến đi. Là trường key xác định duy nhất.\n",
    "* vendor_id: Là mã số ám chỉ hãng taxi cung cấp chuyến đi.\n",
    "* pickup_datetime: Ngày và giờ chuyến đi bắt đầu chuyển bánh.\n",
    "* dropoff_datetime: Ngày và giờ chuyến đi kết thúc.\n",
    "* passenger_count: Số lượng hành khách trên chuyến đi.\n",
    "* pickup_longitude: Kinh độ của vị trí đón khách.\n",
    "* pickup_latitude: Vĩ độ của vị trí đón khách.\n",
    "* dropoff_longitude: Kinh độ vị trí trả khách.\n",
    "* dropoff_latitude: Vĩ độ vị trí trả khách.\n",
    "* store_and_fwd_flag: Đánh dấu bản ghi chuyến đi đã được lưu lại trên bộ nhớ của phương tiện trước khi gửi tới hãng taxi.\n",
    "* trip_duration: Độ dài của chuyến đi.\n",
    "\n",
    "**Đọc và xử lý dữ liệu:**"
   ]
  },
  {
   "cell_type": "code",
   "execution_count": 16,
   "metadata": {
    "collapsed": false,
    "deletable": true,
    "editable": true
   },
   "outputs": [
    {
     "name": "stdout",
     "output_type": "stream",
     "text": [
      "<class 'pandas.core.frame.DataFrame'>\n",
      "RangeIndex: 625134 entries, 0 to 625133\n",
      "Data columns (total 14 columns):\n",
      "id                    625134 non-null object\n",
      "vendor_id             625134 non-null int64\n",
      "pickup_datetime       625134 non-null datetime64[ns]\n",
      "passenger_count       625134 non-null int64\n",
      "pickup_longitude      625134 non-null float64\n",
      "pickup_latitude       625134 non-null float64\n",
      "dropoff_longitude     625134 non-null float64\n",
      "dropoff_latitude      625134 non-null float64\n",
      "store_and_fwd_flag    625134 non-null object\n",
      "month                 625134 non-null int64\n",
      "week                  625134 non-null int64\n",
      "day                   625134 non-null int64\n",
      "hour                  625134 non-null int64\n",
      "count                 625134 non-null int64\n",
      "dtypes: datetime64[ns](1), float64(4), int64(7), object(2)\n",
      "memory usage: 66.8+ MB\n"
     ]
    }
   ],
   "source": [
    "import pandas as pd\n",
    "dataTaxiTrip = pd.read_csv('nyc-taxi-trip-duration/test/test.csv', header = 0)\n",
    "print(dataTaxiTrip.shape)\n",
    "dataTaxiTrip.info()"
   ]
  },
  {
   "cell_type": "markdown",
   "metadata": {
    "deletable": true,
    "editable": true
   },
   "source": [
    "Để làm việc với thời gian chúng ta cần trích xuất các thành phần thời gian (month, week, day, hour) của thời điểm đón khách."
   ]
  },
  {
   "cell_type": "code",
   "execution_count": 15,
   "metadata": {
    "collapsed": false,
    "deletable": true,
    "editable": true
   },
   "outputs": [
    {
     "name": "stdout",
     "output_type": "stream",
     "text": [
      "<class 'pandas.core.frame.DataFrame'>\n",
      "RangeIndex: 625134 entries, 0 to 625133\n",
      "Data columns (total 14 columns):\n",
      "id                    625134 non-null object\n",
      "vendor_id             625134 non-null int64\n",
      "pickup_datetime       625134 non-null datetime64[ns]\n",
      "passenger_count       625134 non-null int64\n",
      "pickup_longitude      625134 non-null float64\n",
      "pickup_latitude       625134 non-null float64\n",
      "dropoff_longitude     625134 non-null float64\n",
      "dropoff_latitude      625134 non-null float64\n",
      "store_and_fwd_flag    625134 non-null object\n",
      "month                 625134 non-null int64\n",
      "week                  625134 non-null int64\n",
      "day                   625134 non-null int64\n",
      "hour                  625134 non-null int64\n",
      "count                 625134 non-null int64\n",
      "dtypes: datetime64[ns](1), float64(4), int64(7), object(2)\n",
      "memory usage: 66.8+ MB\n"
     ]
    }
   ],
   "source": [
    "def _extract_datetime(df):\n",
    "    df.pickup_datetime = pd.to_datetime(df.pickup_datetime, format='%Y-%m-%d %H:%M:%S')\n",
    "    df['month'] = df.pickup_datetime.apply(lambda x: x.month)\n",
    "    df['week'] = df.pickup_datetime.apply(lambda x: x.week)\n",
    "    df['day'] = df.pickup_datetime.apply(lambda x: x.day)\n",
    "    df['hour'] = df.pickup_datetime.apply(lambda x: x.hour)\n",
    "    \n",
    "_extract_datetime(dataTaxiTrip)\n",
    "print(dataTaxiTrip.shape)\n",
    "dataTaxiTrip.info()"
   ]
  },
  {
   "cell_type": "markdown",
   "metadata": {
    "deletable": true,
    "editable": true
   },
   "source": [
    "Đầu tiên ta sẽ khởi tạo map tại vị trí trung bình của vĩ độ và kinh độ của các địa điểm đón taxi. Việc này để đảm bảo bản đồ heatmap được bao trọn trong khung hình của đồ thị."
   ]
  },
  {
   "cell_type": "code",
   "execution_count": 4,
   "metadata": {
    "collapsed": false,
    "deletable": true,
    "editable": true
   },
   "outputs": [],
   "source": [
    "import folium\n",
    "\n",
    "lat = dataTaxiTrip['pickup_latitude'].mean()\n",
    "long = dataTaxiTrip['pickup_longitude'].mean()\n",
    "zoom = 12\n",
    "\n",
    "gmapNYTaxi = folium.Map(location=[lat, long], zoom_start = zoom)\n",
    "# gmapNYTaxi.save('foliumNYTaxi.html')"
   ]
  },
  {
   "cell_type": "markdown",
   "metadata": {
    "deletable": true,
    "editable": true
   },
   "source": [
    "Thêm heatmap layer khởi tạo vào bản đồ."
   ]
  },
  {
   "cell_type": "code",
   "execution_count": 8,
   "metadata": {
    "collapsed": false,
    "deletable": true,
    "editable": true
   },
   "outputs": [],
   "source": [
    "from folium.plugins import HeatMap\n",
    "\n",
    "dataTaxiTrip['count'] = 1\n",
    "heatmap = HeatMap(data=dataTaxiTrip[['pickup_latitude', 'pickup_longitude', 'count']]\n",
    "                  .groupby(['pickup_latitude', 'pickup_longitude'])\n",
    "                  .sum().reset_index().values.tolist(), \n",
    "                  radius=8, \n",
    "                  max_zoom=13)\n",
    "gmapNYTaxi.add_child(heatmap)\n",
    "gmapNYTaxi.save('foliumHeatMapNY.html')"
   ]
  },
  {
   "cell_type": "markdown",
   "metadata": {
    "deletable": true,
    "editable": true
   },
   "source": [
    "Kết quả:\n",
    "\n",
    "![](foliumNYTaxi.png)\n",
    "\n",
    "Như vậy ta thu được một heatmap biểu diễn số lượng chuyến đi theo địa điểm cho toàn bộ năm 2016. \n",
    "\n",
    "**Tạo heatmap đếm số lượng chuyến đi theo từng khung giờ cho toàn bộ năm 2016**\n",
    "\n",
    "Ta nhận thấy rằng nhu cầu về taxi sẽ thay đổi theo thời gian. Ban đêm sẽ ít hơn so với ban ngày. Do đó ta sẽ cần tạo một biểu đồ heatmap theo thời gian mà phân chia được các chuyến đi theo khung giờ trong ngày. Trước tiên ta cần chuẩn bị dữ liệu là list các thống kê số lượng chuyến đi theo từng tọa độ tại mỗi một khung giờ. List sẽ bao gồm 24 phần tử đại diện cho 24 khung giờ khác nhau. Số liệu thống kê là số chuyến taxi xảy ra trong cùng một giờ trong toàn bộ năm 2016."
   ]
  },
  {
   "cell_type": "code",
   "execution_count": 10,
   "metadata": {
    "collapsed": false,
    "deletable": true,
    "editable": true
   },
   "outputs": [],
   "source": [
    "dataTaxiTrip_hour_list = []\n",
    "\n",
    "for hour in dataTaxiTrip.hour.sort_values().unique():\n",
    "    dataTaxiTrip_hour_list.append(dataTaxiTrip.loc[dataTaxiTrip.hour == hour, \n",
    "                                    ['pickup_latitude', 'pickup_longitude', 'count']]\n",
    "                        .groupby(['pickup_latitude', 'pickup_longitude']).sum().reset_index().values.tolist())"
   ]
  },
  {
   "cell_type": "code",
   "execution_count": 14,
   "metadata": {
    "collapsed": false,
    "deletable": true,
    "editable": true
   },
   "outputs": [],
   "source": [
    "from folium.plugins import HeatMapWithTime\n",
    "\n",
    "\n",
    "lat = dataTaxiTrip['pickup_latitude'].mean()\n",
    "long = dataTaxiTrip['pickup_longitude'].mean()\n",
    "zoom = 12\n",
    "\n",
    "gmapNYTaxi = folium.Map(location=[lat, long], zoom_start = zoom)\n",
    "\n",
    "heatmap = HeatMapWithTime(dataTaxiTrip_hour_list, \n",
    "                          radius=5, \n",
    "                          gradient={0.2: 'blue', 0.4: 'lime', 0.6: 'orange', 1: 'red'}, \n",
    "                          min_opacity=0.5, \n",
    "                          max_opacity=0.8, \n",
    "                          use_local_extrema=True)\n",
    "\n",
    "gmapNYTaxi.add_child(heatmap)\n",
    "gmapNYTaxi.save('foliumHeatMapWithTimeNY.html')"
   ]
  },
  {
   "cell_type": "markdown",
   "metadata": {
    "collapsed": true,
    "deletable": true,
    "editable": true
   },
   "source": [
    "Kết quả:\n",
    "\n",
    "![](foliumHeatMapWithTimeNY.gif)"
   ]
  },
  {
   "cell_type": "markdown",
   "metadata": {
    "deletable": true,
    "editable": true
   },
   "source": [
    "# 3. Tổng kết\n",
    "\n",
    "Như vậy qua bài viết này tôi đã giới thiệu đến các bạn những biểu đồ cơ bản nhất trên google map bao gồm: Marker, CicleMarker, polyLine, Heatmap. Các biểu đồ này có thể được sử dụng kết hợp với nhau một cách linh hoạt để tạo ra những báo cáo ấn tượng. Tôi cũng hi vọng rằng sau khi đọc bài viết này các bạn sẽ có thể áp dụng được vào thực tiễn vào các dự án của mình. \n",
    "\n",
    "Ngoài ra các dạng biểu đồ google map hiện nay còn được tích hợp sẵn trên power BI, tableau, data studio và nhiều phần mềm visualize khác. Có thời gian tôi sẽ giới thiệu thêm về cách thức tạo báo cáo google map trên những công cụ này.\n",
    "\n",
    "Cuối cùng không thể thiếu là phần tổng kết những tài liệu mà tôi đã tham khảo."
   ]
  },
  {
   "cell_type": "markdown",
   "metadata": {
    "collapsed": true,
    "deletable": true,
    "editable": true
   },
   "source": [
    "# 4. Tài liệu.\n",
    "\n",
    "1. [creating interactive crime maps with folium - blog dominodatalab](https://blog.dominodatalab.com/creating-interactive-crime-maps-with-folium/)\n",
    "2. [folium for maps heatmaps time analysis - kaggle daveanhickey](https://www.kaggle.com/daveianhickey/how-to-folium-for-maps-heatmaps-time-analysis)\n",
    "3. [plotting google map using gmplot package in python - tutorialspoint](https://www.tutorialspoint.com/plotting-google-map-using-gmplot-package-in-python)"
   ]
  }
 ],
 "metadata": {
  "kernelspec": {
   "display_name": "Python 3",
   "language": "python",
   "name": "python3"
  },
  "language_info": {
   "codemirror_mode": {
    "name": "ipython",
    "version": 3
   },
   "file_extension": ".py",
   "mimetype": "text/x-python",
   "name": "python",
   "nbconvert_exporter": "python",
   "pygments_lexer": "ipython3",
   "version": "3.6.0"
  }
 },
 "nbformat": 4,
 "nbformat_minor": 2
}
