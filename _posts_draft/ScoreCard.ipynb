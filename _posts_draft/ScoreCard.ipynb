{
  "nbformat": 4,
  "nbformat_minor": 0,
  "metadata": {
    "colab": {
      "name": "ScoreCard.ipynb",
      "provenance": [],
      "collapsed_sections": [],
      "toc_visible": true
    },
    "kernelspec": {
      "name": "python3",
      "display_name": "Python 3"
    }
  },
  "cells": [
    {
      "cell_type": "markdown",
      "metadata": {
        "id": "pa2eAoFIy7Yn",
        "colab_type": "text"
      },
      "source": [
        "## 1. ScoreCard model là gì?\n",
        "\n",
        "Scorecard model là một lớp mô hình được ứng dụng rất nhiều trong nhiều lĩnh vực. Đặc biệt là tài chính, kinh doanh, quản lý xã hội. Mô hình Scorecard có tác dụng lượng hóa một hồ sơ cá nhân hoặc tổ chức thành một điểm xếp hạng dựa trên khả năng xảy ra của một sự kiện nào đó như vỡ nợ, vi phạm luật hoặc đánh giá tín nhiệm xã hội của công dân. Dựa trên điểm số từ mô hình scorecard, các tổ chức tài chính hoặc chính phủ có thể đưa ra quyết định cung cấp các sản phẩm dịch vụ và tiện ích tốt hơn nếu một cá nhân có điểm tín nhiệm cao và hạn chế hơn đối với cá nhân có điểm thấp.\n",
        "\n",
        "Trong quản lý tài chính, mục tiêu lớn nhất của mô hình scorecard là muốn đánh giá năng lực trả nợ của người giữ vị thế vay trong tương lai. Đối với khách hàng có tín nhiệm cao thể hiện qua lịch sử tín dụng tốt, mức thu nhập cao, tuân thủ lịch trả nợ, có các tài sản đảm bảo,... sẽ tạo sự yên tâm cho tổ chức tài chính khi cho vay. Họ có thể được đề xuất một hạn mức tín dụng cao hơn vì ngân hàng biết rằng nếu cho những cá nhân này vay vốn thì rất yên tâm. Tuy nhiên đối với những cá nhân có lịch sử tín dụng xấu, không có tài sản đảm bảo, thu nhập thấp,... sẽ là những cá nhân rủi ro cao và ngân hàng có thể cân nhắc cho họ vay số tiền phù hợp với năng lực trả nợ của họ. \n",
        "\n",
        "Một mô hình Scorecard sẽ sử dụng đa dạng các thông tin đầu vào là những biến nằm trong hồ sơ cá nhân của khách hàng. Những thông tin này có thể được thu thập trong quá trình làm hồ sơ vay vốn, từ hệ thống dữ liệu của ngân hàng nếu là khách hàng cũ, hoặc từ một bên thứ 3. Các biến đầu vào cơ sở được chia thành các nhóm như:\n",
        "\n",
        "* Thông tin nhân khẩu học (demographic): Là những thông tin liên quan đến đặc điểm cá nhân của một người, có ảnh hưởng lớn tới sự kiện dự báo (vỡ nợ, hoặc vi phạm luật). Đó có thể là: Thông tin trình độ học vấn, thu nhập, giới tính, độ tuổi, nghề nghiệp, trạng thái hôn nhân, thành phần gia đình, số người phụ thuộc,....\n",
        "\n",
        "* Thông tin về lịch sử tín dụng (credit history): Lịch sử tín dụng, lý lịch nợ xấu, hành vi trả nợ. Đây là những thông tin được quản lý tập trung tại cục tín dụng (bureau credit) của mỗi quốc gia. Dữ liệu được thu thập từ toàn bộ các ngân hàng hoạt động trên lãnh thổ của một quốc gia nhằm tạo thành một data center chung. Điều này nhằm tạo ra một cơ sở dữ liệu tín dụng minh bạch của toàn bộ các công dân mà các ngân hàng thành viên có thể truy cập thông tin (việc truy cập là mất phí). Từ đó ngân hàng nắm bắt được những thông tin tín dụng của cá nhân tại những tổ chức tài chính khác nằm ngoài hệ thống nhằm đưa ra đánh giá sơ bộ về khách hàng.\n",
        "\n",
        "* Thông tin giao dịch: Lịch sử giao dịch của khách hàng trên các thẻ tín dụng hoặc thẻ ATM sẽ đánh giá một phần nào đó về năng lực tài chính của một cá nhân. Do đó thông tin giao dịch của họ rất hữu ích trong việc đánh giá khả năng trả nợ của họ.\n",
        "\n",
        "* Thông tin tài sản đảm bảo: Đây là một thông tin đi kèm với các khoản vay thế chấp. Gía trị của tài sản đảm bảo sẽ là phương tiện cover rủi ro trong trường hợp khách hàng vỡ nợ.\n",
        "\n",
        "Bên cạnh các mô hình scorecard đánh giá rủi ro tín dụng, Một số quốc gia còn phát triển hệ thống xếp hạng tín nhiệm xã hội [(social credit system)](https://en.wikipedia.org/wiki/Social_Credit_System) áp dụng vào quản lý và điều hành. Để xây dựng những hệ thống này đòi hỏi phải có dữ liệu lớn tích hợp cùng các giải pháp công nghệ. Tại Trung Quốc, chính phủ và 9 tập đoàn công nghệ hàng đầu như `Alibaba, Tencent, Didi Chuxing, Baihe, ... ` đã lên kế hoạch tổ chức dữ liệu và phát triển mô hình đánh giá tín nhiệm công dân. Các dữ liệu được thu thập từ rất nhiều nguồn khác nhau như: camera giám sát, dữ liệu tài chính, dữ liệu nhân khẩu học, dữ liệu mạng xã hội,... giúp cho điểm tín nhiệm xã hội trở thành một thước đo toàn diện. \n",
        "\n",
        "Nhờ sự những lợi thế được tạo ra từ điểm tín nhiệm xã hội như: Được hưởng dịch vụ công và phúc lợi xã hội tốt hơn, xin việc dễ hơn mà mọi người dân Trung Quốc đều có ý thức tuân thủ luật pháp. Do đó tỷ lệ tội phạm giảm xuống trên cả nước.\n",
        "\n",
        "Như vậy chúng ta đã hình dung được ứng dụng của mô hình score card trong rất nhiều các lĩnh vực. Có thể nói đây là những mô hình tuy đơn giản nhưng lại có sức mạnh lớn và được áp dụng khá phổ biến.\n",
        "\n",
        "Vậy làm thể nào để xây dựng một mô hình score card? Cách thức lượng hóa các biến đầu vào thành điểm số và xếp hạng điểm số như thế nào? Trong bài này, Tôi sẽ giới thiệu tới các bạn một ứng dụng rất cụ thể của scorecard model trong rủi ro tín dụng.\n"
      ]
    },
    {
      "cell_type": "markdown",
      "metadata": {
        "id": "zG7aTcEu7ai7",
        "colab_type": "text"
      },
      "source": [
        "## 2. Xây dựng model Scorecard trong credit risk\n",
        "\n",
        "Ở các quốc gia đang phát triển như Việt Nam thì market trading còn ở qui mô nhỏ. Chính vì thế tín dụng là hoạt động mang lại lợi nhuận chủ yếu cho ngân hàng. Tuy nhiên mọi khoản vay đều tiềm ẩn các nguy cơ rủi ro như vỡ nợ, trả nợ chậm, phá sản,.... Để giám sát, giảm thiểu, phòng ngừa và kiểm soát rủi ro thì các ngân hàng tìm cách lượng hóa rủi ro bằng các công cụ mô hình theo khuyến nghị của của hội nghị basel. Kết quả từ các mô hình rủi ro đã trở thành công cụ hỗ trợ chủ yếu quá trình ra quyết định cho vay của ngân hàng. Chẳng hạn việc chấp nhận hoặc loại bỏ hồ sơ vay, các điều kiện kèm theo mỗi hồ sơ như hạn mức, lãi suất, kì hạn, tài sản đảm bảo,....\n",
        "\n",
        "**Vai trò của mô hình scorecard đối với tín dụng ngân hàng**\n",
        "\n",
        "Credit scorecard là phương pháp dựa trên các mô hình học máy nhằm mục đích ước lượng giá trị xác suất xảy ra một sự kiện đối với một khách hàng như vỡ nợ, phá sản, hoặc trả nợ chậm liên quan đến vị thế tín dụng của người vay. Đây là những mô hình khá đơn giản với số lượng biến đầu vào ít, chỉ khoảng từ 10 đến 20 biến. Dữ liệu được sử dụng cho các mô hình score card phần lớn đến từ cục tín dụng (credit bureaus) kết hợp với dữ liệu nội bộ ngân hàng. Hội nghị basel cũng đưa ra những qui định chặt chẽ đối với đầu vào của mô hình credit scorecard. Các thông tin thu thập phải đảm bảo quyền cá nhân và không vi phạm tới các nội dung như phân biệt tôn giáo, chủng tộc, vùng miền, quốc gia,....\n",
        "\n",
        "Bộ dữ liệu xây dựng mô hình credit scorecard sẽ được tổng hợp từ những hồ sơ vỡ nợ và những hồ sơ tốt. Sau đó, thông qua các kĩ thuật tiền xử lý dữ liệu để biến đổi các biến đầu vào thành những features có sức mạnh dự báo nguy cơ xảy ra vỡ nợ. Lớp thuật toán được sử dụng chủ yếu trong các mô hình credit scorecard đó là hồi qui logistic, probit hoặc linear. Đây là những phương pháp đơn giản thuộc lớp mô hình phân loại trong các bài toán học có giám sát. Chúng là những phương pháp có tính giải thích cao thông qua phương trình hồi qui.\n",
        "\n",
        "Chính nhờ khả năng giải thích tốt nên các mô hình credit scorecard có đánh giá tác động của từng biến độc lập (hoặc biến đầu vào) lên kết quả dự báo. Bên cạnh đó điểm tín nhiệm (`credit score`) được tính toán khá dễ dàng từ xác suất dự báo. Một số thuật toán khác như neural network, random forest, SVM tuy có kết quả phân loại tốt hơn nhưng khả năng giải thích kết quả không tốt nên không thường được sử dụng để xây dựng các mô hình credit scorecard trên thực tế."
      ]
    },
    {
      "cell_type": "markdown",
      "metadata": {
        "id": "fOOXniWIIfJm",
        "colab_type": "text"
      },
      "source": [
        "### 2.1. Phương pháp chuyên gia và mô hình\n",
        "\n",
        "Để đánh giá rủi ro tín dụng chúng ta có thể áp dụng phương pháp chuyên gia hoặc sử dụng mô hình thống kê. Mỗi phương pháp đều có các ưu nhược điểm khác nhau.\n",
        "\n",
        "**Phương pháp chuyên gia:**\n",
        "Như tên gọi của nó, phương pháp chuyên gia sẽ dựa trên ý kiến thẩm định của các chuyên gia về rủi ro đối với một khoản tín dụng. Rủi ro sẽ được căn cứ trên các thông tin chủ yếu đó là:\n",
        "\n",
        "* **Đặc điểm của chủ thể vay (character):** Thẩm định danh tiếng, tính trung thực của người vay vốn.\n",
        "\n",
        "* **Vốn (capital):** Thẩm định sự chênh lệch giữa tài sản và nguồn vốn của người cho vay. Tài sản chính là những giá trị mà ngân hàng có thể thu hồi khi người vay không trả được nợ. Nguồn vốn có thể là các chi phí mà người vay đang phải chi trả như chi tiêu gia đình, chi phí thuê nhà,.... Sau khi trừ đi các chi phí chúng ta sẽ biết được người vay sẽ tiết kiệm được bao nhiêu và chi phí đó có đủ để trang trải lãi vay hay không?\n",
        "\n",
        "* **Tài sản đảm bảo (collateral):** Sẽ có 2 loại hình thức cho vay được phân chia dựa trên tài sản đảm bảo đó là vay thế chấp (có tài sản đảm bảo) và vay tín chấp (không có tài sản đảm bảo). Rủi ro của 2 hình thức cho vay này là khác biệt nhau nên lãi suất và hạn mức giữa chúng cũng sẽ khác biệt để đảm bảo dung hòa giữa lợi nhuận và rủi ro đối với ngân hàng. Đối với vay thế chấp ngân hàng sẽ phải định giá chính xác giá trị của các tài sản thế chấp. Gía trị các tài sản này sẽ quyết định hạn mức tín dụng mà ngân hàng sẽ cấp cho người vay. Rủi ro đối với các khoản vay thế chấp là thấp hơn tín chấp vì trong trường hợp khách hàng không có khả năng thanh toán, ngân hàng được quyền thu hồi tài sản đảm bảo.\n",
        "\n",
        "* **Khả năng trả nợ (capacity):** Là các thông tin liên quan trực tiếp đến khả năng tài chính của người vay đó là: nghề nghiệp, mức thu nhập, trạng thái hôn nhân, số người phụ thuộc,....\n",
        "\n",
        "* **Điều kiện (condition):** Đánh giá sơ bộ trạng thái của người vay có tham chiếu tới điều kiện thị trường, bối cảnh tài chính, áp lực cạnh tranh, mục đích sử dụng vốn,.... Chẳng hạn người vay là hộ dân trồng cafe nhưng năm vừa qua thị trường cafe giảm giá mạnh. Do đó sẽ khiến lợi nhuận và khản năng thanh toán của người vay xuống thấp hơn dự kiến.\n",
        "\n",
        "Phương pháp chuyên gia là phương pháp thủ công vì nó dựa trên kinh nghiệm của con người. Do đó quá trình thẩm định sẽ tốn kém về thời gian. Đồng thời ý kiến đánh giá cũng không nhất quán giữa các chuyên gia. Do đó một phương pháp khác được khuyến nghị phát triển ở hội nghị basel nhằm đưa ra các đánh giá nhanh chóng và nhất quán hơn. Đó chính là phương pháp mô hình.\n",
        "\n",
        "**Phương pháp mô hình:**\n",
        "Phương pháp mô hình sẽ dựa trên điểm số được lượng hóa từ mô hình học máy. Phương pháp này có nhiều điểm tối ưu hơn so với phương pháp chuyên gia:\n",
        "\n",
        "* Những mô hình đưa ra kết quả dường như là ngay lập tức. Do đó thời gian thẩm định hồ sơ nhanh chóng và rất phù hợp với các nền tảng cho vay online.\n",
        "\n",
        "* Năng suất thẩm định từ mô hình cao hơn rất nhiều so với các chuyên gia. Một môt hình có thể giải quyết số lượng hồ sơ bằng khối lượng công việc của hàng trăm chuyên gia.\n",
        "\n",
        "* Giảm thiểu chi phí lao động khi không phải chi trả lương cho các chuyên gia thẩm định. \n",
        "\n",
        "* Kết quả đánh giá hồ sơ là rất nhất quán dựa trên điểm số tín nhiệm là duy nhất, trong khi đó các chuyên gia có thể đưa ra kết quả đánh giá khác nhau dựa trên cảm quan của họ về rủi ro. Khi xảy ra bất đồng ý kiến, sẽ cần hội đồng chuyên gia đánh giá lại hồ sơ và khá tốn thời gian để hoàn thành thẩm định.\n",
        "\n",
        "* Mô hình sẽ xem xét toàn diện các biến số đầu vào và thậm chí có thể gia tăng số lượng biến tùy ý mà không ảnh hưởng tới thời gian dự báo. Trong khi phương pháp chuyên gia sẽ chịu hạn chế bởi khả năng của con người là có hạn. Việc đánh giá hồ sơ đôi khi chỉ được nhận định trên một số biến chính.\n",
        "\n",
        "Chính vì những lợi thế đó, phương pháp mô hình đang dần thay thế phương pháp chuyên gia và trở thành phương pháp thẩm định chủ yếu tại các ngân hàng."
      ]
    },
    {
      "cell_type": "markdown",
      "metadata": {
        "id": "-GhMfDkCIkh3",
        "colab_type": "text"
      },
      "source": [
        "### 2.2. Xây dựng mô hình credit scorecard\n",
        "\n",
        "Có nhiều thuật toán khác nhau được áp dụng để xây dựng mô hình credit scorecard. Trong bài này tôi sẽ chỉ giới thiệu phương pháp thông dụng nhất đó là hồi qui logistic. Về hồi qui logistic các bạn xem thêm tại [Logistic Regression - Machine learning cơ bản](https://machinelearningcoban.com/2017/01/27/logisticregression/), rất chi tiết và đầy đủ. Quá trình hồi qui sẽ tiếp nhận các features đầu vào đã được tiền xử lý theo phương pháp trọng số dấu hiệu (WOE - weight of evidence), cụ thể sẽ được giới thiệu bên dưới. Cuối cùng đầu ra của mô hình là xác suất vỡ nợ (default probability) của một hồ sơ vay vốn. Xác suất càng cao là dấu hiệu cho thấy khả năng xảy ra rủi ro càng lớn. Từ xác suất, thông qua các phép scale ta sẽ biến đổi sang điểm số tín nhiệm (credit score) đại diện cho mức tín nhiệm của họ. Điểm số này bằng tổng các điểm số tương ứng với mỗi một đặc trưng của người dùng được tạo ra từ WOE.\n",
        "\n"
      ]
    },
    {
      "cell_type": "markdown",
      "metadata": {
        "id": "TYRf9qM4Ipre",
        "colab_type": "text"
      },
      "source": [
        "\n",
        "#### 2.2.1. Weight of Evidence - WOE\n",
        "\n",
        "WOE (weight of evidence) là một trong những kĩ thuật feature engineering và feature selection thường được áp dụng trong mô hình scorecard. Phương pháp này sẽ xếp hạng các biến thành mạnh, trung bình, yếu, không tác động,... dựa trên khả năng, sức mạnh dự báo nợ xấu. Tiêu chuẩn xếp hạng sẽ là chỉ số giá trị thông tin IV (information value) được tính toán từ phương pháp WOE. Đồng thời mô hình cũng tạo ra các giá trị features cho mỗi biến. Giá trị này sẽ đo lường sự khác biệt trong phân phối giữa good và bad. Cụ thể như sau:\n",
        "\n",
        "Phương pháp WOE sẽ có các kĩ thuật xử lý khác biệt đối với biến liên tục và biến phân loại:\n",
        "\n",
        "* Trường hợp biến liên tục, WOE sẽ gán nhãn cho mỗi một quan sát theo nhãn giá trị bins mà nó thuộc về. Các bins sẽ là các khoảng liên tiếp được xác định từ biến liên tục sao cho số lượng quan sát ở mỗi bin là bằng nhau. Để xác định các bins thì ta cần xác định số lượng bins. Chúng ta có thể hình dung đầu mút của các khoảng bins chính là các [quantile](https://en.wikipedia.org/wiki/Quantile). Định nghĩa quantile tôi sẽ không giải thích thêm vì đây là kiến thức cơ bản của thống kê.\n",
        "\n",
        "* Trường hợp biến phân loại, WOE có thể cân nhắc mỗi một class là một bin hoặc có thể nhóm vài nhóm có số lượng quan sát ít vào một bin. Ngoài ra mức độ chênh lệch giữa phân phối good/bad được đo lường thông qua chỉ số WOE cũng có thể được sử dụng để nhận diện các nhóm có cùng tính chất phân loại. Nếu giá trị WOE của chúng càng gần nhau thì có thể chúng sẽ được nhóm vào một nhóm. Ngoài ra, trường hợp Null cũng có thể được coi là một nhóm riêng biệt nếu số lượng của nó là đáng kể hoặc nhóm vào các nhóm khác nếu nó là thiểu số.\n",
        "\n",
        "Để hình dung cách tính WOE, tôi lấy ví dụ:\n",
        "\n",
        "Độ tuổi của một khách hàng vay vốn rơi vào khoảng từ 20-60 tuổi. Ta sẽ phân chia độ tuổi này thành các bins sao cho số lượng quan sát của chúng là gần bằng nhau và thống kê số lượng hồ sơ good và bad trên từng bin đó. Sau cùng ta thu được một bảng như bên dưới:"
      ]
    },
    {
      "cell_type": "markdown",
      "metadata": {
        "id": "EyvImWlwcssg",
        "colab_type": "text"
      },
      "source": [
        "\n",
        "![image.png](data:image/png;base64,iVBORw0KGgoAAAANSUhEUgAAAsgAAACWCAYAAADDsH7YAAAgAElEQVR4Ae19zYodvZLt56lfwHBfyQ/gcb1Bw53UrB6goYaGnvkBPHTPjsHQM3MuHI8+zvSjoQ4NDX6BIi8hKaQVIaX2j3Lvyp9lMFv5p5RWrFixUjur6o+//e1vk/z/8ePH9K//+d9V/9/CGNeO4dLjY0zGc4YYEsOl8/Ka/shD8vAa3ix9DXlIHi7NqWv6Ex7+QYM8TsZrwN/LNRSzcf4QQ2K4Bj0gD8lD8nCcA8RwPxj+IaLI/8SAHCAHyAFygBwgB8gBcoAciBz4Q592BJB/f/+66v/v3n9Y9fjWjt8txseYjOcMMSSGt8jNS/skD8nDSzlzi/PJw3Ee/p//+6+J/8cxoEFe+UPBLQRoyT4pZuNiRgyJ4ZI5eW1f5CF5eC13lryOPBznoZrjJeNypL4UPxpkGuShVXmK2biYEUNiuIbiQx6Sh+ThOAfWgKEavDWMZYtjUPxokGmQaZDfmAM0JuNFiRgSwzUUYvKQPFwDD9XgrWEsWxyD4keD/MbmaIvkwTGzILAgIB/eqk0ekodvxT28L3lIHiIf3qqtBu+t7r/1+yp+XYP8z9+v00vj/1//WZLg23/Gc/75H2XfrcBpiY+O8R//Vu5/6zGFe/71On3bmLn+r7/HWCFWo7G6d0w03pmXN47DP/6KmP3XDWN9Lwwr7FJuYz5fxIf/iNhcff2CmLYw1LlU834DzgiPBCfVpsxf0NdrOaZ9jmpwC0Plv4wXx6fzUYzxU8eDcxwdG/ZftVfOw0swbGGnOCL+FQadXNI+bxqDzv0vGauc63mo+OH8NadRe1r1Ta9VDF/+XnyC3EuxycchH7eCVwtfNXj52L+9Tn/J3GT+KV88FnKu4opY5z4WjPHa+1T8ThtkV0yUhEoeJZhu33LiPnEwoBjsW48pkMjhcst5X923JAUIgsbuXgZ50ZjMJPWtE1oF9paCcS9et3irnLgqf1duTOYKwd05k4qT5F1Tm7R4XakpzT6vKGYVD1N8hfuSB9mMwH6vTZovqDE6vnz9FWPz9zHba+YhYHUOhoqVyceV8MNgvnQMoT/PQ9WozKmEaTC1UN+Ue6rVld41cGziDWO515yXvo8avNyvzj3h1dRAd06+dgd4XDoXxe9ig6xF52Zi1wmGTxyZtAZakkVF5dakrxKvM+ZLA7PY+Xci+71i8laYe9FdLD7AmTfFcMRcjFwL818C01kMrzSdI2OqOAMmaU6bqmsuwGeuz0vn4DHUfr1BlrG29F/PVx2+9P5Xn79iHiomoxiugR9Xx+cCLss95nionFNMg0HW/Hb1rjLVOgbHFe3r7pzV8dzoUw1ejtkZ+OwVi4zBBVgrfhcbZE88D6oamX+kr/PRuMpA9fxA7t9toZ2bkE8cOQ8N8ktKFr0Hkl736X3xWOt+rX71vFNzVIya91Kipq9ycBx63T8Tdn/9s359Rc/Rp2kVTr2X7jfjT1+P+mv/3Y0FV3zzsb/H1SPfv2Jxl5g4UdN7z32auauAQnJ0j6d7hfnC3HVVYu6eI/vvgqHmisOj4oSeB1814tyRb/9Ir1dp4RrBYPTaCsMVcSZoT0ebMNcyDshD/Wp0hsMaB9SS3A9cc2rfHIbG3KVxISe0X+VG65iekz972tOoE35uei/JU53/mnl4LoZap8x8FStYLdWFKtVlo90uhxUf0+cFvMgxu9M1FQ/d/EPs/3qd1GOEmufyXWt06zXIcCxh2cT7TvO8Ja5q8PI9HIY6b8wZzSn1EPnaHeBx6VwUv9MGGQqlJiOCqkBr8qn5UJANUVOQ9PpWce5NpEocFQJIFhmHH5PfVnHRcfh7mjGnrxdl7ir8fo5KrHA8JariYY7NkFSxUjxwXH4sYTslt55vxqUGyN1L5qjnh/s1jpt76XGdt26jSDee9uU+2o8K2GhMqvh1ElbvrcJo8IexnXUcTIpi7LmyxPZdeX0inwNeMxzycVBska9L4HFNHx5DP9Zen7fmjOCkGOm4VEvxM3Ms5Zq/RjXF5LFyGr5B6821d8xjKOdqjHXxQe6t4/J9eRz98bzd0BK8VjHS+Xq99sd1jHPjyvft6MZS54xiqHNDXmj7rfmxFEan+mlhiPwIbalDUGsVt8CZBr/wntiXXqcY42fG+w68wfEt0VaDl/vymOi213rd3uCc81wXGLvid9ogO8AyoWaewJB8MmAVr0A2DYoUadfvOZM7K3FgRUEFNozB3a+1L4wBki6Pye3zc1RMwv3AVPmnenOeBDHhocLuC5/c3+xz49DxKcYhuXWeijUYWuxLx6LmXPoy+xrX+3nLNfeIiY5L4yn3NXNWc9DCB/dhW5MI96W2xgPvc0uxvAeGMpdW/BRbz9VwrprpxCHFPGPRwEvu8xb/PYY6rzVwRrDUcbTGlWMj2gU/bKwGQIu29uHjONfnpXHwGFbXJ02QMaqWyNiUD35cfvyq+TpenCvua2kz7tsSDy/FUHHQWOv1mo+ImcdXr/FxmOtT+17bZ4uHOeao11CjlI/GZ0DtwzkiPlvDBufRa6vBy+cAVrpPMRVOKQ5Y+/S8I34qfhcbZAGrRzA8JudqEFRElcgq+iiwpwLRShy8nwZZ+54TjNa49N7ah14b9jsjgPdsHdc56zh8Ycj7nQFRbIwIJmILcfV4hWUSAjOuRkLo9dI/tptzb1xv+k9G6B4x0ULQSl6MF7Z1TnjtNcc1lop57ndBI3gXDF3e4jwwrjrfgLXjAJ4Xrnd5gX3eu11h2Bkb8gDbecxw7TXHFUMs1prTzf7g4TTojuKeDLO5Ro9B8TfHB3hZYej6Cpoh901jkDmFuaaxmHm7a5E7p7QHz9WYYN/VcYiXnv9Wn6MYzsXS7FcO3Jkf98K0haHO/6/0W4U0nwIv5Bsat+hWcQT4iMe0X1Pv4dx7zXnp+6jBy/0qZ2Z0o5WT+dod4HHpXBS/uxtkHGggqhAbgobHfbuVOEh2OT/3Cas2mkT6tbqc19oX7pfE1iSM2+fvOZtkSsr0rvXseYmAcyTVseZf05LO9+Mw23pvwBb717Go0Mjczb7G9ab/NIa7xKQTLx1ziJeLUxXPM4+jEQ/YwypZ6HNhwbgXhq34yXzyfh9zt11hkfBEvG6Bzzl9tjDUvMG8l77uyRm9lz5g6bbRFzcmf47fzvFKPPTHz8GrdU4Lw3xe4kLQixR3mVPQFNWYVn41tErHO6c9rbjhvq3x8BIMFZs18iPPY2H98/02eZi4FRaX9FtS5Z9baJL+sNaZ/p1mzeFtrrnxfG9xLzV4uW+n5WE/7POakq/b4NyXGLvid7lBPkEwD7QRM3etrkScW2BbiePvpyuGkkgqMlUS+HE4Evg+zRzUUED/eHzuXmEsQEgJoj93Lqn1PJkTFpUwzmTe8jkgHuG4Fi8vGm4sMh4z71PHE2b3ikmOK8wn74NYmDmosQaDe9HxxBPBXQ3OEsnn+7gXhn7uYRyYCxrzxCHloz7AKsc0r5T35+avn/eS2y0MMz/ekDPGQDZyXjFQLIVnirPiGuIGHNe4qBb449rnpZ9NDFOem3kknsj9w7gBX52Hjk3GoPv0mzTVfeWVnIPc1PkrzzSOioc/rv3r8UvnveT5oxj6uenYdI5vyQ8dy60/mxiqNvkFNdDozJfEWc2LrN3aB9TIObxvPcdb968GL99H5w65KseUV1Lj1pA/ebzOk917v+J32iDr0xl+AsieYCh0GIBMUiC0BAVF8hQIrcTx98N7YsLoOMM9odjM3VOTK5wPCSXn6z3/mb7ukXOwIPh7GeIpUROeeMwXvjw2vcaNQwtHnlP67ReKtfan49PtPFbtV2MLcT1VxHRs94xJxl7Hmz4xztU5HjONn/bhjyMmb/1bLNzYVMxwvp5reExjpJ+G0zp/+YS4m/7+ep0Cx2EcyqHAqTX/FgsQ2Na8PU7mHJhvEzt/vMMZiRnmuMEXY+A0RGMtOMvvMpdvj7AfPL7Ubylo5XKYf5pf1g142Jbxqd4oVs059jBzHJR+fB8+Xpvj4ZkY+nkLvvof8cf434sfGt9bf87xUOdsuAC5h/joGPUaxRC1rsWzfJ7LN+1vK59q8PJ4FSfQejlm8gh//gH0M/dxoH2KX9cgrw2YucRZ2ziPNB7GZPyH0oghMVyDZpCH5CF5OM6BNWCoBm8NY9niGBQ/GuQDPRXdgqgsquOCSgyJ4S1y89I+yUPy8FLO3OJ88nCch2rwbhGfI/Sp+NEg0yAP/Vouitm4mBFDYriGokMekofk4TgH1oChGrw1jGWLY1D8aJBpkGmQ35gDNCbjRYkYEsM1FGLykDxcAw/V4K1hLFscg+JHg/zG5miL5MExsyCwICAf3qpNHpKHb8U9vC95SB4iH96qrQaPn/+aRjD448ePH5P+l+Tmf2JADpAD5AA5QA6QA+TANjkwYgp5bTHVZgUZf8XJGtuSrGsc15HHxJiUX8N0LQ+IITG8ljtLXkcekodL8unavshD8vBa7ix5nTwo0CDD75lcEtyj9EUxo5itgevkIXlIHo5zgBgSwzVwYA1joEGmOR5ekacxGRdUYkgM11AQyEPykDwc5wAx3AeGNMg0yDTIK+AAjcm4oBJDYkhjMs4BYkgM18CBNYyBBnkF5mgNRBgZA43JuKASQ2I4koNLXUsekodLcWmkH/KQPBzhz1LXnjTIv748mN9q8fjdBu7bU/kJT3/MD9L29Tx9M+b05/SYf4OGP1buycQpWHh8w/afX6eP72v8enHCuHz88mJXlEN/Kcafvk6/TMziWI4Vk5fp86cPk+d6D0M8Jli9a8TnKBgiD989/TRc6x07AoY4xyoPG3n38rvNRdEBwRL7wL4jB2NO4zly3ZZ5iHP087JaibXG4oTneQzlGN6jlcfHwVDrUJuDvVw2x94/TJ//1L7K5zF4WOb78v25qgsGJ6eVmady3Q7rMuZZP5ej1qmm+boccVWP6nzRGd6mb5B90MI2EBqPY7sl5u54CD4ENmwnEmA7EyH1ueXE8XNZfDsH3BEBsce2YBquSTHFdsA7il8kKLYhsTdeVC+LQcRAOGgSEXHDduKs8PlUkh+B10H0cs5Hk6K4REEsvPWY+e1W3DaNIfIG24lD9XxnuJjMsWCh2NbXvk6tgiznbRZDxAzbFX5Ox8K5Lp/nMHTaGepU5nPRxP1jqHNtc7CXy1YD9IGj5L1y9TgYCpb6wFZw6GGoGGXz1+DgMXLZ6ZjLz+htSm5b7qEOYFu5HT/7BrkSlxhINQdBIPKTTbyJHstBrPpIAzCTsf3GiRWyYF+bTZw5HBbaHxPqw/T4NPMkOhMnSxq38uQLjcSskYyHiEkqpO+ensM3HcjzLoadVb6j8drqRXryD7xsCJTgnbl2nrZsmYd9DlnRVuGvuZgK7afn6fFTzyA7vQUN2iqGF+EH89VV+PIwcS6GrjhDn4fAcFYPT+Vyi8uw6JZwPASGaa7C3Y+f5Jt69TynMQxa+v5henx6aNbkLRvkS3LZ1hRbJ0I/2fec4N2MtxkwyD6IftsNCAREgmcm5o2Y34Zrt5o4aIZu0f71/Wd8/cE8eEgMfFzstomDj4vvy29vXMwuisOfP6dv4avA2lx0MQyrA3UB8Pc+Aq+t8CGOlpMBm6ABWjDk3H1j2OeQ09JZLv6cvoVX4Bp4gobaONi+t8rDi/ADLMw3aGH/eRgKR/09NacPgeEsBxvcM7ls+VbjH48fAkPhm2AjCwGmtp7G8Nv3+HrasXPZ44Tb2HacE9wN3o3tpBEXGeQQDPeUgytpIhjlSbwxqDwweScECl6VQPMFcauJo+J5808f+MYKJsYJ2zK2EGN96pK+8iqevo6hpqXE91gxQWMXMehiGLit70DFT8wZ5cNhMAz8dPmvZiNrSzIfqhEHwLDLoSTWypXyWXMxHusVh7lrIpe3ysPL8YsYyXz9u/AnMZzhsMblOBgKZ2o+SSzKaqjLZcflcC7WmHT8KBjK/EM9cHX7XAz3apDRRxpPYvgTcxjrqeAWr9VjkZ8hz6G+BIOMvKs8aNTD8w1yEoUyGB1A7EjEoQyu7FPRqD5Df8kkV4OTSYGBBlC2mjjV/GFOix5ziaYryCVuNk4+ZoaM0tcZJDpWTNoFYTahkecSc7+deHAEDIPoZz5F/Si4xe0oZB+mxy/yw6ZJAzxmfnsHGHbzcFYrai5GLfHYgh4H7OqHXNWgrfLwOvwEl8Q7XRTIWHcw1HN2xsPrMGxxsJPLip0uxmiOw37h4iF4KPxR3lV5eQGGWVMhzw+BYcSo7W0Uv6J1pv4I3ohb5UEjlucZ5BC88rJzW4TjgGLBi0mjxa4UQQwgnB8GB4bYb0PybDVxtADd/HMm0UoMAHddudMk9du+L7+d4nKsmNQFISTeHIbA3XbexJzYP4Y1btXXXIjVDNf2iuFlHFIdbWAaMLQ5jppjHoAR79TeKg+vwy/h2OTaPIYFz/Y5x8JwjoPKUV0UKEZF8As8nDHHcnz/GAp3wPM0OdjHMOOIRg9y+hgY6oqxYIX5iO2EI/pKj7ffTjieNsjhQggkBEBEyRsvdPNFSCDQ+XpMLGnDPWbc/JYTp49FC58r9zUC3YuTL5jmXB8H6buRjFtNxOtigryNMepimPmu8YyJ6/Nk/xjWuPUMcsC0wbUYs/1heBmHlEsNTAPfGsWhu1/7264xuQ4/yN+Ka3MYFqxarxdsuUZdh+EcBwtOPpfDNn7dXWnkAXgYaqt99U5qgHn1FHDxGGrtmtt/FB4av+JeJ7XH3CuiZ3qbvkFOQfTFXINjClzDmOXzJNDuuE8SmYx+3YBt08eGnyz9PG627XAO98F92Ja4hBinhxNsh+TEIoHtIn7S//7NHc63URAQN2zrSgkUX8975cERMAx5nbGIfNKcD7joKnzAsHxj5YvALjFE3mAbiqRypXw2uFjlrecuLEQ0+t4sDxEzbFdz9DoWMSwLPYqXP+90DdO47B9DxUg+aw72cjn6gD4HBcdjYTjDrRk9VJ7Jp9dGPHYIDNHPYFvy3m1bX4n5jW3k9uvUNcixENVPOSgm4abpD3zMGukkUrY/nyQx0SSo+II/Blzamw16JdQ2EH6eV287Umg/vThhXDC24dpQbBIHsrmxYz9WTOqCIDj1MMRjcysEx8AwClHM8fJAHDlqj3keHgFDnKOdv3DO62XbnCCWtg/3MDyjR1vm4fn4Ya3xPFRtaxdNvMcecxnnZ/lzCQfncxnrUNYB/3vlN17nL8ewNnP6uoBiZGOhHN2pQe7W05qHyKnKgwY/NONfzvA2XYMcxbYEYw3bWxbwNeB3izEwJuM5QgyJYS83f315bv7Fsd411xzbKw/vhZ9gTgyZy3O5Rx6Oc+OeGNIgz6ykzBGc+2uC77Ug3DPWxLDm1aX47xfDl+nzU/vPvF+K0anz94nh/fATfIkhc7mdZ+RhG5dL+HJfDGmQaZCnUdLusyBckrTj5xJDYjiah0tcTx6Sh0vwaLQP8pA8HOXQEtfTINMg0yCvgAMsCCwISwj6aB/kIXk4yqElricPycMleDTaBw3yCszRaBDf+nqKGcXsrTko9ycPyUPycJwDxJAYroEDaxhDMMg/fvyY9L8UGf4nBuQAOUAOkAPkADlADpADR+UAV5C5gsxXLFbAARGgNTwxb3kMxHB85YsYEsM1aAB5SB6ugYc0yCswR2sgwsgYKGYUsxH+LHUteUgeLsWlkX7IQ/JwhD9LXUsejvOQBpkGeXjlkok4nojEkBguVRhH+iEPycMR/ix1LXlIHi7FpZF+aJBpkGmQV8ABFgQWhBEhX+pa8pA8XIpLI/2Qh+ThCH+WupYGeQXmaKlgvlU/FDOK2VtxD+9LHpKHyIe3apOH5OFbcQ/vSx6O8/C0Qca/Zf3+ofpzp92/g+3MJ/6N8nfvn6dveNzcR35qtL6XBJ9BPxH08PfFHba/X6denDAu1d98P+PvlTMmFt93Tz/tqjwxTHi8TJ8/lZ8Ir7iW9EC4Wh3bOYbdHESdPJHLmOcVD43G1hqxdX09G0PkkvzWJp+vPZx6x1KctqyHZ2OYORlz+vG7rUs9HuI9BKvKC2y8zuP8Kh3LuAleP6dH+K1h9lx77N0n95c0kcP+2MF4iFyzPDyBYY5F5LDFP/K5b5BDEIpRjYEHYQ1ikbaxnW8MSeOOh0lBYEPfXqga/WxZfPDp7ibtnDQQI8EQsce2HMMYYztgj8TBNsR142K2RBx8Xgi3S7Ihbtg+HoY25yMWVtDKg0bBT3BC3LC9Ewwx77Dd0L9eLnd5GPr9MGW8RQdAfzUPNquviBu2Kwxj0cw4JJOS+eZwCpgqTu5YiIUeg/vsH0PNu5iLMt+C5+vU5WF6wMt4A27KQfncP4ZOxwy33LGkf+VBDo9jW+MSP/ePYc/beFzidsGwYBX5ijW7HOsbZE9eJzyh4GVTGweAiYKEr9rOqFlTUQbor9ts0D2WC29rkB+fnqsn8l6cTAHw4uXivbuCsEgMfCKmhw4tnMQwrR57Y5LELetHetr/9Dw9fnJitXMMuznoODqfy30e+nvEh46y+KE6u1V99fM7t57IvBHT0E/mpK1D/h6HxjDkpKy+P4dV0FL3+zzUh91yvsX4uDxs4Aa5b7hHPczf0GLunuKWwTBjK3XnYfroa046fpFBtjfwAfXbbeJrAlwyMb1GPrcq4DiHW7R/ff85/ZKgugcPJU15YrdxsnGwxaLqq+o7xvjYMbF4htgGAZv5ZuWwGM4YZH2Q+P1z+ha+pm3g6THz20nMtsrDbg5mIZdc89jgNraT9gIPrXaXvrxR2T+GCRvAteDfwBDOI4aA3Z8/p29/yrbP6waGwMN4fv1g5mvi4XjoTS/wTrAx3PP657fTtfvH0HPNbwNfPYYJI8n9x+/z151nkEPw4ruDRVBjp2U7mqtixOzgcgKEYPp3jNPq0ez7OKWvrQY9z98Rf/H9VbL04yQEwZiFRNQVFOkrGxh9HcO9vsGHlvR+d8ElFFx9h54Y2vePM58iL+v3DxtitXMMuzlo9OJ0LiOeFQ/xq/CgEzb3RYu2qq/nY1hqSdDeVNtiHVN8sR6VvI4LBvA6ATFsGGR9TargZngIXkK4Jv/RQ2g9PA4PVQcb78Ln3I98zHWaemhqCvLH64DySR/kMoaCrXAx1KNGzUnYn2eQNVBNMSmCMz+4ck4ecBCX9CRp+lUjtq/EyfNWLG/1GXAt4qSrTnMk8jGjQW5w9WSsQORE8L98nT7SIOevwQr30Xg8TJ+/1K8DKV+NkLEgnFkQOjzUFRRdhHj6Gn5g0uB8OIOc+KgLAvquJ/wAeTB3+aFO36+Nxu4dMWwaZM3hbIC9Hqo2iq6iDwCdPY5B1nqTcjdz0e0HDgbMcDv4J6z58dr9Yxgxm/M2pe4kbBGzkOv6TUY87rVQrr/MIJv3tXynuI2FsF6liAPH85UM5TMIU0WW7a5wlGCVOd5k34xBLsG3uHuczbbvy28nQdtqIt4E/yz6SbA8Zn77wBiarw1zcbT8DDHymPntjWNocs5orNcKj43fdufP4BR5HzUai4vs32oun4+hYuTNsexv4BnMhxZSvVY/j46h4NDGwGhrl4cNzA/FQ+WSPiyg0Y3YmG9xfX1pbVMPYXGmg2H2l20OCocvNMi2IxElb7y84JpESYGL+/qJZfsuJNqqgM/jUOa2yDkNMbJYxhhqnMyKcfOH9CBhpW/zFBbHzpjYGBrj55/uiWEWL29qIv+txoR9O8ewm4NGM/1rbDaXvX4YHrp+zG+vgWNbzeVLMFRTV2pXyV+rlfptJmggYHVsDBWzfh0XTnZ5mB5KtB4ph4/BQ8UwflqcYm63futC5B1wcmc15ZJctvnq9XAew1B79Ns0/MymOcakb5D903MwX/A0HbZToLCNIqJtdzyAoF9luWNzX7tI8mw1cTTxb/7psRT8cR+25RjGGNshbpFgsZBg2yb20WNiEjpgiK8HIW7YPh6GRswCD0FLVCdaq3hm3w4xxLzDdsYEuIL5i201IirwnodhW4tqxLBVfDeby4gbtisM5+cetNlhGgqpwZQY2hpWG+SeHoZjsMhifADE6ig8LA9pEUfdDrwDnCzmqIHYBp3YslfC/MU28CPjgfmKbf0mbhZDxGoew75BlgGFm6Z3rhov1KMT90+BeRJpYjEZtC9XHE/cR/vabOK0gnuLfY4kilsvThgXTVC9LhroFLMZsjEmqeimJ1FiiOKD7VgEhC/yv60XM2IVhHK/PJzPQcHMauV8Lvd5iPdofRMkOb/lXMb52RwEDJFHuHKE2oa1CPfrQ4he546pZu4eQ1O3Yk7bXL6Ah47bx8LQ6mF5YHX7lW+6oCj4I48PzsO2Hp6BYebxTM25/BULLHZv096y+Gjy7+2TMRnPBWJIDOd04deX5+ovmM6dO7p/rzwkhuP5RQyJ4ai+LHH9PXl4egU5u+xxciwBzl4FfAls3qoPxmQ8N4ghMWzn78v0+cn9mdkbavI+eUgM29y6JOeIITG8hC+3Ove+PKRBvmGxGU+oW5Fs2X73WVSXxegUF4jhON7EkBieyrN7HCcPycN78OzUPcjDcR7SINMg598qcCrh5o4zEccTkRgSw7n8uud+8pA8vCff5u5FHpKHc9y4534aZBpkGuQVcIAFgQXhnsI/dy/ykDyc48Y995OH5OE9+TZ3r2CQf/z4Mel/ISb/EwNygBwgB8gBcoAcIAfIgaNygCvIK1g9nHt62cp+SZ6tjHWt4ySGXDFZAzfJQ/KQPBznADHcB4Y0yDTIw+aWRXVcDIghMWRRHecAMSSGa+DAGsbAmjKeCzTINMg0yCvgAMVsXMyIITGkMRnnADEkhmvgwBrGQIO8AnO0BiKMjIHGZFxQiSExHMnBpa4lD8nDpbg00g95SB6O8Gepa2mQaZC5grwCDrAgsCAsJeoj/ZCH5OEIf5a6ljwkD5fi0kg/pw0y/l366u+m13/v+uOXlzMMV+tvX2Nfz9O3GdPCxI8axmQAAB6RSURBVDmROOFvtNf4tf9eeezr15eH/JtLqvjt/G++jyQPXosYvvvk/vIZMUyaEPNeclj+W65h/n+YjoYh8sfiUuf7ubmMGGL/in8dg9cQF+T1lto4xy6GmI/CxaefULMsR+2x1+nF1MNaZwUvwXVLuOFYz8Yw1+eI1+N3y1PkKGKI/R+eh1diiPEKfPT1JvV7FB4i1zwPkW+VJhgdeJg+/2k5LDj3DXLooFwYbwaiEI7Ddg54fSMMqg4aBxwmmYQK23idtLccdD+XxbdzwF1MgqinfdiWeGGMsR1iiQ8y2LbxPXxMDKapwOaii7hh+3gYhrzOYh6xiILmcYnbpbDicWzvBEPMO2y39BS5hm0512x7DC1W9txybLO5jLhhu8IwPoiVQhq3tRbZ2mOPRa38MOVrBe/M5yNhqHNNHHsPmPx+nbxPEEwV36rmGc5qvxuu88g9bFc81LkOYBiwaywmpHvtP5ed5nkuIf7YDvhYHfCcVZ72DbIPqr/JjEBo5+1PGdjD9PETJo0dbBQiZ/K2HnSP5cLb+tDx+PQ8vXtvsbOiHxNSRT5cByJvxOzMeG82EReKgcfQbBPDtJrmclywF/3IDxJaMOLnkTA0c/39OpkcdBy9JJd9v0WPG7FI99lqLvu59jAsOESuWUwtD/GYv8fLb9HSsoCk/R4Cw6Brsvr+PD0agxzrizHEci7UGMXp5ffBeTiAYeDl+4fp8emh+ZAmGB+Bh5ifMR/Lw5rPVzk389LXZb+d9PAig+xvGLZnClxJglpwHr+7JPKD89tQJLYa9Dk8ltr/6/vP6Zfg5J+igogDMdy2JVgsztm0+L789saL6lLYW8wdtz1mfvswGDaKoWDRLJxpFUqPecz89sYx7OZgmlvkquOWy+UuD6Efr+OYB1vV1/MxtPVI5u6vLXhYzta4xXjoYoNedwgM//w5fQtfSVuM1KRkIyK8C/XcLtoIVjWeJTbEEGt2jeG37/G1oGNj2NdDn9d22/J2DsfzDHIgeHxvEMUg3BD/8p4WNBBjFY3wKf2Ec9zEqgSSwddP5tLHVhPH4DCHzxL7K/NQi7jETQUM2zLGQBR96PEGpopTFDTGRAWszpFgWjAvDoth5GExxGnbfdsR8ySKl3J07xh2c9BoQj+XA3aBXw0e5n5sYfC6tNVcPh/DYsIQL6xrsl/6EywKX3XxoaxQxQeSoqWK5bEwrPkUsSuGOG77el5fp/jJJzEU/p3CcL8PGVn7vSfJOiZ53NfD05qgNcj/HELRiPMMsg4qiW8Uk9S5mqk02Lz6qNfkTzlfkyRem0GoTIMkj55bBrvlxMHkv2mbBvnuPyATHiq8mGle8CED4hGLYjAekt9f6teBVPQqY7Ljh4zTQq4aGHUTzRxe2+Wh6nClD9p3/DyiMZmvWckoA/cixsk8P32dPptXBY+LIXIy53BaPHv88nX66Os5eVjp4sUYqnkEfqK32H8u9/UQtVFwMYt/xsvqw295IFEcLzPI+mStxV9FVz8z6bEQpidsOZavaxlkMMRh8LCt/W/4yVIBv/lnjoEWPoe1+1pWSFTi4r5u9H357RSXrSbiMrHw+OpqcuKvx8xvHxjDIFhG3COWxhwLPh4zv71xDLs5mOYWueq5htvYTrnf0FFTJEzf2zd3szrWmKe+/4rXNPWggWE5r70KulU9PJ+HWlvks41BwaiRv96sNOJDDBHjNoaCca2h5br9Y+g1z273+FzjZq9V/l5okNudaGfVV6FA/DBYfB1D28E0S5KBIQ6iVLt5uc9Wg54xAkxusq9hHgT7vFrvvpbwBdOc6+MgfRtDE5Px2DFp5AQWVWIIKyVFvIX7VsAijk3DsnMMuzno9MLkp8nlEzwM/TTOcf1vNZcvwVBNXdFEy0ujyw09zccxzwHHY2ComJ02yOeakYzrhuv8ZTwcwTBeW2OrfW7XK12C4bweuhXjVG8052vc2trYN8heAIJYqJH1iRG3dQBI9rpdDwaLJbb9tVsVHz+Pm223BB33YVtEHWOM7aqg1jHTORw9JiHZ/CsW+UECccN2ETLB8QgYGjEzWlJ/la3cip+IG7Z3giHmHbbBdGU8MH+xratJszwUrNxCRKP/zfIQccN2NcfIn+aD2KmHttCvLtzM97N/DDHvvA9wxiRgBu9th3iQhzmfMx4WI2MSmxjGGNRGr8TmEDxEDcS24Io6gO18DDAP16q3LRj2DbJ0FC5M71yZX+cincTkkECE//kVinIDSwTd3ypy2JeKkJ5fPjcb9JAIZR5tXBY47kmS7hseOvSdMPdL3aPBizGsHnBScob4ZtNnx8mYJIOneeBxIoZpFRlzHMTJ64jiCGYvil3SGY9v4viWeTifg7WZ6OUyHqu+7fFFoqFJu8cQczHzDH8YLxlfPea4hnGq8D0YD2MNiznde3+2XVNqM4I1cfc8NLl3BYbp+l0a5Pyw3/Ikl+kh5mvFQ+Nt23w8bZBNIK0xQkLfq73lxLkXRve+D2MynhfEkBjO5e2vL8/Nv/I0d/7I/r3ykBiO5xcxJIYj2rLUtffkIQ3yyh4AliLRPfvZa1ElhuMFgRiOYvgyfX5yf7r8hpq1z1wmhuN5SAyJ4aiWLXH9fXlIg3zDYjOeUEsQ6vZ97LOo3h435AcxHMebGBJDzKm3apOH5OFbcQ/vSx6O85AGmQZ59rcMYLL12kzE8UQkhsSwl2P3OkYekof34lrvPuQhedjjx72O0SDTINMgr4ADLAgsCPcS/d59yEPysMePex0jD8nDe3Gtd59gkH/8+DHpfyEm/xMDcoAcIAfIAXKAHCAHyIGjcoAryCtYPew9wWzhmCTPFsa55jESQ66YrIGf5CF5SB6Oc4AY7gNDGmQa5GFzy6I6LgbEkBiyqI5zgBgSwzVwYA1jYE0ZzwUaZBpkGuQVcIBiNi5mxJAY0piMc4AYEsM1cGANY6BBXoE5WgMRRsZAYzIuqMSQGI7k4FLXkofk4VJcGumHPCQPR/iz1LU0yDTIXEFeAQdYEFgQlhL1kX7IQ/JwhD9LXUsekodLcWmkn4sM8renD9O7p5/GUIV96Tdf2L/HXgcY/y62JMC798/Tt2xO4t8jr/fbfpg4Fo8q+H9+nT4aXOP5vThhXKq/Vx76Sz/F+6n9F70Yk5fp8yf3k86YJ8QwaYbFyXLNHgs6cCAMuzmYNfJULvcxxHtY7S2asuVcxvlZbpX5Wb2MeM3WrZC3D/bPfH9/ht/yhPWr3OMQGKKmSS3HXP39Op0Xi4h/K1ZbxlA4dt78hTPoez5MLSykP6nfzWPCxx3W5fPxi9iEevH+wzSXyx4/7F+vlU+P8fkGWYUBEyHsSyKBbSfoKkp+kLpfCaBJFswc3gf623ri4JwXb2fRcsKNscG24IpFANsBcxQwbJdiIHNgTETkXCHNnEXcsH08DENeZzGPWBRBOzCGmHfYzhwCrmD+Yjuc28HQnWtjUfrfbC4jbthuYRj2Rf7JfAsHCw4vv/U45HXoF84XTDOfy7X7xzCauoJb3M7mAvHHtouFmpR8HRzfLIYyB5wztmF+sfa7ehDOBX6l80OuNszbS8jpD00ObrouI2bYrvB7nSIGfQ86ix/25/RRvdmZBlkC+TB9lFUyMK7hxnk7BrskTREMJEP7uEu4AIozeWkym04cDMjCbRWbxydZ4bDY9eIUrgORl3OzYHly7q0gLBWDDl+NWMr9Douhy3HFQvXjwBh2c9BxtJfLkWs291Xoq8+ZgrBVfb0Ew4iT1LLn6XHOIIc8fZg+woOvv0c00WCgU6wOgWGHlx4nU1PydaIH0VPkepOPbXvR5bz5e38k284w6+ryp+fp8RPU5bSi/O79w/T49LA7g3wJfl097OBn9bBRmxIXzzLIMmAhcWswhdw+uJ4AMSE+/+n3uycuGZg3ZjtJHBuUBg4wz0vP/fX95/RLrq8Kn4+L3bYxTV9XqGnxffntNN6tFoRLMZ49PxTT9usnVTwOi2FDhBA3bPs88Jj57Y3zsJuDBgubu1VB7WFo+nF5Dse2msvnYyj15ef0LdShBicDFrL/efrm6pAv3Iq/X/Q5BIbAGdFFxB/b/phqqJzz+N3zudTErWLYmq/HQzGoPh3f5PWLb98Fkxqnb9/jq641J7ePocfLbxfcPC5+ex6/0kd6HQYWCfHYGQY5iYVLAg0aioNMpBjmEqhwwxB8+55mvjYcw5UPuWf9ZC79bDlxEPibtSvzEEmTsXbvM/mYhYRDg4zEqeIUY3z0mATMzF+gBC5703JYDCMPy1fSaTt923FkDLs5aIxIP5e7GGo/QR9Eh/elr+djiHWpbZAFx1DHQq4CTgm7rKVp29e8rerhdRjqglZ5NeBkP4JrqCuRzx6/rdf5k/PXXMyfqoX2G/riEeZxCjmPNTr3uV2vdD5+fT08Bz99BzznNOAn1580yDJYvVja5RWLcweXBCmIiRebtF2ZBhrkElwU9DPaAWcwaOnpU2Mo/SIBsS3HQsLRIJsfRD0Vi5AXIFJmW+IBx+a+Bt9qUT2FjT0eDYnMNRi0L+V1IIOZPowrbjvHsJuDRrD7mtvF0PSj3zSBHqfjW+Xh+RiihjYMcjZvavwsRuYh5Olr+OFcb/COiGHxBba+VDUl1CPFdN74bRVDme91XBReRjwQy6if8zjRIBd/2sL+FH7VN7xOJ/sGGcVCi5aap2rZH4OIhXBuVRnODwZZk6YtTHGi230q0vHf/HPGIBcRB9yrmNqvyiryVH3HYrNlMbtJPJDPHjO/vXFjMoJfT9zNa1YeM7+9cQyDsc266nLQCLbNXS2oJbfR/PV1dO7areby+RgiRrVBln7yYgLmsYmD9lFfL/lwHAxTnQfuyvy7sZDczed7Piuu28HQPDClb8O682/yqMy7qrnh/Hmcehq6fx56XPy24jq33y0INmLTNcg2+PB6RFrZESIUcY6DyOLSuJktpni+JJo3yLgKqhPdTuLYuZbx33x/wzz04hRinAXLPf2GAgFxkL51VQ/iu9VEvFksEDdsC2bEMK/O+0Ji4oG4YXuHGHZzEPJM8OnlssFPrvO4mb72Ze4uwbDg5DFIhs+8LhXrXrOuBXyhbiV8t6qHl2EYsSr1v9S4Xj8h5xv4FtMc+9kqhsKt3vwL9wpeuC9cW9XYEwavOn/bGF6C33l6OIff3P4Sm65BxsBJuypoaMawbYQ43swHPmzDb1vAvrHtx7DlxPFzucl2Kw64D9u5iCaRrwQfCYTtQiCZw7Fj4nGJ20Xw8Ti2j4ehEbPAQzUXHpeDYYh5h+2GjpoVJpPLJzA056YiDvqrWrTZXEbcsN3CMO/zBtnmpPkWI2ulLhh4jpZr94/h/NwDjxB/bGfcFSvPWd2/8ZqCc8b2yfnPPXTM4+R9lebxpusyYobtCj99VSzlpNO4gsUcfoK31qDCvXLdGe8g48kt4xr2pSfC5lM2TCqaYl2J9gOL5BBx8b+mDMewWfEBHHA+i7dnSNKLE8alWhEIBE0x29mT6nLYp4KhKyMeJ2KYVo0xx+Gr7JAbx8ZwPgdrEZ/P5T6GeI+9/ZCe5DLOz+pYjWHM/cjH2brVKM54j9a3adLvlmsUzm8WQ9Qz1Tz5BN2b7weNyJxx2TaGl3HRamJZWDkPp4Az4B55Ha/dPQ+Tp5rXQ8VwhmeN/Eb8pH3RCrK/+C22txz0t8DrHvdkTDQRr/8khtdjpxzfK4a/vjzbv+Z2w4dtYkgeaj75T/JwnBuC6b1wZC6Px4sG+YbFxgvMXrf3moj3jBcxHBezfWL4Mn1+mvkd2zfQLmJIHrZ1jzxs43IpX+6HI3P50tjU59Mg36DILJNIdbDW2u8+E/G++BPDcbyJITFcg0aSh+QheTjOgTVgSINMg5x/q8C1hGRBGBcDYkgMr82/Ja8jD8nDJfl0bV/kIXl4LXeWvI4GmQaZBnkFHGBBYEFYUtiv7Ys8JA+v5c6S15GH5OGSfLq2r2CQf/z4Mel/ISb/EwNygBwgB8gBcoAcIAfIgaNygCvIK1g9vPbpZi3XSfKsZSxbHQcx5IrJGrhLHpKH5OE4B4jhPjCkQaZBHja3LKrjYkAMiSGL6jgHiCExXAMH1jAG1pTxXKBBpkGmQV4BByhm42JGDIkhjck4B4ghMVwDB9YwBhrkFZijNRBhZAw0JuOCSgyJ4UgOLnUteUgeLsWlkX7IQ/JwhD9LXUuDTIPMFeQVcIAFgQVhKVEf6Yc8JA9H+LPUteQhebgUl0b6OW2Qvz+732rxYP7s6em/gz0eaJwgE+cEnuHviz9P35zp68Up/D339NtLPn55sYY59Jd+ineHf/MdubVEW3AmhnMcfZk+fyo/Ee5xQo6+e/p5KB52c/CCXFYOH5GHy2BoOUoezuQy1gWpHT5fE2dbPDR5/t76CeXvHup8a+46v/hpueb18MV4r7qmhz7knB3W5fNz+ef0CL95zWJo8RVOGZ4aDrd5eNIgh4HOkD8GMAUuBHMmiE7gLUlmEnDmmj0kzsj8u9fmgLs4YGywLRiHaxI5sB3wjwSLpMO2jRljEvFQ4W8lKTF8nQI+Wcwjnx6/R+yiIBbe2uKC3MP2TniIeYftlgZi/mIbzj0kDxE3bAMuWTsRN2z/ThzN9S4W35LPyD1sH42HERfN3ZffHqd5PQx5njXgdfJ5rzHaek1p56DlSU8PY13+MCnGHreAU+Duh/0ZZMxfbFe57HIwnFswi7xsG1/lrMH3fak/ysOTBtkWqkaAs5jEweoN9QYx0PWN8/Fq0vYe/rytJ46fz1LbUWg+TI9PsuJv8Q6JOBMnn3gm3p6ckpAgbjp2xiQ9xX56nh4/uRVkYphWgn1RfZ3CA3bgpRM60QTBTbm2cwy7Oej0sZfLKvrvDsjD5TC09cfgTR7ab3WAmwanZJibPIRrQv3wmKbj260pnVpg5t7Tw/TgkGu25aTgFvB+/zA9Pj00a7Kcs1UML8ll9SDx09WRwC3rhfL5nnd+O8XqhEGeMb3hYjeY3347BbU3SEOYmgR5MnDeVoPemsuS+359/zn9EpzcishLFRcbJytsbgXF9+W3U1wYk5/Tt7ASarEN8fWY+e3DYDhTEIIJbuCGuuEx89sbx7Cbg2luUSs8Tn77uDxcDkOsQ46znnd++zA8RIxi2+Lf4aHhs/sGE45tt6acO3fHLZm78GlODwEb0YJv3+MraN5MoqfYKoaWS86TOBxwvubbcINnzVddTNAF3TkcTxjkGEQBWv/7r5v0BiFos+9fzrj43mRnjm016CaQM3Nb5JxKtGMRnYuTkLHE1D255oRNBEPTAnNgTDQBvWFB0Ts6hhGb8g1E2k7fdgRRhG8+4nb6emznPOzmIOSZPuzO5XLRj+PxcGkMI//c19fkYXsFOdQF/Gq7o4eGz8n86DdFcGz7NaWRgzA/zeW2HsZrH7+j/2p7qDljJ1qwVQzPz2XLM5kvvmMcsAHv6r9ZzzFw1xUdfZ36BtkT32xrEHWQkez4rmUYsBmgNWM4kHPbWw36ufMbPo8GuS3iRpwKZ4fxNv02RHHnRfUy/FDwH6bPX/B1oIidasbjl6/TR/0Bnp1jeH5B6Gkucvp4PFwew4hnMMpq4MjDhramnG6+DtDgIehlNDDtd0S3X+f7c4+6OaeH8Vo0dIaHHkPlJ+yX/reK4fm5jJon7YRb4qLHzGwbL9v65j323TfIDnABPdyk+d7gDCHCQNpPP5cV1zjgrQb9mrledc2MQS6rxDZOJZ4RX7Pt+/LbiR+MScROE7Rg3Ug8YpiLbG/1w7wq5DHz2xvnock5o7HKK/20udvkW8DCn7d/Hi6PYcI81C/4JgO+5TAchVq5VT08H0PlY88cyzkNHiaceuZY6t4mMEwmS8Yq//Gbnd7c5+p60cMGbshD4Fq5RmNSPjeBIcxFcbmch2XOczkZ+gYMa9wamP8+tYI8M3g1ADIRbSshLEn0HSMaZA3+zT8b5qEXp0AUePo35wZCQeyk78bT6lYTcflYNJKMGGZD7PH2QojHjYDtHMNuDjoNNvmZDEiluS1jQgwzD8/DMBVd1FNimDHUdzhL/QeTkjnb0MPf87+5AvN/+zWlPXeco2+jHlqOzvsoo5MZ9xiLrWJ4iR56DHt44C+MqM9rx6u/goziIOCHbfhKBI9jGwPlRQWPXdHeatB9IG+23YoD7sO24B/ik2KK7RAbJA22rRgyJopHCyPch229ZttidgmPjegHHhYtMaIYeIgrMogbtneCIeYdtlv6iPmLbXNuCyPch21iWH2VnRcMIk7lvUbEDdtHw9DjYudfNKGBkcv7cq7tY/s1pTF3k6P4SuoJb9X5Vqk2egXHzWKIGohth58uypaHtPiNRtz2+DvOhn6hxszwsm+QZUDhwvJDen61Ijz1NL9iKIGaS4Jr9m826FVwb4PP3FcMvTiFJEsxLGRL40tEEtxbq8cSQ8ZEY+mTkhjaHMd37kCcQm4kATsoD+dzUDArDxKCZy+XI97H5OEyGFoeVpq3cz08C0PEIOVruz7UPETuhmvS9d5XbL+m1HOPq+6Yyz09dN6r8c2t5HqI18yxLWN4Fg9D3bAYlodZqb0nctl4W4yL1vMrXrGwBa90dK/9Ww76vTC6930Yk/E8IIbEcC5vf315Nn+9dO68JfbvlYfEcDy/iCExXEJjRvu4Jw9PryDfa+XzzPvsVcBHSfOW1zMm48JJDIlhO4dfps9PX+PvOD9TI9v9nIfvPnlIDEc4Ea8lhsTwPA0Zx6l3n/vykAb5DkXntoTpkek+x/ZZVO+DnXKDGI7jTQyJoebTW36Sh+ThW/JP700ejvOQBpkGGX4y+TpCMRGvw02FTD6JITFEPrxVmzwkD9+Ke3hf8pA8RD68VZsGmQaZBnkFHGBBYEF4qyKA9yUPyUPkw1u1yUPy8K24h/cNBvnHjx+T/hdi8j8xIAfIAXKAHCAHyAFygBw4Kgc2t4L8//787+EVT3xCYHv8SZUxIYZryCPykDwkD8c5QAyJ4Ro4sIYx0CCv4Ov1NRBhZAw0JuOCSgyJ4UgOLnUteUgeLsWlkX7IQ/JwhD9LXUuDTIM8vCJPMaOYLSVII/2Qh+ThCH+WupY8JA+X4tJIP+ThOA9pkGmQaZBXwAGK2biYEUNiOGIolrqWPCQPl+LSSD/k4TgPaZBXYI5GkmAN1zIRxxORGBJD5vI4B4ghMVwDB9YwBtaU8VygQaZB5gryCjhAMRsXM2JIDGlMxjlADInhW3Pg15eH8tvUnn6e4VFeps+f5LeNPEyf/4T4fX8u/fhjv39Oj/Bb2z5+eanuQ4O8AnP01mQcvT+NCSTklXwihsRwNA+XuJ48JA+X4NFoH+ThgXmYTO3j99fp5c+v08f3H6aWeTUcy0YYDHK6NvSjZvjT1+lXqNHJUCfz/e2pYa5/v040yFcaGhOcg/dBMTuwmK2I++QhebgGXSYPyUPy8HoORLP6PH1DI5uNbatfXT22Jtf2465DE96pYTTIHXDWQPItjIEFwSXfFZwihsRwDblOHpKH5OE4B4jhtRgmswuGuGt0f79O8XWMh+mjecWi7gdjoteY1zEadZsGuQEKAsn2aaKzqJ7G6BSPiCExPMWRexwnD8nDe/Ds1D3Iw6PyML0XXBlkeHXCeLZ4vryCYV+TSP08PcN7xroq/ZrOfZ4ew6sV8S8lxlcxLO40yAZsC86pJObxiBfFbJw3xJAYrkFPyEPykDwc5wAxvBbDywxyXAmOxrdpkPMP5tl+47nl3WZ7bRk7DTINcvWTm5cmN4tqSahLsdPziSExVC685Sd5SB6+Jf/03uThUXlYvxoRzWtZ/VWO+B/gsyZ3rp+4El29YpHeSfY/DEiDTINMg7wCDrAgHLUgjM87F4wFeEwejseDGBLDJXPy2r62ykNriGujq3hEkxtfj3gHv65N2vK6hO1Ht9OrGv6H9GiQx5NWA8NPi+VWE3FNcSSGllPXxIYYEsNreLP0NeQhebg0p67pb7M8RPPqf81b2n7X+N3IdgX5dXrBfqpf86bvKMffsVxdmxYbuIK8wKrLNeTd0zWbTcQVxZ4YsqiuQRPIQ/KQPBznADEcw9CsDqMZ9oYZanjT5CaTHFaY4Qf/YnySSQ6rz+0fAqRBBoDXQOotjoFFdUwMJObEkBiuIffJQ/KQPBznADG8HYZinv27wrfCmwaZBpnvIK+AAzQm44JKDInhrQrlJf2Sh+ThJXy51bm75KGsIFcrweN80xhMjX9//Ot//neS/z9+/Bg2S3qjW33uMugrMGgj8WJMxhOUGBLDkRxc6lrykDxciksj/ZCH5OEIf669VvyxrBrjfxrkjRvUa8mw1HUUM4rZUlwa6Yc8JA9H+LPUteQhebgUl0b6IQ8v5yENMs3w4t8SMBEvT0QvfMSQGHpOvMU2eUgevgXv/D3JQ/LQc+Ie202DLK9W6H9cWmbbLrUTD+JBDpAD5AA5QA6QA+TA/jjQMsj/H83vktNjp2BtAAAAAElFTkSuQmCC)\n"
      ]
    },
    {
      "cell_type": "markdown",
      "metadata": {
        "id": "Rxi-XZ6tauju",
        "colab_type": "text"
      },
      "source": [
        "Các cột có ý nghĩa như sau:\n",
        "\n",
        "* **No observation**: Số lượng các quan sát trong từng bins. Thường sẽ được chia bằng nhau giữa các bins để không có sự thiên lệch.\n",
        "\n",
        "* **No Good**: Số lượng hồ sơ là nợ xấu ở mỗi bins. Chúng ta coi những hồ sơ vỡ nợ là Good vì Good không phải đại diện cho chất lượng của hồ sơ mà chỉ đơn thuần đánh dấu các hồ sơ nhãn là 1. \n",
        "\n",
        "* **No Bad**: Số lượng hồ sơ không là nợ xấu ở mỗi bins. Nhãn của hồ sơ là 0.\n",
        "\n",
        "* **Good/Bad**: Tỷ lệ hồ sơ Good/Bad ở mỗi bins.\n",
        "\n",
        "* **%Good**: Phân phối của các hồ sơ good trên toàn bộ các bins. Tổng cột bằng 1.\n",
        "\n",
        "* **%Bad**: Phân phối của các hồ sơ bad trên toàn bộ các bins. Tương tự như `%Good` cũng có tổng bằng 1.\n",
        "\n",
        "* **WOE (Weight of Evidence):** Trọng số bằng chứng được sử dụng để đo lường sự khác biệt giữa tỷ lệ `%Good` và `%Bad` trên từng bin. Trọng số bằng chứng được tính toán bằng logarit của `%Good/%Bad`. Chẳng hạn tại bin `20-30` chúng ta biết được `%Good = 0.313` và `%Bad = 0.192`, khi đó giá trị `WOE` tại bin này như sau:\n",
        "$$\\text{WOE}_{20-30} = \\ln(\\frac{\\text{%Good}}{\\text{%Bad}}) = \\ln(\\frac{0.313}{0.192}) = 0.491$$\n",
        "Tính chất của WOE: Giá trị `WOE` tại một bin càng lớn là dấu hiệu chứng tỏ đặc trưng rất tốt trong việc nhận diện hồ sơ `Good` và trái lại nếu giá trị `WOE` càng nhỏ thì đặc trưng bin sẽ rất tốt trong việc nhận diện hồ sơ `Bad`. `WOE` > 1 thì phân phối của hồ sơ `Good` đang chiếm ưu thế hơn `Bad` và trái lại.\n",
        "\n",
        "* **IV (Information Value):** Chỉ số giá trị thông tin, có tác dụng đánh giá một biến có sức mạnh trong việc phân loại nợ xấu hay không. Công thức tính IV:\n",
        "\n",
        "$$\\sum_{i=1}^{n}({\\text{%Good}_{i}-\\text{%Bad}_{i}).\\text{WOE}_{i}}$$\n",
        "\n",
        "Ta nhận thấy `IV` luôn nhận giá trị dương vì $\\text{WOE}_{i}$ và $(\\text{%Good}_{i}-\\text{%Bad}_{i})$ đồng biến. Gía trị `IV` sẽ cho ta biết mức độ chênh lệch của `%Good` và `%Bad` ở mỗi bin là nhiều hay ít. Nếu `IV` cao thì sự khác biệt trong phân phối giữa `%Good` và `%Bad` sẽ lớn và biến hữu ích hơn trong việc phân loại hồ sơ và trái lại `IV` nhỏ thì biến ít hữu ích trong việc phân loại hồ sơ. Một số tài liệu cũng đưa ra tiêu chuẩn phân loại sức mạnh của biến theo giá trị `IV` như bên dưới:\n",
        "\n",
        "* <= 0.02: Biến không có tác dụng trong việc phân loại hồ sơ `Good/Bad`\n",
        "* 0.02 - 0.1: yếu\n",
        "* 0.1 - 0.3: trung bình\n",
        "* 0.3 - 0.5: mạnh\n",
        "* => 0.5: Biến rất mạnh, tuy nhiên trường hợp này cần được điều tra lại để tránh trường hợp biến có mối quan hệ trực tiếp để định nghĩa hồ sơ `good/bad`. \n",
        "\n",
        "#### 2.2.2. Ưu và nhược điểm của phương pháp WOE\n",
        "\n",
        "Sở dĩ các mô hình scorecard lại ưa chuộng phương pháp `WOE` bởi vì đây là phương pháp biến đổi biến có nhiều ảnh hưởng tích cực tới quá trình xây dựng mô hình hồi qui logistic. Các lợi thế đó là:\n",
        "\n",
        "* `WOE` giúp biến đổi các biến độc lập liên tục thành những biến có mối quan hệ đơn điệu (đồng biến hoặc nghịch biến) đối với biến phụ thuộc. Thật vậy, giả sử thống kê cho thấy đối với độ tuổi của khách hàng trong các khoảng `20-30, 30-40, 40-50, 50+` thì tỷ lệ `%GOOD/%BAD` là `[0.1, 0.5, 0.2, 0.3]`. Như vậy `AGE` sẽ không có mối quan hệ đồng biến với tỷ lệ `%GOOD/%BAD`, tức là nó không có mối quan hệ đồng biến với biến phụ thuộc. Trong khi nếu hồi qui giá trị gốc của `AGE` theo logistic thì mối quan hệ với biến phụ thuộc của `AGE` sẽ là đơn điệu,là đơn điệu tăng hay giảm phụ thuộc tùy vào dấu của hệ số hồi qui. Điều này là trái với thực tế. Do đó, phương pháp `WOE` giúp ta chia nhỏ các biến liên tục thành các khoảng biến mà giá trị của nó là đơn điệu với biến phụ thuộc dựa trên `WOE` tương ứng với mỗi khoảng. Do đó các hệ số trong phương trình hồi qui logistic sẽ giải thích được đúng thực tế mối quan hệ giữa biến độc lập với biến phụ thuộc.\n",
        "\n",
        "* Phương pháp `WOE` giúp loại bỏ các outliers vì các biến có khoảng biến thiên lớn sẽ được group về các nhóm bins. Gía trị của các quan sát outliers sẽ không còn khác biệt so với các những quan sát khác thuộc cùng nhóm vì chúng cùng được gán giá trị bằng trọng số WOE.\n",
        "\n",
        "* Giá trị `WOE` phản ánh được ảnh hưởng của từng category lên biến phụ thuộc. Vì giá trị `WOE` thể hiện chênh lệch về tỷ lệ giữa `%GOOD/%BAD`, đây là chỉ số ảnh hưởng trực tiếp đến xác suất vỡ nợ của khách hàng.\n",
        "\n",
        "* Đối với các biến quá phân tán thì `WOE` sẽ nhóm thành những nhóm thành các category và hệ số WOE thể hiện thông tin cho toàn bộ nhóm.\n",
        "\n",
        "Chính nhờ những lợi thế trên mà WOE đã được sử dụng phổ biến trong các mô hình credit scorecard.\n",
        "\n",
        "Tuy nhiên phương pháp WOE cũng có những hạn chế nhất định đó là:\n",
        "\n",
        "* Khi tính toán WOE, rất khó để biết phân chia bao nhiêu bins là phù hợp đối với biến liên tục hoặc khi nào thì nên nhóm các nhóm với nhau hoặc tách nhóm.\n",
        "\n",
        "* Do các biến WOE là luôn đơn điệu với biến phụ thuộc nên giữa các biến độc lập luôn có sự tương quan (do cùng tương quan với biến phụ thuộc). Điều này có thể dẫn đến nguy cơ đa cộng tuyến cao ảnh hưởng tới khả năng giải thích của hệ số hồi qui.\n",
        "\n",
        "* Dễ dàng xảy ra overfitting do có thể hiệu chỉnh ảnh hưởng của biến bằng cách nhóm các categories.\n",
        "\n",
        "\n",
        "\n",
        "\n",
        "\n",
        "\n",
        "\n",
        "\n"
      ]
    },
    {
      "cell_type": "markdown",
      "metadata": {
        "id": "35Ir3zBDIzGT",
        "colab_type": "text"
      },
      "source": [
        "\n",
        "### 2.3. Tiêu chuẩn mô hình scorecard\n",
        "\n",
        "Vì là một mô hình liên quan đến định lượng điểm tín nhiệm khách hàng và ảnh hưởng đến quyết định cấp vốn nên khi phát triển một mô hình scorecard và cân nhắc ứng dụng mô hình đó vào thực tiễn, ngân hàng cần phải xem xét đến các khía cạnh rủi ro có thể phát sinh để đảm bảo việc áp dụng mang lại hiệu quả và hạn chế các rủi ro tiềm ẩn. Các tiêu chuẩn cần đạt được của một mô hình credit scorecard đó là:\n",
        "\n",
        "* **Khả năng diễn giải (Interpretability):** Một mô hình có khả năng diễn giải tốt sẽ dễ dàng áp dụng vào thực tiễn hơn so với các mô hình có khả năng diễn giải kém. Chẳng hạn khi áp dụng 2 thuật toán khác nhau là hồi qui `logistic` và thuật toán `neural network` vào xây dựng một mô hình phân loại nợ xấu thì mô hình `neural network` có thể mặc dù mang lại kết quả khả quan hơn nhưng mô hình `logistic` vẫn được ưa chuộng hơn vì nó có khả năng giải thích được tác động của các đặc trưng lên điểm số cuối cùng. Trong kinh nghiệm làm việc của tôi có một dự án liên quan đến phân loại `đơn hàng đầu cơ`. Giữa rất nhiều các lớp mô hình độ chính xác cao hơn hồi qui `logistic` nhưng khi áp dụng thì khả năng giải thích tường minh của chúng gặp hạn chế. Trong khi nghiệp vụ yêu cầu mô hình có thể tự lý giải kết quả như con người, đây là một điều rất khó đạt được đối với các mô hình black box phức tạp. Chính vì thế tôi đã cân nhắc lựa chọn mô hình `logistic`.\n",
        "\n",
        "* **Độ chính xác kì vọng (Expectation Accuracy):** Một mô hình trước khi đưa vào áp dụng cần phải đạt được một ngưỡng chính xác kì vọng. Ngưỡng chính xác này nên được thiết lập theo một metric phù hợp, chúng có thể là: Accuracy, Precision, Recall, F1, Kappa, AUC, Gini,.... là những thước đo đánh giá khả năng phân loại của mô hình. Thời điểm thiết lập kì vọng nên được tiến hành ở đầu dự án để tạo ra mục tiêu nhất quán trong suốt quá trình phát triển mô hình. Ngoài ra giá trị thiết lập nên được tham chiếu đến một số cơ sở thực tiễn chẳng hạn như: Khuyến nghị của các tổ chức tư vấn tài chính, độ chính xác mà một số ngân hàng khác đã đạt được trong cùng một thị trường, độ chính xác của chuyên gia,....\n",
        "\n",
        "* **Chi phí xây dựng (Cost):** Để xây dựng một mô hình scorecard sẽ khá tốn kém về mặt chi phí và nguồn lực. Đội ngũ phát triển sẽ phải bỏ công sức thu thập dữ liệu, gán nhãn, xử lý dữ liệu, huấn luyện mô hình. Ngoài ra việc sử dụng một số nguồn dữ liệu ngoài như dữ liệu lịch sử tín dụng từ cục tín dụng sẽ phải mất phí. Quá trình xây dựng mô hình cần phải tuân theo chuẩn basel nên có thể sẽ phải tốn thêm chi phí tư vấn tài chính. Sau khi xây dựng mô hình sẽ phát sinh thêm các chi phí về hậu kiểm, vận hành và đánh giá lại mô hình định kì. Tổng hợp các chi phí trên sẽ là một khoản chi phí rất lớn đối với ngân hàng. Do đó cần ước tính chúng trước khi xây dựng mô hình để dự án đạt hiệu quả lớn nhất.\n",
        "\n",
        "Như vậy việc xây dựng mô hình credit scorecard không chỉ đơn thuần là đưa dữ liệu vào và chạy. Sẽ cần rất nhiều các tiêu chuẩn khắt khe cần đạt được khi triển khai xây dựng mô hình và áp dụng mô hình vào thực tiễn. Tuy nhiên đó là những gì vượt xa ngoài mục đích giới thiệu phương pháp scorecard. Tiếp theo chúng ta sẽ cùng thử nghiệm xây dựng một mô hình scorecard."
      ]
    },
    {
      "cell_type": "markdown",
      "metadata": {
        "id": "HcwYtGllzQEB",
        "colab_type": "text"
      },
      "source": [
        "\n",
        "### 2.4. Xây dựng model ScoreCard\n",
        "\n",
        "Sau đây chúng ta sẽ cùng xây dựng một model scorecard từ bộ dữ liệu [hmeq](http://www.creditriskanalytics.net/uploads/1/9/5/1/19511601/hmeq.csv). Thông tin cụ thể về các biến trong bộ dữ liệu này như sau:\n",
        "\n",
        "Bộ dữ liệu HMEQ bao gồm các đặc trưng thông tin nợ quá hạn của 5960 khoản vay mua nhà. Đây là những khoản vay mà người vay sử dụng vốn chủ sở hữu làm tài sản thế chấp cơ sở. Tập dữ liệu bao gồm những trường sau:\n",
        "\n",
        "* BAD: 1 = Hồ sơ vay là vi phạm hoặc mất khả năng trả nợ; 0 = hồ sơ vay đã và đang trả nợ.\n",
        "* LOAN: Số tiền yêu cầu cho vay.\n",
        "* MORTDUE: Số tiền đến hạn của khoản thế chấp hiện có.\n",
        "* VALUE: Giá trị tài sản hiện tại.\n",
        "* REASON: DebtCon = nợ hợp nhất; HomeImp = cải thiện nhà.\n",
        "* JOB: Thể loại nghề nghiệp.\n",
        "* YOJ: Số năm kinh nghiệm trong nghề nghiệp hiện tại.\n",
        "* DEROG: Số lượng báo cáo không tín nhiệm.\n",
        "* DELINQ: Số hạn mức tín dụng quá hạn.\n",
        "* CLAGE: Tuổi của hạn mức tín dụng cũ nhất tính theo tháng.\n",
        "* NINQ: Số câu hỏi tín dụng gần đây.\n",
        "* CLNO: Số lượng hạn mức tín dụng.\n",
        "* DEBTINC: Tỷ lệ nợ trên thu nhập.\n",
        "\n",
        "Có tổng cộng 12 biến đầu vào bao gồm cả biến numeric và biến category.  Về cơ bản số lượng quan sát là đủ lớn để xây dựng mô hình credit scorecard. Tiếp theo chúng ta sẽ khảo sát dữ liệu.\n"
      ]
    },
    {
      "cell_type": "markdown",
      "metadata": {
        "id": "sAS0cAlDJH1p",
        "colab_type": "text"
      },
      "source": [
        "#### 2.4.1. Khảo sát dữ liệu."
      ]
    },
    {
      "cell_type": "code",
      "metadata": {
        "id": "tP2COt1Z9nS-",
        "colab_type": "code",
        "outputId": "59b7fe12-bae8-48d0-8891-082ced454728",
        "colab": {
          "base_uri": "https://localhost:8080/",
          "height": 212
        }
      },
      "source": [
        "import pandas as pd\n",
        "\n",
        "data = pd.read_csv('http://www.creditriskanalytics.net/uploads/1/9/5/1/19511601/hmeq.csv', header = 0, sep = ',')\n",
        "print(data.shape)\n",
        "data.head()"
      ],
      "execution_count": 0,
      "outputs": [
        {
          "output_type": "stream",
          "text": [
            "(5960, 13)\n"
          ],
          "name": "stdout"
        },
        {
          "output_type": "execute_result",
          "data": {
            "text/html": [
              "<div>\n",
              "<style scoped>\n",
              "    .dataframe tbody tr th:only-of-type {\n",
              "        vertical-align: middle;\n",
              "    }\n",
              "\n",
              "    .dataframe tbody tr th {\n",
              "        vertical-align: top;\n",
              "    }\n",
              "\n",
              "    .dataframe thead th {\n",
              "        text-align: right;\n",
              "    }\n",
              "</style>\n",
              "<table border=\"1\" class=\"dataframe\">\n",
              "  <thead>\n",
              "    <tr style=\"text-align: right;\">\n",
              "      <th></th>\n",
              "      <th>BAD</th>\n",
              "      <th>LOAN</th>\n",
              "      <th>MORTDUE</th>\n",
              "      <th>VALUE</th>\n",
              "      <th>REASON</th>\n",
              "      <th>JOB</th>\n",
              "      <th>YOJ</th>\n",
              "      <th>DEROG</th>\n",
              "      <th>DELINQ</th>\n",
              "      <th>CLAGE</th>\n",
              "      <th>NINQ</th>\n",
              "      <th>CLNO</th>\n",
              "      <th>DEBTINC</th>\n",
              "    </tr>\n",
              "  </thead>\n",
              "  <tbody>\n",
              "    <tr>\n",
              "      <th>0</th>\n",
              "      <td>1</td>\n",
              "      <td>1100</td>\n",
              "      <td>25860.0</td>\n",
              "      <td>39025.0</td>\n",
              "      <td>HomeImp</td>\n",
              "      <td>Other</td>\n",
              "      <td>10.5</td>\n",
              "      <td>0.0</td>\n",
              "      <td>0.0</td>\n",
              "      <td>94.366667</td>\n",
              "      <td>1.0</td>\n",
              "      <td>9.0</td>\n",
              "      <td>NaN</td>\n",
              "    </tr>\n",
              "    <tr>\n",
              "      <th>1</th>\n",
              "      <td>1</td>\n",
              "      <td>1300</td>\n",
              "      <td>70053.0</td>\n",
              "      <td>68400.0</td>\n",
              "      <td>HomeImp</td>\n",
              "      <td>Other</td>\n",
              "      <td>7.0</td>\n",
              "      <td>0.0</td>\n",
              "      <td>2.0</td>\n",
              "      <td>121.833333</td>\n",
              "      <td>0.0</td>\n",
              "      <td>14.0</td>\n",
              "      <td>NaN</td>\n",
              "    </tr>\n",
              "    <tr>\n",
              "      <th>2</th>\n",
              "      <td>1</td>\n",
              "      <td>1500</td>\n",
              "      <td>13500.0</td>\n",
              "      <td>16700.0</td>\n",
              "      <td>HomeImp</td>\n",
              "      <td>Other</td>\n",
              "      <td>4.0</td>\n",
              "      <td>0.0</td>\n",
              "      <td>0.0</td>\n",
              "      <td>149.466667</td>\n",
              "      <td>1.0</td>\n",
              "      <td>10.0</td>\n",
              "      <td>NaN</td>\n",
              "    </tr>\n",
              "    <tr>\n",
              "      <th>3</th>\n",
              "      <td>1</td>\n",
              "      <td>1500</td>\n",
              "      <td>NaN</td>\n",
              "      <td>NaN</td>\n",
              "      <td>NaN</td>\n",
              "      <td>NaN</td>\n",
              "      <td>NaN</td>\n",
              "      <td>NaN</td>\n",
              "      <td>NaN</td>\n",
              "      <td>NaN</td>\n",
              "      <td>NaN</td>\n",
              "      <td>NaN</td>\n",
              "      <td>NaN</td>\n",
              "    </tr>\n",
              "    <tr>\n",
              "      <th>4</th>\n",
              "      <td>0</td>\n",
              "      <td>1700</td>\n",
              "      <td>97800.0</td>\n",
              "      <td>112000.0</td>\n",
              "      <td>HomeImp</td>\n",
              "      <td>Office</td>\n",
              "      <td>3.0</td>\n",
              "      <td>0.0</td>\n",
              "      <td>0.0</td>\n",
              "      <td>93.333333</td>\n",
              "      <td>0.0</td>\n",
              "      <td>14.0</td>\n",
              "      <td>NaN</td>\n",
              "    </tr>\n",
              "  </tbody>\n",
              "</table>\n",
              "</div>"
            ],
            "text/plain": [
              "   BAD  LOAN  MORTDUE     VALUE  ...       CLAGE NINQ  CLNO  DEBTINC\n",
              "0    1  1100  25860.0   39025.0  ...   94.366667  1.0   9.0      NaN\n",
              "1    1  1300  70053.0   68400.0  ...  121.833333  0.0  14.0      NaN\n",
              "2    1  1500  13500.0   16700.0  ...  149.466667  1.0  10.0      NaN\n",
              "3    1  1500      NaN       NaN  ...         NaN  NaN   NaN      NaN\n",
              "4    0  1700  97800.0  112000.0  ...   93.333333  0.0  14.0      NaN\n",
              "\n",
              "[5 rows x 13 columns]"
            ]
          },
          "metadata": {
            "tags": []
          },
          "execution_count": 1
        }
      ]
    },
    {
      "cell_type": "markdown",
      "metadata": {
        "id": "ciufxOKpOi-H",
        "colab_type": "text"
      },
      "source": [
        "Khảo sát dữ liệu"
      ]
    },
    {
      "cell_type": "code",
      "metadata": {
        "id": "O_X4jW9TOkZV",
        "colab_type": "code",
        "outputId": "888ebaa8-bd52-464e-8343-0123abed864e",
        "colab": {
          "base_uri": "https://localhost:8080/",
          "height": 282
        }
      },
      "source": [
        "data.describe()"
      ],
      "execution_count": 0,
      "outputs": [
        {
          "output_type": "execute_result",
          "data": {
            "text/html": [
              "<div>\n",
              "<style scoped>\n",
              "    .dataframe tbody tr th:only-of-type {\n",
              "        vertical-align: middle;\n",
              "    }\n",
              "\n",
              "    .dataframe tbody tr th {\n",
              "        vertical-align: top;\n",
              "    }\n",
              "\n",
              "    .dataframe thead th {\n",
              "        text-align: right;\n",
              "    }\n",
              "</style>\n",
              "<table border=\"1\" class=\"dataframe\">\n",
              "  <thead>\n",
              "    <tr style=\"text-align: right;\">\n",
              "      <th></th>\n",
              "      <th>BAD</th>\n",
              "      <th>LOAN</th>\n",
              "      <th>MORTDUE</th>\n",
              "      <th>VALUE</th>\n",
              "      <th>YOJ</th>\n",
              "      <th>DEROG</th>\n",
              "      <th>DELINQ</th>\n",
              "      <th>CLAGE</th>\n",
              "      <th>NINQ</th>\n",
              "      <th>CLNO</th>\n",
              "      <th>DEBTINC</th>\n",
              "    </tr>\n",
              "  </thead>\n",
              "  <tbody>\n",
              "    <tr>\n",
              "      <th>count</th>\n",
              "      <td>5960.000000</td>\n",
              "      <td>5960.000000</td>\n",
              "      <td>5442.000000</td>\n",
              "      <td>5848.000000</td>\n",
              "      <td>5445.000000</td>\n",
              "      <td>5252.000000</td>\n",
              "      <td>5380.000000</td>\n",
              "      <td>5652.000000</td>\n",
              "      <td>5450.000000</td>\n",
              "      <td>5738.000000</td>\n",
              "      <td>4693.000000</td>\n",
              "    </tr>\n",
              "    <tr>\n",
              "      <th>mean</th>\n",
              "      <td>0.199497</td>\n",
              "      <td>18607.969799</td>\n",
              "      <td>73760.817200</td>\n",
              "      <td>101776.048741</td>\n",
              "      <td>8.922268</td>\n",
              "      <td>0.254570</td>\n",
              "      <td>0.449442</td>\n",
              "      <td>179.766275</td>\n",
              "      <td>1.186055</td>\n",
              "      <td>21.296096</td>\n",
              "      <td>33.779915</td>\n",
              "    </tr>\n",
              "    <tr>\n",
              "      <th>std</th>\n",
              "      <td>0.399656</td>\n",
              "      <td>11207.480417</td>\n",
              "      <td>44457.609458</td>\n",
              "      <td>57385.775334</td>\n",
              "      <td>7.573982</td>\n",
              "      <td>0.846047</td>\n",
              "      <td>1.127266</td>\n",
              "      <td>85.810092</td>\n",
              "      <td>1.728675</td>\n",
              "      <td>10.138933</td>\n",
              "      <td>8.601746</td>\n",
              "    </tr>\n",
              "    <tr>\n",
              "      <th>min</th>\n",
              "      <td>0.000000</td>\n",
              "      <td>1100.000000</td>\n",
              "      <td>2063.000000</td>\n",
              "      <td>8000.000000</td>\n",
              "      <td>0.000000</td>\n",
              "      <td>0.000000</td>\n",
              "      <td>0.000000</td>\n",
              "      <td>0.000000</td>\n",
              "      <td>0.000000</td>\n",
              "      <td>0.000000</td>\n",
              "      <td>0.524499</td>\n",
              "    </tr>\n",
              "    <tr>\n",
              "      <th>25%</th>\n",
              "      <td>0.000000</td>\n",
              "      <td>11100.000000</td>\n",
              "      <td>46276.000000</td>\n",
              "      <td>66075.500000</td>\n",
              "      <td>3.000000</td>\n",
              "      <td>0.000000</td>\n",
              "      <td>0.000000</td>\n",
              "      <td>115.116702</td>\n",
              "      <td>0.000000</td>\n",
              "      <td>15.000000</td>\n",
              "      <td>29.140031</td>\n",
              "    </tr>\n",
              "    <tr>\n",
              "      <th>50%</th>\n",
              "      <td>0.000000</td>\n",
              "      <td>16300.000000</td>\n",
              "      <td>65019.000000</td>\n",
              "      <td>89235.500000</td>\n",
              "      <td>7.000000</td>\n",
              "      <td>0.000000</td>\n",
              "      <td>0.000000</td>\n",
              "      <td>173.466667</td>\n",
              "      <td>1.000000</td>\n",
              "      <td>20.000000</td>\n",
              "      <td>34.818262</td>\n",
              "    </tr>\n",
              "    <tr>\n",
              "      <th>75%</th>\n",
              "      <td>0.000000</td>\n",
              "      <td>23300.000000</td>\n",
              "      <td>91488.000000</td>\n",
              "      <td>119824.250000</td>\n",
              "      <td>13.000000</td>\n",
              "      <td>0.000000</td>\n",
              "      <td>0.000000</td>\n",
              "      <td>231.562278</td>\n",
              "      <td>2.000000</td>\n",
              "      <td>26.000000</td>\n",
              "      <td>39.003141</td>\n",
              "    </tr>\n",
              "    <tr>\n",
              "      <th>max</th>\n",
              "      <td>1.000000</td>\n",
              "      <td>89900.000000</td>\n",
              "      <td>399550.000000</td>\n",
              "      <td>855909.000000</td>\n",
              "      <td>41.000000</td>\n",
              "      <td>10.000000</td>\n",
              "      <td>15.000000</td>\n",
              "      <td>1168.233561</td>\n",
              "      <td>17.000000</td>\n",
              "      <td>71.000000</td>\n",
              "      <td>203.312149</td>\n",
              "    </tr>\n",
              "  </tbody>\n",
              "</table>\n",
              "</div>"
            ],
            "text/plain": [
              "               BAD          LOAN  ...         CLNO      DEBTINC\n",
              "count  5960.000000   5960.000000  ...  5738.000000  4693.000000\n",
              "mean      0.199497  18607.969799  ...    21.296096    33.779915\n",
              "std       0.399656  11207.480417  ...    10.138933     8.601746\n",
              "min       0.000000   1100.000000  ...     0.000000     0.524499\n",
              "25%       0.000000  11100.000000  ...    15.000000    29.140031\n",
              "50%       0.000000  16300.000000  ...    20.000000    34.818262\n",
              "75%       0.000000  23300.000000  ...    26.000000    39.003141\n",
              "max       1.000000  89900.000000  ...    71.000000   203.312149\n",
              "\n",
              "[8 rows x 11 columns]"
            ]
          },
          "metadata": {
            "tags": []
          },
          "execution_count": 2
        }
      ]
    },
    {
      "cell_type": "markdown",
      "metadata": {
        "id": "vlmKMYtVPdbN",
        "colab_type": "text"
      },
      "source": [
        "mean của BAD chính là tỷ lệ số hợp đồng nợ xấu và chiếm 19.95%. Ta sẽ visualize phân phối của các biến để tìm hiểu phân phối của chúng."
      ]
    },
    {
      "cell_type": "code",
      "metadata": {
        "id": "yVD2RNscOwc6",
        "colab_type": "code",
        "outputId": "f9c17ccf-747e-4965-ff7a-57d4e8b7a60b",
        "colab": {
          "base_uri": "https://localhost:8080/",
          "height": 1000
        }
      },
      "source": [
        "import seaborn as sns\n",
        "import matplotlib.pyplot as plt\n",
        "\n",
        "# Biểu đồ histogram\n",
        "def _plot_hist_subplot(x, fieldname, bins = 10, use_kde = True):\n",
        "  x = x.dropna()\n",
        "  xlabel = '{} bins tickers'.format(fieldname)\n",
        "  ylabel = 'Count obs in {} each bin'.format(fieldname)\n",
        "  title = 'histogram plot of {} with {} bins'.format(fieldname, bins)\n",
        "  ax = sns.distplot(x, bins = bins, kde = use_kde)\n",
        "  ax.set_xlabel(xlabel)\n",
        "  ax.set_ylabel(ylabel)\n",
        "  ax.set_title(title)\n",
        "  return ax\n",
        "\n",
        "# Biểu đồ barchart\n",
        "def _plot_barchart_subplot(x, fieldname):\n",
        "  xlabel = 'Group of {}'.format(fieldname)\n",
        "  ylabel = 'Count obs in {} each bin'.format(fieldname)\n",
        "  title = 'Barchart plot of {}'.format(fieldname)\n",
        "  x = x.fillna('Missing')\n",
        "  df_summary = x.value_counts(dropna = False)\n",
        "  y_values = df_summary.values\n",
        "  x_index = df_summary.index\n",
        "  ax = sns.barplot(x = x_index, y = y_values, order = x_index)\n",
        "  # Tạo vòng for lấy tọa độ đỉnh trên cùng của biểu đồ và thêm label thông qua annotate.\n",
        "  labels = list(set(x))\n",
        "  for label, p in zip(y_values, ax.patches):\n",
        "    ax.annotate(label, (p.get_x()+0.25, p.get_height()+0.15))\n",
        "  plt.xlabel(xlabel)\n",
        "  plt.ylabel(ylabel)\n",
        "  plt.title(title)\n",
        "  return ax\n",
        "\n",
        "# Khởi tạo figure cho đồ thị (Kích thước W*H = 16x12) và cách nhau là 0.2 giữa các đồ thị\n",
        "fig = plt.figure(figsize=(18, 16))\n",
        "fig.subplots_adjust(hspace=0.5, wspace=0.2)\n",
        "# Tạo vòng for check định dạng của biến và visualize\n",
        "for i, (fieldname, dtype) in enumerate(zip(data.columns, data.dtypes.values)):\n",
        "  if i <= 11:\n",
        "    ax_i = fig.add_subplot(4, 3, i+1)\n",
        "    if dtype in ['float64', 'int64']:\n",
        "      ax_i = _plot_hist_subplot(data[fieldname], fieldname=fieldname)\n",
        "    else:\n",
        "      ax_i = _plot_barchart_subplot(data[fieldname], fieldname=fieldname)\n",
        "      \n",
        "fig.suptitle('Visualization all fields')\n",
        "plt.show()"
      ],
      "execution_count": 0,
      "outputs": [
        {
          "output_type": "display_data",
          "data": {
            "image/png": "[encoded data removed]",
            "text/plain": [
              "<Figure size 1296x1152 with 12 Axes>"
            ]
          },
          "metadata": {
            "tags": []
          }
        }
      ]
    },
    {
      "cell_type": "markdown",
      "metadata": {
        "id": "olDDs5IyRkqU",
        "colab_type": "text"
      },
      "source": [
        "Nhận xét:\n",
        "* Từ biểu đồ phân phối cho ta biết hình dạng phân phối của các biến.\n",
        "* Các outlier của các biến là những điểm nào?\n",
        "* Hình dạng phân phối cũng giúp ta phát hiện các dị thường trong dữ liệu. Chắc hẳn các bạn còn nhớ gian lận thi cử năm 2018 tại Sơn La và Hà Giang đã được phát hiện như thế nào?"
      ]
    },
    {
      "cell_type": "markdown",
      "metadata": {
        "id": "GjiYzBPeJLZt",
        "colab_type": "text"
      },
      "source": [
        "\n",
        "#### 2.4.2. Áp dụng phương pháp WOE\n",
        "\n",
        "Tiếp theo ta sẽ áp dụng phương pháp WOE vào việc xếp hạng sức mạnh dự báo của biến và tạo features cho mô hình. Nhưng trước đó sẽ cần phải xử lý dữ liệu missing data bằng giá trị trung bình."
      ]
    },
    {
      "cell_type": "code",
      "metadata": {
        "id": "lvrZtX59-NrP",
        "colab_type": "code",
        "colab": {}
      },
      "source": [
        "columns_num = data.select_dtypes(['float', 'int']).columns\n",
        "data[columns_num] = data[columns_num].apply(lambda x: x.fillna(x.mean()), axis=0)"
      ],
      "execution_count": 0,
      "outputs": []
    },
    {
      "cell_type": "code",
      "metadata": {
        "id": "W8DPhdZK7bN_",
        "colab_type": "code",
        "colab": {}
      },
      "source": [
        "columns_obj = data.select_dtypes(['object']).columns\n",
        "data[columns_obj] = data[columns_obj].apply(lambda x: x.fillna('Missing'), axis=0)"
      ],
      "execution_count": 0,
      "outputs": []
    },
    {
      "cell_type": "markdown",
      "metadata": {
        "id": "megHhyol9-mf",
        "colab_type": "text"
      },
      "source": [
        "**Tính toán WOE cho từng biến**\n",
        "\n",
        "Hàm `_bin_table()` bên dưới sẽ có tác dụng phân chia các nhóm bins và thống kê số lượng các quan sát, số lượng good và bad ở mỗi nhóm."
      ]
    },
    {
      "cell_type": "code",
      "metadata": {
        "id": "ZkUGRk1pKDad",
        "colab_type": "code",
        "colab": {}
      },
      "source": [
        "import numpy as np\n",
        "import matplotlib.pyplot as plt\n",
        "\n",
        "MAX_VAL = 999999999\n",
        "MIN_VAL = -MAX_VAL\n",
        "\n",
        "def _bin_table(data, colname, n_bins = 10, qcut = None):\n",
        "  X = data[[colname, 'BAD']]\n",
        "  X = X.sort_values(colname)\n",
        "  coltype = X[colname].dtype\n",
        "\n",
        "  if coltype in ['float', 'int']:\n",
        "    if qcut is None:\n",
        "      try:\n",
        "        bins, thres = pd.qcut(X[colname], q = n_bins, retbins=True)\n",
        "        # Thay thế threshold đầu và cuối của thres\n",
        "        thres[0] = MIN_VAL\n",
        "        thres[-1] = MAX_VAL\n",
        "        bins, thres = pd.cut(X[colname], bins=thres, retbins=True)\n",
        "        X['bins'] = bins\n",
        "      except:\n",
        "        print('n_bins must be lower to bin interval is valid!')\n",
        "    else:\n",
        "      bins, thres = pd.cut(X[colname], bins=qcut, retbins=True)\n",
        "      X['bins'] = bins\n",
        "  elif coltype == 'object':\n",
        "    X['bins'] = X[colname]\n",
        "\n",
        "  df_GB = pd.pivot_table(X, \n",
        "                index = ['bins'],\n",
        "                values = ['BAD'],\n",
        "                columns = ['BAD'],\n",
        "                aggfunc = {\n",
        "                    'BAD':np.size\n",
        "                })\n",
        "\n",
        "  df_Count = pd.pivot_table(X, \n",
        "                index = ['bins'],\n",
        "                values = ['BAD'],\n",
        "                aggfunc = {\n",
        "                    'BAD': np.size\n",
        "                })\n",
        "  \n",
        "  if coltype in ['float', 'int']:\n",
        "    df_Thres = pd.DataFrame({'Thres':thres[1:]}, index=df_GB.index)\n",
        "  elif coltype == 'object':\n",
        "    df_Thres = pd.DataFrame(index=df_GB.index)\n",
        "    thres = None\n",
        "  df_Count.columns = ['No_Obs']\n",
        "  df_GB.columns = ['#BAD', '#GOOD']\n",
        "  df_summary = df_Thres.join(df_Count).join(df_GB)\n",
        "  return df_summary, thres"
      ],
      "execution_count": 0,
      "outputs": []
    },
    {
      "cell_type": "markdown",
      "metadata": {
        "id": "vvYMHK_aAYjB",
        "colab_type": "text"
      },
      "source": [
        "Phân chia các bins theo ngưỡng cutpoints. Phù hợp với những biến thứ bậc."
      ]
    },
    {
      "cell_type": "code",
      "metadata": {
        "id": "8PEDQkufAdHX",
        "colab_type": "code",
        "outputId": "1aa56b5e-44f1-4de7-8bca-efe4576338a7",
        "colab": {
          "base_uri": "https://localhost:8080/",
          "height": 135
        }
      },
      "source": [
        "df_summary, thres = _bin_table(data, 'DELINQ', qcut=[MIN_VAL, 2, MAX_VAL])\n",
        "df_summary"
      ],
      "execution_count": 0,
      "outputs": [
        {
          "output_type": "execute_result",
          "data": {
            "text/html": [
              "<div>\n",
              "<style scoped>\n",
              "    .dataframe tbody tr th:only-of-type {\n",
              "        vertical-align: middle;\n",
              "    }\n",
              "\n",
              "    .dataframe tbody tr th {\n",
              "        vertical-align: top;\n",
              "    }\n",
              "\n",
              "    .dataframe thead th {\n",
              "        text-align: right;\n",
              "    }\n",
              "</style>\n",
              "<table border=\"1\" class=\"dataframe\">\n",
              "  <thead>\n",
              "    <tr style=\"text-align: right;\">\n",
              "      <th></th>\n",
              "      <th>Thres</th>\n",
              "      <th>No_Obs</th>\n",
              "      <th>#BAD</th>\n",
              "      <th>#GOOD</th>\n",
              "    </tr>\n",
              "    <tr>\n",
              "      <th>bins</th>\n",
              "      <th></th>\n",
              "      <th></th>\n",
              "      <th></th>\n",
              "      <th></th>\n",
              "    </tr>\n",
              "  </thead>\n",
              "  <tbody>\n",
              "    <tr>\n",
              "      <th>(-999999999, 2]</th>\n",
              "      <td>2</td>\n",
              "      <td>5663</td>\n",
              "      <td>4674</td>\n",
              "      <td>989</td>\n",
              "    </tr>\n",
              "    <tr>\n",
              "      <th>(2, 999999999]</th>\n",
              "      <td>999999999</td>\n",
              "      <td>297</td>\n",
              "      <td>97</td>\n",
              "      <td>200</td>\n",
              "    </tr>\n",
              "  </tbody>\n",
              "</table>\n",
              "</div>"
            ],
            "text/plain": [
              "                     Thres  No_Obs  #BAD  #GOOD\n",
              "bins                                           \n",
              "(-999999999, 2]          2    5663  4674    989\n",
              "(2, 999999999]   999999999     297    97    200"
            ]
          },
          "metadata": {
            "tags": []
          },
          "execution_count": 7
        }
      ]
    },
    {
      "cell_type": "markdown",
      "metadata": {
        "id": "POjKXjViAeBQ",
        "colab_type": "text"
      },
      "source": [
        "Phân chia các bins theo khai báo số lượng bins. Phù hợp với các biến liên tục."
      ]
    },
    {
      "cell_type": "code",
      "metadata": {
        "id": "MU9v-dK8qO2t",
        "colab_type": "code",
        "outputId": "f220a8c2-02ca-40e1-8c63-3782ceca664f",
        "colab": {
          "base_uri": "https://localhost:8080/",
          "height": 223
        }
      },
      "source": [
        "df_summary, thres = _bin_table(data, 'DEBTINC', n_bins=5)\n",
        "df_summary"
      ],
      "execution_count": 0,
      "outputs": [
        {
          "output_type": "execute_result",
          "data": {
            "text/html": [
              "<div>\n",
              "<style scoped>\n",
              "    .dataframe tbody tr th:only-of-type {\n",
              "        vertical-align: middle;\n",
              "    }\n",
              "\n",
              "    .dataframe tbody tr th {\n",
              "        vertical-align: top;\n",
              "    }\n",
              "\n",
              "    .dataframe thead th {\n",
              "        text-align: right;\n",
              "    }\n",
              "</style>\n",
              "<table border=\"1\" class=\"dataframe\">\n",
              "  <thead>\n",
              "    <tr style=\"text-align: right;\">\n",
              "      <th></th>\n",
              "      <th>Thres</th>\n",
              "      <th>No_Obs</th>\n",
              "      <th>#BAD</th>\n",
              "      <th>#GOOD</th>\n",
              "    </tr>\n",
              "    <tr>\n",
              "      <th>bins</th>\n",
              "      <th></th>\n",
              "      <th></th>\n",
              "      <th></th>\n",
              "      <th></th>\n",
              "    </tr>\n",
              "  </thead>\n",
              "  <tbody>\n",
              "    <tr>\n",
              "      <th>(-999999999.0, 29.214]</th>\n",
              "      <td>2.921447e+01</td>\n",
              "      <td>1192</td>\n",
              "      <td>1127</td>\n",
              "      <td>65</td>\n",
              "    </tr>\n",
              "    <tr>\n",
              "      <th>(29.214, 33.78]</th>\n",
              "      <td>3.377992e+01</td>\n",
              "      <td>2156</td>\n",
              "      <td>1316</td>\n",
              "      <td>840</td>\n",
              "    </tr>\n",
              "    <tr>\n",
              "      <th>(33.78, 34.688]</th>\n",
              "      <td>3.468780e+01</td>\n",
              "      <td>228</td>\n",
              "      <td>216</td>\n",
              "      <td>12</td>\n",
              "    </tr>\n",
              "    <tr>\n",
              "      <th>(34.688, 38.956]</th>\n",
              "      <td>3.895595e+01</td>\n",
              "      <td>1192</td>\n",
              "      <td>1102</td>\n",
              "      <td>90</td>\n",
              "    </tr>\n",
              "    <tr>\n",
              "      <th>(38.956, 999999999.0]</th>\n",
              "      <td>1.000000e+09</td>\n",
              "      <td>1192</td>\n",
              "      <td>1010</td>\n",
              "      <td>182</td>\n",
              "    </tr>\n",
              "  </tbody>\n",
              "</table>\n",
              "</div>"
            ],
            "text/plain": [
              "                               Thres  No_Obs  #BAD  #GOOD\n",
              "bins                                                     \n",
              "(-999999999.0, 29.214]  2.921447e+01    1192  1127     65\n",
              "(29.214, 33.78]         3.377992e+01    2156  1316    840\n",
              "(33.78, 34.688]         3.468780e+01     228   216     12\n",
              "(34.688, 38.956]        3.895595e+01    1192  1102     90\n",
              "(38.956, 999999999.0]   1.000000e+09    1192  1010    182"
            ]
          },
          "metadata": {
            "tags": []
          },
          "execution_count": 8
        }
      ]
    },
    {
      "cell_type": "markdown",
      "metadata": {
        "id": "tsgS07-EhHf9",
        "colab_type": "text"
      },
      "source": [
        "Tiếp theo hàm `_WOE()` sẽ tính toán các trọng số `WOE` ở mỗi bins và chỉ số `IV` cho từng biến. Trong trường hợp một bin có số lượng quan sát nhỏ hơn một ngưỡng tối thiểu ta sẽ ghép nó vào bin liền trước."
      ]
    },
    {
      "cell_type": "code",
      "metadata": {
        "id": "d8YP0ojYV9Wb",
        "colab_type": "code",
        "outputId": "49da50b2-1be9-46b2-9d1f-8a68feded54e",
        "colab": {
          "base_uri": "https://localhost:8080/",
          "height": 300
        }
      },
      "source": [
        "def _WOE(data, colname, n_bins = None, min_obs = 100, qcut = None):\n",
        "  # Thống kê bins và lấy ra thres hold ban đầu\n",
        "  df_summary, thres = _bin_table(data, colname, n_bins = n_bins, qcut = qcut)\n",
        "  # Thay thế giá trị 0 của #BAD trong df_summary bằng 1 để không bị lỗi chia cho 0\n",
        "  df_summary['#BAD'] = df_summary['#BAD'].replace({0:1})\n",
        "  \n",
        "  if qcut is not None:\n",
        "    # Lọc bỏ threshold để tạo thành threshold mới mà thỏa mãn số lượng quan sát >= min_obs\n",
        "    exclude_ind = np.where(df_summary['No_Obs'] <= min_obs)[0]\n",
        "    if exclude_ind.shape[0] > 0:\n",
        "      new_thres = np.delete(thres, exclude_ind)\n",
        "      print('Auto combine {} bins into {} bins'.format(n_bins, new_thres.shape[0]-1))\n",
        "      # Tính toán lại bảng summary\n",
        "      df_summary, thres = _bin_table(data, colname, qcut=new_thres)\n",
        "  \n",
        "  new_thres = thres\n",
        "  df_summary['GOOD/BAD'] = df_summary['#GOOD']/df_summary['#BAD']\n",
        "  df_summary['%BAD'] = df_summary['#BAD']/df_summary['#BAD'].sum()\n",
        "  df_summary['%GOOD'] = df_summary['#GOOD']/df_summary['#GOOD'].sum()\n",
        "  df_summary['WOE'] = np.log(df_summary['%GOOD']/df_summary['%BAD'])\n",
        "  df_summary['IV'] = (df_summary['%GOOD']-df_summary['%BAD'])*df_summary['WOE']\n",
        "  df_summary['COLUMN'] = colname\n",
        "  IV = df_summary['IV'].sum()\n",
        "  print('Information Value of {} column: {}'.format(colname, IV))\n",
        "  return df_summary, IV, new_thres\n",
        "\n",
        "df_summary, IV, thres = _WOE(data, 'DEBTINC', n_bins = 7, min_obs= 100)\n",
        "df_summary"
      ],
      "execution_count": 0,
      "outputs": [
        {
          "output_type": "stream",
          "text": [
            "Information Value of DEBTINC column: 1.3795573580411762\n"
          ],
          "name": "stdout"
        },
        {
          "output_type": "execute_result",
          "data": {
            "text/html": [
              "<div>\n",
              "<style scoped>\n",
              "    .dataframe tbody tr th:only-of-type {\n",
              "        vertical-align: middle;\n",
              "    }\n",
              "\n",
              "    .dataframe tbody tr th {\n",
              "        vertical-align: top;\n",
              "    }\n",
              "\n",
              "    .dataframe thead th {\n",
              "        text-align: right;\n",
              "    }\n",
              "</style>\n",
              "<table border=\"1\" class=\"dataframe\">\n",
              "  <thead>\n",
              "    <tr style=\"text-align: right;\">\n",
              "      <th></th>\n",
              "      <th>Thres</th>\n",
              "      <th>No_Obs</th>\n",
              "      <th>#BAD</th>\n",
              "      <th>#GOOD</th>\n",
              "      <th>GOOD/BAD</th>\n",
              "      <th>%BAD</th>\n",
              "      <th>%GOOD</th>\n",
              "      <th>WOE</th>\n",
              "      <th>IV</th>\n",
              "      <th>COLUMN</th>\n",
              "    </tr>\n",
              "    <tr>\n",
              "      <th>bins</th>\n",
              "      <th></th>\n",
              "      <th></th>\n",
              "      <th></th>\n",
              "      <th></th>\n",
              "      <th></th>\n",
              "      <th></th>\n",
              "      <th></th>\n",
              "      <th></th>\n",
              "      <th></th>\n",
              "      <th></th>\n",
              "    </tr>\n",
              "  </thead>\n",
              "  <tbody>\n",
              "    <tr>\n",
              "      <th>(-999999999.0, 27.028]</th>\n",
              "      <td>2.702826e+01</td>\n",
              "      <td>852</td>\n",
              "      <td>800</td>\n",
              "      <td>52</td>\n",
              "      <td>0.065000</td>\n",
              "      <td>0.167680</td>\n",
              "      <td>0.043734</td>\n",
              "      <td>-1.343925</td>\n",
              "      <td>0.166573</td>\n",
              "      <td>DEBTINC</td>\n",
              "    </tr>\n",
              "    <tr>\n",
              "      <th>(27.028, 31.875]</th>\n",
              "      <td>3.187511e+01</td>\n",
              "      <td>851</td>\n",
              "      <td>808</td>\n",
              "      <td>43</td>\n",
              "      <td>0.053218</td>\n",
              "      <td>0.169357</td>\n",
              "      <td>0.036165</td>\n",
              "      <td>-1.543919</td>\n",
              "      <td>0.205637</td>\n",
              "      <td>DEBTINC</td>\n",
              "    </tr>\n",
              "    <tr>\n",
              "      <th>(31.875, 33.78]</th>\n",
              "      <td>3.377992e+01</td>\n",
              "      <td>1645</td>\n",
              "      <td>835</td>\n",
              "      <td>810</td>\n",
              "      <td>0.970060</td>\n",
              "      <td>0.175016</td>\n",
              "      <td>0.681245</td>\n",
              "      <td>1.359046</td>\n",
              "      <td>0.687988</td>\n",
              "      <td>DEBTINC</td>\n",
              "    </tr>\n",
              "    <tr>\n",
              "      <th>(33.78, 34.043]</th>\n",
              "      <td>3.404341e+01</td>\n",
              "      <td>58</td>\n",
              "      <td>56</td>\n",
              "      <td>2</td>\n",
              "      <td>0.035714</td>\n",
              "      <td>0.011738</td>\n",
              "      <td>0.001682</td>\n",
              "      <td>-1.942761</td>\n",
              "      <td>0.019535</td>\n",
              "      <td>DEBTINC</td>\n",
              "    </tr>\n",
              "    <tr>\n",
              "      <th>(34.043, 37.18]</th>\n",
              "      <td>3.717985e+01</td>\n",
              "      <td>851</td>\n",
              "      <td>783</td>\n",
              "      <td>68</td>\n",
              "      <td>0.086845</td>\n",
              "      <td>0.164117</td>\n",
              "      <td>0.057191</td>\n",
              "      <td>-1.054182</td>\n",
              "      <td>0.112719</td>\n",
              "      <td>DEBTINC</td>\n",
              "    </tr>\n",
              "    <tr>\n",
              "      <th>(37.18, 40.133]</th>\n",
              "      <td>4.013282e+01</td>\n",
              "      <td>851</td>\n",
              "      <td>804</td>\n",
              "      <td>47</td>\n",
              "      <td>0.058458</td>\n",
              "      <td>0.168518</td>\n",
              "      <td>0.039529</td>\n",
              "      <td>-1.450008</td>\n",
              "      <td>0.187035</td>\n",
              "      <td>DEBTINC</td>\n",
              "    </tr>\n",
              "    <tr>\n",
              "      <th>(40.133, 999999999.0]</th>\n",
              "      <td>1.000000e+09</td>\n",
              "      <td>852</td>\n",
              "      <td>685</td>\n",
              "      <td>167</td>\n",
              "      <td>0.243796</td>\n",
              "      <td>0.143576</td>\n",
              "      <td>0.140454</td>\n",
              "      <td>-0.021982</td>\n",
              "      <td>0.000069</td>\n",
              "      <td>DEBTINC</td>\n",
              "    </tr>\n",
              "  </tbody>\n",
              "</table>\n",
              "</div>"
            ],
            "text/plain": [
              "                               Thres  No_Obs  #BAD  ...       WOE        IV   COLUMN\n",
              "bins                                                ...                             \n",
              "(-999999999.0, 27.028]  2.702826e+01     852   800  ... -1.343925  0.166573  DEBTINC\n",
              "(27.028, 31.875]        3.187511e+01     851   808  ... -1.543919  0.205637  DEBTINC\n",
              "(31.875, 33.78]         3.377992e+01    1645   835  ...  1.359046  0.687988  DEBTINC\n",
              "(33.78, 34.043]         3.404341e+01      58    56  ... -1.942761  0.019535  DEBTINC\n",
              "(34.043, 37.18]         3.717985e+01     851   783  ... -1.054182  0.112719  DEBTINC\n",
              "(37.18, 40.133]         4.013282e+01     851   804  ... -1.450008  0.187035  DEBTINC\n",
              "(40.133, 999999999.0]   1.000000e+09     852   685  ... -0.021982  0.000069  DEBTINC\n",
              "\n",
              "[7 rows x 10 columns]"
            ]
          },
          "metadata": {
            "tags": []
          },
          "execution_count": 9
        }
      ]
    },
    {
      "cell_type": "markdown",
      "metadata": {
        "id": "FZgN2j3ajO4T",
        "colab_type": "text"
      },
      "source": [
        "Vẽ biểu đồ giá trị WOE của các bins."
      ]
    },
    {
      "cell_type": "code",
      "metadata": {
        "id": "3GG_44a6Lq9l",
        "colab_type": "code",
        "outputId": "3244be2d-d415-44c1-909b-c7979574e78b",
        "colab": {
          "base_uri": "https://localhost:8080/",
          "height": 377
        }
      },
      "source": [
        "def _plot(df_summary):\n",
        "  colname = list(df_summary['COLUMN'].unique())[0]\n",
        "  df_summary['WOE'].plot(linestyle='-', marker='o')\n",
        "  plt.title('WOE of {} field'.format(colname))\n",
        "  plt.axhline(y=0, color = 'red')\n",
        "  plt.xticks(rotation=45)\n",
        "  plt.ylabel('WOE')\n",
        "  plt.xlabel('Bin group')\n",
        "\n",
        "_plot(df_summary)"
      ],
      "execution_count": 0,
      "outputs": [
        {
          "output_type": "display_data",
          "data": {
            "image/png": "[encoded data removed]",
            "text/plain": [
              "<Figure size 432x288 with 1 Axes>"
            ]
          },
          "metadata": {
            "tags": []
          }
        }
      ]
    },
    {
      "cell_type": "markdown",
      "metadata": {
        "id": "g-GWGPJUkEhN",
        "colab_type": "text"
      },
      "source": [
        "Tiếp theo ta sẽ tính toán giá trị WOE cho toàn bộ các biến."
      ]
    },
    {
      "cell_type": "code",
      "metadata": {
        "id": "RZWVoVrDkLBy",
        "colab_type": "code",
        "outputId": "d11138d5-eb82-4597-8277-c14881786450",
        "colab": {
          "base_uri": "https://localhost:8080/",
          "height": 159
        }
      },
      "source": [
        "# Đối với các biến numeric\n",
        "WOE_dict=dict()\n",
        "nbins = {'LOAN': 10, 'MORTDUE': 10, 'VALUE': 10, 'YOJ':10, 'CLAGE':10, 'NINQ': 2, 'CLNO':10, 'DEBTINC':7}\n",
        "for (col, bins) in nbins.items():\n",
        "  df_summary, IV, thres = _WOE(data, colname=col, n_bins=bins)\n",
        "  WOE_dict[col] = {'table':df_summary, 'IV':IV}"
      ],
      "execution_count": 0,
      "outputs": [
        {
          "output_type": "stream",
          "text": [
            "Information Value of LOAN column: 0.1601563338988017\n",
            "Information Value of MORTDUE column: 0.05131351983314017\n",
            "Information Value of VALUE column: 0.14188912125986042\n",
            "Information Value of YOJ column: 0.06714693781095009\n",
            "Information Value of CLAGE column: 0.22171042878294653\n",
            "Information Value of NINQ column: 0.06965935231976197\n",
            "Information Value of CLNO column: 0.06043698467606807\n",
            "Information Value of DEBTINC column: 1.3795573580411762\n"
          ],
          "name": "stdout"
        }
      ]
    },
    {
      "cell_type": "markdown",
      "metadata": {
        "id": "GeuHjCCEkx7V",
        "colab_type": "text"
      },
      "source": [
        "Do các biến `DEROG, DELINQ` có xu hướng là biến thứ bậc hơn là biến liên tục nên áp dụng cách phân chia theo quantile sẽ tạo ra những khoảng bins có độ dài bằng 0. Do đó chúng ta sẽ phân chia theo ngưỡng cutpoint."
      ]
    },
    {
      "cell_type": "code",
      "metadata": {
        "id": "CRKpV-ttrYCi",
        "colab_type": "code",
        "outputId": "119a3382-052d-4b91-a872-8ed003aa2203",
        "colab": {
          "base_uri": "https://localhost:8080/",
          "height": 52
        }
      },
      "source": [
        "for col in ['DEROG', 'DELINQ']:\n",
        "  df_summary, IV, thres = _WOE(data, colname=col, n_bins=5, qcut=[MIN_VAL, 2, MAX_VAL])\n",
        "  WOE_dict[col] = {'table':df_summary, 'IV':IV}"
      ],
      "execution_count": 0,
      "outputs": [
        {
          "output_type": "stream",
          "text": [
            "Information Value of DEROG column: 0.19008112833205368\n",
            "Information Value of DELINQ column: 0.3366699247263777\n"
          ],
          "name": "stdout"
        }
      ]
    },
    {
      "cell_type": "markdown",
      "metadata": {
        "id": "nJ94gu8LRcfo",
        "colab_type": "text"
      },
      "source": [
        "Tiếp theo ta sẽ tính toán IV cho các biến category là `REASON` và `JOB`."
      ]
    },
    {
      "cell_type": "code",
      "metadata": {
        "id": "DXfQFI9KRhsb",
        "colab_type": "code",
        "outputId": "c1ebe4ae-d389-4fa7-97af-40b42058d1a2",
        "colab": {
          "base_uri": "https://localhost:8080/",
          "height": 52
        }
      },
      "source": [
        "for col in ['REASON', 'JOB']:\n",
        "  df_summary, IV, thres = _WOE(data, colname=col)\n",
        "  WOE_dict[col] = {'table':df_summary, 'IV':IV}"
      ],
      "execution_count": 0,
      "outputs": [
        {
          "output_type": "stream",
          "text": [
            "Information Value of REASON column: 0.008618460238864025\n",
            "Information Value of JOB column: 0.1237305657142077\n"
          ],
          "name": "stdout"
        }
      ]
    },
    {
      "cell_type": "markdown",
      "metadata": {
        "id": "q8AQ8D61V7sf",
        "colab_type": "text"
      },
      "source": [
        "#### 2.4.3. Xếp hạng các biến theo sức mạnh dự báo\n",
        "\n",
        "Dựa trên giá trị IV đã tính toán ở bước trước, ta sẽ xếp hạng các biến này như bên dưới."
      ]
    },
    {
      "cell_type": "code",
      "metadata": {
        "id": "6RFxC3lQZNxW",
        "colab_type": "code",
        "colab": {}
      },
      "source": [
        "columns = []\n",
        "IVs = []\n",
        "for col in data.columns:\n",
        "  if col != 'BAD':\n",
        "    columns.append(col)\n",
        "    IVs.append(WOE_dict[col]['IV'])\n",
        "df_WOE = pd.DataFrame({'column': columns, 'IV': IVs})"
      ],
      "execution_count": 0,
      "outputs": []
    },
    {
      "cell_type": "code",
      "metadata": {
        "id": "wj5pN18qbT1j",
        "colab_type": "code",
        "outputId": "ce1a5d2d-d2b3-4efd-e530-f23908e38d31",
        "colab": {
          "base_uri": "https://localhost:8080/",
          "height": 399
        }
      },
      "source": [
        "def _rank_IV(iv):\n",
        "  if iv <= 0.02:\n",
        "    return 'Useless'\n",
        "  elif iv <= 0.1:\n",
        "    return 'Weak'\n",
        "  elif iv <= 0.3:\n",
        "    return 'Medium'\n",
        "  elif iv <= 0.5:\n",
        "    return 'Strong'\n",
        "  else:\n",
        "    return 'suspicious'\n",
        "\n",
        "df_WOE['rank']=df_WOE['IV'].apply(lambda x: _rank_IV(x))\n",
        "df_WOE.sort_values('IV', ascending=False)"
      ],
      "execution_count": 0,
      "outputs": [
        {
          "output_type": "execute_result",
          "data": {
            "text/html": [
              "<div>\n",
              "<style scoped>\n",
              "    .dataframe tbody tr th:only-of-type {\n",
              "        vertical-align: middle;\n",
              "    }\n",
              "\n",
              "    .dataframe tbody tr th {\n",
              "        vertical-align: top;\n",
              "    }\n",
              "\n",
              "    .dataframe thead th {\n",
              "        text-align: right;\n",
              "    }\n",
              "</style>\n",
              "<table border=\"1\" class=\"dataframe\">\n",
              "  <thead>\n",
              "    <tr style=\"text-align: right;\">\n",
              "      <th></th>\n",
              "      <th>column</th>\n",
              "      <th>IV</th>\n",
              "      <th>rank</th>\n",
              "    </tr>\n",
              "  </thead>\n",
              "  <tbody>\n",
              "    <tr>\n",
              "      <th>11</th>\n",
              "      <td>DEBTINC</td>\n",
              "      <td>1.379557</td>\n",
              "      <td>suspicious</td>\n",
              "    </tr>\n",
              "    <tr>\n",
              "      <th>7</th>\n",
              "      <td>DELINQ</td>\n",
              "      <td>0.336670</td>\n",
              "      <td>Strong</td>\n",
              "    </tr>\n",
              "    <tr>\n",
              "      <th>8</th>\n",
              "      <td>CLAGE</td>\n",
              "      <td>0.221710</td>\n",
              "      <td>Medium</td>\n",
              "    </tr>\n",
              "    <tr>\n",
              "      <th>6</th>\n",
              "      <td>DEROG</td>\n",
              "      <td>0.190081</td>\n",
              "      <td>Medium</td>\n",
              "    </tr>\n",
              "    <tr>\n",
              "      <th>0</th>\n",
              "      <td>LOAN</td>\n",
              "      <td>0.160156</td>\n",
              "      <td>Medium</td>\n",
              "    </tr>\n",
              "    <tr>\n",
              "      <th>2</th>\n",
              "      <td>VALUE</td>\n",
              "      <td>0.141889</td>\n",
              "      <td>Medium</td>\n",
              "    </tr>\n",
              "    <tr>\n",
              "      <th>4</th>\n",
              "      <td>JOB</td>\n",
              "      <td>0.123731</td>\n",
              "      <td>Medium</td>\n",
              "    </tr>\n",
              "    <tr>\n",
              "      <th>9</th>\n",
              "      <td>NINQ</td>\n",
              "      <td>0.069659</td>\n",
              "      <td>Weak</td>\n",
              "    </tr>\n",
              "    <tr>\n",
              "      <th>5</th>\n",
              "      <td>YOJ</td>\n",
              "      <td>0.067147</td>\n",
              "      <td>Weak</td>\n",
              "    </tr>\n",
              "    <tr>\n",
              "      <th>10</th>\n",
              "      <td>CLNO</td>\n",
              "      <td>0.060437</td>\n",
              "      <td>Weak</td>\n",
              "    </tr>\n",
              "    <tr>\n",
              "      <th>1</th>\n",
              "      <td>MORTDUE</td>\n",
              "      <td>0.051314</td>\n",
              "      <td>Weak</td>\n",
              "    </tr>\n",
              "    <tr>\n",
              "      <th>3</th>\n",
              "      <td>REASON</td>\n",
              "      <td>0.008618</td>\n",
              "      <td>Useless</td>\n",
              "    </tr>\n",
              "  </tbody>\n",
              "</table>\n",
              "</div>"
            ],
            "text/plain": [
              "     column        IV        rank\n",
              "11  DEBTINC  1.379557  suspicious\n",
              "7    DELINQ  0.336670      Strong\n",
              "8     CLAGE  0.221710      Medium\n",
              "6     DEROG  0.190081      Medium\n",
              "0      LOAN  0.160156      Medium\n",
              "2     VALUE  0.141889      Medium\n",
              "4       JOB  0.123731      Medium\n",
              "9      NINQ  0.069659        Weak\n",
              "5       YOJ  0.067147        Weak\n",
              "10     CLNO  0.060437        Weak\n",
              "1   MORTDUE  0.051314        Weak\n",
              "3    REASON  0.008618     Useless"
            ]
          },
          "metadata": {
            "tags": []
          },
          "execution_count": 15
        }
      ]
    },
    {
      "cell_type": "markdown",
      "metadata": {
        "id": "v2qAosHruwmn",
        "colab_type": "text"
      },
      "source": [
        "Như vậy trong các biến trên, biến `REASON` không có tác dụng trong việc phân loại hồ sơ nợ xấu. Các biến còn lại đều có tác dụng hỗ trợ một phần phân loại hồ sơ. Trong đó các biến có sức mạnh nhất là `DELINQ, DEBTINC`. Tiếp theo `CLAGE, DEROG, LOAN, VALUE, JOB` là các biến có sức mạnh trung bình. Các biến còn lại bao gồm `NINQ, YOJ, CLNO` và `MORTDUE` cũng có sức mạnh phân loại nhưng yếu hơn. `DELINQ` là biến có tương quan rất lớn đến việc phân loại nên chúng ta cần phải review lại giá trị của biến."
      ]
    },
    {
      "cell_type": "markdown",
      "metadata": {
        "id": "CgrF1cogwmk_",
        "colab_type": "text"
      },
      "source": [
        "#### 2.4.4. Hồi qui logistic\n",
        "\n",
        "Phương trình hồi qui logistic trong credit scorecard sẽ không hồi qui trực tiếp trên các biến gốc mà thay vào đó giá trị WOE ở từng biến sẽ được sử dụng thay thế để làm đầu vào. Ta sẽ tính toán các biến WOE bằng cách map mỗi khoảng bin tương ứng với giá trị WOE của nó như sau:"
      ]
    },
    {
      "cell_type": "code",
      "metadata": {
        "id": "fZLeUksHzygu",
        "colab_type": "code",
        "colab": {}
      },
      "source": [
        "for col in WOE_dict.keys():\n",
        "  try:\n",
        "    key = list(WOE_dict[col]['table']['WOE'].index)\n",
        "    woe = list(WOE_dict[col]['table']['WOE'])\n",
        "    d = dict(zip(key, woe))\n",
        "    col_woe = col+'_WOE'\n",
        "    data[col_woe] = data[col].map(d)\n",
        "  except:\n",
        "    print(col)"
      ],
      "execution_count": 0,
      "outputs": []
    },
    {
      "cell_type": "markdown",
      "metadata": {
        "id": "SXPit96Wdjgv",
        "colab_type": "text"
      },
      "source": [
        "Gán giá trị input là các biến WOE và biến mục tiêu là data['BAD']."
      ]
    },
    {
      "cell_type": "code",
      "metadata": {
        "id": "JdXIweRZ8Q8z",
        "colab_type": "code",
        "colab": {}
      },
      "source": [
        "X = data.filter(like='_WOE', axis = 1)\n",
        "y = data['BAD']"
      ],
      "execution_count": 0,
      "outputs": []
    },
    {
      "cell_type": "markdown",
      "metadata": {
        "id": "YWr7I3JWd3Bi",
        "colab_type": "text"
      },
      "source": [
        "Phân chia tập train/test có tỷ lệ kích thước mẫu là 80:20. Tỷ lệ của GOOD/BAD là cân bằng trên cả train và test."
      ]
    },
    {
      "cell_type": "code",
      "metadata": {
        "id": "A0Qj5q_fd2Ne",
        "colab_type": "code",
        "outputId": "9039511d-367a-4640-c923-c658753789a9",
        "colab": {
          "base_uri": "https://localhost:8080/",
          "height": 88
        }
      },
      "source": [
        "from sklearn.model_selection import train_test_split\n",
        "\n",
        "ids = np.arange(X.shape[0])\n",
        "X_train, X_test, y_train, y_test, id_train, id_test = train_test_split(X, y, ids, test_size = 0.2, stratify = y, shuffle = True, random_state = 123)\n",
        "\n",
        "print('X_train shape: ', X_train.shape)\n",
        "print('X_test shape: ', X_test.shape)\n",
        "print('y_train shape: ', y_train.shape)\n",
        "print('y_test shape: ', y_test.shape)"
      ],
      "execution_count": 0,
      "outputs": [
        {
          "output_type": "stream",
          "text": [
            "X_train shape:  (4768, 12)\n",
            "X_test shape:  (1192, 12)\n",
            "y_train shape:  (4768,)\n",
            "y_test shape:  (1192,)\n"
          ],
          "name": "stdout"
        }
      ]
    },
    {
      "cell_type": "markdown",
      "metadata": {
        "id": "qqUwfHksbyyb",
        "colab_type": "text"
      },
      "source": [
        "Xây dựng phương trình hồi qui logistic các biến đầu vào `WOE`."
      ]
    },
    {
      "cell_type": "code",
      "metadata": {
        "id": "los5Iyed-81H",
        "colab_type": "code",
        "outputId": "e17b2d08-c8dd-407e-9832-5d8640d0bfb3",
        "colab": {
          "base_uri": "https://localhost:8080/",
          "height": 106
        }
      },
      "source": [
        "from sklearn.linear_model import LogisticRegression\n",
        "\n",
        "logit_model = LogisticRegression(solver = 'lbfgs', max_iter=1000, fit_intercept=True, tol=0.0001, C=1, penalty='l2')\n",
        "logit_model.fit(X_train, y_train)"
      ],
      "execution_count": 0,
      "outputs": [
        {
          "output_type": "execute_result",
          "data": {
            "text/plain": [
              "LogisticRegression(C=1, class_weight=None, dual=False, fit_intercept=True,\n",
              "                   intercept_scaling=1, l1_ratio=None, max_iter=1000,\n",
              "                   multi_class='auto', n_jobs=None, penalty='l2',\n",
              "                   random_state=None, solver='lbfgs', tol=0.0001, verbose=0,\n",
              "                   warm_start=False)"
            ]
          },
          "metadata": {
            "tags": []
          },
          "execution_count": 19
        }
      ]
    },
    {
      "cell_type": "markdown",
      "metadata": {
        "id": "ETb1Vo_NhYVt",
        "colab_type": "text"
      },
      "source": [
        "Dự báo và kiểm tra accuracy trên tập train/test"
      ]
    },
    {
      "cell_type": "code",
      "metadata": {
        "id": "-77fMcqIdK3R",
        "colab_type": "code",
        "outputId": "0e1b76b8-5103-402c-e5f9-b34910354296",
        "colab": {
          "base_uri": "https://localhost:8080/",
          "height": 52
        }
      },
      "source": [
        "from sklearn.metrics import accuracy_score\n",
        "\n",
        "y_pred_train = logit_model.predict(X_train)\n",
        "acc_train = accuracy_score(y_pred_train, y_train)\n",
        "y_pred_test = logit_model.predict(X_test)\n",
        "acc_test = accuracy_score(y_pred_test, y_test)\n",
        "\n",
        "print('accuracy on train: ', acc_train)\n",
        "print('accuracy on test: ', acc_test)"
      ],
      "execution_count": 0,
      "outputs": [
        {
          "output_type": "stream",
          "text": [
            "accuracy on train:  0.8655620805369127\n",
            "accuracy on test:  0.8557046979865772\n"
          ],
          "name": "stdout"
        }
      ]
    },
    {
      "cell_type": "markdown",
      "metadata": {
        "id": "1Z6CR4N1hy00",
        "colab_type": "text"
      },
      "source": [
        "**Đường cong ROC trên tập test**"
      ]
    },
    {
      "cell_type": "code",
      "metadata": {
        "id": "Cwp4pdvjh2z6",
        "colab_type": "code",
        "outputId": "96bd3ddd-aa4d-4419-b12a-08156d4f4152",
        "colab": {
          "base_uri": "https://localhost:8080/",
          "height": 513
        }
      },
      "source": [
        "from sklearn.metrics import roc_curve, auc\n",
        "\n",
        "y_pred_prob_test = logit_model.predict_proba(X_test)[:, 1]\n",
        "fpr, tpr, thres = roc_curve(y_test, y_pred_prob_test)\n",
        "roc_auc = auc(fpr, tpr)\n",
        "\n",
        "def _plot_roc_curve(fpr, tpr, thres, auc):\n",
        "    plt.figure(figsize = (10, 8))\n",
        "    plt.plot(fpr, tpr, 'b-', color='darkorange', lw=2, linestyle='--', label='ROC curve (area = %0.2f)'%auc)\n",
        "    plt.plot([0, 1], [0, 1], '--')\n",
        "    plt.axis([0, 1, 0, 1])\n",
        "    plt.xlabel('False Positive Rate')\n",
        "    plt.ylabel('True Positive Rate')\n",
        "    plt.legend(loc='lower right')\n",
        "    plt.title('ROC Curve')\n",
        "\n",
        "_plot_roc_curve(fpr, tpr, thres, roc_auc)"
      ],
      "execution_count": 0,
      "outputs": [
        {
          "output_type": "display_data",
          "data": {
            "image/png": "[encoded data removed]",
            "text/plain": [
              "<Figure size 720x576 with 1 Axes>"
            ]
          },
          "metadata": {
            "tags": []
          }
        }
      ]
    },
    {
      "cell_type": "markdown",
      "metadata": {
        "id": "uKVfek4polz2",
        "colab_type": "text"
      },
      "source": [
        "Chỉ số AUC (area under curve) đo lường phần diện tích nằm dưới đường cong ROC cho biết khả năng phân loại của các hợp đồng GOOD/BAD của mô hình hồi qui logistic là mạnh hay yếu. AUC $\\in [0, 1]$, giá trị của nó càng lớn thì mô hình càng tốt. Đối với mô hình hồi qui logistic này, AUC = 0.87 là khá cao, cho thấy khả năng dự báo của mô hình tốt và có thể áp dụng mô hình vào thực tiễn.\n",
        "\n",
        "**Đường cong precision và recall trên tập test**"
      ]
    },
    {
      "cell_type": "code",
      "metadata": {
        "id": "KVpoO4fyjQYa",
        "colab_type": "code",
        "outputId": "519ac5bd-7584-4c56-973d-23824a9fa88b",
        "colab": {
          "base_uri": "https://localhost:8080/",
          "height": 513
        }
      },
      "source": [
        "from sklearn.metrics import precision_recall_curve\n",
        "precision, recall, thres = precision_recall_curve(y_test, y_pred_prob_test)\n",
        "\n",
        "def _plot_prec_rec_curve(prec, rec, thres):\n",
        "    plt.figure(figsize = (10, 8))\n",
        "    plt.plot(thres, prec[:-1], 'b--', label = 'Precision')\n",
        "    plt.plot(thres, rec[:-1], 'g-', label = 'Recall')\n",
        "    plt.xlabel('Threshold')\n",
        "    plt.ylabel('Probability')\n",
        "    plt.title('Precsion vs Recall Curve')\n",
        "    plt.legend()\n",
        "\n",
        "_plot_prec_rec_curve(precision, recall, thres)"
      ],
      "execution_count": 0,
      "outputs": [
        {
          "output_type": "display_data",
          "data": {
            "image/png": "[encoded data removed]",
            "text/plain": [
              "<Figure size 720x576 with 1 Axes>"
            ]
          },
          "metadata": {
            "tags": []
          }
        }
      ]
    },
    {
      "cell_type": "markdown",
      "metadata": {
        "id": "g9NOxeGamPGS",
        "colab_type": "text"
      },
      "source": [
        "Đường cong precision, recall giúp lựa chọn ngưỡng xác suất phù hợp để mang lại độ chính xác cao hơn trong precision hoặc recall. Precision cho ta biết tỷ lệ dự báo chính xác trong số các hồ sơ được dự báo là GOOD (tức nhãn là 1). Recall đo lường tỷ lệ dự báo chính xác các hồ sơ GOOD trên thực tế. Luôn có sự đánh đổi giữa 2 tỷ lệ này, nên ta cần phải dựa vào biểu đồ của 2 đường `precision vs recall` để tìm ra ngưỡng tối ưu. Thông thường sẽ dựa trên kì vọng về precision hoặc recall từ trước để lựa chọn ngưỡng threshold. Chẳng hạn trước khi bước vào dự án ta kì vọng tỷ lệ dự báo đúng hồ sơ GOOD là 70% thì cần thiết lập các threshold để recall >= 70%. Trường hợp khác, ta kì vọng tỷ lệ dự báo đúng trong số các hồ sơ được dự báo là GOOD là 70% thì cần lựa chọn các threshold để precision >= 70%. Rất khó để nói ngưỡng threshold nào nên được lựa chọn là tốt nhất. Điều này phụ thuộc vào mục tiêu của mô hình là ưu tiên phân loại đúng hồ sơ GOOD hay hồ sơ BAD hơn.\n",
        "\n",
        "**Kiểm định Kolmogorov-Smirnov**: \n",
        "\n",
        "Đây là kiểm định đo lường sự khác biệt trong phân phối giữa GOOD và BAD theo các tỷ lệ ngưỡng threshold. Nếu mô hình có khả năng phân loại GOOD và BAD tốt thì đường cong phân phối xác suất tích lũy (cumulative distribution function - cdf) giữa GOOD và BAD phải có sự tách biệt lớn. Trái lại, nếu mô hình rất yếu và kết quả dự báo của nó chỉ ngang bằng một phép lựa chọn ngẫu nhiên. Khi đó đường phân phối xác suất tích lũy của GOOD và BAD sẽ nằm sát nhau và tiệm cận đường chéo 45 độ. Kiểm định Kolmogorov-Smirnov sẽ kiểm tra giả thuyết Ho là hai phân phối xác suất GOOD và BAD không có sự khác biệt. Khi P-value < 0.05 bác bỏ giả thuyết Ho.\n"
      ]
    },
    {
      "cell_type": "code",
      "metadata": {
        "id": "ZHs1hkgKspI-",
        "colab_type": "code",
        "colab": {}
      },
      "source": [
        "def _KM(y_pred, n_bins):\n",
        "  _, thresholds = pd.qcut(y_pred, q=n_bins, retbins=True)\n",
        "  cmd_BAD = []\n",
        "  cmd_GOOD = []\n",
        "  BAD_id = set(np.where(y_test == 0)[0])\n",
        "  GOOD_id = set(np.where(y_test == 1)[0])\n",
        "  total_BAD = len(BAD_id)\n",
        "  total_GOOD = len(GOOD_id)\n",
        "  for thres in thresholds:\n",
        "    pred_id = set(np.where(y_pred <= thres)[0])\n",
        "    # Đếm % số lượng hồ sơ BAD có xác suất dự báo nhỏ hơn hoặc bằng thres\n",
        "    per_BAD = len(pred_id.intersection(BAD_id))/total_BAD\n",
        "    cmd_BAD.append(per_BAD)\n",
        "    # Đếm % số lượng hồ sơ GOOD có xác suất dự báo nhỏ hơn hoặc bằng thres\n",
        "    per_GOOD = len(pred_id.intersection(GOOD_id))/total_GOOD\n",
        "    cmd_GOOD.append(per_GOOD)\n",
        "  cmd_BAD = np.array(cmd_BAD)\n",
        "  cmd_GOOD = np.array(cmd_GOOD)\n",
        "  return cmd_BAD, cmd_GOOD, thresholds\n",
        "\n",
        "cmd_BAD, cmd_GOOD, thresholds = _KM(y_pred_prob_test, n_bins=20)"
      ],
      "execution_count": 0,
      "outputs": []
    },
    {
      "cell_type": "code",
      "metadata": {
        "id": "7L6ixvg30-bn",
        "colab_type": "code",
        "outputId": "2cd67f83-682d-456c-9e63-f3c3218cc622",
        "colab": {
          "base_uri": "https://localhost:8080/",
          "height": 513
        }
      },
      "source": [
        "def _plot_KM(cmd_BAD, cmd_GOOD, thresholds):\n",
        "  plt.figure(figsize = (10, 8))\n",
        "  plt.plot(thresholds, cmd_BAD, 'y-', label = 'BAD')\n",
        "  plt.plot(thresholds, cmd_GOOD, 'g-', label = 'GOOD')\n",
        "  plt.plot(thresholds, cmd_BAD-cmd_GOOD, 'b--', label = 'DIFF')\n",
        "  plt.xlabel('% observation')\n",
        "  plt.ylabel('% total GOOD/BAD')\n",
        "  plt.title('Kolmogorov-Smirnov Curve')\n",
        "  plt.legend()\n",
        "\n",
        "_plot_KM(cmd_BAD, cmd_GOOD, thresholds)"
      ],
      "execution_count": 0,
      "outputs": [
        {
          "output_type": "display_data",
          "data": {
            "image/png": "[encoded data removed]",
            "text/plain": [
              "<Figure size 720x576 with 1 Axes>"
            ]
          },
          "metadata": {
            "tags": []
          }
        }
      ]
    },
    {
      "cell_type": "markdown",
      "metadata": {
        "id": "ILt89RaW1F9l",
        "colab_type": "text"
      },
      "source": [
        "Kiểm định Kolmogorov-Smirnov test:"
      ]
    },
    {
      "cell_type": "code",
      "metadata": {
        "id": "diTaCCh_1KEc",
        "colab_type": "code",
        "outputId": "e8caa95c-1e0f-49f3-ad94-b7050e404d62",
        "colab": {
          "base_uri": "https://localhost:8080/",
          "height": 35
        }
      },
      "source": [
        "from scipy import stats\n",
        "\n",
        "stats.ks_2samp(cmd_BAD, cmd_GOOD)"
      ],
      "execution_count": 0,
      "outputs": [
        {
          "output_type": "execute_result",
          "data": {
            "text/plain": [
              "Ks_2sampResult(statistic=0.5238095238095238, pvalue=0.005467427576534314)"
            ]
          },
          "metadata": {
            "tags": []
          },
          "execution_count": 25
        }
      ]
    },
    {
      "cell_type": "markdown",
      "metadata": {
        "id": "Lp-64zcy2BUZ",
        "colab_type": "text"
      },
      "source": [
        "p-value < 0.05 cho thấy phân phối tích lũy giữa tỷ lệ BAD và GOOD là khác biệt nhau. Do đó mô hình có ý nghĩa trong phân loại hồ sơ."
      ]
    },
    {
      "cell_type": "markdown",
      "metadata": {
        "id": "mqrzlpw04dSF",
        "colab_type": "text"
      },
      "source": [
        "#### 2.4.5. Tính điểm credit score cho mỗi feature\n",
        "\n",
        "Bước cuối cùng là tính ra điểm tín nhiệm (credit scorecard) của mỗi khách hàng bằng cách tính điểm số cho mỗi feature (feature ở đây là một khoảng bin của biến liên tục hoặc một class của biến category). Điểm sẽ được scale theo công thức sau:\n",
        "\n",
        "$$\\text{Score} = (\\beta.\\text{WOE}+\\frac{\\alpha}{n}).\\text{Factor}+\\frac{\\text{Offset}}{n} \\tag{1}$$\n",
        "\n",
        "Trong đó:\n",
        "\n",
        "* $\\beta$: Hệ số của biến trong phương trình hồi qui logistic.\n",
        "* $\\alpha$: Hệ số chặn của phương trình hồi qui logistic.\n",
        "* $\\text{WOE}$: Hệ số trọng số bằng chứng của mỗi feature.\n",
        "* $n$: Số lượng các biến của mô hình.\n",
        "* $\\text{Factor}, \\text{Offset}$: Là các tham số được thiết lập để tính Score.\n",
        "\n",
        "4 tham số đầu tiên là những tham số đã biết. Hai tham số $\\text{Factor}, \\text{Offset}$ được tính từ các tham số $\\text{pdo}$ và $\\text{Odds}$:\n",
        "\n",
        "* $\\text{Factor} = \\frac{\\text{pdo}}{\\ln(2)}$\n",
        "* $\\text{Offset} = \\text{Base_Score}-(\\text{Factor}.\\ln(\\text{Odds}))$\n",
        "\n",
        "Như chúng ta đã biết, $\\text{Odds}$ chính là tỷ lệ giữa xác suất GOOD/BAD. \n",
        "\n",
        "Gỉa sử xác suất để hợp đồng là GOOD bằng $p$ thì tỷ lệ:\n",
        "\n",
        "$$\\text{Odds} = \\frac{p}{1-p}$$ \n",
        "\n",
        "$p$ được tính theo hàm sigmoid. Nên giá trị:\n",
        "\n",
        "$$\\ln(\\text{Odds}) = \\ln{(\\frac{p}{1-p})} = \\ln{(e^{\\beta \\mathbf{X}})} = \\beta \\mathbf{X}$$\n",
        "\n",
        "Nếu coi $\\frac{\\text{Offset}}{n}=C$ là một hằng số. Như vậy phương trình (1) ta có thể viết thành:\n",
        "\n",
        "$$\\text{Score} = (\\ln(\\text{Odds})*\\text{Factor}) + C$$\n",
        "\n",
        "Lấy đạo hàm:\n",
        "\n",
        "$$\\text{Factor} = \\frac{\\delta \\text{Score}}{\\delta \\ln(\\text{Odds})}$$\n",
        "\n",
        "Ý nghĩa của $\\text{Factor}$:\n",
        "\n",
        "Gỉa sử với mức điểm cơ sở $600$ thì tỷ lệ odds ratio là $1:30$. Điểm càng cao thì hồ sơ càng tốt, do đó khi mức điểm giảm xuống còn $580$ thì tỷ lệ hồ sơ xấu (nhãn `GOOD`) tăng lên và khiến cho tỷ lệ odds ratio tăng gấp đôi thành $1:15$. Chúng ta có thể hiểu $\\text{pdo} = -20$ (point double odds ratio) chính là điểm thay đổi để gấp đôi odds ratio. Do đó:\n",
        "\n",
        "$$\\text{Factor} = \\frac{\\delta \\text{Score}}{\\delta \\ln(\\text{Odds})} = \\frac{\\text{pdo}}{\\ln(2)} \\tag{2}$$\n",
        "\n",
        "Như vậy $\\text{Factor}$ chính là tác động biên của việc gia tăng điểm số theo odds ratio.\n",
        "\n",
        "$\\text{Offset}$ có thể được xem như phần bù của điểm tín nhiệm cơ sở $\\text{Base_Score}$ sau khi trừ đi tổ hợp tuyến tính đầu vào với nhân tố $\\text{Factor}$.\n",
        "\n",
        "Để hình dung rõ hơn quá trình tính điểm score chúng ta lấy ví dụ:\n",
        "\n",
        "Một mô hình credit scorecard có các tham số thiết lập gồm tỷ lệ $\\text{Odds} = 1:50$ tại $\\text{Base_Score} =600$ điểm và $\\text{pdo}=20$, hai tham số $\\text{Factor}, \\text{Offset}$ được tính như sau:\n",
        "\n",
        "* $\\text{Factor}=\\frac{20}{\\ln(2)}=28.85$\n",
        "* $\\text{Offset}=600-28.85\\times \\ln(1/50)=712.86$ \n",
        "\n",
        "Phương trình hồi qui có hệ số đối với 1 biến bất kì là $\\beta = 0.5$, hệ số tự do $\\alpha=1$, giá trị $\\text{WOE}=0.15$ và số lượng các biến $n=12$. Khi đó áp dụng phương trình (1) tính điểm tín nhiệm $\\text{Score}$ được đóng góp bởi biến đó sẽ là:\n",
        "\n",
        "$$\\text{Score} = (0.5\\times0.15+\\frac{1}{12}).\\text{28.85}+\\frac{\\text{712.85}}{12} = 63.97$$\n",
        "\n",
        "Ta có thể tạo ra hàm số tính điểm cho mỗi feature như sau:"
      ]
    },
    {
      "cell_type": "code",
      "metadata": {
        "id": "CWUZR6mXFgp_",
        "colab_type": "code",
        "outputId": "74583b3b-290c-4c5d-aa09-0956df7a2662",
        "colab": {
          "base_uri": "https://localhost:8080/",
          "height": 35
        }
      },
      "source": [
        "import numpy as np\n",
        "\n",
        "def _CreditScore(beta, alpha, woe, n = 12, odds = 1/4, pdo = -50, thres_score = 600):\n",
        "  factor = pdo/np.log(2)\n",
        "  offset = thres_score - factor*np.log(odds)\n",
        "  score = (beta*woe+alpha/n)*factor+offset/n\n",
        "  return score\n",
        "\n",
        "_CreditScore(beta = 0.5, alpha = -1, woe = 0.15, n = 12)"
      ],
      "execution_count": 0,
      "outputs": [
        {
          "output_type": "execute_result",
          "data": {
            "text/plain": [
              "42.2677896003704"
            ]
          },
          "metadata": {
            "tags": []
          },
          "execution_count": 26
        }
      ]
    },
    {
      "cell_type": "code",
      "metadata": {
        "id": "315b9h-FIMIU",
        "colab_type": "code",
        "colab": {}
      },
      "source": [
        "betas_dict = dict(zip(list(X_train.columns), logit_model.coef_[0]))\n",
        "alpha = logit_model.intercept_[0]"
      ],
      "execution_count": 0,
      "outputs": []
    },
    {
      "cell_type": "code",
      "metadata": {
        "id": "XcMB8dgIJarp",
        "colab_type": "code",
        "outputId": "441a05b7-e6d3-47b8-be88-06d13e3243aa",
        "colab": {
          "base_uri": "https://localhost:8080/",
          "height": 230
        }
      },
      "source": [
        "betas_dict"
      ],
      "execution_count": 0,
      "outputs": [
        {
          "output_type": "execute_result",
          "data": {
            "text/plain": [
              "{'CLAGE_WOE': 0.8622728924386177,\n",
              " 'CLNO_WOE': 0.8543750687914803,\n",
              " 'DEBTINC_WOE': 0.9440898350669948,\n",
              " 'DELINQ_WOE': 1.0549527325475119,\n",
              " 'DEROG_WOE': 0.9016268860831601,\n",
              " 'JOB_WOE': 0.8871024491457594,\n",
              " 'LOAN_WOE': 0.47103241070043256,\n",
              " 'MORTDUE_WOE': 0.5825609027920614,\n",
              " 'NINQ_WOE': 0.5431039926781271,\n",
              " 'REASON_WOE': 0.6474770785463775,\n",
              " 'VALUE_WOE': 0.7543949126408607,\n",
              " 'YOJ_WOE': 0.8837887914052942}"
            ]
          },
          "metadata": {
            "tags": []
          },
          "execution_count": 28
        }
      ]
    },
    {
      "cell_type": "code",
      "metadata": {
        "id": "QHFxjzm2Fki2",
        "colab_type": "code",
        "outputId": "b3565bae-852d-406b-d774-6a481ae844aa",
        "colab": {
          "base_uri": "https://localhost:8080/",
          "height": 194
        }
      },
      "source": [
        "cols = []\n",
        "features = []\n",
        "woes = []\n",
        "betas = []\n",
        "scores = []\n",
        "\n",
        "for col in columns:\n",
        "  for feature, woe in WOE_dict[col]['table']['WOE'].to_frame().iterrows():\n",
        "      cols.append(col)\n",
        "      # Add feature\n",
        "      feature = str(feature)\n",
        "      features.append(feature)    \n",
        "      # Add woe\n",
        "      woe = woe.values[0]\n",
        "      woes.append(woe)\n",
        "      # Add beta\n",
        "      col_woe = col+'_WOE'\n",
        "      beta = betas_dict[col_woe]\n",
        "      betas.append(beta)\n",
        "      # Add score\n",
        "      score = _CreditScore(beta = beta, alpha = alpha, woe = woe, n = 12)\n",
        "      scores.append(score)\n",
        "\n",
        "df_WOE = pd.DataFrame({'Columns': cols, 'Features': features, 'WOE': woes, 'Betas':betas, 'Scores':scores})\n",
        "df_WOE.head()"
      ],
      "execution_count": 0,
      "outputs": [
        {
          "output_type": "execute_result",
          "data": {
            "text/html": [
              "<div>\n",
              "<style scoped>\n",
              "    .dataframe tbody tr th:only-of-type {\n",
              "        vertical-align: middle;\n",
              "    }\n",
              "\n",
              "    .dataframe tbody tr th {\n",
              "        vertical-align: top;\n",
              "    }\n",
              "\n",
              "    .dataframe thead th {\n",
              "        text-align: right;\n",
              "    }\n",
              "</style>\n",
              "<table border=\"1\" class=\"dataframe\">\n",
              "  <thead>\n",
              "    <tr style=\"text-align: right;\">\n",
              "      <th></th>\n",
              "      <th>Columns</th>\n",
              "      <th>Features</th>\n",
              "      <th>WOE</th>\n",
              "      <th>Betas</th>\n",
              "      <th>Scores</th>\n",
              "    </tr>\n",
              "  </thead>\n",
              "  <tbody>\n",
              "    <tr>\n",
              "      <th>0</th>\n",
              "      <td>LOAN</td>\n",
              "      <td>(-999999999.0, 7600.0]</td>\n",
              "      <td>0.898910</td>\n",
              "      <td>0.471032</td>\n",
              "      <td>19.446581</td>\n",
              "    </tr>\n",
              "    <tr>\n",
              "      <th>1</th>\n",
              "      <td>LOAN</td>\n",
              "      <td>(7600.0, 10000.0]</td>\n",
              "      <td>0.154566</td>\n",
              "      <td>0.471032</td>\n",
              "      <td>44.737736</td>\n",
              "    </tr>\n",
              "    <tr>\n",
              "      <th>2</th>\n",
              "      <td>LOAN</td>\n",
              "      <td>(10000.0, 12100.0]</td>\n",
              "      <td>-0.112535</td>\n",
              "      <td>0.471032</td>\n",
              "      <td>53.813262</td>\n",
              "    </tr>\n",
              "    <tr>\n",
              "      <th>3</th>\n",
              "      <td>LOAN</td>\n",
              "      <td>(12100.0, 14400.0]</td>\n",
              "      <td>-0.158318</td>\n",
              "      <td>0.471032</td>\n",
              "      <td>55.368853</td>\n",
              "    </tr>\n",
              "    <tr>\n",
              "      <th>4</th>\n",
              "      <td>LOAN</td>\n",
              "      <td>(14400.0, 16300.0]</td>\n",
              "      <td>0.162082</td>\n",
              "      <td>0.471032</td>\n",
              "      <td>44.482362</td>\n",
              "    </tr>\n",
              "  </tbody>\n",
              "</table>\n",
              "</div>"
            ],
            "text/plain": [
              "  Columns                Features       WOE     Betas     Scores\n",
              "0    LOAN  (-999999999.0, 7600.0]  0.898910  0.471032  19.446581\n",
              "1    LOAN       (7600.0, 10000.0]  0.154566  0.471032  44.737736\n",
              "2    LOAN      (10000.0, 12100.0] -0.112535  0.471032  53.813262\n",
              "3    LOAN      (12100.0, 14400.0] -0.158318  0.471032  55.368853\n",
              "4    LOAN      (14400.0, 16300.0]  0.162082  0.471032  44.482362"
            ]
          },
          "metadata": {
            "tags": []
          },
          "execution_count": 29
        }
      ]
    },
    {
      "cell_type": "code",
      "metadata": {
        "id": "coqykwpg8igq",
        "colab_type": "code",
        "outputId": "66cc28fb-5436-4b52-ae27-3af0ad1db31c",
        "colab": {
          "base_uri": "https://localhost:8080/",
          "height": 35
        }
      },
      "source": [
        "df_WOE.shape"
      ],
      "execution_count": 0,
      "outputs": [
        {
          "output_type": "execute_result",
          "data": {
            "text/plain": [
              "(83, 5)"
            ]
          },
          "metadata": {
            "tags": []
          },
          "execution_count": 30
        }
      ]
    },
    {
      "cell_type": "markdown",
      "metadata": {
        "id": "u5MK1nbrKEWp",
        "colab_type": "text"
      },
      "source": [
        "Như vậy ta đã hoàn thiện bảng tính điểm số cho mỗi features. Từ điểm số này ta có thể suy ra điểm tín nhiệm của mỗi một hồ sơ bằng cách tính tổng điểm số của toàn bộ các features của hồ sơ đó. Bên dưới ta sẽ thực hành tính điểm tín nhiệm cho một hồ sơ ngẫu nhiên:"
      ]
    },
    {
      "cell_type": "code",
      "metadata": {
        "id": "QCJ9ncttLYn8",
        "colab_type": "code",
        "outputId": "6d0ed1a7-80f9-45e5-9b84-191e66608a8c",
        "colab": {
          "base_uri": "https://localhost:8080/",
          "height": 76
        }
      },
      "source": [
        "# Giả sử một hồ sơ ngẫu nhiên có các thông số như sau\n",
        "test_obs = data[columns].iloc[0:1, :]\n",
        "test_obs"
      ],
      "execution_count": 0,
      "outputs": [
        {
          "output_type": "execute_result",
          "data": {
            "text/html": [
              "<div>\n",
              "<style scoped>\n",
              "    .dataframe tbody tr th:only-of-type {\n",
              "        vertical-align: middle;\n",
              "    }\n",
              "\n",
              "    .dataframe tbody tr th {\n",
              "        vertical-align: top;\n",
              "    }\n",
              "\n",
              "    .dataframe thead th {\n",
              "        text-align: right;\n",
              "    }\n",
              "</style>\n",
              "<table border=\"1\" class=\"dataframe\">\n",
              "  <thead>\n",
              "    <tr style=\"text-align: right;\">\n",
              "      <th></th>\n",
              "      <th>LOAN</th>\n",
              "      <th>MORTDUE</th>\n",
              "      <th>VALUE</th>\n",
              "      <th>REASON</th>\n",
              "      <th>JOB</th>\n",
              "      <th>YOJ</th>\n",
              "      <th>DEROG</th>\n",
              "      <th>DELINQ</th>\n",
              "      <th>CLAGE</th>\n",
              "      <th>NINQ</th>\n",
              "      <th>CLNO</th>\n",
              "      <th>DEBTINC</th>\n",
              "    </tr>\n",
              "  </thead>\n",
              "  <tbody>\n",
              "    <tr>\n",
              "      <th>0</th>\n",
              "      <td>1100</td>\n",
              "      <td>25860.0</td>\n",
              "      <td>39025.0</td>\n",
              "      <td>HomeImp</td>\n",
              "      <td>Other</td>\n",
              "      <td>10.5</td>\n",
              "      <td>0.0</td>\n",
              "      <td>0.0</td>\n",
              "      <td>94.366667</td>\n",
              "      <td>1.0</td>\n",
              "      <td>9.0</td>\n",
              "      <td>33.779915</td>\n",
              "    </tr>\n",
              "  </tbody>\n",
              "</table>\n",
              "</div>"
            ],
            "text/plain": [
              "   LOAN  MORTDUE    VALUE   REASON  ...      CLAGE  NINQ  CLNO    DEBTINC\n",
              "0  1100  25860.0  39025.0  HomeImp  ...  94.366667   1.0   9.0  33.779915\n",
              "\n",
              "[1 rows x 12 columns]"
            ]
          },
          "metadata": {
            "tags": []
          },
          "execution_count": 34
        }
      ]
    },
    {
      "cell_type": "markdown",
      "metadata": {
        "id": "OxH5V63XNIWO",
        "colab_type": "text"
      },
      "source": [
        "Viết hàm tính toán điểm số cho mỗi trường của một bộ hồ sơ:"
      ]
    },
    {
      "cell_type": "code",
      "metadata": {
        "id": "G7WU4G3cM0y4",
        "colab_type": "code",
        "outputId": "90c5c1a9-6933-4311-d53c-68b92f57f99a",
        "colab": {
          "base_uri": "https://localhost:8080/",
          "height": 35
        }
      },
      "source": [
        "def _search_score(obs, col):\n",
        "  feature = [str(inter) for inter in list(WOE_dict[col]['table'].index) if obs[col].values[0] in inter][0]\n",
        "  score = df_WOE[(df_WOE['Columns'] == col) & (df_WOE['Features'] == feature)]['Scores'].values[0]\n",
        "  return score\n",
        "\n",
        "# Tính điểm cho trường 'LOAN' của bộ hồ sơ test\n",
        "score = _search_score(test_obs, 'LOAN')\n",
        "score"
      ],
      "execution_count": 0,
      "outputs": [
        {
          "output_type": "execute_result",
          "data": {
            "text/plain": [
              "19.44658078049054"
            ]
          },
          "metadata": {
            "tags": []
          },
          "execution_count": 35
        }
      ]
    },
    {
      "cell_type": "markdown",
      "metadata": {
        "id": "6EXm-fr3Perc",
        "colab_type": "text"
      },
      "source": [
        "Điểm chi tiết của từng trường trong bộ hồ sơ và điểm của toàn bộ bộ hồ sơ sẽ là:"
      ]
    },
    {
      "cell_type": "code",
      "metadata": {
        "id": "sfAI6oT2Kaj8",
        "colab_type": "code",
        "outputId": "fb374fd7-9451-46a9-e3ba-829484d734ab",
        "colab": {
          "base_uri": "https://localhost:8080/",
          "height": 90
        }
      },
      "source": [
        "def _total_score(obs, columns = columns):\n",
        "  scores = dict()\n",
        "  for col in columns:\n",
        "    scores[col] = _search_score(obs, col)\n",
        "  total_score = sum(scores.values())\n",
        "  return scores, total_score\n",
        "\n",
        "scores, total_score = _total_score(test_obs)\n",
        "print('score for each fields: \\n', scores)\n",
        "print('final total score: ', total_score)"
      ],
      "execution_count": 0,
      "outputs": [
        {
          "output_type": "stream",
          "text": [
            "score for each fields: \n",
            " {'LOAN': 19.44658078049054, 'MORTDUE': 33.012513466194235, 'VALUE': 15.69994163833087, 'REASON': 43.538372007335425, 'JOB': 37.68068758093487, 'YOJ': 43.98355819454406, 'DEROG': 55.07303330234773, 'DELINQ': 62.44181186557311, 'CLAGE': 25.919777863398743, 'NINQ': 58.24490019541234, 'CLNO': 20.143965087500664, 'DEBTINC': -42.56375867673781}\n",
            "final total score:  372.6213833053248\n"
          ],
          "name": "stdout"
        }
      ]
    },
    {
      "cell_type": "markdown",
      "metadata": {
        "id": "cfpGm84YOsXf",
        "colab_type": "text"
      },
      "source": [
        "Ta có thể tính toán điểm tín nhiệm cho toàn bộ các hồ sơ trên tập data như sau:"
      ]
    },
    {
      "cell_type": "code",
      "metadata": {
        "id": "b1IOo79bO0r8",
        "colab_type": "code",
        "colab": {}
      },
      "source": [
        "total_scores = []\n",
        "for i in np.arange(data[columns].shape[0]):\n",
        "  obs = data[columns].iloc[i:(i+1), :]\n",
        "  _, score = _total_score(obs)\n",
        "  total_scores.append(score)\n",
        "data['Score'] = total_scores"
      ],
      "execution_count": 0,
      "outputs": []
    },
    {
      "cell_type": "markdown",
      "metadata": {
        "id": "RwrZfb4JTWi-",
        "colab_type": "text"
      },
      "source": [
        "Biểu đồ phân phối của điểm số theo GOOD và BAD"
      ]
    },
    {
      "cell_type": "code",
      "metadata": {
        "id": "AlLIPu4yTN_g",
        "colab_type": "code",
        "outputId": "5a7fccf0-33bb-4248-d7f2-74d5cb855b54",
        "colab": {
          "base_uri": "https://localhost:8080/",
          "height": 313
        }
      },
      "source": [
        "plt.figure(figsize=(16, 4))\n",
        "plt.subplot(121)\n",
        "sns.distplot(data['Score'])\n",
        "plt.title('Distribution Score of Total data')\n",
        "plt.subplot(122)\n",
        "sns.distplot(data[data['BAD']==1]['Score'], label='Default')\n",
        "sns.distplot(data[data['BAD']==0]['Score'], label='Non-Default', \n",
        "             kde_kws={\"color\": \"r\"}, \n",
        "             hist_kws={\"color\": \"g\", \"alpha\":0.5})\n",
        "plt.legend(loc = 'lower right')\n",
        "plt.title('Distribution Score in Default vs Non-Default')"
      ],
      "execution_count": 0,
      "outputs": [
        {
          "output_type": "execute_result",
          "data": {
            "text/plain": [
              "Text(0.5, 1.0, 'Distribution Score in Default vs Non-Default')"
            ]
          },
          "metadata": {
            "tags": []
          },
          "execution_count": 39
        },
        {
          "output_type": "display_data",
          "data": {
            "image/png": "[encoded data removed]",
            "text/plain": [
              "<Figure size 1152x288 with 2 Axes>"
            ]
          },
          "metadata": {
            "tags": []
          }
        }
      ]
    },
    {
      "cell_type": "markdown",
      "metadata": {
        "id": "uH2uEjulH-b3",
        "colab_type": "text"
      },
      "source": [
        "Như vậy ta có thể nhận thấy phân phối điểm số của hồ sơ Default và Non-Default là khác biệt nhau. Điểm số tín nhiệm đánh giá mức độ tin cậy để khách hàng có hành vi cam kết trả nợ cho ngân hàng. Một khách hàng có điểm số tín nhiệm cao sẽ gia tăng mức độ tin tưởng của Ngân hàng dành cho họ. Ngoài ra Ngân hàng cũng có thể dựa trên điểm tín nhiệm để phân loại khách hàng thành những nhóm tiềm năng khác nhau giống như chỉ số [FICO score](https://www.experian.com/blogs/ask-experian/credit-education/score-basics/what-is-a-good-credit-score/) đã phân loại:\n",
        "\n",
        "![](https://www.experian.com/blogs/ask-experian/wp-content/img/experian-good-score-ranges-fico.png)\n",
        "\n",
        "\n",
        "Bên dưới là bảng thống kê đối với danh mục khách hàng vay vốn theo điểm scorecard.\n",
        "\n",
        "![](https://i.imgur.com/xzt7Q3S.png)\n",
        "\n",
        "Để giảm thiểu rủi ro thì Ngân hàng có thể đưa ra các điều kiện ràng buộc khi cho vay. Chẳng hạn như đối với khách hàng rơi vào nhóm `Very Poor`, Ngân hàng có thể đề nghị khách trả phí vay và tiền đặt cọc hoặc thậm chí là không cho vay với nhóm khách hàng này.\n",
        "\n",
        "\n",
        "\n",
        "\n",
        "\n"
      ]
    },
    {
      "cell_type": "markdown",
      "metadata": {
        "id": "tIBNb9OVbZyS",
        "colab_type": "text"
      },
      "source": [
        "## 3. Kết luận\n",
        "\n",
        "Như vậy tôi đã giới thiệu tới các bạn các bước để xây dựng một mô hình credit scorecard từ các bước như thu thập dữ liệu, xử lý biến, hồi qui và hậu kiểm mô hình, dự báo xác suất, tính toán điểm tín nhiệm cho một hồ sơ. Về cơ bản lý thuyết về mô hình credit scorecard là khá đơn giản vì nó chỉ dựa trên phương trình hồi qui logistic. Tuy nhiên quá trình xây dựng mô hình đòi hỏi phải đáp ứng được rất nhiều tiêu chí như khả năng giải thích, độ chính xác, chi phí xây dựng, khả năng áp dụng vào thực tiễn. Điều này đòi hỏi chúng ta phải bỏ ra nhiều công sức hơn để hoàn thiện mô hình credit scorecard chứ không chỉ đơn thuần là đưa dữ liệu hồi qui mô hình là xong.\n",
        "\n",
        "Lớp mô hình credit scorecard ngoài áp dụng trong lĩnh vực quản trị rủi ro tín dụng còn có thể mở rộng và áp dụng sang rất nhiều các lĩnh vực khác như xếp hạng khách hàng trong marketing, xếp hạng doanh nghiệp, xếp hạng quốc gia, tổ chức tài chính,... Thậm chí mô hình còn rất tiềm năng trong quản lý xã hội. Đã được áp dụng tại một số quốc gia và mang lại hiệu quả tích cực.\n",
        "\n",
        "Để hiểu hơn về mô hình credit scorecard các bạn có thể tham khảo thêm những nguồn tài liệu rất chất lượng bên dưới."
      ]
    },
    {
      "cell_type": "markdown",
      "metadata": {
        "id": "scS6W39kbb6p",
        "colab_type": "text"
      },
      "source": [
        "## 4. Tài liệu tham khảo\n",
        "\n",
        "1. [FICO score](https://www.experian.com/blogs/ask-experian/credit-education/score-basics/what-is-a-good-credit-score/)\n",
        "\n",
        "2. [WOE - Weight of Evidence](https://multithreaded.stitchfix.com/blog/2015/08/13/weight-of-evidence/)\n",
        "\n",
        "3. [Scorecard model - Nguyen Chi Dung VietNam](https://rpubs.com/chidungkt/442168)\n",
        "\n",
        "4. [Introduction to credit scoring and scorecard approach - Jenny Nguyen](https://rstudio-pubs-static.s3.amazonaws.com/441239_e4a46ef90bd5421bb810e95c06f22df8.html#introduction_to_credit_scoring_and_scorecard_approach)\n",
        "\n",
        "5. [Introduction to credit scoring and scorecard approach- Nguyen Chi Dung VietNam](https://rpubs.com/chidungkt/442168)\n",
        "\n",
        "6. [Attribute relevance analysis in python IV and WOE - R language](https://towardsdatascience.com/attribute-relevance-analysis-in-python-iv-and-woe-b5651443fc04)\n",
        "\n",
        "7. [Scorecard package in R language](https://cran.r-project.org/web/packages/scorecard/scorecard.pdf)\n",
        "\n",
        "8. [Scorecard package in python](https://pypi.org/project/scorecardpy/)\n",
        "\n",
        "9. [Creditworthiness - investopedia](https://www.investopedia.com/terms/c/credit-worthiness.asp)\n",
        "\n",
        "10. [Credit Risk Scorecards Implementing Intelligent - Naeem Siddiqui](https://www.amazon.com/Credit-Risk-Scorecards-Implementing-Intelligent/dp/047175451X)\n",
        "\n",
        "11. [Credit Scoring Application at Banks: Mapping to Basel II - Do Hoai Linh, Luong Thi Thu Hang, Nguyen Xuan Thang - NEU University VietNam](https://www.researchgate.net/publication/332098964_Credit_Scoring_Application_at_Banks_Mapping_to_Basel_II)\n",
        "\n",
        "12. [Credit Risk Factor Modeling\n",
        "and the Basel II IRB Approach](https://epub.uni-regensburg.de/8241/1/hamerle1.pdf)\n"
      ]
    }
  ]
}