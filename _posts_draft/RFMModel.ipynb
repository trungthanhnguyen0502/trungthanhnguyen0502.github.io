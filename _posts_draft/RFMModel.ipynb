{
  "nbformat": 4,
  "nbformat_minor": 0,
  "metadata": {
    "kernelspec": {
      "display_name": "Python 3",
      "language": "python",
      "name": "python3"
    },
    "language_info": {
      "codemirror_mode": {
        "name": "ipython",
        "version": 3
      },
      "file_extension": ".py",
      "mimetype": "text/x-python",
      "name": "python",
      "nbconvert_exporter": "python",
      "pygments_lexer": "ipython3",
      "version": "3.6.7"
    },
    "colab": {
      "name": "RFMModel.ipynb",
      "provenance": [],
      "collapsed_sections": []
    }
  },
  "cells": [
    {
      "cell_type": "markdown",
      "metadata": {
        "id": "WWJgxH1dUkEJ",
        "colab_type": "text"
      },
      "source": [
        "## I. Mô hình RFM (Recency - Frequency - Monetary model)\n",
        "\n",
        "Theo nguyên lý pareto thì 20% khách hàng sẽ mang lại 80% doanh số. Do đó doanh nghiệp cần xác định được những khách hàng quan trọng hay còn gọi là tập khách hàng VIP để sử dụng chiến lược chăm sóc đặc biệt. Việc phân chia khách hàng thành các nhóm khác nhau dựa trên giá trị mang lại cho doanh nghiệp sẽ giúp cho kinh doanh hiệu quả hơn, chương trình marketing target đến đúng tập khách hàng hơn, doanh nghiệp hiểu hành vi khách hàng hơn để từ đó điều chỉnh lại chiến lược kinh doanh và sản phẩm của mình tốt hơn. Và rất nhiều các lợi ích khác nữa từ việc am tường khách hàng và phân khúc khách hàng hợp lý.\n",
        "\n",
        "Chính vì thế các tập đoàn lớn từ tài chính ngân hàng, công nghệ thông tin, du lịch, dịch vụ, vận tải,... đều có những phương pháp phân chia tập khách hàng của mình và phát triển mô hình kinh doanh, bộ máy vận hành của mình theo hướng support các phân khúc khách hàng đó.\n",
        "\n",
        "Có rất nhiều các phương pháp phân chia phân khúc khách hàng khác nhau. Có thể dựa trên giá trị sử dụng các sản phẩm, dịch vụ mà khách hàng sử dụng của công ty, dựa trên loại hình sản phẩm khách hàng sử dụng hoặc dựa trên đối tượng khách hàng là cá nhân hay doanh nghiệp.\n",
        "\n",
        "Tạo phân khúc khách hàng rất linh hoạt và đa dạng và phụ thuộc vào định hướng kinh doanh của mỗi công ty. Tuy nhiên có thể chắc chắn một điều phát triển kinh doanh theo phân khúc khách hàng luôn mang lại lợi ích lớn hơn cho doanh nghiệp vì mỗi một khách hàng có một hành vi tiêu dùng, sở thích, thị hiếu khác nhau. Phân khúc khách hàng là nhằm mục đích nhóm những khách hàng có cùng thị hiếu, hành vi để phục vụ họ tốt hơn.\n",
        "\n",
        "Okie, đến đây bạn đã hiểu được lợi ích của phân chia phân khúc khách hàng. Tiếp theo là sử dụng phương pháp nào để phân chia phân khúc? Đó là lý do tôi viết bài hướng dẫn này.\n",
        "\n",
        "Phương pháp mà tôi giới thiệu trong bài viết này có tên là RFM, một trong những phương pháp điển hình được sử dụng trong phân khúc khách hàng.  Định nghĩa của phương pháp có thể tìm tại wikipedia như sau:\n",
        "\n",
        "\"RFM is a method used for analyzing customer value. It is commonly used in database marketing and direct marketing and has received particular attention in retail and professional services industries. RFM stands for the three dimensions: Recency – How recently did the customer purchase?\"\n",
        "\n",
        "Có nghĩa là:\n",
        "\n",
        "\"RFM là một phương pháp được sử dụng để phân tích giá trị khách hàng. Nó thường được sử dụng trong marketing cơ sở dữ liệu (kiểu như dựa vào dữ liệu về khách hàng để tiếp thị sản phẩm) và marketing trực tiếp và đã nhận được sự chú ý đặc biệt trong ngành bán lẻ và dịch vụ.\"\n",
        "\n",
        "RFM định lượng giá trị của một khách hàng dựa trên 3 thông tin chính:\n",
        "\n",
        "* Recency: Khoảng thời gian mua hàng gần đây nhất là bao lâu. Cho biết khách hàng có đang thực sự hoạt động gần thời điểm đánh giá. Chỉ số này càng lớn càng cho thấy xu hướng rời bỏ của khách hàng càng cao. Đó là một cảnh báo cho doanh nghiệp nên thay đổi sản phẩm để đáp ứng thị hiếu khách hàng hoặc thay đổi chính sách để nâng cao chất lượng phục vụ.\n",
        "\n",
        "* Frequency: Tần suất mua hàng của khách hàng. Nếu khách hàng mua càng nhiều đơn thì giá trị về doanh số mang lại cho công ty càng cao và tất nhiên giá trị của họ càng lớn. Tuy nhiên nếu chỉ xét dựa trên tần suất mua hàng thì cũng chưa đánh giá được đầy đủ mức độ tác động lên doanh thu bởi bên cạnh đó, giá trị đơn hàng cũng là yếu tố trực tiếp cho thấy khách hàng tiềm năng như thế nào.\n",
        "\n",
        "* Monetary: Là số tiền chi tiêu của khách hàng. Đây là yếu tố trực quan nhất ảnh hưởng tới doanh số. Hay nói cách khác, doanh nghiệp quan tâm nhất là khách hàng đã dành bao nhiêu tiền để mua sắm sản phẩm của công ty? Monetary sẽ tác động trực tiếp tới doanh thu và bị tác động gián tiếp thông qua 2 yếu tố còn lại là Recency và Frequency.\n",
        "\n",
        "Sau khi đã có đầu vào là 3 nhân tố trên. Chúng ta sẽ sử dụng thuật toán K-Mean clustering, một thuật toán học không giám sát để nhóm các khách hàng có cùng mức độ VIP thành một nhóm. Nhưng trước đó chúng ta cần phải chuẩn hóa dữa liệu đầu vào.\n",
        "\n",
        "### Tại sao cần chuẩn hóa dữ liệu đầu vào?\n",
        "\n",
        "Hãy tưởng tượng đơn vị của Recency là số ngày, của Frequency là số lần và của Monetary là số tiền. Điều khó khăn của mô hình học không giám sát đó là làm cách nào có thể phân cụm chính xác những điểm dữ liệu có tọa độ là những biến khác nhau về độ lớn, khoảng biến thiên và đơn vị. Thông thường Monetary sẽ rất lớn so với Recency và Frequency nên trong không gian euclidean, yếu tố khoảng cách giữa các điểm đại diện cho 1 khách hàng sẽ ít bị tác động bởi Recency và Frequency hơn so với Monetary. Nếu không chuẩn hóa dữ liệu sẽ dẫn tới sự khác biệt giữa các nhóm sẽ bị ảnh hưởng phần lớn bởi Monetary và ít bị ảnh hưởng bởi 2 biến còn lại.\n",
        "\n",
        "### Tác dụng của chuẩn hóa dữ liệu\n",
        "\n",
        "* **Chuẩn hóa dữ liệu giúp đồng nhất đơn vị**: Các nhân tố Recency, Frequency, Monetary sẽ không còn khác biệt về đơn vị. Giá trị của nhân tố này sẽ có cùng một miền biến thiên, phương sai hoặc trung bình. Do đó vai trò của các biến trong việc xác định cụm là bình đẳng.\n",
        "\n",
        "* **Các cụm sẽ tách biệt nhau hơn**: Trước khi chuẩn hóa dữ liệu, các cụm sẽ rất gần nhau do khác biệt khoảng cách được xác định bởi các chiều Recency, Frequency là rất nhỏ. Sau khi chuẩn hóa dữ liệu, đơn vị là đồng nhất nên ranh giới giữa các cụm sẽ tách biệt hơn.\n",
        "\n",
        "* **Hạn chế các điểm dữ liệu outliers**: **Outliers** hay còn gọi là điểm dị biệt, là một trong những nguyên nhân khiến thuật toán phân cụm bị **bias** (chệch). Dữ liệu outliers sẽ thường quá lớn hoặc quá nhỏ, điều này khiến khoảng cách giữa các điểm trở nên phân tán. Trong quá trình huấn luyện để thuật toán hội tụ về **centroids** (lõi) của các **clusters** (cụm), do tác động của outliers nên các centroids sẽ thường bị lệch khỏi các vị trí lõi của cụm. Thuật toán cũng cần nhiều thời gian để hội tụ hơn. Việc này gây lãng phí về chi phí tính toán và chi phí thời gian. Do đó chúng ta cần chuẩn hóa dữ liệu để loại bỏ các outliers.\n",
        "\n",
        "### Phương pháp chuẩn hóa dữ liệu\n",
        "\n",
        "Có rất nhiều phương pháp khác nhau để chuẩn hóa dữ liệu cho các biến Recency, Frequency, Monetary. Một trong những phương pháp được sử dụng phổ biến nhất là chia độ lớn của các biến theo rank. Chẳng hạn Recency, Frequency, Monetary sẽ được chia thành 5 ranks hoặc 10 ranks tùy theo mục tiêu và định nghĩa từ trước về thang đo. Trong trường hợp bạn muốn chấm điểm khách hàng của mình chi tiết hơn, lựa chọn 10 ranks sẽ phù hợp hơn. Trái lại, bạn không muốn xem quá chi tiết về thể hiện của các khoảng ranks thì lựa chọn rank 5 sẽ hợp lý hơn. Ngoài ra, các biến cũng nên được đồng nhất về số lượng ranks để đồng nhất mức độ tác động lên điểm số của khách hàng. Không nên chọn Recency, Frequency, Monetary mỗi biến một mức độ rank.\n",
        "\n",
        "### Tính rank cho một khách hàng\n",
        "\n",
        "Rank của một khách hàng sẽ được tính bằng trung bình cộng của 3 giá trị rank của Recency, Frequency và Monetary. Gía trị này càng cao thì khách hàng của chúng ta càng có giá trị đối với công ty. \n",
        "\n",
        "Để mapping được giá trị của một biến cụ thể sang rank, rất đơn giản chúng ta sẽ sử dụng hàm `pandas.qcut()` với giá trị khai báo là số lượng ranks. Chẳng hạn cần tạo ranks 10 thì truyền vào `pandas.qcut(10)`. Hàm `qcut()` sẽ tự động tìm ra các khoảng giá trị sao cho số lượng các quan sát được chia đều vào mỗi khoảng. Bạn cũng có thể lựa chọn để giá trị là một số nguyên thể hiện giá trị của rank thông qua đặt biến labels = False hoặc giữ nguyên labels là các khoảng với labels = True. Cụ thể xem hướng dẫn về hàm [pandas.qcut()](https://pandas.pydata.org/pandas-docs/version/0.23.4/generated/pandas.qcut.html). \n",
        "\n",
        "Lưu ý một số trường hợp bạn sử dụng hàm này và gặp lỗi `bins edge trùng nhau`. Tức điểm đầu và điểm cuối của các khoảng bằng nhau. Đừng lo lắng, trong tình huống này phải phân tích nguyên nhân lỗi bằng kiến thức thống kê và google search cách khắc phục. Nếu bạn tuyệt vọng vì không thể solve vấn đề thì có thể hỏi tôi, cũng là một giải pháp.\n",
        "\n",
        "Từ giá trị rank của mỗi biến, có nhiều cách để xác định rank của một khách hàng:\n",
        "\n",
        "1. Đơn giản nhất là tính trung bình ta thu được giá trị rank cho mỗi khách hàng. Dựa trên rank được tính ra cho mỗi khách hàng ta có thể giữ nguyên mỗi rank là một nhóm hoặc tạo thành các nhóm dựa trên độ lớn. chẳng hạn như:\n",
        "\n",
        "  * Khách hàng VIP: rank từ 8-10.\n",
        "  * Khách hàng thông thường: rank từ 5-7.\n",
        "  * Khách hàng bình thường: rank < 5. \n",
        "\n",
        "2. Sử dụng thuật toán K-mean clustering để phân cụm các khách hàng dựa vào input là 3 biến giá trị ranks của Recency, Frequency, Monetary. Theo cách này ta sẽ xác định được ngay số lượng nhóm cuối cùng mà không phải tạo khoảng của rank như cách 1. Tuy nhiên việc xác định số lượng là bao nhiêu nhóm sẽ phải nhìn vào biểu đồ sai số MRSE để tìm ra điểm elbow.\n",
        "\n",
        "### Đổi dấu để đảm bảo tính đồng biến với rank khách hàng\n",
        "\n",
        "Chúng ta phải xác định trước rằng rank của khách hàng càng cao thì khách hàng càng VIP. Một số trường hợp bạn có thể làm ngược lại, rank thấp thì khách hàng càng chất lượng. Nhưng với việc coi rank như là một điểm scorecard thì tôi sẽ không lựa chọn như vậy. Các mô hình scorecard đều có rank tỷ lệ thuận với giá trị của khách hàng.\n",
        "\n",
        "Trường hợp này ta sẽ phải điều chỉnh lại các biến sao cho đồng biến với giá trị của rank để phản ánh đúng rank càng cao thì khách hàng càng VIP. Nhận thấy rằng biến Recency có quan hệ ngược chiều vì khách hàng càng lâu mua hàng (tương ứng với Recency lớn) thì xếp hạng khách hàng càng thấp. Do đó ta sẽ cần phải đổi dấu sang âm để rank của biến tỷ lệ thuận với rank của khách hàng.\n",
        " \n",
        "Nếu không để ý tới yếu tố đồng biến thì có thể bạn sẽ tạo ra những mô hình kém chất lượng. Khi đó hậu quả cũng siêu to khổng lồ lắm.\n",
        "\n",
        "## II. Thực hành xây dựng mô hình RFM\n",
        "\n",
        "Trước tiên để xây dựng mô hình RFM chúng ta cần thu thập bảng dữ liệu các đơn hàng với những trường dữ liệu như sau:\n",
        "\n",
        "* CustomerID: Giống như CMND, CustomerID giúp định danh khách hàng đó là ai? \n",
        "* OrderDate: Ngày đặt hàng. Từ ngày đặt hàng ta sẽ biết được ngày đặt hàng gần nhất của mỗi khách hàng để từ đó suy ra Recency.\n",
        "* OrderID: Là trường key của bảng giúp xác định một đơn hàng. Đếm số lượng OrderID ta sẽ suy ra số Frequency.\n",
        "* Amount: Gía trị đơn hàng. Tổng giá trị đơn hàng theo CustomerID sẽ chính bằng Monetary.\n",
        "\n",
        "Chúng ta sẽ lần lượt đi qua các bước:\n",
        "\n",
        "**Bước 1:** Thu thập dữ liệu đơn hàng."
      ]
    },
    {
      "cell_type": "code",
      "metadata": {
        "id": "p0oNyzmwUkEU",
        "colab_type": "code",
        "colab": {},
        "outputId": "953343ff-2df7-404b-e215-9b16260ef1cf"
      },
      "source": [
        "import pandas as pd\n",
        "import pyodbc\n",
        " \n",
        "server = \"{ADR-AI\\SQLEXPRESS}\"\n",
        "db = \"{temp_fc}\"\n",
        "con = pyodbc.connect('DRIVER={SQL Server};SERVER=' + server + ';DATABASE=' + db)\n",
        "query = \"SELECT PHONE_DELIVERY CustomerID, ORDER_DATE OrderDate, ORDER_CODE OrderID, AVG(CONVERT(float, P_TOTALORDERAMOUNT)) Amount from [temp_fc].[dbo].[TMP_FCKB_v2] \\\n",
        "WHERE PHONE_DELIVERY IS NOT NULL \\\n",
        "GROUP BY PHONE_DELIVERY, ORDER_DATE, ORDER_CODE\"\n",
        "df = pd.read_sql(query, con)\n",
        "df.head()"
      ],
      "execution_count": 0,
      "outputs": [
        {
          "output_type": "execute_result",
          "data": {
            "text/html": [
              "<div>\n",
              "<style scoped>\n",
              "    .dataframe tbody tr th:only-of-type {\n",
              "        vertical-align: middle;\n",
              "    }\n",
              "\n",
              "    .dataframe tbody tr th {\n",
              "        vertical-align: top;\n",
              "    }\n",
              "\n",
              "    .dataframe thead th {\n",
              "        text-align: right;\n",
              "    }\n",
              "</style>\n",
              "<table border=\"1\" class=\"dataframe\">\n",
              "  <thead>\n",
              "    <tr style=\"text-align: right;\">\n",
              "      <th></th>\n",
              "      <th>CustomerID</th>\n",
              "      <th>OrderDate</th>\n",
              "      <th>OrderID</th>\n",
              "      <th>Amount</th>\n",
              "    </tr>\n",
              "  </thead>\n",
              "  <tbody>\n",
              "    <tr>\n",
              "      <th>0</th>\n",
              "      <td>02633831916</td>\n",
              "      <td>2019-07-08 16:15:56</td>\n",
              "      <td>9071870320</td>\n",
              "      <td>6249000.0</td>\n",
              "    </tr>\n",
              "    <tr>\n",
              "      <th>1</th>\n",
              "      <td>02862848282</td>\n",
              "      <td>2019-07-26 14:45:04</td>\n",
              "      <td>9079330350</td>\n",
              "      <td>816200.0</td>\n",
              "    </tr>\n",
              "    <tr>\n",
              "      <th>2</th>\n",
              "      <td>0703381256</td>\n",
              "      <td>2019-09-28 22:48:51</td>\n",
              "      <td>9097139740</td>\n",
              "      <td>77000.0</td>\n",
              "    </tr>\n",
              "    <tr>\n",
              "      <th>3</th>\n",
              "      <td>0838311222</td>\n",
              "      <td>2019-07-30 08:32:03</td>\n",
              "      <td>9077318920</td>\n",
              "      <td>997000.0</td>\n",
              "    </tr>\n",
              "    <tr>\n",
              "      <th>4</th>\n",
              "      <td>0866063976</td>\n",
              "      <td>2019-08-27 22:30:27</td>\n",
              "      <td>9089450570</td>\n",
              "      <td>380700.0</td>\n",
              "    </tr>\n",
              "  </tbody>\n",
              "</table>\n",
              "</div>"
            ],
            "text/plain": [
              "     CustomerID            OrderDate     OrderID     Amount\n",
              "0   02633831916  2019-07-08 16:15:56  9071870320  6249000.0\n",
              "1   02862848282  2019-07-26 14:45:04  9079330350   816200.0\n",
              "2    0703381256  2019-09-28 22:48:51  9097139740    77000.0\n",
              "3    0838311222  2019-07-30 08:32:03  9077318920   997000.0\n",
              "4    0866063976  2019-08-27 22:30:27  9089450570   380700.0"
            ]
          },
          "metadata": {
            "tags": []
          },
          "execution_count": 3
        }
      ]
    },
    {
      "cell_type": "markdown",
      "metadata": {
        "id": "WMNcVov5UkEn",
        "colab_type": "text"
      },
      "source": [
        "**Bước 2 :** Tính các giá trị Recency, Frequency và Monetary"
      ]
    },
    {
      "cell_type": "code",
      "metadata": {
        "id": "US8q34cdUkEr",
        "colab_type": "code",
        "colab": {},
        "outputId": "6c25a760-11a6-4543-e3cb-0165b282328b"
      },
      "source": [
        "# 1. Calculate Recency\n",
        "# 1.1. Find the most recent orderDate.\n",
        "\n",
        "dfRecentOrder = pd.pivot_table(data = df, \n",
        "               index = ['CustomerID'],\n",
        "               values = ['OrderDate'],\n",
        "               aggfunc = {'OrderDate':max}\n",
        "              )\n",
        "\n",
        "dfRecentOrder.columns = ['RecentOrderDate']\n",
        "df = pd.merge(df, dfRecentOrder.reset_index(), on = ['CustomerID'])\n",
        "df.head()"
      ],
      "execution_count": 0,
      "outputs": [
        {
          "output_type": "execute_result",
          "data": {
            "text/html": [
              "<div>\n",
              "<style scoped>\n",
              "    .dataframe tbody tr th:only-of-type {\n",
              "        vertical-align: middle;\n",
              "    }\n",
              "\n",
              "    .dataframe tbody tr th {\n",
              "        vertical-align: top;\n",
              "    }\n",
              "\n",
              "    .dataframe thead th {\n",
              "        text-align: right;\n",
              "    }\n",
              "</style>\n",
              "<table border=\"1\" class=\"dataframe\">\n",
              "  <thead>\n",
              "    <tr style=\"text-align: right;\">\n",
              "      <th></th>\n",
              "      <th>CustomerID</th>\n",
              "      <th>OrderDate</th>\n",
              "      <th>OrderID</th>\n",
              "      <th>Amount</th>\n",
              "      <th>RecentOrderDate</th>\n",
              "    </tr>\n",
              "  </thead>\n",
              "  <tbody>\n",
              "    <tr>\n",
              "      <th>0</th>\n",
              "      <td>02633831916</td>\n",
              "      <td>2019-07-08 16:15:56</td>\n",
              "      <td>9071870320</td>\n",
              "      <td>6249000.0</td>\n",
              "      <td>2019-07-08 16:15:56</td>\n",
              "    </tr>\n",
              "    <tr>\n",
              "      <th>1</th>\n",
              "      <td>02862848282</td>\n",
              "      <td>2019-07-26 14:45:04</td>\n",
              "      <td>9079330350</td>\n",
              "      <td>816200.0</td>\n",
              "      <td>2019-07-26 14:45:04</td>\n",
              "    </tr>\n",
              "    <tr>\n",
              "      <th>2</th>\n",
              "      <td>0703381256</td>\n",
              "      <td>2019-09-28 22:48:51</td>\n",
              "      <td>9097139740</td>\n",
              "      <td>77000.0</td>\n",
              "      <td>2019-09-28 22:48:51</td>\n",
              "    </tr>\n",
              "    <tr>\n",
              "      <th>3</th>\n",
              "      <td>0838311222</td>\n",
              "      <td>2019-07-30 08:32:03</td>\n",
              "      <td>9077318920</td>\n",
              "      <td>997000.0</td>\n",
              "      <td>2019-07-30 08:32:03</td>\n",
              "    </tr>\n",
              "    <tr>\n",
              "      <th>4</th>\n",
              "      <td>0866063976</td>\n",
              "      <td>2019-08-27 22:30:27</td>\n",
              "      <td>9089450570</td>\n",
              "      <td>380700.0</td>\n",
              "      <td>2019-08-27 22:30:27</td>\n",
              "    </tr>\n",
              "  </tbody>\n",
              "</table>\n",
              "</div>"
            ],
            "text/plain": [
              "     CustomerID            OrderDate     OrderID     Amount  \\\n",
              "0   02633831916  2019-07-08 16:15:56  9071870320  6249000.0   \n",
              "1   02862848282  2019-07-26 14:45:04  9079330350   816200.0   \n",
              "2    0703381256  2019-09-28 22:48:51  9097139740    77000.0   \n",
              "3    0838311222  2019-07-30 08:32:03  9077318920   997000.0   \n",
              "4    0866063976  2019-08-27 22:30:27  9089450570   380700.0   \n",
              "\n",
              "       RecentOrderDate  \n",
              "0  2019-07-08 16:15:56  \n",
              "1  2019-07-26 14:45:04  \n",
              "2  2019-09-28 22:48:51  \n",
              "3  2019-07-30 08:32:03  \n",
              "4  2019-08-27 22:30:27  "
            ]
          },
          "metadata": {
            "tags": []
          },
          "execution_count": 103
        }
      ]
    },
    {
      "cell_type": "code",
      "metadata": {
        "id": "dx3tFtaaUkE2",
        "colab_type": "code",
        "colab": {},
        "outputId": "905e4a9d-ae91-47a9-83cc-ea4cf3fbef13"
      },
      "source": [
        "from datetime import datetime\n",
        "\n",
        "df['RecentOrderDate'] = df['RecentOrderDate'].apply(lambda x: datetime.strptime(x, '%Y-%m-%d %H:%M:%S'))\n",
        "df['Recency'] = df['RecentOrderDate'].apply(lambda x: (datetime.now() - x).days)\n",
        "df.head()"
      ],
      "execution_count": 0,
      "outputs": [
        {
          "output_type": "execute_result",
          "data": {
            "text/html": [
              "<div>\n",
              "<style scoped>\n",
              "    .dataframe tbody tr th:only-of-type {\n",
              "        vertical-align: middle;\n",
              "    }\n",
              "\n",
              "    .dataframe tbody tr th {\n",
              "        vertical-align: top;\n",
              "    }\n",
              "\n",
              "    .dataframe thead th {\n",
              "        text-align: right;\n",
              "    }\n",
              "</style>\n",
              "<table border=\"1\" class=\"dataframe\">\n",
              "  <thead>\n",
              "    <tr style=\"text-align: right;\">\n",
              "      <th></th>\n",
              "      <th>CustomerID</th>\n",
              "      <th>OrderDate</th>\n",
              "      <th>OrderID</th>\n",
              "      <th>Amount</th>\n",
              "      <th>RecentOrderDate</th>\n",
              "      <th>Recency</th>\n",
              "    </tr>\n",
              "  </thead>\n",
              "  <tbody>\n",
              "    <tr>\n",
              "      <th>0</th>\n",
              "      <td>02633831916</td>\n",
              "      <td>2019-07-08 16:15:56</td>\n",
              "      <td>9071870320</td>\n",
              "      <td>6249000.0</td>\n",
              "      <td>2019-07-08 16:15:56</td>\n",
              "      <td>121</td>\n",
              "    </tr>\n",
              "    <tr>\n",
              "      <th>1</th>\n",
              "      <td>02862848282</td>\n",
              "      <td>2019-07-26 14:45:04</td>\n",
              "      <td>9079330350</td>\n",
              "      <td>816200.0</td>\n",
              "      <td>2019-07-26 14:45:04</td>\n",
              "      <td>103</td>\n",
              "    </tr>\n",
              "    <tr>\n",
              "      <th>2</th>\n",
              "      <td>0703381256</td>\n",
              "      <td>2019-09-28 22:48:51</td>\n",
              "      <td>9097139740</td>\n",
              "      <td>77000.0</td>\n",
              "      <td>2019-09-28 22:48:51</td>\n",
              "      <td>38</td>\n",
              "    </tr>\n",
              "    <tr>\n",
              "      <th>3</th>\n",
              "      <td>0838311222</td>\n",
              "      <td>2019-07-30 08:32:03</td>\n",
              "      <td>9077318920</td>\n",
              "      <td>997000.0</td>\n",
              "      <td>2019-07-30 08:32:03</td>\n",
              "      <td>99</td>\n",
              "    </tr>\n",
              "    <tr>\n",
              "      <th>4</th>\n",
              "      <td>0866063976</td>\n",
              "      <td>2019-08-27 22:30:27</td>\n",
              "      <td>9089450570</td>\n",
              "      <td>380700.0</td>\n",
              "      <td>2019-08-27 22:30:27</td>\n",
              "      <td>70</td>\n",
              "    </tr>\n",
              "  </tbody>\n",
              "</table>\n",
              "</div>"
            ],
            "text/plain": [
              "     CustomerID            OrderDate     OrderID     Amount  \\\n",
              "0   02633831916  2019-07-08 16:15:56  9071870320  6249000.0   \n",
              "1   02862848282  2019-07-26 14:45:04  9079330350   816200.0   \n",
              "2    0703381256  2019-09-28 22:48:51  9097139740    77000.0   \n",
              "3    0838311222  2019-07-30 08:32:03  9077318920   997000.0   \n",
              "4    0866063976  2019-08-27 22:30:27  9089450570   380700.0   \n",
              "\n",
              "      RecentOrderDate  Recency  \n",
              "0 2019-07-08 16:15:56      121  \n",
              "1 2019-07-26 14:45:04      103  \n",
              "2 2019-09-28 22:48:51       38  \n",
              "3 2019-07-30 08:32:03       99  \n",
              "4 2019-08-27 22:30:27       70  "
            ]
          },
          "metadata": {
            "tags": []
          },
          "execution_count": 104
        }
      ]
    },
    {
      "cell_type": "markdown",
      "metadata": {
        "id": "HL3I211RUkFB",
        "colab_type": "text"
      },
      "source": [
        "Do số ngày gần nhất kể từ lần mua hàng cuối cùng càng cao thì mức độ active của khách hàng càng thấp. Do đó giá trị này càng nhỏ thì khách hàng đó càng có thứ hạng cao. Chính vì vậy ta cần đổi dấu của Recency để giá trị của biến đồng biến với rank của khách hàng."
      ]
    },
    {
      "cell_type": "code",
      "metadata": {
        "id": "FDti2kSoUkFE",
        "colab_type": "code",
        "colab": {}
      },
      "source": [
        "# Đổi dấu recency\n",
        "df['Recency'] = - df['Recency']"
      ],
      "execution_count": 0,
      "outputs": []
    },
    {
      "cell_type": "code",
      "metadata": {
        "id": "NcDbZId7UkFO",
        "colab_type": "code",
        "colab": {},
        "outputId": "155fd808-9649-46da-ea4f-805dc0ae1dc6"
      },
      "source": [
        "# 2. Calculate Frequency\n",
        "dfFrequency = df.groupby('CustomerID').OrderID.nunique().to_frame()\n",
        "dfFrequency.columns = ['Frequency']\n",
        "df = pd.merge(df, dfFrequency.reset_index(), on = 'CustomerID')\n",
        "df.head()"
      ],
      "execution_count": 0,
      "outputs": [
        {
          "output_type": "execute_result",
          "data": {
            "text/html": [
              "<div>\n",
              "<style scoped>\n",
              "    .dataframe tbody tr th:only-of-type {\n",
              "        vertical-align: middle;\n",
              "    }\n",
              "\n",
              "    .dataframe tbody tr th {\n",
              "        vertical-align: top;\n",
              "    }\n",
              "\n",
              "    .dataframe thead th {\n",
              "        text-align: right;\n",
              "    }\n",
              "</style>\n",
              "<table border=\"1\" class=\"dataframe\">\n",
              "  <thead>\n",
              "    <tr style=\"text-align: right;\">\n",
              "      <th></th>\n",
              "      <th>CustomerID</th>\n",
              "      <th>OrderDate</th>\n",
              "      <th>OrderID</th>\n",
              "      <th>Amount</th>\n",
              "      <th>RecentOrderDate</th>\n",
              "      <th>Recency</th>\n",
              "      <th>Frequency</th>\n",
              "    </tr>\n",
              "  </thead>\n",
              "  <tbody>\n",
              "    <tr>\n",
              "      <th>0</th>\n",
              "      <td>02633831916</td>\n",
              "      <td>2019-07-08 16:15:56</td>\n",
              "      <td>9071870320</td>\n",
              "      <td>6249000.0</td>\n",
              "      <td>2019-07-08 16:15:56</td>\n",
              "      <td>121</td>\n",
              "      <td>1</td>\n",
              "    </tr>\n",
              "    <tr>\n",
              "      <th>1</th>\n",
              "      <td>02862848282</td>\n",
              "      <td>2019-07-26 14:45:04</td>\n",
              "      <td>9079330350</td>\n",
              "      <td>816200.0</td>\n",
              "      <td>2019-07-26 14:45:04</td>\n",
              "      <td>103</td>\n",
              "      <td>1</td>\n",
              "    </tr>\n",
              "    <tr>\n",
              "      <th>2</th>\n",
              "      <td>0703381256</td>\n",
              "      <td>2019-09-28 22:48:51</td>\n",
              "      <td>9097139740</td>\n",
              "      <td>77000.0</td>\n",
              "      <td>2019-09-28 22:48:51</td>\n",
              "      <td>38</td>\n",
              "      <td>1</td>\n",
              "    </tr>\n",
              "    <tr>\n",
              "      <th>3</th>\n",
              "      <td>0838311222</td>\n",
              "      <td>2019-07-30 08:32:03</td>\n",
              "      <td>9077318920</td>\n",
              "      <td>997000.0</td>\n",
              "      <td>2019-07-30 08:32:03</td>\n",
              "      <td>99</td>\n",
              "      <td>1</td>\n",
              "    </tr>\n",
              "    <tr>\n",
              "      <th>4</th>\n",
              "      <td>0866063976</td>\n",
              "      <td>2019-08-27 22:30:27</td>\n",
              "      <td>9089450570</td>\n",
              "      <td>380700.0</td>\n",
              "      <td>2019-08-27 22:30:27</td>\n",
              "      <td>70</td>\n",
              "      <td>1</td>\n",
              "    </tr>\n",
              "  </tbody>\n",
              "</table>\n",
              "</div>"
            ],
            "text/plain": [
              "     CustomerID            OrderDate     OrderID     Amount  \\\n",
              "0   02633831916  2019-07-08 16:15:56  9071870320  6249000.0   \n",
              "1   02862848282  2019-07-26 14:45:04  9079330350   816200.0   \n",
              "2    0703381256  2019-09-28 22:48:51  9097139740    77000.0   \n",
              "3    0838311222  2019-07-30 08:32:03  9077318920   997000.0   \n",
              "4    0866063976  2019-08-27 22:30:27  9089450570   380700.0   \n",
              "\n",
              "      RecentOrderDate  Recency  Frequency  \n",
              "0 2019-07-08 16:15:56      121          1  \n",
              "1 2019-07-26 14:45:04      103          1  \n",
              "2 2019-09-28 22:48:51       38          1  \n",
              "3 2019-07-30 08:32:03       99          1  \n",
              "4 2019-08-27 22:30:27       70          1  "
            ]
          },
          "metadata": {
            "tags": []
          },
          "execution_count": 105
        }
      ]
    },
    {
      "cell_type": "code",
      "metadata": {
        "id": "etxNKwUTUkFZ",
        "colab_type": "code",
        "colab": {},
        "outputId": "6818c1bf-3e29-4555-9b15-3a3bb23d3241"
      },
      "source": [
        "# 3. Calculate Monetary\n",
        "dfMonetary = df.groupby('CustomerID').Amount.sum().to_frame()\n",
        "dfMonetary.columns = ['Monetary']\n",
        "df = pd.merge(df, dfMonetary.reset_index(), on = 'CustomerID')\n",
        "df.head()"
      ],
      "execution_count": 0,
      "outputs": [
        {
          "output_type": "execute_result",
          "data": {
            "text/html": [
              "<div>\n",
              "<style scoped>\n",
              "    .dataframe tbody tr th:only-of-type {\n",
              "        vertical-align: middle;\n",
              "    }\n",
              "\n",
              "    .dataframe tbody tr th {\n",
              "        vertical-align: top;\n",
              "    }\n",
              "\n",
              "    .dataframe thead th {\n",
              "        text-align: right;\n",
              "    }\n",
              "</style>\n",
              "<table border=\"1\" class=\"dataframe\">\n",
              "  <thead>\n",
              "    <tr style=\"text-align: right;\">\n",
              "      <th></th>\n",
              "      <th>CustomerID</th>\n",
              "      <th>OrderDate</th>\n",
              "      <th>OrderID</th>\n",
              "      <th>Amount</th>\n",
              "      <th>RecentOrderDate</th>\n",
              "      <th>Recency</th>\n",
              "      <th>Frequency</th>\n",
              "      <th>Monetary</th>\n",
              "    </tr>\n",
              "  </thead>\n",
              "  <tbody>\n",
              "    <tr>\n",
              "      <th>0</th>\n",
              "      <td>02633831916</td>\n",
              "      <td>2019-07-08 16:15:56</td>\n",
              "      <td>9071870320</td>\n",
              "      <td>6249000.0</td>\n",
              "      <td>2019-07-08 16:15:56</td>\n",
              "      <td>121</td>\n",
              "      <td>1</td>\n",
              "      <td>6249000.0</td>\n",
              "    </tr>\n",
              "    <tr>\n",
              "      <th>1</th>\n",
              "      <td>02862848282</td>\n",
              "      <td>2019-07-26 14:45:04</td>\n",
              "      <td>9079330350</td>\n",
              "      <td>816200.0</td>\n",
              "      <td>2019-07-26 14:45:04</td>\n",
              "      <td>103</td>\n",
              "      <td>1</td>\n",
              "      <td>816200.0</td>\n",
              "    </tr>\n",
              "    <tr>\n",
              "      <th>2</th>\n",
              "      <td>0703381256</td>\n",
              "      <td>2019-09-28 22:48:51</td>\n",
              "      <td>9097139740</td>\n",
              "      <td>77000.0</td>\n",
              "      <td>2019-09-28 22:48:51</td>\n",
              "      <td>38</td>\n",
              "      <td>1</td>\n",
              "      <td>77000.0</td>\n",
              "    </tr>\n",
              "    <tr>\n",
              "      <th>3</th>\n",
              "      <td>0838311222</td>\n",
              "      <td>2019-07-30 08:32:03</td>\n",
              "      <td>9077318920</td>\n",
              "      <td>997000.0</td>\n",
              "      <td>2019-07-30 08:32:03</td>\n",
              "      <td>99</td>\n",
              "      <td>1</td>\n",
              "      <td>997000.0</td>\n",
              "    </tr>\n",
              "    <tr>\n",
              "      <th>4</th>\n",
              "      <td>0866063976</td>\n",
              "      <td>2019-08-27 22:30:27</td>\n",
              "      <td>9089450570</td>\n",
              "      <td>380700.0</td>\n",
              "      <td>2019-08-27 22:30:27</td>\n",
              "      <td>70</td>\n",
              "      <td>1</td>\n",
              "      <td>380700.0</td>\n",
              "    </tr>\n",
              "  </tbody>\n",
              "</table>\n",
              "</div>"
            ],
            "text/plain": [
              "     CustomerID            OrderDate     OrderID     Amount  \\\n",
              "0   02633831916  2019-07-08 16:15:56  9071870320  6249000.0   \n",
              "1   02862848282  2019-07-26 14:45:04  9079330350   816200.0   \n",
              "2    0703381256  2019-09-28 22:48:51  9097139740    77000.0   \n",
              "3    0838311222  2019-07-30 08:32:03  9077318920   997000.0   \n",
              "4    0866063976  2019-08-27 22:30:27  9089450570   380700.0   \n",
              "\n",
              "      RecentOrderDate  Recency  Frequency   Monetary  \n",
              "0 2019-07-08 16:15:56      121          1  6249000.0  \n",
              "1 2019-07-26 14:45:04      103          1   816200.0  \n",
              "2 2019-09-28 22:48:51       38          1    77000.0  \n",
              "3 2019-07-30 08:32:03       99          1   997000.0  \n",
              "4 2019-08-27 22:30:27       70          1   380700.0  "
            ]
          },
          "metadata": {
            "tags": []
          },
          "execution_count": 109
        }
      ]
    },
    {
      "cell_type": "markdown",
      "metadata": {
        "id": "M9eSszJ9UkFj",
        "colab_type": "text"
      },
      "source": [
        "**Bước 3:** Mapping giá trị các trường Recency, Frequency, Monetary với rank tương ứng trong ngưỡng ranks là 10."
      ]
    },
    {
      "cell_type": "code",
      "metadata": {
        "id": "_YXU8z4OUkFm",
        "colab_type": "code",
        "colab": {}
      },
      "source": [
        "orderFrequencies = df['Frequency'].rank(method='first')\n",
        "df['rFrequency'] = pd.qcut(orderFrequencies, 10, labels = False)"
      ],
      "execution_count": 0,
      "outputs": []
    },
    {
      "cell_type": "code",
      "metadata": {
        "id": "_uaZKEMiUkFx",
        "colab_type": "code",
        "colab": {},
        "outputId": "4e822a84-571e-4231-bddb-b101f1c25059"
      },
      "source": [
        "df[['rRecency', 'rMonetary']] = df[['Recency', 'Monetary']].apply(lambda x: pd.qcut(x, 10, labels = False))\n",
        "df['rank'] = (df['rFrequency'] + df['rRecency'] + df['rMonetary'])/3\n",
        "df['FinalRank'] = df['rank'].apply(int)\n",
        "df.head()"
      ],
      "execution_count": 0,
      "outputs": [
        {
          "output_type": "execute_result",
          "data": {
            "text/html": [
              "<div>\n",
              "<style scoped>\n",
              "    .dataframe tbody tr th:only-of-type {\n",
              "        vertical-align: middle;\n",
              "    }\n",
              "\n",
              "    .dataframe tbody tr th {\n",
              "        vertical-align: top;\n",
              "    }\n",
              "\n",
              "    .dataframe thead th {\n",
              "        text-align: right;\n",
              "    }\n",
              "</style>\n",
              "<table border=\"1\" class=\"dataframe\">\n",
              "  <thead>\n",
              "    <tr style=\"text-align: right;\">\n",
              "      <th></th>\n",
              "      <th>CustomerID</th>\n",
              "      <th>OrderDate</th>\n",
              "      <th>OrderID</th>\n",
              "      <th>Amount</th>\n",
              "      <th>RecentOrderDate</th>\n",
              "      <th>Recency</th>\n",
              "      <th>Frequency</th>\n",
              "      <th>Monetary</th>\n",
              "      <th>rFrequency</th>\n",
              "      <th>rRecency</th>\n",
              "      <th>rMonetary</th>\n",
              "      <th>FinalRank</th>\n",
              "      <th>rank</th>\n",
              "    </tr>\n",
              "  </thead>\n",
              "  <tbody>\n",
              "    <tr>\n",
              "      <th>0</th>\n",
              "      <td>02633831916</td>\n",
              "      <td>2019-07-08 16:15:56</td>\n",
              "      <td>9071870320</td>\n",
              "      <td>6249000.0</td>\n",
              "      <td>2019-07-08 16:15:56</td>\n",
              "      <td>-121</td>\n",
              "      <td>1</td>\n",
              "      <td>6249000.0</td>\n",
              "      <td>0</td>\n",
              "      <td>9</td>\n",
              "      <td>7</td>\n",
              "      <td>5</td>\n",
              "      <td>5.333333</td>\n",
              "    </tr>\n",
              "    <tr>\n",
              "      <th>1</th>\n",
              "      <td>02862848282</td>\n",
              "      <td>2019-07-26 14:45:04</td>\n",
              "      <td>9079330350</td>\n",
              "      <td>816200.0</td>\n",
              "      <td>2019-07-26 14:45:04</td>\n",
              "      <td>-103</td>\n",
              "      <td>1</td>\n",
              "      <td>816200.0</td>\n",
              "      <td>0</td>\n",
              "      <td>8</td>\n",
              "      <td>3</td>\n",
              "      <td>3</td>\n",
              "      <td>3.666667</td>\n",
              "    </tr>\n",
              "    <tr>\n",
              "      <th>2</th>\n",
              "      <td>0703381256</td>\n",
              "      <td>2019-09-28 22:48:51</td>\n",
              "      <td>9097139740</td>\n",
              "      <td>77000.0</td>\n",
              "      <td>2019-09-28 22:48:51</td>\n",
              "      <td>-38</td>\n",
              "      <td>1</td>\n",
              "      <td>77000.0</td>\n",
              "      <td>0</td>\n",
              "      <td>4</td>\n",
              "      <td>0</td>\n",
              "      <td>1</td>\n",
              "      <td>1.333333</td>\n",
              "    </tr>\n",
              "    <tr>\n",
              "      <th>3</th>\n",
              "      <td>0838311222</td>\n",
              "      <td>2019-07-30 08:32:03</td>\n",
              "      <td>9077318920</td>\n",
              "      <td>997000.0</td>\n",
              "      <td>2019-07-30 08:32:03</td>\n",
              "      <td>-99</td>\n",
              "      <td>1</td>\n",
              "      <td>997000.0</td>\n",
              "      <td>0</td>\n",
              "      <td>8</td>\n",
              "      <td>3</td>\n",
              "      <td>3</td>\n",
              "      <td>3.666667</td>\n",
              "    </tr>\n",
              "    <tr>\n",
              "      <th>4</th>\n",
              "      <td>0866063976</td>\n",
              "      <td>2019-08-27 22:30:27</td>\n",
              "      <td>9089450570</td>\n",
              "      <td>380700.0</td>\n",
              "      <td>2019-08-27 22:30:27</td>\n",
              "      <td>-70</td>\n",
              "      <td>1</td>\n",
              "      <td>380700.0</td>\n",
              "      <td>0</td>\n",
              "      <td>6</td>\n",
              "      <td>1</td>\n",
              "      <td>2</td>\n",
              "      <td>2.333333</td>\n",
              "    </tr>\n",
              "  </tbody>\n",
              "</table>\n",
              "</div>"
            ],
            "text/plain": [
              "     CustomerID            OrderDate     OrderID     Amount  \\\n",
              "0   02633831916  2019-07-08 16:15:56  9071870320  6249000.0   \n",
              "1   02862848282  2019-07-26 14:45:04  9079330350   816200.0   \n",
              "2    0703381256  2019-09-28 22:48:51  9097139740    77000.0   \n",
              "3    0838311222  2019-07-30 08:32:03  9077318920   997000.0   \n",
              "4    0866063976  2019-08-27 22:30:27  9089450570   380700.0   \n",
              "\n",
              "      RecentOrderDate  Recency  Frequency   Monetary  rFrequency  rRecency  \\\n",
              "0 2019-07-08 16:15:56     -121          1  6249000.0           0         9   \n",
              "1 2019-07-26 14:45:04     -103          1   816200.0           0         8   \n",
              "2 2019-09-28 22:48:51      -38          1    77000.0           0         4   \n",
              "3 2019-07-30 08:32:03      -99          1   997000.0           0         8   \n",
              "4 2019-08-27 22:30:27      -70          1   380700.0           0         6   \n",
              "\n",
              "   rMonetary  FinalRank      rank  \n",
              "0          7          5  5.333333  \n",
              "1          3          3  3.666667  \n",
              "2          0          1  1.333333  \n",
              "3          3          3  3.666667  \n",
              "4          1          2  2.333333  "
            ]
          },
          "metadata": {
            "tags": []
          },
          "execution_count": 138
        }
      ]
    },
    {
      "cell_type": "markdown",
      "metadata": {
        "id": "wSeewG3fUkF8",
        "colab_type": "text"
      },
      "source": [
        "Như vậy chúng ta đã tính xong rank cho từng khách hàng. Hãy cùng xem phân phối điểm rank của khách hàng như thế nào thông qua biểu đồ histogram với số lượng bins = 10."
      ]
    },
    {
      "cell_type": "code",
      "metadata": {
        "id": "X2WnLti6UkF_",
        "colab_type": "code",
        "colab": {},
        "outputId": "08d01e1b-2aa0-402e-f9c6-d104222f1809"
      },
      "source": [
        "import matplotlib.pyplot as plt\n",
        "\n",
        "df['rank'].plot.hist(bins = 10)\n",
        "plt.show()"
      ],
      "execution_count": 0,
      "outputs": [
        {
          "output_type": "display_data",
          "data": {
            "image/png": "[encoded data removed]",
            "text/plain": [
              "<Figure size 432x288 with 1 Axes>"
            ]
          },
          "metadata": {
            "tags": [],
            "needs_background": "light"
          }
        }
      ]
    },
    {
      "cell_type": "markdown",
      "metadata": {
        "id": "gORdzww-UkGJ",
        "colab_type": "text"
      },
      "source": [
        "Ta nhận thấy biểu đồ có hình dạng phân phối chuẩn. Điều này cho thấy tập khách hàng của công ty đa phần sẽ nằm ở những điểm rank nằm trong khoảng trung bình, chẳng hạn từ 4-6. Với các điểm rank quá cao hoặc quá thấp thì số lượng khách hàng tập trung càng thấp.\n",
        "\n",
        "Dựa vào biểu đồ, ta cũng có thể phân tập khách hàng thành 3 nhóm:\n",
        "\n",
        "* Khách hàng ít tiềm năng - nhãn **Low**: Rank từ [0, 4) \n",
        "* Khách hàng thông thường - **Normal**: Rank từ [4, 7)\n",
        "* Khách hàng VIP - nhãn **VIP**: Rank [7, 9]"
      ]
    },
    {
      "cell_type": "code",
      "metadata": {
        "id": "l1q-iO4XUkGM",
        "colab_type": "code",
        "colab": {}
      },
      "source": [
        "# help(pd.qcut)\n",
        "# df['rank'].min()\n",
        "\n",
        "df['Segment'] = 'Low'\n",
        "df.loc[(df['rank'] < 7) & (df['rank'] >= 4), 'Segment'] = 'Normal'\n",
        "df.loc[df['rank'] >= 7, 'Segment'] = 'VIP'"
      ],
      "execution_count": 0,
      "outputs": []
    },
    {
      "cell_type": "markdown",
      "metadata": {
        "id": "vFoWbBJHUkGW",
        "colab_type": "text"
      },
      "source": [
        "Thống kê số lượng khách hàng theo mỗi Segment."
      ]
    },
    {
      "cell_type": "code",
      "metadata": {
        "id": "zQOiuoUOUkGZ",
        "colab_type": "code",
        "colab": {},
        "outputId": "2730d0cf-1750-484c-c96f-0bc8d890322f"
      },
      "source": [
        "df.groupby('Segment').CustomerID.count().plot.pie(autopct = '%.2f%%', figsize = (8, 8))\n",
        "plt.title('Tỷ lệ số lượng khách hàng theo segment KH')"
      ],
      "execution_count": 0,
      "outputs": [
        {
          "output_type": "execute_result",
          "data": {
            "text/plain": [
              "Text(0.5, 1.0, 'Tỷ lệ số lượng khách hàng theo segment KH')"
            ]
          },
          "metadata": {
            "tags": []
          },
          "execution_count": 200
        },
        {
          "output_type": "display_data",
          "data": {
            "image/png": "[encoded data removed]",
            "text/plain": [
              "<Figure size 576x576 with 1 Axes>"
            ]
          },
          "metadata": {
            "tags": []
          }
        }
      ]
    },
    {
      "cell_type": "markdown",
      "metadata": {
        "id": "dbjC_6JvUkGj",
        "colab_type": "text"
      },
      "source": [
        "Kết quả cho thấy số lượng khách hàng VIP của công ty rất ít. Công ty cần có chính sách thay đổi sản phẩm để bắt kịp thị hiếu thị trường hoặc tăng cường marketing để thu hút khách hàng tiêu dùng nhiều hơn.\n",
        "\n",
        "Tiếp theo chúng ta sẽ visualize biểu đồ theo doanh số, tần suất mua hàng, thời gian quay trở lại của các nhóm khách hàng sau khi đã segment."
      ]
    },
    {
      "cell_type": "code",
      "metadata": {
        "id": "609jVUMKUkGm",
        "colab_type": "code",
        "colab": {},
        "outputId": "d9cf518e-6091-4678-daf9-4f7c513b73d8"
      },
      "source": [
        "df.groupby('Segment').Amount.sum().plot.pie(autopct = '%.2f%%', figsize = (8, 8))\n",
        "plt.title('Tỷ lệ doanh số theo segment KH')"
      ],
      "execution_count": 0,
      "outputs": [
        {
          "output_type": "execute_result",
          "data": {
            "text/plain": [
              "Text(0.5, 1.0, 'Doanh số theo segment KH')"
            ]
          },
          "metadata": {
            "tags": []
          },
          "execution_count": 189
        },
        {
          "output_type": "display_data",
          "data": {
            "image/png": "[encoded data removed]",
            "text/plain": [
              "<Figure size 576x576 with 1 Axes>"
            ]
          },
          "metadata": {
            "tags": []
          }
        }
      ]
    },
    {
      "cell_type": "markdown",
      "metadata": {
        "id": "owRjC3TNUkGv",
        "colab_type": "text"
      },
      "source": [
        "Khách hàng normal lại là khách hàng mang lại doanh số lớn nhất cho công ty, chiến tới gần 80%. Công ty vẫn chưa thể đạt được mục tiêu 20% khách hàng VIP mang lại 80% lợi nhuận."
      ]
    },
    {
      "cell_type": "code",
      "metadata": {
        "id": "TF-s_N52UkGy",
        "colab_type": "code",
        "colab": {},
        "outputId": "f376f378-35b3-4e05-e0d6-22a266e492c7"
      },
      "source": [
        "df.groupby('Segment').Amount.mean().plot.bar(figsize = (6, 8))\n",
        "plt.title('Doanh số theo segment KH')"
      ],
      "execution_count": 0,
      "outputs": [
        {
          "output_type": "execute_result",
          "data": {
            "text/plain": [
              "Text(0.5, 1.0, 'Doanh số theo segment KH')"
            ]
          },
          "metadata": {
            "tags": []
          },
          "execution_count": 194
        },
        {
          "output_type": "display_data",
          "data": {
            "image/png": "[encoded data removed]",
            "text/plain": [
              "<Figure size 432x576 with 1 Axes>"
            ]
          },
          "metadata": {
            "tags": [],
            "needs_background": "light"
          }
        }
      ]
    },
    {
      "cell_type": "markdown",
      "metadata": {
        "id": "V6Iz65paUkG8",
        "colab_type": "text"
      },
      "source": [
        "Trung bình một khách hàng VIP tiêu khoảng 3.5 triệu. Khách hàng thông thường tiêu khoảng 2.9 triệu và khách hàng Thấp tiêu dưới 1 triệu. Chênh lệch tiêu thụ giữa khách hàng thông thường và khách hàng VIP không quá lớn. Trong khi chênh lệch này so với khách hàng ít tiềm năng là rất lớn. Công ty đang chưa có một tập khách hàng thực sự gọi là VIP hẳn. Đừng buồn vì các điều chỉnh về chính sách sản phẩm và chăm sóc khách hàng phù hợp sẽ cải thiện dần các chỉ số này."
      ]
    },
    {
      "cell_type": "code",
      "metadata": {
        "id": "O_GRgtnBUkG_",
        "colab_type": "code",
        "colab": {},
        "outputId": "737f28a2-698a-4419-a97c-b87eddeb521e"
      },
      "source": [
        "df.groupby('Segment').Frequency.mean().plot.bar(figsize = (6, 8))\n",
        "plt.title('Tần suất mua hàng theo segment KH')"
      ],
      "execution_count": 0,
      "outputs": [
        {
          "output_type": "execute_result",
          "data": {
            "text/plain": [
              "Text(0.5, 1.0, 'Tần suất mua hàng theo segment KH')"
            ]
          },
          "metadata": {
            "tags": []
          },
          "execution_count": 196
        },
        {
          "output_type": "display_data",
          "data": {
            "image/png": "[encoded data removed]",
            "text/plain": [
              "<Figure size 432x576 with 1 Axes>"
            ]
          },
          "metadata": {
            "tags": [],
            "needs_background": "light"
          }
        }
      ]
    },
    {
      "cell_type": "markdown",
      "metadata": {
        "id": "7XHtr6zZUkHI",
        "colab_type": "text"
      },
      "source": [
        "Khách hàng thông thường mua nhiều đơn hàng hơn so với các khách hàng VIP. Khách hàng ít tiềm năng mua quá ít đơn hàng."
      ]
    },
    {
      "cell_type": "code",
      "metadata": {
        "id": "YVfKOULZUkHL",
        "colab_type": "code",
        "colab": {},
        "outputId": "1830c68d-14e3-4e67-ab93-305f458ea08c"
      },
      "source": [
        "df.groupby('Segment').Recency.mean().plot.bar(figsize = (6, 8))\n",
        "plt.title('Số ngày mua hàng gần nhất theo segment KH')"
      ],
      "execution_count": 0,
      "outputs": [
        {
          "output_type": "execute_result",
          "data": {
            "text/plain": [
              "Text(0.5, 1.0, 'Số ngày mua hàng gần nhất theo segment KH')"
            ]
          },
          "metadata": {
            "tags": []
          },
          "execution_count": 199
        },
        {
          "output_type": "display_data",
          "data": {
            "image/png": "[encoded data removed]",
            "text/plain": [
              "<Figure size 432x576 with 1 Axes>"
            ]
          },
          "metadata": {
            "tags": [],
            "needs_background": "light"
          }
        }
      ]
    },
    {
      "cell_type": "markdown",
      "metadata": {
        "id": "AkSD0s8CUkHV",
        "colab_type": "text"
      },
      "source": [
        "Khách hàng VIP khi đã mua hàng thì lâu lâu mới mua một lần nữa. Khách VIP thì cũng khó tính phải không nào? Nhưng cũng chứng tỏ rằng sản phẩm chưa đủ hấp dẫn đối với những nhóm khách hàng này để thuyết phục họ quay lại.\n",
        "\n",
        "Kết luận:\n",
        "\n",
        "* Chúng ta cần thay đổi chính sách về sản phẩm để chúng trở nên đa dạng và hấp dẫn khách hàng VIP hơn.\n",
        "* Gia tăng số lượng khách hàng VIP để đảm bảo mục tiêu 20% khách hàng là VIP mang lại 80% doanh số.\n",
        "* Đưa ra các chiến lược chăm sóc và giữ chân khách hàng hiệu quả.\n",
        "\n",
        "## 3. Các biến thể khác của RFM\n",
        "\n",
        "Ngoài ra RFM còn có các biến thể khác dựa trên sự thay đổi thêm bớt các biến trong 2 biến Recency, Frequency và Monetary. Bên dưới là một trong những phương pháp đó:\n",
        "\n",
        "* RFD - Recency, Frequency, Duration (thời gian) là phiên bản sửa đổi của phân tích RFM có thể được sử dụng để phân tích hành vi của người dùng đối với các sản phẩm kinh doanh theo hướng người xem/người đọc/người lướt web.\n",
        "\n",
        "* RFE - Recency, Frequency, Engagement(mức độ cam kết) là phiên bản rộng hơn của phân tích RFD, trong đó cam kết có thể được xác định bao gồm thời lượng truy cập, số trang trên mỗi lượt truy cập hoặc các chiều dữ liệu khác tương tự. Nó có thể được sử dụng để phân tích hành vi người dùng đối với người xem/độc giả/người lướt web theo định hướng của sản phẩm kinh doanh.\n",
        "\n",
        "* RFM-I - Recency, Frequency, Monetary Value – Interactions (Giá trị tiền tệ - Tương tác) là một phiên bản của sửa đổi của RFM để tính toán mức độ truy cập và tần suất tương tác marketing tới khách hàng.\n",
        "\n",
        "* RFMTC - Recency, Frequency, Monetary Value, Time (Thời gian), Churn rate (Tỷ lệ rời bỏ) là một mô hình RFM tăng cường được đề xuất bởi I-Cheng và cộng sự(2009). Mô hình sử dụng chuỗi Bernoulli trong lý thuyết xác suất và tạo ra các công thức tính xác suất khách hàng mua tại chiến dịch marketing hoặc quảng cáo tiếp theo.\n",
        "\n",
        "## 4. Tổng kết\n",
        "\n",
        "Như vậy thông qua bài viết này chúng ta đã nắm được một phương pháp phân khúc khách hàng theo mức độ quan trọng của họ đối với công ty. Thông qua việc phân khúc khách hàng chúng ta có thể biết được trạng thái của công ty đang như thế nào? Cần điều chỉnh những chính sách ra sao để phát triển theo hướng gia tăng tỷ trọng khách hàng VIP. Giữ chân khách hàng quay lại mua sắm thường xuyên hơn và nâng cao giá trị đơn hàng trên mỗi lượt mua sắm.\n",
        "\n",
        "Qua việc theo dõi theo qua thời gian sự dịch chuyển tập khách hàng và các thông số về kinh doanh trên mỗi tập khách hàng BOD cũng sẽ có được nhưng đánh giá tổng quát về tốc độ phát triển của công ty.\n",
        "\n",
        "Ở đây tôi vẫn chưa sử dụng thuật toán K-mean clustering để phân cụm khách hàng. Sử dụng thuật toán này cũng không khó. Trong bài viết khác về phân khúc khách hàng tôi ứng dụng thuật toán này sau."
      ]
    },
    {
      "cell_type": "markdown",
      "metadata": {
        "id": "MvyrBmtXUkHY",
        "colab_type": "text"
      },
      "source": [
        "## 5. Tài liệu tham khảo\n",
        "\n",
        "Và cuối cùng không thể thiếu sau mỗi bài viết của tôi là tài liệu tham khảo.\n",
        "\n",
        "1. [RMF model wikipedia](https://en.wikipedia.org/wiki/RFM_(customer_value))\n",
        "2. [RMF model with σ-scaled hadron masses and couplings for description of heavy-ion collisions below 2A GeV](https://arxiv.org/abs/1902.09016)\n",
        "3. [Using RFM to Identify Your Best Customers](https://www.eightleaves.com/2011/01/using-rfm-to-identify-your-best-customers/)\n",
        "4. [Making Your Database Pay Off Using Recency Frequency and Monetary Analysis](http://www.dbmarketing.com/2010/03/making-your-database-pay-off-using-recency-frequency-and-monetary-analysis/)\n",
        "5. [Series marketing với python - Khôi Nguyễn](https://viblo.asia/p/marketing-voi-python-part-2-phan-khuc-khach-hang-63vKjXXdl2R)"
      ]
    }
  ]
}