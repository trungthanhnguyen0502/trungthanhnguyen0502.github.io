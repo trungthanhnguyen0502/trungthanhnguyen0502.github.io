{
  "nbformat": 4,
  "nbformat_minor": 0,
  "metadata": {
    "colab": {
      "name": "Torchtext_tutorial.ipynb",
      "version": "0.3.2",
      "provenance": [],
      "collapsed_sections": []
    },
    "kernelspec": {
      "name": "python3",
      "display_name": "Python 3"
    },
    "accelerator": "GPU"
  },
  "cells": [
    {
      "cell_type": "markdown",
      "metadata": {
        "id": "FJrGFDmVML1x",
        "colab_type": "text"
      },
      "source": [
        "# 1. Giới thiệu về Torchtext \n",
        "\n",
        "Như chúng ta đã biết, qui trình xây dựng một mô hình trong NLP sẽ đi qua các bước sau:\n",
        "\n",
        "* Đọc dữ liệu văn bản từ ổ cứng.\n",
        "* Tokenize dữ liệu text.\n",
        "* Tạo từ điển mapping word sang index.\n",
        "* Chuyển các câu sang list index.\n",
        "* Padding dữ liệu bằng phần tử 0 để list các index về chung 1 độ dài.\n",
        "* Xác định batch để truyền dữ liệu vào model.\n",
        "\n",
        "Quá trình này đòi hỏi phải thực hiện tiền xử lý dữ liệu nhanh gọn và dễ dàng. Chính vì thế torchtext là thư viện hỗ trợ quá trình tiền xử lý dữ liệu trở nên đơn giản hơn. Đặc biệt là các chức năng tạo batch và loading data lên GPU rất nhanh và tiện ích.\n",
        "\n",
        "Trong ví dụ này chúng ta áp dụng torchtext trong xử lý dữ liệu để huấn luyện model phân loại văn bản. Dữ liệu được lấy tại [practical torchtext data](https://github.com/keitakurita/practical-torchtext/blob/master/data) có nội dung về phân loại thái độ của comment. Dữ liệu này gồm 8 trường trong đó Id để xác định comment, comment_text là nội dung comment, 6 trường còn lại là mục đích của comment theo các loại (toxic: comment độc hại, severe toxic: cực kì độc hại, obscene: tục tĩu, threat: đe dọa, insult: lăng mạ, identity hate: ghét)\n",
        "\n",
        "# 2. Khái quát\n",
        "\n",
        "Hình bên dưới sẽ diễn tả quá trình mà torchtext hoạt động.\n",
        "\n",
        "<img src=\"https://i0.wp.com/mlexplained.com/wp-content/uploads/2018/02/%E3%82%B9%E3%82%AF%E3%83%AA%E3%83%BC%E3%83%B3%E3%82%B7%E3%83%A7%E3%83%83%E3%83%88-2018-02-07-10.32.59.png\" width=\"400px\" height=\"300px\" style=\"display:block; margin-left:auto; margin-right:auto\">\n",
        "\n",
        "**Hình 1**: Qúa trình preprocessing data trên torchtext\n",
        "\n",
        "Ta có thể hình dung torchtext như một preprocessing tool giúp chuyển hóa dữ liệu từ dạng thô nhất từ bất kì các nguồn nào: `txt, csv, json, tsv` để convert chúng sang Dataset.\n",
        "\n",
        "Dataset đơn giản là một khối dữ liệu với nhiều trường được đọc trên RAM để truyển vào model xử lý.\n",
        "\n",
        "Torchtext sẽ truyền những dataset này vào mỗi một vòng lặp (iterator). Trong một vòng lặp chúng ta sẽ thực hiện các biến đổi dữ liệu như: mã hóa số, padding data, tạo batch, và truyền dữ liệu lên GPU. Tóm lại torchtext sẽ thực hiện tất cả các công việc về dữ liệu để đưa chúng vào mạng nơ ron.\n",
        "\n",
        "Trong ví dụ bên dưới chúng ta cùng xem các quá trình dữ liệu hoạt động như thế nào.\n",
        "\n",
        "# 3. Khai báo trường.\n",
        "\n",
        "Khai báo trường nhằm mục đích nói cho dữ liệu biết chúng ta có những trường gì và được tạo ra từ dữ liệu như thế nào. Để khai báo trường chúng ta sử dụng class Field của torchtext. Xem ví dụ sau:"
      ]
    },
    {
      "cell_type": "code",
      "metadata": {
        "id": "Ko6yu_LaMTAo",
        "colab_type": "code",
        "colab": {}
      },
      "source": [
        "from torchtext.data import Field\n",
        "\n",
        "tokenize = lambda x: x.split(' ')\n",
        "TEXT = Field(sequential = True, tokenize = tokenize, lower = True)\n",
        "LABEL = Field(sequential = False, use_vocab = False)\n"
      ],
      "execution_count": 0,
      "outputs": []
    },
    {
      "cell_type": "markdown",
      "metadata": {
        "id": "_m5eLAAARh0m",
        "colab_type": "text"
      },
      "source": [
        "Trong tác vụ phân loại mục đích của comment, chúng ta có 6 nhãn (toxic, severe toxic, obscene, threat, insult, and identity hate).\n",
        "\n",
        "Đầu tiên là trường LABEL. Chúng ta cần giữ nguyên các trường này và mapping chúng vào các số nguyên để tạo thành nhãn cho huấn luyện. Vì các nhãn này là các số nguyên chứ không phải list các index của nhãn nên sequential = False.\n",
        "\n",
        "Tiếp theo TEXT sẽ là đoạn mô tả của sản phẩm. Do chúng là câu văn nên chúng ta phải mã hóa chúng về dạng list, do đó sequential = True. Hàm tokenize cho biết chúng ta tách câu sang token như thế nào. Khi áp dụng hàm x.split('') có nghĩa rằng câu được chia thành các từ đơn. `lower = True` để chuyển chữ hoa thành chữ thường.\n",
        "\n",
        "Bên dưới ta sẽ đọc dữ liệu:"
      ]
    },
    {
      "cell_type": "code",
      "metadata": {
        "id": "_Lj1tR1QVlNy",
        "colab_type": "code",
        "outputId": "5bcd31fe-8b56-4e71-9571-9fed1abb1d2a",
        "colab": {
          "base_uri": "https://localhost:8080/",
          "height": 121
        }
      },
      "source": [
        "from google.colab import drive\n",
        "import os\n",
        "drive.mount('/content/gdrive')\n",
        "path = os.path.join('gdrive/My Drive/data/ADRCorrectSpelling/vietnamse_tone_prediction/vietnamse_tone_prediction')\n",
        "os.chdir(path)"
      ],
      "execution_count": 0,
      "outputs": [
        {
          "output_type": "stream",
          "text": [
            "Go to this URL in a browser: https://accounts.google.com/o/oauth2/auth?client_id=947318989803-6bn6qk8qdgf4n4g3pfee6491hc0brc4i.apps.googleusercontent.com&redirect_uri=urn%3Aietf%3Awg%3Aoauth%3A2.0%3Aoob&scope=email%20https%3A%2F%2Fwww.googleapis.com%2Fauth%2Fdocs.test%20https%3A%2F%2Fwww.googleapis.com%2Fauth%2Fdrive%20https%3A%2F%2Fwww.googleapis.com%2Fauth%2Fdrive.photos.readonly%20https%3A%2F%2Fwww.googleapis.com%2Fauth%2Fpeopleapi.readonly&response_type=code\n",
            "\n",
            "Enter your authorization code:\n",
            "··········\n",
            "Mounted at /content/gdrive\n"
          ],
          "name": "stdout"
        }
      ]
    },
    {
      "cell_type": "code",
      "metadata": {
        "id": "p0Uij89hUvlM",
        "colab_type": "code",
        "outputId": "38d6d251-1eda-42f2-9b19-ceba6b3ecd03",
        "colab": {
          "base_uri": "https://localhost:8080/",
          "height": 242
        }
      },
      "source": [
        "import pandas as pd\n",
        "\n",
        "data = pd.read_csv('practical-torchtext/data/train.csv', header = 0, index_col = 0)\n",
        "print('data.shape: ', data.shape)\n",
        "data.head()"
      ],
      "execution_count": 0,
      "outputs": [
        {
          "output_type": "stream",
          "text": [
            "data.shape:  (25, 7)\n"
          ],
          "name": "stdout"
        },
        {
          "output_type": "execute_result",
          "data": {
            "text/html": [
              "<div>\n",
              "<style scoped>\n",
              "    .dataframe tbody tr th:only-of-type {\n",
              "        vertical-align: middle;\n",
              "    }\n",
              "\n",
              "    .dataframe tbody tr th {\n",
              "        vertical-align: top;\n",
              "    }\n",
              "\n",
              "    .dataframe thead th {\n",
              "        text-align: right;\n",
              "    }\n",
              "</style>\n",
              "<table border=\"1\" class=\"dataframe\">\n",
              "  <thead>\n",
              "    <tr style=\"text-align: right;\">\n",
              "      <th></th>\n",
              "      <th>comment_text</th>\n",
              "      <th>toxic</th>\n",
              "      <th>severe_toxic</th>\n",
              "      <th>obscene</th>\n",
              "      <th>threat</th>\n",
              "      <th>insult</th>\n",
              "      <th>identity_hate</th>\n",
              "    </tr>\n",
              "    <tr>\n",
              "      <th>id</th>\n",
              "      <th></th>\n",
              "      <th></th>\n",
              "      <th></th>\n",
              "      <th></th>\n",
              "      <th></th>\n",
              "      <th></th>\n",
              "      <th></th>\n",
              "    </tr>\n",
              "  </thead>\n",
              "  <tbody>\n",
              "    <tr>\n",
              "      <th>0000997932d777bf</th>\n",
              "      <td>Explanation\\nWhy the edits made under my usern...</td>\n",
              "      <td>0</td>\n",
              "      <td>0</td>\n",
              "      <td>0</td>\n",
              "      <td>0</td>\n",
              "      <td>0</td>\n",
              "      <td>0</td>\n",
              "    </tr>\n",
              "    <tr>\n",
              "      <th>000103f0d9cfb60f</th>\n",
              "      <td>D'aww! He matches this background colour I'm s...</td>\n",
              "      <td>0</td>\n",
              "      <td>0</td>\n",
              "      <td>0</td>\n",
              "      <td>0</td>\n",
              "      <td>0</td>\n",
              "      <td>0</td>\n",
              "    </tr>\n",
              "    <tr>\n",
              "      <th>000113f07ec002fd</th>\n",
              "      <td>Hey man, I'm really not trying to edit war. It...</td>\n",
              "      <td>0</td>\n",
              "      <td>0</td>\n",
              "      <td>0</td>\n",
              "      <td>0</td>\n",
              "      <td>0</td>\n",
              "      <td>0</td>\n",
              "    </tr>\n",
              "    <tr>\n",
              "      <th>0001b41b1c6bb37e</th>\n",
              "      <td>\"\\nMore\\nI can't make any real suggestions on ...</td>\n",
              "      <td>0</td>\n",
              "      <td>0</td>\n",
              "      <td>0</td>\n",
              "      <td>0</td>\n",
              "      <td>0</td>\n",
              "      <td>0</td>\n",
              "    </tr>\n",
              "    <tr>\n",
              "      <th>0001d958c54c6e35</th>\n",
              "      <td>You, sir, are my hero. Any chance you remember...</td>\n",
              "      <td>0</td>\n",
              "      <td>0</td>\n",
              "      <td>0</td>\n",
              "      <td>0</td>\n",
              "      <td>0</td>\n",
              "      <td>0</td>\n",
              "    </tr>\n",
              "  </tbody>\n",
              "</table>\n",
              "</div>"
            ],
            "text/plain": [
              "                                                       comment_text  ...  identity_hate\n",
              "id                                                                   ...               \n",
              "0000997932d777bf  Explanation\\nWhy the edits made under my usern...  ...              0\n",
              "000103f0d9cfb60f  D'aww! He matches this background colour I'm s...  ...              0\n",
              "000113f07ec002fd  Hey man, I'm really not trying to edit war. It...  ...              0\n",
              "0001b41b1c6bb37e  \"\\nMore\\nI can't make any real suggestions on ...  ...              0\n",
              "0001d958c54c6e35  You, sir, are my hero. Any chance you remember...  ...              0\n",
              "\n",
              "[5 rows x 7 columns]"
            ]
          },
          "metadata": {
            "tags": []
          },
          "execution_count": 5
        }
      ]
    },
    {
      "cell_type": "markdown",
      "metadata": {
        "id": "ayzUttMzVnse",
        "colab_type": "text"
      },
      "source": [
        "Thêm vào đó để trong xử lý ngôn ngữ chúng ta có thể áp dụng một số keyword đặc biệt. Khi đó class `Field` sẽ có một số tham số khai báo cho keyword như:\n",
        "\n",
        "* `unk_token`: Token sử dụng cho các keyword không xuất hiện trong từ điển.\n",
        "* `pad_token`: Token đại diện cho các vị trí padding câu.\n",
        "* `init_token`: Đánh dấu bắt dầu câu.\n",
        "* `eos_token`: Đánh dấu kết thúc câu.\n",
        "\n",
        "Ngoài ra trong Field còn một số thuộc tính khác qui định dữ liệu là batch hay là sequence, khai báo độ dài câu được qui định trong thời gian chạy hay từ trước,....\n",
        "\n",
        "Để hiểu thêm về các tham số của Field có thể tham khảo trong [docstring](https://github.com/pytorch/text/blob/c839a7934930819be7e240ea972e4d600966afdc/torchtext/data/field.py#L61) của Field class đã được tác giả diễn giải rất chi tiết.\n",
        "\n",
        "Có thể nói class Field chính là phần quan trọng nhất của torchtext có tác dụng giúp cho việc khởi tạo và xây dựng từ điển dễ dàng hơn.\n",
        "\n",
        "Bên cạnh class Field, pytorch cũng hỗ trợ một vài dạng Field đặc biệt khác phù hợp với từng nhu cầu sử dụng khác nhau:\n",
        "\n",
        "<table class=\"wikitable\" align=\"center\" border=\"1\">\n",
        "<tbody><tr>\n",
        "<td>Dạng Field</td>\n",
        "<td>Mô tả</td>\n",
        "<td>Trường hợp sử dụng</td>\n",
        "<tr>\n",
        "<td>Field</td>\n",
        "<td>Là dạng field thông thường nhất áp dụng trong tiền xử lý dữ liệu</td>\n",
        "<td>Sử dụng cho cả field dạng non-text dạng text trong TH chúng ta không cần map integers ngược lại các từ</td>\n",
        "</tr>\n",
        "<tr>\n",
        "<td>ReversibleField</td>\n",
        "<td>Mở rộng của Field cho phép map ngược lại từ index sang từ</td>\n",
        "<td>Sử dụng cho text field khi ta muốn map ngược lại từ index sang từ</td>\n",
        "<tr>\n",
        "<td>NestedField</td>\n",
        "<td>Một trường biển đổi các văn bản sang tợp hợp nhỏ các Fields</td>\n",
        "<td>Mô hình dựa trên character level</td>\n",
        "</tr>\n",
        "<tr>\n",
        "<td>LabelField</td>\n",
        "<td>Là một field thông thường trả về label cho trường</td>\n",
        "<td>Sử dụng cho các trường Labels trong phân loại văn bản</td>\n",
        "</tr>\n",
        "</tbody>\n",
        "</table>\n",
        "\n",
        "# 3. Tạo tập dataset\n",
        "\n",
        "Các fields sẽ cho ta biết chúng ta cần làm gì để biến đổi dữ liệu raw thành các trường. Còn dataset sẽ cho ta biết các trường dữ liệu được sử dụng như thế nào để huấn luyện mô hình.\n",
        "\n",
        "Có rất nhiều các dạng Dataset khác nhau trong torchtext được sử dụng tương thích với các định dạng dữ liệu khác nhau. Chẳng hạn tsv/txt/csv file sẽ tương thích với class TabularDataset. Bên dưới chúng ta sẽ đọc dữ liệu từ csv file sử dụng TabularDataset."
      ]
    },
    {
      "cell_type": "code",
      "metadata": {
        "id": "fMQJekp_Vmsa",
        "colab_type": "code",
        "colab": {}
      },
      "source": [
        "from torchtext.data import TabularDataset\n",
        "\n",
        "# Khai báo thông tin fields thông qua các cặp (\"field name\", Field)\n",
        "tv_datafields = [(\"id\", None), # chúng ta không cần id nên gán trị của nó là None\n",
        "                 (\"comment_text\", TEXT), \n",
        "                 (\"toxic\", LABEL),\n",
        "                 (\"severe_toxic\", LABEL), \n",
        "                 (\"threat\", LABEL),\n",
        "                 (\"obscene\", LABEL), \n",
        "                 (\"insult\", LABEL),\n",
        "                 (\"identity_hate\", LABEL)]\n",
        "\n",
        "# Tạo dataset cho train và validation\n",
        "train, valid = TabularDataset.splits(\n",
        "               path=\"practical-torchtext/data\", # root directory nơi chứa dữ liệu\n",
        "               train='train.csv', validation=\"valid.csv\",\n",
        "               format='csv',\n",
        "               skip_header=True, # khai báo header\n",
        "               fields=tv_datafields # list các từ tương ứng với các Field được sử dụng để tokenize\n",
        "              ) \n",
        "\n",
        "# Khai báo test fields\n",
        "test_datafields = [(\"id\", None), \n",
        "                  (\"comment_text\", TEXT)]\n",
        "\n",
        "# Tạo dataset cho test\n",
        "test = TabularDataset(\n",
        "           path=\"practical-torchtext/data/test.csv\", \n",
        "           format='csv',\n",
        "           skip_header=True, \n",
        "           fields=test_datafields)"
      ],
      "execution_count": 0,
      "outputs": []
    },
    {
      "cell_type": "markdown",
      "metadata": {
        "id": "T80l_YLKftr2",
        "colab_type": "text"
      },
      "source": [
        "Chúng ta có 2 dạng biến đổi chính là LABEL và TEXT. Trong đó LABEL dành cho những biến category ở output và TEXT dành cho những biến dạng text cần được tokenize thành list các từ.\n",
        "\n",
        "Kiểm tra kết quả được khởi tạo từ TabularDataset."
      ]
    },
    {
      "cell_type": "code",
      "metadata": {
        "id": "XFFgPZX7ft6O",
        "colab_type": "code",
        "outputId": "4c826a86-8a17-4b65-df63-812541bf5af4",
        "colab": {
          "base_uri": "https://localhost:8080/",
          "height": 87
        }
      },
      "source": [
        "print('train[0]: ', train[0])\n",
        "print('train[0].__dict__.keys(): ', train[0].__dict__.keys())\n",
        "print('train[0].__dict__: ', train[0].__dict__)"
      ],
      "execution_count": 0,
      "outputs": [
        {
          "output_type": "stream",
          "text": [
            "train[0]:  <torchtext.data.example.Example object at 0x7fef75b8c0b8>\n",
            "train[0].__dict__.keys():  dict_keys(['comment_text', 'toxic', 'severe_toxic', 'threat', 'obscene', 'insult', 'identity_hate'])\n",
            "train[0].__dict__:  {'comment_text': ['explanation\\nwhy', 'the', 'edits', 'made', 'under', 'my', 'username', 'hardcore', 'metallica', 'fan', 'were', 'reverted?', 'they', \"weren't\", 'vandalisms,', 'just', 'closure', 'on', 'some', 'gas', 'after', 'i', 'voted', 'at', 'new', 'york', 'dolls', 'fac.', 'and', 'please', \"don't\", 'remove', 'the', 'template', 'from', 'the', 'talk', 'page', 'since', \"i'm\", 'retired', 'now.89.205.38.27'], 'toxic': '0', 'severe_toxic': '0', 'threat': '0', 'obscene': '0', 'insult': '0', 'identity_hate': '0'}\n"
          ],
          "name": "stdout"
        }
      ]
    },
    {
      "cell_type": "markdown",
      "metadata": {
        "id": "hpY16n1cgQds",
        "colab_type": "text"
      },
      "source": [
        "Example object là một tợp hợp các thuộc tính được tổng hợp trong dataset. Chúng ta thấy dataset đã được khởi tạo và các câu đã được tokenize thành các từ. Tuy nhiên chúng ta chưa thể map các câu thành từ và từ từ thành index do chưa khởi tạo mapping.\n",
        "\n",
        "Torchtext sẽ quản lý map các từ với index tương ứng thông qua hàm `build_vocab()` tham số được truyền vào chính là các câu huấn luyện. "
      ]
    },
    {
      "cell_type": "code",
      "metadata": {
        "id": "QJTyNTjhukvJ",
        "colab_type": "code",
        "colab": {}
      },
      "source": [
        "TEXT.build_vocab(train)"
      ],
      "execution_count": 0,
      "outputs": []
    },
    {
      "cell_type": "markdown",
      "metadata": {
        "id": "M8vAgqE2urkn",
        "colab_type": "text"
      },
      "source": [
        "sau khi chạy hàm trên, torchtext sẽ duyệt qua toàn bộ các phần tử nằm trong train dataset, kiểm tra các dữ liệu tương ứng với `TEXT` field và thêm các từ vào trong từ điển của nó. Trong torchtext đã có class Vocab quản lý từ vựng. Vocab sẽ quản lý việc mapping các từ tới index thông qua tham số `stoi` và chuyển ngược mapping index sang từ bằng tham số `itos`. Ngoài ra Vocab cũng có thể xây dựng một ma trận embedding các từ từ rất nhiều các model pretrained như [word2vec](http://mlexplained.com/2018/02/15/language-modeling-tutorial-in-torchtext-practical-torchtext-part-2/). Vocab cũng sử dụng các tham số như `max_size` và `min_freq` để xác định tối đa bao nhiêu từ trong từ điển và tần suất xuất hiện nhỏ nhất của 1 từ để nó được đưa vào từ điển. Những từ không xuất hiện trong từ điển sẽ được chuyển đổi thành `<unk>`.\n",
        "\n",
        "Bên dưới là danh sách loại Dataset khác nhau và định dạng dữ liệu mà chúng chấp nhận\n",
        "\n",
        "<table class=\"wikitable\" align=\"center\" border=\"1\">\n",
        "<tbody><tr>\n",
        "<td>Loại Dataset</td>\n",
        "<td>Mô tả</td>\n",
        "<td>Trường hợp sử dụng</td>\n",
        "</tr>\n",
        "<tr>\n",
        "<td>TabularDataset</td>\n",
        "<td>Lấy đường dẫn địa chỉ của các file csv/tsv và json files hoặc các python dictionaries</td>\n",
        "<td>Cho bất kì trường hợp nào cần label các text</td>\n",
        "</tr>\n",
        "<tr>\n",
        "<td>LanguageModelingDataset</td>\n",
        "<td>Lấy đường dẫn địa chỉ của các file này như là input</td>\n",
        "<td>Mô hình ngôn ngữ</td>\n",
        "</tr>\n",
        "<tr>\n",
        "<td>TranslationDataset</td>\n",
        "<td>Lấy đường dẫn có phần mở rộng của các file cho từng loại ngôn ngữ. Chẳng hạn nếu ngôn ngữ là tiếng anh thì file sẽ là 'hoge.en', French: 'hoge.fr', path='hoge', exts=('en','fr')</td>\n",
        "<td>Mô hình dịch</td>\n",
        "</tr>\n",
        "<tr>\n",
        "<td>SequenceTaggingDataset</td>\n",
        "<td>Lấy đường dẫn tới 1 file với câu đầu vào và đầu ra tách biệt bởi các tabs</td>\n",
        "<td>tagging câu</td>\n",
        "</tr>\n",
        "</tbody>\n",
        "</table>\n",
        "\n",
        "# 4. Xây dựng các iterator\n",
        "\n",
        "Như chúng ta đã biết để truyền được các batch vào model chúng ta cần một class quản lý chúng. Trong torchvision và Pytorch sử dụng `DataLoaders`. Vì một số lý do mà torchtext đã đổi tên thành `Iterator` để phù hợp với đúng chức năng là tạo vòng lặp. Cả 2 class đều có tác dụng quản lý quá trình dữ liệu được truyền vào mô hình. Tuy nhiên `Iterator` của torchtext có một số chức năng được thiết kế đặc thù cho NLP.\n",
        "\n",
        "Code bên dưới sẽ khởi tạo các `Iterators` cho dữ liệu train/test và validation."
      ]
    },
    {
      "cell_type": "code",
      "metadata": {
        "id": "jrOiaMAR1szg",
        "colab_type": "code",
        "colab": {}
      },
      "source": [
        "from __future__ import division\n",
        "from __future__ import print_function\n",
        "from __future__ import unicode_literals\n",
        "\n",
        "import torch\n",
        "from torch.jit import script, trace\n",
        "import torch.nn as nn\n",
        "from torch import optim\n",
        "import torch.nn.functional as F\n",
        "import csv\n",
        "import random\n",
        "import re\n",
        "import os\n",
        "import unicodedata\n",
        "import codecs\n",
        "from io import open\n",
        "import itertools\n",
        "import math\n",
        "\n",
        "\n",
        "USE_CUDA = torch.cuda.is_available()\n",
        "device = torch.device(\"cuda\" if USE_CUDA else \"cpu\")"
      ],
      "execution_count": 0,
      "outputs": []
    },
    {
      "cell_type": "code",
      "metadata": {
        "id": "m21oHjAz0pSA",
        "colab_type": "code",
        "colab": {}
      },
      "source": [
        "from torchtext.data import Iterator, BucketIterator\n",
        "\n",
        "train_iter, val_iter = BucketIterator.splits(\n",
        " (train, valid), # Truyền tập dữ liệu chúng ta muốn tạo vào iterator \n",
        " batch_sizes=(64, 64), # Kích thước batch size\n",
        " device=device, # Truyền vào device GPU được xác định thông qua hàm torch.device()\n",
        " sort_key=lambda x: len(x.comment_text), # sort dữ liệu theo trường nào\n",
        " sort_within_batch=False,\n",
        " repeat=False # Lấy dữ liệu không lặp lại dữ liệu\n",
        ")\n",
        "\n",
        "test_iter = Iterator(test, batch_size=64, device=device, sort=False, sort_within_batch=False, repeat=False)"
      ],
      "execution_count": 0,
      "outputs": []
    },
    {
      "cell_type": "markdown",
      "metadata": {
        "id": "otq7soVg1meB",
        "colab_type": "text"
      },
      "source": [
        "Tham số `sort_within_batch` được thiết lập là True sẽ sắp xếp dữ liệu trong mỗi minibatch theo thứ tự giảm dần theo `sort_key`.\n",
        "\n",
        "`BuckIterator` là một trong những `Iterator` mạnh nhất của Torchtext. Nó tự động shuffle và dồn các câu input thành các chuỗi có độ dài tương tự nhau bằng cách padding 0 vào bên phải.\n",
        "Độ dài của mỗi câu sẽ bằng với độ dài của câu lớn nhất. \n",
        "\n",
        "Đối với dữ liệu testing, chúng ta không muốn trộn dữ liệu vì sẽ đưa ra các dự đoán khi kết thúc huấn luyên. Đây là lý do tại sao chúng ta sử dụng một `Iterator` tiêu chuẩn thay vì `BucketIterator`.\n",
        "\n",
        "Dưới đây, một danh sách các Iterators mà Torchtext hiện đang hỗ trợ:\n",
        "<table class=\"wikitable\" align=\"center\" border=\"1\">\n",
        "<tbody><tr>\n",
        "<td>Tên Iterators</td>\n",
        "<td>Mô tả</td>\n",
        "<td>Trường hợp sử dụng</td>\n",
        "</tr>\n",
        "<tr>\n",
        "<td>Iterator</td>\n",
        "<td>Chạy vòng lặp qua toàn bộ dataset theo thứ tự của dataset</td>\n",
        "<td>Dữ liệu test, hoặc các dữ liệu không cần xáo trộn thứ tự</td>\n",
        "</tr>\n",
        "<tr>\n",
        "<td>BucketIterator</td>\n",
        "<td>dồn dữ liệu về cùng 1 độ dài câu bằng nhau</td>\n",
        "<td>Phân loại văn bản, tagging chuỗi,....</td>\n",
        "</tr>\n",
        "<tr>\n",
        "<td>BPTTIterator</td>\n",
        "<td>Được xây dựng cho các mô hình ngôn ngữ mà việc khởi tạo câu input bị trì hoãn theo từng timestep. Và đồng thời nó cũng biến đổi độ dài của BPTT (backpropagation through time). <a href=\"http://mlexplained.com/2018/02/15/language-modeling-tutorial-in-torchtext-practical-torchtext-part-2/\">Xem thêm</a></td>\n",
        "<td>Mô hình ngôn ngữ</td>\n",
        "</tr>\n",
        "</body></table>\n",
        " \n",
        "# 5. Đóng gói iterator\n",
        "\n",
        "Hiện tại, iterator trả về một định dạng dữ liệu chuẩn là `torchtext.data.Batch`. Batch class có các đặc tính tương tự như Example với tợp hợp các dữ liệu từ mỗi field như là thuộc tính của nó. Điều này khiến chúng khó sử dụng khi tên trường thay đổi thì cần phải update lại code tương ứng.\n",
        "\n",
        "Chính vì thế chúng ta sẽ sử dụng một tip nhỏ bằng cách wrap batch thành một tuple của 2 phần tử $x$ và $y$. Trong đó $x$ là biến độc lập và $y$ là biến phụ thuộc.\n"
      ]
    },
    {
      "cell_type": "code",
      "metadata": {
        "id": "ClquFlUH8loy",
        "colab_type": "code",
        "colab": {}
      },
      "source": [
        "class BatchWrapper:\n",
        "      def __init__(self, dl, x_var, y_vars):\n",
        "            self.dl, self.x_var, self.y_vars = dl, x_var, y_vars # we pass in the list of attributes for x \n",
        "\n",
        "      def __iter__(self):\n",
        "            for batch in self.dl:\n",
        "                  # print('x_var: ', self.x_var)\n",
        "                  # print('y_vars: ', self.y_vars)\n",
        "                  x = getattr(batch, self.x_var) # we assume only one input in this wrapper\n",
        "                  if self.y_vars is not None: # we will concatenate y into a single tensor\n",
        "                        y = torch.cat([getattr(batch, feat).unsqueeze(1) for feat in self.y_vars], dim=1).float()\n",
        "                        # print('y size: ', y.size())\n",
        "                  else:\n",
        "                        y = torch.zeros((1))\n",
        "                        # print('y size when y_vars is None: ', y.size())\n",
        "                  yield (x, y)\n",
        "\n",
        "      def __len__(self):\n",
        "            return len(self.dl)\n",
        "\n",
        "train_dl = BatchWrapper(train_iter, \"comment_text\", [\"toxic\", \"severe_toxic\", \"obscene\", \"threat\", \"insult\", \"identity_hate\"])\n",
        "valid_dl = BatchWrapper(val_iter, \"comment_text\", [\"toxic\", \"severe_toxic\", \"obscene\", \"threat\", \"insult\", \"identity_hate\"])\n",
        "test_dl = BatchWrapper(test_iter, \"comment_text\", None)"
      ],
      "execution_count": 0,
      "outputs": []
    },
    {
      "cell_type": "markdown",
      "metadata": {
        "id": "Bp2NcXm29Xqm",
        "colab_type": "text"
      },
      "source": [
        "Những gì đã thực hiện ở đoạn code trên đó là chuyển hóa batch thành tuple của input và output"
      ]
    },
    {
      "cell_type": "code",
      "metadata": {
        "id": "574gi-xA9nQT",
        "colab_type": "code",
        "outputId": "bdbf94b8-d2cb-42cd-ed57-b6611f144da2",
        "colab": {
          "base_uri": "https://localhost:8080/",
          "height": 554
        }
      },
      "source": [
        "next(train_dl.__iter__())"
      ],
      "execution_count": 0,
      "outputs": [
        {
          "output_type": "execute_result",
          "data": {
            "text/plain": [
              "(tensor([[ 63, 220, 368,  ..., 348,  81, 329],\n",
              "         [552,  46,  61,  ..., 210, 674, 209],\n",
              "         [  3,  37,   4,  ..., 541,  22,   6],\n",
              "         ...,\n",
              "         [  1,   1,   1,  ...,   1,   1,   1],\n",
              "         [  1,   1,   1,  ...,   1,   1,   1],\n",
              "         [  1,   1,   1,  ...,   1,   1,   1]], device='cuda:0'),\n",
              " tensor([[0., 0., 0., 0., 0., 0.],\n",
              "         [0., 0., 0., 0., 0., 0.],\n",
              "         [1., 1., 0., 1., 1., 0.],\n",
              "         [0., 0., 0., 0., 0., 0.],\n",
              "         [0., 0., 0., 0., 0., 0.],\n",
              "         [0., 0., 0., 0., 0., 0.],\n",
              "         [0., 0., 0., 0., 0., 0.],\n",
              "         [0., 0., 0., 0., 0., 0.],\n",
              "         [0., 0., 0., 0., 0., 0.],\n",
              "         [0., 0., 0., 0., 0., 0.],\n",
              "         [1., 0., 0., 0., 0., 0.],\n",
              "         [0., 0., 0., 0., 0., 0.],\n",
              "         [0., 0., 0., 0., 0., 0.],\n",
              "         [0., 0., 0., 0., 0., 0.],\n",
              "         [0., 0., 0., 0., 0., 0.],\n",
              "         [0., 0., 0., 0., 0., 0.],\n",
              "         [0., 0., 0., 0., 0., 0.],\n",
              "         [0., 0., 0., 0., 0., 0.],\n",
              "         [0., 0., 0., 0., 0., 0.],\n",
              "         [0., 0., 0., 0., 0., 0.],\n",
              "         [0., 0., 0., 0., 0., 0.],\n",
              "         [0., 0., 0., 0., 0., 0.],\n",
              "         [1., 0., 0., 0., 0., 0.],\n",
              "         [0., 0., 0., 0., 0., 0.],\n",
              "         [0., 0., 0., 0., 0., 0.]], device='cuda:0'))"
            ]
          },
          "metadata": {
            "tags": []
          },
          "execution_count": 62
        }
      ]
    },
    {
      "cell_type": "markdown",
      "metadata": {
        "id": "k769h3Rb96f7",
        "colab_type": "text"
      },
      "source": [
        "# 6. Huấn luyện mô hình\n",
        "\n",
        "Bên dưới chúng ta sẽ cùng sử dụng model LSTM để huấn luyện mô hình phân loại văn bản.\n",
        "Trong module LSTM chúng ta cần xác định 3 tham số chính đó là:\n",
        "\n",
        "* embedding size: Kích thước của embedding véc tơ để nhúng mỗi từ input.\n",
        "* hidden_dim: Kích thước của hidden state véc tơ.\n",
        "* number_layers: Một mạng LSTM sẽ bao gồm 1 chuỗi các layers liên tiếp nhau mà đầu ra của layer này là đầu vào của layer tiếp theo. Do đó chúng ta cần phải xác định số lượng các layer trong 1 mạng LSTM.\n",
        "\n",
        "Đầu ra của mạng LSTM sẽ bao gồm:\n",
        "\n",
        "* Encoder output: Là ma trận bao gồm các véc tơ hidden state tại layer cuối cùng được trả ra tại mỗi bước thời gian $t$ và có kích thước (`max_length x batch_size x hidden_size`).\n",
        "* hidden output: Là ma trận gồm các véc tơ hidden state của LSTM được trả ra tại mỗi layer có kích thước (`n_layers x batch_size x hidden_size`).\n",
        "* cell output: Là ma trận của các cell state véc tơ được trả ra tại mỗi layer có kích thước (`n_layers x batch_size x hiden_size`).\n",
        "\n",
        "Để hiểu rõ hơn về kiến trúc của mạng LSTM và đầu ra của mạng LSTM lại có kích thước như trên các bạn có thể tham khảo [giới thiệu về mạng LSTM](https://phamdinhkhanh.github.io/2019/04/22/L%C3%BD_thuy%E1%BA%BFt_v%E1%BB%81_m%E1%BA%A1ng_LSTM.html)."
      ]
    },
    {
      "cell_type": "code",
      "metadata": {
        "id": "jSPN-dg4C7qI",
        "colab_type": "code",
        "colab": {}
      },
      "source": [
        "import torch.nn as nn\n",
        "import torch.nn.functional as F\n",
        "import torch.optim as optim\n",
        "from torch.autograd import Variable\n",
        "\n",
        "class SimpleLSTMBaseline(nn.Module):\n",
        "    def __init__(self, hidden_dim, emb_dim=300, num_linear=1):\n",
        "        super().__init__() # don't forget to call this!\n",
        "        self.embedding = nn.Embedding(len(TEXT.vocab), emb_dim)\n",
        "        self.encoder = nn.LSTM(emb_dim, hidden_dim, num_layers=1)\n",
        "        self.linear_layers = []\n",
        "        # Tạo 1 list gồm num_linear-1 các linear layer để project encoder output qua chuỗi layer này.\n",
        "        for _ in range(num_linear - 1):\n",
        "            self.linear_layers.append(nn.Linear(hidden_dim, hidden_dim))\n",
        "            self.linear_layers = nn.ModuleList(self.linear_layers)\n",
        "        # Layer cuối cùng trả ra kết quả gồm 6 nodes.\n",
        "        self.predictor = nn.Linear(hidden_dim, 6)\n",
        "\n",
        "    def forward(self, seq):\n",
        "        # encoder trả về 2 phần tử, dấu _ để gán cho các giá trị mà ta không sử dụng. \n",
        "        hdn, _ = self.encoder(self.embedding(seq))\n",
        "        # Lấy feature là véc tơ hidden state tại bước cuối cùng.\n",
        "        feature = hdn[-1, :, :]\n",
        "        # project feature qua chuỗi layers và cuối cùng trả ra output dự báo.\n",
        "        for layer in self.linear_layers:\n",
        "          feature = layer(feature)\n",
        "          preds = self.predictor(feature)\n",
        "        return preds\n",
        "\n",
        "em_sz = 100\n",
        "nh = 500\n",
        "nl = 3\n",
        "model = SimpleLSTMBaseline(nh, emb_dim=em_sz, num_linear=nl)\n",
        "model = model.to(device)"
      ],
      "execution_count": 0,
      "outputs": []
    },
    {
      "cell_type": "markdown",
      "metadata": {
        "id": "kF9YB4HxDoL5",
        "colab_type": "text"
      },
      "source": [
        "Bây h ta sẽ tạo một vòng lặp huấn luyện. Chúng ta có thể duyệt qua những Iterator được đóng gói và data sẽ được tự động truyền vào sau khi được đưa lên GPU và tham số hóa."
      ]
    },
    {
      "cell_type": "code",
      "metadata": {
        "id": "qBiG6eJ-Dkg0",
        "colab_type": "code",
        "outputId": "ac1307a0-9e18-4ee2-c253-2de44f269867",
        "colab": {
          "base_uri": "https://localhost:8080/",
          "height": 353
        }
      },
      "source": [
        "import tqdm\n",
        "\n",
        "opt = optim.Adam(model.parameters(), lr=1e-2)\n",
        "loss_func = nn.BCEWithLogitsLoss()\n",
        "\n",
        "epochs = 10\n",
        "\n",
        "for epoch in range(1, epochs + 1):\n",
        "    running_loss = 0.0\n",
        "    running_corrects = 0\n",
        "    model.train() # nhớ bật trạng thái là train. Khi đó mô hình có thể update các tham số.\n",
        "    for x, y in tqdm.tqdm(train_dl): # tạo vòng lặp đi qua wrapper của dữ liệu huấn luyện.\n",
        "        # Nhớ đưa dữ liệu lên device để có thể training trên GPU\n",
        "        x = x.to(device)\n",
        "        y = y.to(device)\n",
        "        # Cập nhật lại toàn bộ hệ số gradient về 0\n",
        "        opt.zero_grad()\n",
        "\n",
        "        preds = model(x)\n",
        "        # Tính loss function\n",
        "        loss = loss_func(y, preds).to(device)\n",
        "        # Lan truyền ngược để cập nhật các tham số của mô hình\n",
        "        loss.backward()\n",
        "        # Cập nhật optimization sang bước tiếp theo\n",
        "        opt.step()\n",
        "        # Tổng của loss function qua các batch huấn luyện\n",
        "        running_loss += loss.data * x.size(0)\n",
        "\n",
        "    epoch_loss = running_loss / len(train)\n",
        "\n",
        "    # Tính loss function trên tập validation\n",
        "    val_loss = 0.0\n",
        "    model.eval() # bật chế độ evaluation để tham số của mô hình không bị cập nhật.\n",
        "    for x, y in valid_dl:\n",
        "        preds = model(x)\n",
        "        # Tính loss function\n",
        "        loss = loss_func(y, preds)\n",
        "        val_loss += loss.data * x.size(0)\n",
        "    # Trả về giá trị loss function trung bình qua từng epoch huấn luyện.\n",
        "    val_loss /= len(valid)\n",
        "    print('Epoch: {}, Training Loss: {:.4f}, Validation Loss: {:.4f}'.format(epoch, epoch_loss, val_loss))\n"
      ],
      "execution_count": 0,
      "outputs": [
        {
          "output_type": "stream",
          "text": [
            "100%|██████████| 1/1 [00:00<00:00,  3.82it/s]\n",
            "  0%|          | 0/1 [00:00<?, ?it/s]"
          ],
          "name": "stderr"
        },
        {
          "output_type": "stream",
          "text": [
            "Epoch: 1, Training Loss: -17331.3613, Validation Loss: -12972.5557\n"
          ],
          "name": "stdout"
        },
        {
          "output_type": "stream",
          "text": [
            "100%|██████████| 1/1 [00:00<00:00,  4.53it/s]\n",
            "100%|██████████| 1/1 [00:00<00:00,  5.15it/s]"
          ],
          "name": "stderr"
        },
        {
          "output_type": "stream",
          "text": [
            "Epoch: 2, Training Loss: -26293.1348, Validation Loss: -18848.7305\n"
          ],
          "name": "stdout"
        },
        {
          "output_type": "stream",
          "text": [
            "\n",
            "100%|██████████| 1/1 [00:00<00:00,  5.37it/s]"
          ],
          "name": "stderr"
        },
        {
          "output_type": "stream",
          "text": [
            "Epoch: 3, Training Loss: -38160.9180, Validation Loss: -26296.4727\n"
          ],
          "name": "stdout"
        },
        {
          "output_type": "stream",
          "text": [
            "\n",
            "100%|██████████| 1/1 [00:00<00:00,  5.49it/s]"
          ],
          "name": "stderr"
        },
        {
          "output_type": "stream",
          "text": [
            "Epoch: 4, Training Loss: -53191.8555, Validation Loss: -35586.1328\n"
          ],
          "name": "stdout"
        },
        {
          "output_type": "stream",
          "text": [
            "\n",
            "100%|██████████| 1/1 [00:00<00:00,  5.47it/s]"
          ],
          "name": "stderr"
        },
        {
          "output_type": "stream",
          "text": [
            "Epoch: 5, Training Loss: -71929.5703, Validation Loss: -47033.2656\n"
          ],
          "name": "stdout"
        },
        {
          "output_type": "stream",
          "text": [
            "\n",
            "100%|██████████| 1/1 [00:00<00:00,  5.44it/s]"
          ],
          "name": "stderr"
        },
        {
          "output_type": "stream",
          "text": [
            "Epoch: 6, Training Loss: -95008.3203, Validation Loss: -60955.9102\n"
          ],
          "name": "stdout"
        },
        {
          "output_type": "stream",
          "text": [
            "\n",
            "100%|██████████| 1/1 [00:00<00:00,  5.44it/s]"
          ],
          "name": "stderr"
        },
        {
          "output_type": "stream",
          "text": [
            "Epoch: 7, Training Loss: -123066.7891, Validation Loss: -77651.4453\n"
          ],
          "name": "stdout"
        },
        {
          "output_type": "stream",
          "text": [
            "\n",
            "100%|██████████| 1/1 [00:00<00:00,  5.48it/s]"
          ],
          "name": "stderr"
        },
        {
          "output_type": "stream",
          "text": [
            "Epoch: 8, Training Loss: -156701.6562, Validation Loss: -97493.2812\n"
          ],
          "name": "stdout"
        },
        {
          "output_type": "stream",
          "text": [
            "\n",
            "100%|██████████| 1/1 [00:00<00:00,  5.44it/s]"
          ],
          "name": "stderr"
        },
        {
          "output_type": "stream",
          "text": [
            "Epoch: 9, Training Loss: -196662.9688, Validation Loss: -120866.4688\n",
            "Epoch: 10, Training Loss: -243723.7969, Validation Loss: -148217.6719\n"
          ],
          "name": "stdout"
        },
        {
          "output_type": "stream",
          "text": [
            "\n"
          ],
          "name": "stderr"
        }
      ]
    },
    {
      "cell_type": "markdown",
      "metadata": {
        "id": "BtTWeKiTK6CI",
        "colab_type": "text"
      },
      "source": [
        "Tiếp theo chúng ta sẽ đánh giá mô hình"
      ]
    },
    {
      "cell_type": "code",
      "metadata": {
        "id": "3l7Nhj7RK9xB",
        "colab_type": "code",
        "outputId": "b5031be8-8d2f-4e08-bf2e-617597d2c58c",
        "colab": {
          "base_uri": "https://localhost:8080/",
          "height": 34
        }
      },
      "source": [
        "import numpy as np\n",
        "\n",
        "test_preds = []\n",
        "for x, y in tqdm.tqdm(test_dl):\n",
        "    preds = model(x)\n",
        "    preds = preds.cpu().data.numpy()\n",
        "    # Giá trị đầu ra thực tế của mô hình là logit nên ta sẽ pass giá trị dự báo vào hàm sigmoid.\n",
        "    preds = 1 / (1 + np.exp(-preds))\n",
        "    test_preds.append(preds)\n",
        "    test_preds = np.hstack(test_preds)"
      ],
      "execution_count": 0,
      "outputs": [
        {
          "output_type": "stream",
          "text": [
            "100%|██████████| 1/1 [00:00<00:00, 21.53it/s]\n"
          ],
          "name": "stderr"
        }
      ]
    },
    {
      "cell_type": "markdown",
      "metadata": {
        "id": "YdA6ZJygLZkd",
        "colab_type": "text"
      },
      "source": [
        "Kết quả dự báo"
      ]
    },
    {
      "cell_type": "code",
      "metadata": {
        "id": "415YfUs0LauI",
        "colab_type": "code",
        "outputId": "02b68e58-6349-4a55-8907-636515a7efcb",
        "colab": {
          "base_uri": "https://localhost:8080/",
          "height": 1000
        }
      },
      "source": [
        "import pandas as pd\n",
        "df = pd.read_csv(\"practical-torchtext/data/test.csv\")\n",
        "for i, col in enumerate([\"toxic\", \"severe_toxic\", \"obscene\", \"threat\", \"insult\", \"identity_hate\"]):\n",
        "    df[col] = test_preds[:, i]\n",
        "\n",
        "df"
      ],
      "execution_count": 0,
      "outputs": [
        {
          "output_type": "execute_result",
          "data": {
            "text/html": [
              "<div>\n",
              "<style scoped>\n",
              "    .dataframe tbody tr th:only-of-type {\n",
              "        vertical-align: middle;\n",
              "    }\n",
              "\n",
              "    .dataframe tbody tr th {\n",
              "        vertical-align: top;\n",
              "    }\n",
              "\n",
              "    .dataframe thead th {\n",
              "        text-align: right;\n",
              "    }\n",
              "</style>\n",
              "<table border=\"1\" class=\"dataframe\">\n",
              "  <thead>\n",
              "    <tr style=\"text-align: right;\">\n",
              "      <th></th>\n",
              "      <th>id</th>\n",
              "      <th>comment_text</th>\n",
              "      <th>toxic</th>\n",
              "      <th>severe_toxic</th>\n",
              "      <th>obscene</th>\n",
              "      <th>threat</th>\n",
              "      <th>insult</th>\n",
              "      <th>identity_hate</th>\n",
              "    </tr>\n",
              "  </thead>\n",
              "  <tbody>\n",
              "    <tr>\n",
              "      <th>0</th>\n",
              "      <td>00001cee341fdb12</td>\n",
              "      <td>Yo bitch Ja Rule is more succesful then you'll...</td>\n",
              "      <td>1.0</td>\n",
              "      <td>1.0</td>\n",
              "      <td>1.0</td>\n",
              "      <td>1.0</td>\n",
              "      <td>1.0</td>\n",
              "      <td>1.0</td>\n",
              "    </tr>\n",
              "    <tr>\n",
              "      <th>1</th>\n",
              "      <td>0000247867823ef7</td>\n",
              "      <td>== From RfC == \\n\\n The title is fine as it is...</td>\n",
              "      <td>1.0</td>\n",
              "      <td>1.0</td>\n",
              "      <td>1.0</td>\n",
              "      <td>1.0</td>\n",
              "      <td>1.0</td>\n",
              "      <td>1.0</td>\n",
              "    </tr>\n",
              "    <tr>\n",
              "      <th>2</th>\n",
              "      <td>00013b17ad220c46</td>\n",
              "      <td>\" \\n\\n == Sources == \\n\\n * Zawe Ashton on Lap...</td>\n",
              "      <td>1.0</td>\n",
              "      <td>1.0</td>\n",
              "      <td>1.0</td>\n",
              "      <td>1.0</td>\n",
              "      <td>1.0</td>\n",
              "      <td>1.0</td>\n",
              "    </tr>\n",
              "    <tr>\n",
              "      <th>3</th>\n",
              "      <td>00017563c3f7919a</td>\n",
              "      <td>:If you have a look back at the source, the in...</td>\n",
              "      <td>1.0</td>\n",
              "      <td>1.0</td>\n",
              "      <td>1.0</td>\n",
              "      <td>1.0</td>\n",
              "      <td>1.0</td>\n",
              "      <td>1.0</td>\n",
              "    </tr>\n",
              "    <tr>\n",
              "      <th>4</th>\n",
              "      <td>00017695ad8997eb</td>\n",
              "      <td>I don't anonymously edit articles at all.</td>\n",
              "      <td>1.0</td>\n",
              "      <td>1.0</td>\n",
              "      <td>1.0</td>\n",
              "      <td>1.0</td>\n",
              "      <td>1.0</td>\n",
              "      <td>1.0</td>\n",
              "    </tr>\n",
              "    <tr>\n",
              "      <th>5</th>\n",
              "      <td>0001ea8717f6de06</td>\n",
              "      <td>Thank you for understanding. I think very high...</td>\n",
              "      <td>1.0</td>\n",
              "      <td>1.0</td>\n",
              "      <td>1.0</td>\n",
              "      <td>1.0</td>\n",
              "      <td>1.0</td>\n",
              "      <td>1.0</td>\n",
              "    </tr>\n",
              "    <tr>\n",
              "      <th>6</th>\n",
              "      <td>00024115d4cbde0f</td>\n",
              "      <td>Please do not add nonsense to Wikipedia. Such ...</td>\n",
              "      <td>1.0</td>\n",
              "      <td>1.0</td>\n",
              "      <td>1.0</td>\n",
              "      <td>1.0</td>\n",
              "      <td>1.0</td>\n",
              "      <td>1.0</td>\n",
              "    </tr>\n",
              "    <tr>\n",
              "      <th>7</th>\n",
              "      <td>000247e83dcc1211</td>\n",
              "      <td>:Dear god this site is horrible.</td>\n",
              "      <td>1.0</td>\n",
              "      <td>1.0</td>\n",
              "      <td>1.0</td>\n",
              "      <td>1.0</td>\n",
              "      <td>1.0</td>\n",
              "      <td>1.0</td>\n",
              "    </tr>\n",
              "    <tr>\n",
              "      <th>8</th>\n",
              "      <td>00025358d4737918</td>\n",
              "      <td>\" \\n Only a fool can believe in such numbers. ...</td>\n",
              "      <td>1.0</td>\n",
              "      <td>1.0</td>\n",
              "      <td>1.0</td>\n",
              "      <td>1.0</td>\n",
              "      <td>1.0</td>\n",
              "      <td>1.0</td>\n",
              "    </tr>\n",
              "    <tr>\n",
              "      <th>9</th>\n",
              "      <td>00026d1092fe71cc</td>\n",
              "      <td>== Double Redirects == \\n\\n When fixing double...</td>\n",
              "      <td>1.0</td>\n",
              "      <td>1.0</td>\n",
              "      <td>1.0</td>\n",
              "      <td>1.0</td>\n",
              "      <td>1.0</td>\n",
              "      <td>1.0</td>\n",
              "    </tr>\n",
              "    <tr>\n",
              "      <th>10</th>\n",
              "      <td>0002eadc3b301559</td>\n",
              "      <td>I think its crap that the link to roggenbier i...</td>\n",
              "      <td>1.0</td>\n",
              "      <td>1.0</td>\n",
              "      <td>1.0</td>\n",
              "      <td>1.0</td>\n",
              "      <td>1.0</td>\n",
              "      <td>1.0</td>\n",
              "    </tr>\n",
              "    <tr>\n",
              "      <th>11</th>\n",
              "      <td>0002f87b16116a7f</td>\n",
              "      <td>\"::: Somebody will invariably try to add Relig...</td>\n",
              "      <td>1.0</td>\n",
              "      <td>1.0</td>\n",
              "      <td>1.0</td>\n",
              "      <td>1.0</td>\n",
              "      <td>1.0</td>\n",
              "      <td>1.0</td>\n",
              "    </tr>\n",
              "    <tr>\n",
              "      <th>12</th>\n",
              "      <td>0003806b11932181</td>\n",
              "      <td>, 25 February 2010 (UTC) \\n\\n :::Looking it ov...</td>\n",
              "      <td>1.0</td>\n",
              "      <td>1.0</td>\n",
              "      <td>1.0</td>\n",
              "      <td>1.0</td>\n",
              "      <td>1.0</td>\n",
              "      <td>1.0</td>\n",
              "    </tr>\n",
              "    <tr>\n",
              "      <th>13</th>\n",
              "      <td>0003e1cccfd5a40a</td>\n",
              "      <td>\" \\n\\n It says it right there that it IS a typ...</td>\n",
              "      <td>1.0</td>\n",
              "      <td>1.0</td>\n",
              "      <td>1.0</td>\n",
              "      <td>1.0</td>\n",
              "      <td>1.0</td>\n",
              "      <td>1.0</td>\n",
              "    </tr>\n",
              "    <tr>\n",
              "      <th>14</th>\n",
              "      <td>00059ace3e3e9a53</td>\n",
              "      <td>\" \\n\\n == Before adding a new product to the l...</td>\n",
              "      <td>1.0</td>\n",
              "      <td>1.0</td>\n",
              "      <td>1.0</td>\n",
              "      <td>1.0</td>\n",
              "      <td>1.0</td>\n",
              "      <td>1.0</td>\n",
              "    </tr>\n",
              "    <tr>\n",
              "      <th>15</th>\n",
              "      <td>000634272d0d44eb</td>\n",
              "      <td>==Current Position== \\n Anyone have confirmati...</td>\n",
              "      <td>1.0</td>\n",
              "      <td>1.0</td>\n",
              "      <td>1.0</td>\n",
              "      <td>1.0</td>\n",
              "      <td>1.0</td>\n",
              "      <td>1.0</td>\n",
              "    </tr>\n",
              "    <tr>\n",
              "      <th>16</th>\n",
              "      <td>000663aff0fffc80</td>\n",
              "      <td>this other one from 1897</td>\n",
              "      <td>1.0</td>\n",
              "      <td>1.0</td>\n",
              "      <td>1.0</td>\n",
              "      <td>1.0</td>\n",
              "      <td>1.0</td>\n",
              "      <td>1.0</td>\n",
              "    </tr>\n",
              "    <tr>\n",
              "      <th>17</th>\n",
              "      <td>000689dd34e20979</td>\n",
              "      <td>== Reason for banning throwing == \\n\\n This ar...</td>\n",
              "      <td>1.0</td>\n",
              "      <td>1.0</td>\n",
              "      <td>1.0</td>\n",
              "      <td>1.0</td>\n",
              "      <td>1.0</td>\n",
              "      <td>1.0</td>\n",
              "    </tr>\n",
              "    <tr>\n",
              "      <th>18</th>\n",
              "      <td>000834769115370c</td>\n",
              "      <td>:: Wallamoose was changing the cited material ...</td>\n",
              "      <td>1.0</td>\n",
              "      <td>1.0</td>\n",
              "      <td>1.0</td>\n",
              "      <td>1.0</td>\n",
              "      <td>1.0</td>\n",
              "      <td>1.0</td>\n",
              "    </tr>\n",
              "    <tr>\n",
              "      <th>19</th>\n",
              "      <td>000844b52dee5f3f</td>\n",
              "      <td>|blocked]] from editing Wikipedia.   |</td>\n",
              "      <td>1.0</td>\n",
              "      <td>1.0</td>\n",
              "      <td>1.0</td>\n",
              "      <td>1.0</td>\n",
              "      <td>1.0</td>\n",
              "      <td>1.0</td>\n",
              "    </tr>\n",
              "    <tr>\n",
              "      <th>20</th>\n",
              "      <td>00084da5d4ead7aa</td>\n",
              "      <td>==Indefinitely blocked== \\n I have indefinitel...</td>\n",
              "      <td>1.0</td>\n",
              "      <td>1.0</td>\n",
              "      <td>1.0</td>\n",
              "      <td>1.0</td>\n",
              "      <td>1.0</td>\n",
              "      <td>1.0</td>\n",
              "    </tr>\n",
              "    <tr>\n",
              "      <th>21</th>\n",
              "      <td>00091c35fa9d0465</td>\n",
              "      <td>== Arabs are committing genocide in Iraq, but ...</td>\n",
              "      <td>1.0</td>\n",
              "      <td>1.0</td>\n",
              "      <td>1.0</td>\n",
              "      <td>1.0</td>\n",
              "      <td>1.0</td>\n",
              "      <td>1.0</td>\n",
              "    </tr>\n",
              "    <tr>\n",
              "      <th>22</th>\n",
              "      <td>000968ce11f5ee34</td>\n",
              "      <td>Please stop. If you continue to vandalize Wiki...</td>\n",
              "      <td>1.0</td>\n",
              "      <td>1.0</td>\n",
              "      <td>1.0</td>\n",
              "      <td>1.0</td>\n",
              "      <td>1.0</td>\n",
              "      <td>1.0</td>\n",
              "    </tr>\n",
              "    <tr>\n",
              "      <th>23</th>\n",
              "      <td>0009734200a85047</td>\n",
              "      <td>== Energy  == \\n\\n I have edited the introduct...</td>\n",
              "      <td>1.0</td>\n",
              "      <td>1.0</td>\n",
              "      <td>1.0</td>\n",
              "      <td>1.0</td>\n",
              "      <td>1.0</td>\n",
              "      <td>1.0</td>\n",
              "    </tr>\n",
              "    <tr>\n",
              "      <th>24</th>\n",
              "      <td>00097b6214686db5</td>\n",
              "      <td>:yeah, thanks for reviving the tradition of pi...</td>\n",
              "      <td>1.0</td>\n",
              "      <td>1.0</td>\n",
              "      <td>1.0</td>\n",
              "      <td>1.0</td>\n",
              "      <td>1.0</td>\n",
              "      <td>1.0</td>\n",
              "    </tr>\n",
              "    <tr>\n",
              "      <th>25</th>\n",
              "      <td>0009aef4bd9e1697</td>\n",
              "      <td>MLM Software,NBFC software,Non Banking Financi...</td>\n",
              "      <td>1.0</td>\n",
              "      <td>1.0</td>\n",
              "      <td>1.0</td>\n",
              "      <td>1.0</td>\n",
              "      <td>1.0</td>\n",
              "      <td>1.0</td>\n",
              "    </tr>\n",
              "    <tr>\n",
              "      <th>26</th>\n",
              "      <td>000a02d807ae0254</td>\n",
              "      <td>@RedSlash, cut it short. If you have sources s...</td>\n",
              "      <td>1.0</td>\n",
              "      <td>1.0</td>\n",
              "      <td>1.0</td>\n",
              "      <td>1.0</td>\n",
              "      <td>1.0</td>\n",
              "      <td>1.0</td>\n",
              "    </tr>\n",
              "    <tr>\n",
              "      <th>27</th>\n",
              "      <td>000a6c6d4e89b9bc</td>\n",
              "      <td>==================== \\n Deception is the way o...</td>\n",
              "      <td>1.0</td>\n",
              "      <td>1.0</td>\n",
              "      <td>1.0</td>\n",
              "      <td>1.0</td>\n",
              "      <td>1.0</td>\n",
              "      <td>1.0</td>\n",
              "    </tr>\n",
              "    <tr>\n",
              "      <th>28</th>\n",
              "      <td>000bafe2080bba82</td>\n",
              "      <td>. \\n\\n           Jews are not a race because y...</td>\n",
              "      <td>1.0</td>\n",
              "      <td>1.0</td>\n",
              "      <td>1.0</td>\n",
              "      <td>1.0</td>\n",
              "      <td>1.0</td>\n",
              "      <td>1.0</td>\n",
              "    </tr>\n",
              "    <tr>\n",
              "      <th>29</th>\n",
              "      <td>000bf0a9894b2807</td>\n",
              "      <td>:::If Ollie or others think that one list of t...</td>\n",
              "      <td>1.0</td>\n",
              "      <td>1.0</td>\n",
              "      <td>1.0</td>\n",
              "      <td>1.0</td>\n",
              "      <td>1.0</td>\n",
              "      <td>1.0</td>\n",
              "    </tr>\n",
              "    <tr>\n",
              "      <th>30</th>\n",
              "      <td>000c50dceb1eed2b</td>\n",
              "      <td>\" \\n *Support Per Jimbo and WP:google \"\"Climat...</td>\n",
              "      <td>1.0</td>\n",
              "      <td>1.0</td>\n",
              "      <td>1.0</td>\n",
              "      <td>1.0</td>\n",
              "      <td>1.0</td>\n",
              "      <td>1.0</td>\n",
              "    </tr>\n",
              "    <tr>\n",
              "      <th>31</th>\n",
              "      <td>000c9b92318552d1</td>\n",
              "      <td>Professors to the Manhatten Project.</td>\n",
              "      <td>1.0</td>\n",
              "      <td>1.0</td>\n",
              "      <td>1.0</td>\n",
              "      <td>1.0</td>\n",
              "      <td>1.0</td>\n",
              "      <td>1.0</td>\n",
              "    </tr>\n",
              "    <tr>\n",
              "      <th>32</th>\n",
              "      <td>000ce41d86f2b886</td>\n",
              "      <td>:::::I have added more wikilinks to my section...</td>\n",
              "      <td>1.0</td>\n",
              "      <td>1.0</td>\n",
              "      <td>1.0</td>\n",
              "      <td>1.0</td>\n",
              "      <td>1.0</td>\n",
              "      <td>1.0</td>\n",
              "    </tr>\n",
              "  </tbody>\n",
              "</table>\n",
              "</div>"
            ],
            "text/plain": [
              "                  id  ... identity_hate\n",
              "0   00001cee341fdb12  ...           1.0\n",
              "1   0000247867823ef7  ...           1.0\n",
              "2   00013b17ad220c46  ...           1.0\n",
              "3   00017563c3f7919a  ...           1.0\n",
              "4   00017695ad8997eb  ...           1.0\n",
              "5   0001ea8717f6de06  ...           1.0\n",
              "6   00024115d4cbde0f  ...           1.0\n",
              "7   000247e83dcc1211  ...           1.0\n",
              "8   00025358d4737918  ...           1.0\n",
              "9   00026d1092fe71cc  ...           1.0\n",
              "10  0002eadc3b301559  ...           1.0\n",
              "11  0002f87b16116a7f  ...           1.0\n",
              "12  0003806b11932181  ...           1.0\n",
              "13  0003e1cccfd5a40a  ...           1.0\n",
              "14  00059ace3e3e9a53  ...           1.0\n",
              "15  000634272d0d44eb  ...           1.0\n",
              "16  000663aff0fffc80  ...           1.0\n",
              "17  000689dd34e20979  ...           1.0\n",
              "18  000834769115370c  ...           1.0\n",
              "19  000844b52dee5f3f  ...           1.0\n",
              "20  00084da5d4ead7aa  ...           1.0\n",
              "21  00091c35fa9d0465  ...           1.0\n",
              "22  000968ce11f5ee34  ...           1.0\n",
              "23  0009734200a85047  ...           1.0\n",
              "24  00097b6214686db5  ...           1.0\n",
              "25  0009aef4bd9e1697  ...           1.0\n",
              "26  000a02d807ae0254  ...           1.0\n",
              "27  000a6c6d4e89b9bc  ...           1.0\n",
              "28  000bafe2080bba82  ...           1.0\n",
              "29  000bf0a9894b2807  ...           1.0\n",
              "30  000c50dceb1eed2b  ...           1.0\n",
              "31  000c9b92318552d1  ...           1.0\n",
              "32  000ce41d86f2b886  ...           1.0\n",
              "\n",
              "[33 rows x 8 columns]"
            ]
          },
          "metadata": {
            "tags": []
          },
          "execution_count": 68
        }
      ]
    },
    {
      "cell_type": "markdown",
      "metadata": {
        "id": "eKqBSUkuhLlH",
        "colab_type": "text"
      },
      "source": [
        "# 7. Tài liệu tham khảo\n",
        "\n",
        "Và cuối cùng không thể thiếu là những tài liệu mà tôi đã sử dụng để tổng hợp lại thành bài viết này.\n",
        "\n",
        "1. [torchtext docs](https://torchtext.readthedocs.io/en/latest/data.html)\n",
        "2. [how to use torchtext for ML translation](https://towardsdatascience.com/how-to-use-torchtext-for-neural-machine-translation-plus-hack-to-make-it-5x-faster-77f3884d95)\n",
        "3. [torchtext sentiment analysis](https://medium.com/@sonicboom8/sentiment-analysis-torchtext-55fb57b1fab8)\n",
        "4. [Comprehensive tutorial torchtext](https://mlexplained.com/2018/02/08/a-comprehensive-tutorial-to-torchtext/)"
      ]
    }
  ]
}