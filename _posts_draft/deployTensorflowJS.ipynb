{
  "nbformat": 4,
  "nbformat_minor": 0,
  "metadata": {
    "colab": {
      "name": "deployTensorflowJS.ipynb",
      "provenance": [],
      "collapsed_sections": [],
      "toc_visible": true
    },
    "kernelspec": {
      "name": "python3",
      "display_name": "Python 3"
    }
  },
  "cells": [
    {
      "cell_type": "markdown",
      "metadata": {
        "id": "_HS1qSUz4Tjb",
        "colab_type": "text"
      },
      "source": [
        "# 1. Giới thiệu chung"
      ]
    },
    {
      "cell_type": "markdown",
      "metadata": {
        "id": "T94-jEQPkiG0",
        "colab_type": "text"
      },
      "source": [
        "Ở bài trước mình đã giới thiệu với các bạn cách nào để xây dựng được một API và vai trò của API đối với hoạt động của các ứng dụng.\n",
        "\n",
        "Tiếp nối bài trước, ở bài này mình sẽ hướng dẫn mọi người làm thể nào để xây dựng và triển khai một ứng dụng web trên heroku.\n",
        "\n",
        "Ý tưởng của ứng dụng đó là chúng ta sẽ dự đoán vật thể trong các bức ảnh. Như chúng ta đã biết, nguồn tài nguyên ảnh thì khá nhiều nhưng rất nhiều ảnh không được gán nhãn. Đây sẽ là một trong những ứng dụng giải quyết được vấn đề nhức nhối là sử dụng sức lao động con người ngồi phân loại và gán nhãn cho hàng nghìn bức ảnh. Hãy để những công việc chân tay cho AI làm. Còn bạn có thể ngồi thư dãn. Ứng dụng này có thể nhận biết được hơn 1000 vật thể khác nhau từ các bức ảnh, khá nhiều phải không nào?\n",
        "\n",
        "Để giúp dễ hiểu hơn đối với bạn đọc không chuyên về lập trình ứng dụng, bài viết được mình giảm nhẹ các phần kỹ thuật nhất có thể.\n",
        "\n",
        "Ngoài ra mình cũng sẽ cung cấp mã nguồn code miễn phí tới các bạn nhằm mục đích hỗ trợ cộng đồng tốt hơn.\n",
        "\n",
        "Ứng dụng của mình được viết trên ngôn ngữ javascript vì đây là ngôn ngữ có nhiều ưu điểm như dễ học, triển khai ứng dụng nhanh và tương tác đồng thời được với frontend và backend.\n",
        "\n",
        "Framework mà mình lựa chọn để xây dựng model classification đó là tensorflow js. Đây là một trong những hot trend framework của bác google ở thời điểm hiện tại."
      ]
    },
    {
      "cell_type": "markdown",
      "metadata": {
        "id": "UQQXGLrRlN3M",
        "colab_type": "text"
      },
      "source": [
        "# 2. Tensorflow js\n",
        "\n",
        "Được bổ sung vào hệ sinh thái tensorflow của google từ 2018, tensorlfow js đã tạo nên một làn sóng trấn động trong cộng đồng AI. Tensorflow JS đã giúp cho việc triển khai các ứng dụng deep learning trên nền tảng website dễ dàng hơn. Ngôn ngữ mà google lựa chọn để build frame work này không phải là C, C++, Java hay những ngôn ngữ mạnh mẽ nào khác mà lại là ngôn ngữ có tính ứng dụng rất thiết thực. Đó chính là javascript. Tại sao lại là javascript? Mình nghĩ lý do chính là javascript rất phổ biến trong cộng đồng web. Việc lựa chọn javascript sẽ thu hút được một cộng đồng các developer web đông đảo. Đồng thời javascript có những frame work mạnh như nodejs hỗ trợ build app và web dường như là realtime. Bạn có thể deploy ứng dụng của mình trong chỉ vài giây, một điều tuyệt vời mà các ngôn ngữ compile như java, C, C++ không làm được. Đồng thời javascript là ngôn ngữ đa năng hoạt động được trên cả frontend và backend nên các developer chỉ cần học 1 ngôn ngữ mà làm được 2 nhiệm vụ. Không hiểu sao mình rất thích javascript vì có thể coi javascript như là một học sinh giỏi học 1 mà biết 2.\n",
        "\n",
        "Quay lại vấn đề chính. Theo như quảng cáo của trang chủ tensorflow thì tensorflow js có các ưu điểm:\n",
        "\n",
        "* Có thể convert được model từ nhiều format của các deep learning framework khác nhau.\n",
        "* Có nhiều pretrain model.\n",
        "* Có một cộng đồng sử dụng rộng.\n",
        "* Có thể huấn luyện và retrain lại model tensorflow của bạn trên chính website.\n",
        "* Đóng gói được model của bạn lên front end và truy cập trực tiếp nên tốc độ cao hơn so với call thông qua API.\n",
        "\n",
        "Tóm lại tensorflow js là một lựa chọn khá hữu ích cho những dự án deploy model trên website.\n",
        "\n"
      ]
    },
    {
      "cell_type": "markdown",
      "metadata": {
        "id": "LiQlvyHsu8QI",
        "colab_type": "text"
      },
      "source": [
        "# 3. Model"
      ]
    },
    {
      "cell_type": "markdown",
      "metadata": {
        "id": "yOMD_eUlAigU",
        "colab_type": "text"
      },
      "source": [
        "## 3.1. Giới thiệu về model Mobilenet\n",
        "\n",
        "Vì chỉ là demo nên mô hình mà mình sử dụng để deploy ứng dụng này là MobileNet, một mô hình khá nhẹ nên tốc độ load và dự báo nhanh. Ngoài ra bạn cũng có thể lựa chọn model khác nặng hơn thay cho MobileNet vì tensorflow js đã làm được một điều tuyệt vời là giảm nhẹ kích thước ban đầu so với model `.h5` trên tensorflow gấp nhiều lần.\n",
        "\n",
        "Khi hoạt động trên javascript, model sẽ được đẩy trực tiếp lên frontend. Do đó tốc độ load và train, predict nhanh hơn so với việc call API. Đồng thời các bạn sẽ thấy được rằng javascript đã chia nhỏ model lớn thành các nodes có kích thước bằng nhau giúp tăng tốc độ xử lý đối với những mô hình kích thước lớn. \n",
        "\n",
        "**Thêm vào đây.**"
      ]
    },
    {
      "cell_type": "markdown",
      "metadata": {
        "id": "DdqIHFylAQ49",
        "colab_type": "text"
      },
      "source": [
        "## 3.2. Convert model sang tensorflow js\n",
        "\n",
        "Trước tiên chúng ta sẽ cần convert model để sao cho nó có thể hoạt động được trên javascript. Bạn sẽ cần sử dụng package tensorflow js như sau:\n",
        "\n",
        "* Cài đặt package tensorflowjs"
      ]
    },
    {
      "cell_type": "code",
      "metadata": {
        "id": "wiTF87kZvaqp",
        "colab_type": "code",
        "outputId": "abccb6cb-4797-4e41-b444-d9079d917468",
        "colab": {
          "base_uri": "https://localhost:8080/",
          "height": 1000
        }
      },
      "source": [
        "!pip install tensorflowjs"
      ],
      "execution_count": 0,
      "outputs": [
        {
          "output_type": "stream",
          "text": [
            "Collecting tensorflowjs\n",
            "\u001b[?25l  Downloading https://files.pythonhosted.org/packages/2e/ed/4c6aeff56a9c0816277931d5c2c6c2b3f98fcd8af1fcbbcc0d6a5a1c0403/tensorflowjs-1.6.0-py3-none-any.whl (57kB)\n",
            "\u001b[K     |████████████████████████████████| 61kB 1.3MB/s \n",
            "\u001b[?25hRequirement already satisfied: numpy>=1.16.4 in /usr/local/lib/python3.6/dist-packages (from tensorflowjs) (1.18.2)\n",
            "Requirement already satisfied: six>=1.12.0 in /usr/local/lib/python3.6/dist-packages (from tensorflowjs) (1.12.0)\n",
            "Collecting tensorflow-cpu==2.1.0\n",
            "\u001b[?25l  Downloading https://files.pythonhosted.org/packages/1f/a9/d8e5118b4cc096633c04677809f0000519c43043b01311da02678349acf4/tensorflow_cpu-2.1.0-cp36-cp36m-manylinux2010_x86_64.whl (104.6MB)\n",
            "\u001b[K     |████████████████████████████████| 104.6MB 80kB/s \n",
            "\u001b[?25hRequirement already satisfied: tensorflow-hub==0.7.0 in /usr/local/lib/python3.6/dist-packages (from tensorflowjs) (0.7.0)\n",
            "Requirement already satisfied: gast==0.2.2 in /usr/local/lib/python3.6/dist-packages (from tensorflowjs) (0.2.2)\n",
            "Requirement already satisfied: h5py>=2.8.0 in /usr/local/lib/python3.6/dist-packages (from tensorflowjs) (2.8.0)\n",
            "Collecting PyInquirer==1.0.3\n",
            "  Downloading https://files.pythonhosted.org/packages/fb/4c/434b7c454010a284b49d6f1d446fe8dc5960415613d8c0225b9e2efb6724/PyInquirer-1.0.3.tar.gz\n",
            "Requirement already satisfied: keras-preprocessing>=1.1.0 in /usr/local/lib/python3.6/dist-packages (from tensorflow-cpu==2.1.0->tensorflowjs) (1.1.0)\n",
            "Requirement already satisfied: absl-py>=0.7.0 in /usr/local/lib/python3.6/dist-packages (from tensorflow-cpu==2.1.0->tensorflowjs) (0.9.0)\n",
            "Requirement already satisfied: astor>=0.6.0 in /usr/local/lib/python3.6/dist-packages (from tensorflow-cpu==2.1.0->tensorflowjs) (0.8.1)\n",
            "Requirement already satisfied: opt-einsum>=2.3.2 in /usr/local/lib/python3.6/dist-packages (from tensorflow-cpu==2.1.0->tensorflowjs) (3.2.0)\n",
            "Requirement already satisfied: termcolor>=1.1.0 in /usr/local/lib/python3.6/dist-packages (from tensorflow-cpu==2.1.0->tensorflowjs) (1.1.0)\n",
            "Requirement already satisfied: protobuf>=3.8.0 in /usr/local/lib/python3.6/dist-packages (from tensorflow-cpu==2.1.0->tensorflowjs) (3.10.0)\n",
            "Collecting tensorboard<2.2.0,>=2.1.0\n",
            "\u001b[?25l  Downloading https://files.pythonhosted.org/packages/d9/41/bbf49b61370e4f4d245d4c6051dfb6db80cec672605c91b1652ac8cc3d38/tensorboard-2.1.1-py3-none-any.whl (3.8MB)\n",
            "\u001b[K     |████████████████████████████████| 3.9MB 52.5MB/s \n",
            "\u001b[?25hRequirement already satisfied: wrapt>=1.11.1 in /usr/local/lib/python3.6/dist-packages (from tensorflow-cpu==2.1.0->tensorflowjs) (1.12.1)\n",
            "Requirement already satisfied: google-pasta>=0.1.6 in /usr/local/lib/python3.6/dist-packages (from tensorflow-cpu==2.1.0->tensorflowjs) (0.2.0)\n",
            "Requirement already satisfied: keras-applications>=1.0.8 in /usr/local/lib/python3.6/dist-packages (from tensorflow-cpu==2.1.0->tensorflowjs) (1.0.8)\n",
            "Requirement already satisfied: grpcio>=1.8.6 in /usr/local/lib/python3.6/dist-packages (from tensorflow-cpu==2.1.0->tensorflowjs) (1.24.3)\n",
            "Requirement already satisfied: wheel>=0.26; python_version >= \"3\" in /usr/local/lib/python3.6/dist-packages (from tensorflow-cpu==2.1.0->tensorflowjs) (0.34.2)\n",
            "Collecting tensorflow-estimator<2.2.0,>=2.1.0rc0\n",
            "\u001b[?25l  Downloading https://files.pythonhosted.org/packages/18/90/b77c328a1304437ab1310b463e533fa7689f4bfc41549593056d812fab8e/tensorflow_estimator-2.1.0-py2.py3-none-any.whl (448kB)\n",
            "\u001b[K     |████████████████████████████████| 450kB 46.9MB/s \n",
            "\u001b[?25hRequirement already satisfied: scipy==1.4.1; python_version >= \"3\" in /usr/local/lib/python3.6/dist-packages (from tensorflow-cpu==2.1.0->tensorflowjs) (1.4.1)\n",
            "Collecting prompt_toolkit==1.0.14\n",
            "\u001b[?25l  Downloading https://files.pythonhosted.org/packages/ee/3d/b25d35a9f0d381dd1c02d8e04b37c353caaaff4bc32150328eeebe4931f5/prompt_toolkit-1.0.14-py3-none-any.whl (248kB)\n",
            "\u001b[K     |████████████████████████████████| 256kB 48.3MB/s \n",
            "\u001b[?25hCollecting Pygments>=2.2.0\n",
            "\u001b[?25l  Downloading https://files.pythonhosted.org/packages/2d/68/106af3ae51daf807e9cdcba6a90e518954eb8b70341cee52995540a53ead/Pygments-2.6.1-py3-none-any.whl (914kB)\n",
            "\u001b[K     |████████████████████████████████| 921kB 47.3MB/s \n",
            "\u001b[?25hRequirement already satisfied: regex>=2016.11.21 in /usr/local/lib/python3.6/dist-packages (from PyInquirer==1.0.3->tensorflowjs) (2019.12.20)\n",
            "Requirement already satisfied: setuptools in /usr/local/lib/python3.6/dist-packages (from protobuf>=3.8.0->tensorflow-cpu==2.1.0->tensorflowjs) (46.0.0)\n",
            "Requirement already satisfied: markdown>=2.6.8 in /usr/local/lib/python3.6/dist-packages (from tensorboard<2.2.0,>=2.1.0->tensorflow-cpu==2.1.0->tensorflowjs) (3.2.1)\n",
            "Requirement already satisfied: google-auth<2,>=1.6.3 in /usr/local/lib/python3.6/dist-packages (from tensorboard<2.2.0,>=2.1.0->tensorflow-cpu==2.1.0->tensorflowjs) (1.7.2)\n",
            "Requirement already satisfied: google-auth-oauthlib<0.5,>=0.4.1 in /usr/local/lib/python3.6/dist-packages (from tensorboard<2.2.0,>=2.1.0->tensorflow-cpu==2.1.0->tensorflowjs) (0.4.1)\n",
            "Requirement already satisfied: requests<3,>=2.21.0 in /usr/local/lib/python3.6/dist-packages (from tensorboard<2.2.0,>=2.1.0->tensorflow-cpu==2.1.0->tensorflowjs) (2.21.0)\n",
            "Requirement already satisfied: werkzeug>=0.11.15 in /usr/local/lib/python3.6/dist-packages (from tensorboard<2.2.0,>=2.1.0->tensorflow-cpu==2.1.0->tensorflowjs) (1.0.0)\n",
            "Requirement already satisfied: wcwidth in /usr/local/lib/python3.6/dist-packages (from prompt_toolkit==1.0.14->PyInquirer==1.0.3->tensorflowjs) (0.1.8)\n",
            "Requirement already satisfied: cachetools<3.2,>=2.0.0 in /usr/local/lib/python3.6/dist-packages (from google-auth<2,>=1.6.3->tensorboard<2.2.0,>=2.1.0->tensorflow-cpu==2.1.0->tensorflowjs) (3.1.1)\n",
            "Requirement already satisfied: rsa<4.1,>=3.1.4 in /usr/local/lib/python3.6/dist-packages (from google-auth<2,>=1.6.3->tensorboard<2.2.0,>=2.1.0->tensorflow-cpu==2.1.0->tensorflowjs) (4.0)\n",
            "Requirement already satisfied: pyasn1-modules>=0.2.1 in /usr/local/lib/python3.6/dist-packages (from google-auth<2,>=1.6.3->tensorboard<2.2.0,>=2.1.0->tensorflow-cpu==2.1.0->tensorflowjs) (0.2.8)\n",
            "Requirement already satisfied: requests-oauthlib>=0.7.0 in /usr/local/lib/python3.6/dist-packages (from google-auth-oauthlib<0.5,>=0.4.1->tensorboard<2.2.0,>=2.1.0->tensorflow-cpu==2.1.0->tensorflowjs) (1.3.0)\n",
            "Requirement already satisfied: chardet<3.1.0,>=3.0.2 in /usr/local/lib/python3.6/dist-packages (from requests<3,>=2.21.0->tensorboard<2.2.0,>=2.1.0->tensorflow-cpu==2.1.0->tensorflowjs) (3.0.4)\n",
            "Requirement already satisfied: idna<2.9,>=2.5 in /usr/local/lib/python3.6/dist-packages (from requests<3,>=2.21.0->tensorboard<2.2.0,>=2.1.0->tensorflow-cpu==2.1.0->tensorflowjs) (2.8)\n",
            "Requirement already satisfied: urllib3<1.25,>=1.21.1 in /usr/local/lib/python3.6/dist-packages (from requests<3,>=2.21.0->tensorboard<2.2.0,>=2.1.0->tensorflow-cpu==2.1.0->tensorflowjs) (1.24.3)\n",
            "Requirement already satisfied: certifi>=2017.4.17 in /usr/local/lib/python3.6/dist-packages (from requests<3,>=2.21.0->tensorboard<2.2.0,>=2.1.0->tensorflow-cpu==2.1.0->tensorflowjs) (2019.11.28)\n",
            "Requirement already satisfied: pyasn1>=0.1.3 in /usr/local/lib/python3.6/dist-packages (from rsa<4.1,>=3.1.4->google-auth<2,>=1.6.3->tensorboard<2.2.0,>=2.1.0->tensorflow-cpu==2.1.0->tensorflowjs) (0.4.8)\n",
            "Requirement already satisfied: oauthlib>=3.0.0 in /usr/local/lib/python3.6/dist-packages (from requests-oauthlib>=0.7.0->google-auth-oauthlib<0.5,>=0.4.1->tensorboard<2.2.0,>=2.1.0->tensorflow-cpu==2.1.0->tensorflowjs) (3.1.0)\n",
            "Building wheels for collected packages: PyInquirer\n",
            "  Building wheel for PyInquirer (setup.py) ... \u001b[?25l\u001b[?25hdone\n",
            "  Created wheel for PyInquirer: filename=PyInquirer-1.0.3-cp36-none-any.whl size=32851 sha256=eec15c0acf6b4433d0c382267356a27d673a93a339346b059a71a07f59fd2713\n",
            "  Stored in directory: /root/.cache/pip/wheels/52/6c/b1/3e4b0e8daf42a92883c7641c0ea8ffb62e0490ebed2faa55ad\n",
            "Successfully built PyInquirer\n",
            "\u001b[31mERROR: tensorflow 1.15.0 has requirement tensorboard<1.16.0,>=1.15.0, but you'll have tensorboard 2.1.1 which is incompatible.\u001b[0m\n",
            "\u001b[31mERROR: tensorflow 1.15.0 has requirement tensorflow-estimator==1.15.1, but you'll have tensorflow-estimator 2.1.0 which is incompatible.\u001b[0m\n",
            "\u001b[31mERROR: tensorflow-federated 0.12.0 has requirement tensorflow~=2.1.0, but you'll have tensorflow 1.15.0 which is incompatible.\u001b[0m\n",
            "\u001b[31mERROR: tensorflow-federated 0.12.0 has requirement tensorflow-addons~=0.7.0, but you'll have tensorflow-addons 0.8.3 which is incompatible.\u001b[0m\n",
            "\u001b[31mERROR: datascience 0.10.6 has requirement folium==0.2.1, but you'll have folium 0.8.3 which is incompatible.\u001b[0m\n",
            "Installing collected packages: tensorboard, tensorflow-estimator, tensorflow-cpu, prompt-toolkit, Pygments, PyInquirer, tensorflowjs\n",
            "  Found existing installation: tensorboard 1.15.0\n",
            "    Uninstalling tensorboard-1.15.0:\n",
            "      Successfully uninstalled tensorboard-1.15.0\n",
            "  Found existing installation: tensorflow-estimator 1.15.1\n",
            "    Uninstalling tensorflow-estimator-1.15.1:\n",
            "      Successfully uninstalled tensorflow-estimator-1.15.1\n",
            "  Found existing installation: prompt-toolkit 1.0.18\n",
            "    Uninstalling prompt-toolkit-1.0.18:\n",
            "      Successfully uninstalled prompt-toolkit-1.0.18\n",
            "  Found existing installation: Pygments 2.1.3\n",
            "    Uninstalling Pygments-2.1.3:\n",
            "      Successfully uninstalled Pygments-2.1.3\n",
            "Successfully installed PyInquirer-1.0.3 Pygments-2.6.1 prompt-toolkit-1.0.14 tensorboard-2.1.1 tensorflow-cpu-2.1.0 tensorflow-estimator-2.1.0 tensorflowjs-1.6.0\n"
          ],
          "name": "stdout"
        },
        {
          "output_type": "display_data",
          "data": {
            "application/vnd.colab-display-data+json": {
              "pip_warning": {
                "packages": [
                  "prompt_toolkit",
                  "pygments"
                ]
              }
            }
          },
          "metadata": {
            "tags": []
          }
        }
      ]
    },
    {
      "cell_type": "markdown",
      "metadata": {
        "id": "cs3kY4afvx7v",
        "colab_type": "text"
      },
      "source": [
        "* Load và save pretrain model MobileNet"
      ]
    },
    {
      "cell_type": "code",
      "metadata": {
        "id": "trwQBSqTv4Fi",
        "colab_type": "code",
        "outputId": "b0b27f96-b872-404e-878d-68379e241e90",
        "colab": {
          "base_uri": "https://localhost:8080/",
          "height": 50
        }
      },
      "source": [
        "from tensorflow.keras.applications import MobileNet\n",
        "\n",
        "model = MobileNet(weights='imagenet')\n",
        "model.save('mobilenet.h5')"
      ],
      "execution_count": 0,
      "outputs": [
        {
          "output_type": "stream",
          "text": [
            "Downloading data from https://github.com/fchollet/deep-learning-models/releases/download/v0.6/mobilenet_1_0_224_tf.h5\n",
            "17227776/17225924 [==============================] - 0s 0us/step\n"
          ],
          "name": "stdout"
        }
      ]
    },
    {
      "cell_type": "markdown",
      "metadata": {
        "id": "cQm2vOwOwG-a",
        "colab_type": "text"
      },
      "source": [
        "* Convert file `mobilenet.h5` về một folder của tensorflow js"
      ]
    },
    {
      "cell_type": "code",
      "metadata": {
        "id": "dh1qszuY2CjU",
        "colab_type": "code",
        "outputId": "9bb21637-1818-4c23-e73a-f3bd7391b997",
        "colab": {
          "base_uri": "https://localhost:8080/",
          "height": 188
        }
      },
      "source": [
        "from google.colab import drive\n",
        "import os\n",
        "\n",
        "drive.mount('/content/gdrive')\n",
        "path = 'gdrive/My Drive/Colab Notebooks/DeployModel'\n",
        "\n",
        "os.chdir(path)\n",
        "os.listdir()"
      ],
      "execution_count": 0,
      "outputs": [
        {
          "output_type": "stream",
          "text": [
            "Go to this URL in a browser: https://accounts.google.com/o/oauth2/auth?client_id=947318989803-6bn6qk8qdgf4n4g3pfee6491hc0brc4i.apps.googleusercontent.com&redirect_uri=urn%3aietf%3awg%3aoauth%3a2.0%3aoob&response_type=code&scope=email%20https%3a%2f%2fwww.googleapis.com%2fauth%2fdocs.test%20https%3a%2f%2fwww.googleapis.com%2fauth%2fdrive%20https%3a%2f%2fwww.googleapis.com%2fauth%2fdrive.photos.readonly%20https%3a%2f%2fwww.googleapis.com%2fauth%2fpeopleapi.readonly\n",
            "\n",
            "Enter your authorization code:\n",
            "··········\n",
            "Mounted at /content/gdrive\n"
          ],
          "name": "stdout"
        },
        {
          "output_type": "execute_result",
          "data": {
            "text/plain": [
              "['DeployModel.ipynb',\n",
              " 'FlaskRestAPI.ipynb',\n",
              " 'mobile.h5',\n",
              " 'deployTensorflowJS.ipynb']"
            ]
          },
          "metadata": {
            "tags": []
          },
          "execution_count": 7
        }
      ]
    },
    {
      "cell_type": "code",
      "metadata": {
        "id": "PPASE0HXvc2d",
        "colab_type": "code",
        "colab": {}
      },
      "source": [
        "import tensorflowjs as tfjs\n",
        "import os\n",
        "\n",
        "os.mkdir('mobilenet_js')\n",
        "tfjs.converters.save_keras_model(model, 'mobilenet_js')"
      ],
      "execution_count": 0,
      "outputs": []
    },
    {
      "cell_type": "markdown",
      "metadata": {
        "id": "_22rqPd-wd3V",
        "colab_type": "text"
      },
      "source": [
        "Hoặc bạn cũng có thể gõ trên commandline theo cú pháp:\n",
        "\n",
        "`tensorflowjs_converter --input_format keras \\\n",
        "                       mobilenet.h5 \\\n",
        "                       mobilenet_js`\n",
        "\n",
        "Trong đó `--input_format` là argument khai báo định dạng model của keras. Hai file `mobilenet.h5` là file model gốc cần convert và `mobilenet_js` là folder đích sau khi đã convert. Chắc bạn thắc mắc tại sao lại là folder? Như mình đã nói ở trên. Đó là bởi tensorflow javascript phân mô hình thành nhiều nodes có kích thước bằng nhau và đặt chung trong 1 folder. Cơ chế này giúp cho việc load, train, predict nhanh hơn.\n",
        "\n",
        "\n",
        "![](https://imgur.com/IP3pgGR.png)\n",
        "\n",
        "**Hình 1:** Folder của model tensorflow javascript. File model.json là file chứa kiến trúc của mô hình. Các file `group1-shard1of4.bin` là những node của model."
      ]
    },
    {
      "cell_type": "markdown",
      "metadata": {
        "id": "xfSLO7q_rSDC",
        "colab_type": "text"
      },
      "source": [
        "# 4. Giao diện\n"
      ]
    },
    {
      "cell_type": "markdown",
      "metadata": {
        "id": "jUyITrgsBFYC",
        "colab_type": "text"
      },
      "source": [
        "## 4.1. Tạo giao diện\n",
        "Sau khi đã có model rồi thì chúng ta sẽ cần tạo một giao diện cho app của chúng ta.\n",
        "\n",
        "Việc thiết kế giao diện khá tốn thời gian đối với ai chưa làm quen với frontend. Bạn phải vừa biết về html, vừa biết về UI/UX và material design. Mình thì không chuyên về cả 3 thứ này nên làm một giao diện thật đơn giản nhưng đầy đủ chức năng là được.\n",
        "\n",
        "Đầu tiên hãy hình dung mình app của mình có chức năng gì nhé:\n",
        "\n",
        "* Load model đã được pretrain từ tensorflowjs.\n",
        "* Upload hình ảnh và hiển thị nó.\n",
        "* Dự báo hình ảnh.\n",
        "\n",
        "Như vậy là chúng ta sẽ phải có 3 cái nút lần lượt với 3 tác vụ trên là `Upload model, Upload Image và Predict`.\n",
        "\n",
        "Mình sẽ show ra đây cho các bạn dễ hình dung.\n",
        "\n",
        "![](https://imgur.com/vokAOS5.png)\n",
        "\n",
        "**Hình 2:** Nội dung file index.html. \n",
        "\n",
        "Trong file index.html chúng ta chú ý đến 2 phần chính đó là các đoạn mã nằm trong thẻ script có tác dụng load CDN packages từ các nguồn open source để sử dụng chúng trên frontend. Ngoài ra bạn cũng cần các button `Upload model, Upload image, predict Image`.\n",
        "\n",
        "Để tương tác với các button ta cần phải đặt tên cho mỗi button bằng mã id, phần này bạn nào làm lập trình thì quá quen thuộc rồi.\n",
        "\n",
        "Về chức năng của từng thẻ bạn không biết có thể tra trên [w3school](https://www.w3schools.com/html/default.asp) nhé.\n",
        "\n"
      ]
    },
    {
      "cell_type": "markdown",
      "metadata": {
        "id": "m8DYlsNJA8lr",
        "colab_type": "text"
      },
      "source": [
        "\n",
        "## 4.2. Tương tác giao diện\n",
        "\n",
        "Để tương tác với giao diện ta cần code các hàm trên javascript. Các hàm tương tác giao diện được đặt trong file `js/mobile-net`. Phần này đòi hỏi bạn phải hiểu về ngôn ngữ javascript một chút nên bạn xem qua bài [w3school Javascript](https://www.w3schools.com/js/) nhé.\n",
        "\n",
        "Mình sẽ không đi sâu vào giải thích code ở đây mà chỉ nói các chức năng chính của từng hàm:\n",
        "\n",
        "* `loadModel()`: Có tác dụng load model thông qua hàm `tf.loadLayersModel()` tương đương với tensorflow javascript.\n",
        "\n",
        "* `loadImageLocal()`: Upload hình ảnh từ local file.\n",
        "\n",
        "* `predictImage()`: Dự báo hình ảnh từ model tensorflow javascript.\n",
        "\n",
        "* `preprocessImage()`: Để dự báo hình ảnh, chúng ta cần resize image về đúng kích thước phù hợp với input của model MobileNet là `224x224x3`.\n",
        "\n",
        "Mình sẽ show ra đây cho bạn nào muốn tìm hiểu.\n",
        "\n",
        "```\n",
        "let model;\n",
        "let IMAGE_WIDTH = 300;\n",
        "\n",
        "async function loadModel() {\n",
        "\tconsole.log(\"model loading mobilenet model kdfah ...\");\n",
        "\tloader = document.getElementById(\"progress-box\");\n",
        "\tload_button = document.getElementById(\"load-button\");\n",
        "\tloader.style.display = \"block\";\n",
        "\tmodelName = \"mobilenet\";\n",
        "\tmodel = undefined;\n",
        "\tmodel = await tf.loadLayersModel('models/mobilenet/model.json');\n",
        "\tif (typeof model !== \"undefined\") {\n",
        "\t\tloader.style.display = \"none\";\n",
        "\t\tload_button.disabled = true;\t\t\n",
        "\t\tload_button.innerHTML = \"Loaded Model\";\n",
        "\t\tconsole.log(\"model loaded..\");\n",
        "\t}\n",
        "};\n",
        "\n",
        "function loadImageLocal() {\n",
        "\tconsole.log(\"Click into selected file image\");\n",
        "  \tdocument.getElementById(\"select-file-box\").style.display = \"table-cell\";\n",
        "  \tdocument.getElementById(\"predict-box\").style.display = \"table-cell\";\n",
        "  \tdocument.getElementById(\"prediction\").innerHTML = \"Click predict to find my label!\";\n",
        "    renderImage(this.files);\n",
        "};\n",
        "\n",
        "function renderImage(file) {\n",
        "  var reader = new FileReader();\n",
        "  reader.onload = function(event) {\n",
        "    let output = document.getElementById('test-image');\n",
        "  \toutput.src = reader.result;\n",
        "  \toutput.width = IMAGE_WIDTH;\n",
        "  }\n",
        "  if(event.target.files[0]){\n",
        "\treader.readAsDataURL(event.target.files[0]);\n",
        "  }\n",
        "}\n",
        "\n",
        "async function predictImage(){\n",
        "\tconsole.log(\"Click predict button\");\n",
        "\tif (model == undefined) {\n",
        "\t\talert(\"Please load the model first..\")\n",
        "\t}\n",
        "\tif (document.getElementById(\"predict-box\").style.display == \"none\") {\n",
        "\t\talert(\"Please load an image using 'Upload Image' button..\")\n",
        "\t}\n",
        "\tlet image  = document.getElementById(\"test-image\");\n",
        "\tlet tensor = preprocessImage(image, modelName);\n",
        "\tlet predictions = await model.predict(tensor).data();\n",
        "\tlet results = Array.from(predictions)\n",
        "\t\t.map(function (p, i) {\n",
        "\t\t\treturn {\n",
        "\t\t\t\tprobability: p,\n",
        "\t\t\t\tclassName: IMAGENET_CLASSES[i]\n",
        "\t\t\t};\n",
        "\t\t}).sort(function (a, b) {\n",
        "\t\t\treturn b.probability - a.probability;\n",
        "\t\t}).slice(0, 5);\n",
        "\tdocument.getElementById(\"predict-box\").style.display = \"block\";\n",
        "\tdocument.getElementById(\"prediction\").innerHTML = \"MobileNet prediction <br><b>\" + results[0].className + \"</b>\";\n",
        "\n",
        "\tvar ul = document.getElementById(\"predict-list\");\n",
        "\tul.innerHTML = \"\";\n",
        "\tresults.forEach(function (p) {\n",
        "\t\tconsole.log(p.className + \" \" + p.probability.toFixed(6));\n",
        "\t\tvar li = document.createElement(\"LI\");\n",
        "\t\tli.innerHTML = p.className + \" \" + p.probability.toFixed(6);\n",
        "\t\tul.appendChild(li);\n",
        "\t})\n",
        "\n",
        "\tif (typeof predictions !== \"undefined\"){\n",
        "\t\tdocument.getElementById(\"progress-box\").style.display = \"none\";\n",
        "\t}\n",
        "}\n",
        "```"
      ]
    },
    {
      "cell_type": "markdown",
      "metadata": {
        "id": "y19ZUH5XtQAC",
        "colab_type": "text"
      },
      "source": [
        "# 5. Server\n",
        "\n",
        "Tương tự như [Bài 29 - Xây dựng flask API](https://phamdinhkhanh.github.io/2020/03/23/FlaskRestAPI.html) mà mình đã giới thiệu. Để một ứng dụng hoạt động được thì cần có một server bên dưới. Server tương tác với frontend thông qua API.\n",
        "\n",
        "Để khởi tạo server mình sử dụng `nodejs` thay vì `python` vì `nodejs` tốc độ cao hơn, đồng thời render kết quả lên frontend mà không cần load và redirect lại trang.\n",
        "\n",
        "App engine mà mình sử dụng là express, một app engine middleware trung gian giữa server và frontend có tác dụng điều chỉnh các response trước khi gửi cho client. Dành cho bạn nào muốn tìm hiểu thêm về [express](https://viblo.asia/p/nodejs-tutorial-phan-6-middleware-trong-expressjs-924lJXzWKPM).\n",
        "\n",
        "Code khởi tạo app của mình như sau:\n",
        "\n",
        "```\n",
        "const express = require('express');\n",
        "let app = express();\n",
        "\n",
        "app.get(\"/\", cors(corsOptions), (req, res, next) => {\n",
        "    res.header(\"Access-Control-Allow-Headers\", \"Origin, X-Requested-With,Content-Type, Accept\");\n",
        "\tres.sendFile(path.join(__dirname+\"/index.html\"));\n",
        "\tnext();\n",
        "});\n",
        "```\n"
      ]
    },
    {
      "cell_type": "markdown",
      "metadata": {
        "id": "mRfQJO1puTY3",
        "colab_type": "text"
      },
      "source": [
        "app đã khởi tạo một API GET khai báo tại vị trí root trả về trang chủ là `index.html`. Tại đây chúng ta sẽ tương tác với giao diện và thực hiện các chức năng upload, dự báo ảnh.\n",
        "\n",
        "Để server hoạt động thì phần backend chúng ta phải import các packages của nodejs. Các bạn phải cài đặt chúng thông qua `npm` (node package manager), một công cụ tương tự như `pip` trên python. Tại root directory bạn gõ:\n",
        "\n",
        "`npm install`\n",
        "\n",
        "Lệnh này sẽ lookup các thư viện được khai báo trong `package.json` (đã được mình định nghĩa sẵn) và cài đặt chúng.\n",
        "\n",
        "Lưu ý trước đó phải cài [npm](https://www.npmjs.com/get-npm).\n",
        "\n",
        "Sau khi thiết kế xong server thì bạn đã có thể start nó lên bằng lệnh\n",
        "\n",
        "`node server.js`\n",
        "\n",
        "Quá trình này hoàn thành sẽ trả ra câu lệnh trên command line:\n",
        "\n",
        "`Website is Up on PORT 3000 and HOSTNAME development !`\n",
        "\n",
        "Bạn truy cập vào link local host `https://127.0.0.1:3000` và test các chức năng.\n"
      ]
    },
    {
      "cell_type": "markdown",
      "metadata": {
        "id": "5HrJfwMYuxHC",
        "colab_type": "text"
      },
      "source": [
        "# 6. Deploy lên heroku\n",
        "\n",
        "Sau khi đã xây dựng thành công model chúng ta sẽ cần deploy website lên một domain webservice. Có khá nhiều domain free khác nhau như heroku, github.io,....\n",
        "\n",
        "Ở đây mình lựa chọn heroku vì tên miền này hỗ trợ triển khai cho cả website và app. Ngoài ra bạn được miễn phí 500MB cơ sở dữ liệu lưu trữ sanbox.\n",
        "\n",
        "Vì phần hướng dẫn của bài viết đã khá dài và đêm cũng đã khá muộn. Mặc dù rất muốn viết cho bạn đọc thêm nữa nhưng mình đã khá mệt.\n",
        "\n",
        "Và đây sẽ là lúc các bạn được rèn luyện tiếng anh của mình bằng cách làm theo hướng dẫn [deploy heroku website](https://devcenter.heroku.com/categories/deployment).\n",
        "\n",
        "Kết quả cuối cùng bạn thu được là một ứng dụng AI tuyệt vời, có tác dụng phân loại và gãn nhãn thay cho sức lao động của hàng trăm con người:\n",
        "\n",
        "![](https://imgur.com/X4rlaTa.png)\n",
        "\n",
        "\n",
        "\n",
        "Bạn có thể trải nghiệm thêm sản phẩm tại:\n",
        "\n",
        "https://aicode.herokuapp.com/\n",
        "\n",
        "\n",
        "# 7. Tổng kết:\n",
        "\n",
        "Như vậy qua bài viết này mình đã hướng dẫn các bạn triển khai xây dựng một sản phẩm web AI. Các bạn sinh viên có thể sử dụng nó để đưa vào CV của mình khi xin việc. Ngoài ra bạn cũng có thể làm các ứng dụng web AI nho nhỏ để phục vụ cộng đồng rồi đó.\n",
        "\n",
        "Github code của dự án được để tại [khanhBlogTurtorial](https://github.com/phamdinhkhanh/khanhBlogTurtorial).\n",
        "\n",
        "Hãy cùng join fanpage của mình để nhận được các open source hay: [AICode](https://www.facebook.com/groups/3235479620010379/) và hỗ trợ các lỗi code phát sinh nếu có.\n",
        "\n",
        "Và subcribe [KhanhBlog](https://www.facebook.com/TowardDataScience/) để theo dõi các bài viết về AI của mình nhé.\n",
        "\n",
        "# 8. Tài liệu tham khảo:\n",
        "\n",
        "1. [Tensorflow js](https://www.tensorflow.org/js)\n",
        "2. [w3schools](https://www.w3schools.com/)\n",
        "3. [Aicode heroku app](https://aicode.herokuapp.com/)\n",
        "4. [heroku app](https://devcenter.heroku.com)"
      ]
    }
  ]
}